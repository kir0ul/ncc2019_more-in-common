{
 "cells": [
  {
   "cell_type": "code",
   "execution_count": 1,
   "metadata": {},
   "outputs": [],
   "source": [
    "import tweepy\n",
    "import re"
   ]
  },
  {
   "cell_type": "code",
   "execution_count": 2,
   "metadata": {},
   "outputs": [],
   "source": [
    "import urllib3\n",
    "import urllib3.request\n",
    "\n",
    "import csv\n",
    "import json\n",
    "from pandas.io.json import json_normalize\n",
    "\n",
    "import pandas as pd\n",
    "import numpy as np"
   ]
  },
  {
   "cell_type": "code",
   "execution_count": 3,
   "metadata": {
    "lines_to_next_cell": 2
   },
   "outputs": [],
   "source": [
    "pd.options.display.max_colwidth = 1000"
   ]
  },
  {
   "cell_type": "code",
   "execution_count": 4,
   "metadata": {},
   "outputs": [],
   "source": [
    "####input your credentials here\n",
    "consumer_key = '4ha4rLgP6Ci6fEZtaqttGTKoA'\n",
    "consumer_secret = '5ckLaCgfTdfmWM7qS9f2w05pDCSIWRCTHlm7RLnKwK9tCWIz9P'\n",
    "access_token = '602145669-jHmxtsl0wSZDFeZxi81GcTzYrD87dRBhF78ip0qo'\n",
    "access_token_secret = 'YFLMmVVdcN4gb4KDX3MeOjbjxoKnnsFvjKxjRGMkkEZ5D'"
   ]
  },
  {
   "cell_type": "code",
   "execution_count": 5,
   "metadata": {},
   "outputs": [],
   "source": [
    "#define inputs here\n",
    "input_hashtag = \"giletjaune\"\n",
    "language = \"fr\"\n",
    "since_date = \"2018-03-07\"\n",
    "#n_tweets = 1"
   ]
  },
  {
   "cell_type": "code",
   "execution_count": null,
   "metadata": {},
   "outputs": [
    {
     "name": "stderr",
     "output_type": "stream",
     "text": [
      "Rate limit reached. Sleeping for: 690\n"
     ]
    }
   ],
   "source": [
    "####request to Twitter API\n",
    "auth = tweepy.OAuthHandler(consumer_key, consumer_secret)\n",
    "auth.set_access_token(access_token, access_token_secret)\n",
    "api = tweepy.API(auth,wait_on_rate_limit=True,wait_on_rate_limit_notify = True)\n",
    "\n",
    "inc = 0\n",
    "for tweet in tweepy.Cursor(api.search,q=\"#\"+input_hashtag,#count=n_tweets,    #this is a search by hashtags\n",
    "                           lang=language,\n",
    "                           since=since_date, tweet_mode='extended').items():\n",
    "    inc = +1\n",
    "    with open('tweets/tweet'+str(tweet.id)+'.json', 'w', encoding='utf8') as file:\n",
    "        ####you need to create a 'tweets' folder\n",
    "        tweet_json = tweet._json\n",
    "        json.dump(tweet_json, file)\n",
    "        "
   ]
  },
  {
   "cell_type": "code",
   "execution_count": 6,
   "metadata": {},
   "outputs": [],
   "source": [
    "def is_a_retweet(tweet):\n",
    "    #### returns a true if the tweet is a retweet, false if it's an original tweets \n",
    "    return tweet.get('retweeted_status',None) != None"
   ]
  },
  {
   "cell_type": "code",
   "execution_count": 7,
   "metadata": {
    "lines_to_next_cell": 2
   },
   "outputs": [],
   "source": [
    "#initialisation of databases, df files\n",
    "\n",
    "d_users = {'user_id': [],\n",
    "           'name':[],\n",
    "           'screen_name':[],\n",
    "           'location':[],\n",
    "           'description':[],\n",
    "           'url':[],\n",
    "           'followers_count':[],\n",
    "           'friends_count':[],\n",
    "           'listed_count':[],\n",
    "           'created_at':[],\n",
    "           'favourites_count':[],\n",
    "           'geo_enabled':[],\n",
    "           'verified':[],\n",
    "           'statuses_count':[],\n",
    "           'lang':[],\n",
    "           'contributors_enabled':[]\n",
    "          }\n",
    "df_users = pd.DataFrame(data=d_users)\n",
    "\n",
    "d_tweets = {'tweet_id': [],\n",
    "            'created_at': [],\n",
    "            'text': [],\n",
    "            'truncated': [],\n",
    "            'source': [],\n",
    "            'in_reply_to_status_id': [],\n",
    "            'in_reply_to_user_id': [],\n",
    "            'in_reply_to_screen_name': [],\n",
    "            'user_id': [],\n",
    "            'geo': [],\n",
    "            'coordinates': [],\n",
    "            'place': [],\n",
    "            'contributors': [],\n",
    "            'is_quote_status': [],\n",
    "            'retweet_count': [],\n",
    "            'favorite_count': [],\n",
    "            'favorited': [],\n",
    "            'retweeted': [],\n",
    "            'lang': []         \n",
    "           }\n",
    "df_tweets = pd.DataFrame(data=d_tweets)\n",
    "\n",
    "\n",
    "d_hashtags={'hashtag': [], 'tweet_id': []}\n",
    "df_hashtags = pd.DataFrame(data=d_hashtags)\n",
    "\n",
    "d_users_mentions = {'tweet_id':[], 'user_id': [], 'screen_name':[], 'name':[]}\n",
    "df_users_mentions = pd.DataFrame(data=d_users_mentions)\n",
    "\n",
    "d_retweet_users = {'user_id':[], 'original_user_id':[], 'original_tweet_id':[]}\n",
    "df_retweet_users= pd.DataFrame(data=d_retweet_users)\n",
    "\n",
    "d_influent_users = {'user_id':[], \n",
    "                    'name':[],\n",
    "                    'retweet_count':[],\n",
    "                    'favorite_count':[], \n",
    "                    'description':[] \n",
    "                   }\n",
    "\n",
    "df_influent_users = pd.DataFrame(data=d_influent_users)\n"
   ]
  },
  {
   "cell_type": "code",
   "execution_count": 8,
   "metadata": {},
   "outputs": [],
   "source": [
    "# store all hashtags related to a tweet\n",
    "def store_hashtag(tweet):\n",
    "    global input_hashtag\n",
    "    global df_hashtags\n",
    "    if tweet['entities']['hashtags']==[]:\n",
    "        df_hashtags = df_hashtags.append({'hashtag': input_hashtag ,'tweet_id':tweet['id_str']}, ignore_index=True)\n",
    "    else:\n",
    "        for raw_hash in tweet['entities']['hashtags']:\n",
    "            df_hashtags = df_hashtags.append({'hashtag': raw_hash['text'] ,'tweet_id':tweet['id_str']}, ignore_index=True)\n",
    "\n",
    "#store all user mentions contained in the tweet\n",
    "def store_user_mentions(tweet):\n",
    "    global df_users_mentions\n",
    "    tweet_id = tweet['id_str']\n",
    "    for raw_mention in tweet['entities']['user_mentions']:\n",
    "        screen_name = raw_mention['screen_name']\n",
    "        name = raw_mention['name']\n",
    "        user_id = raw_mention['id_str']\n",
    "        df_users_mentions = df_users_mentions.append({'tweet_id':tweet_id, 'user_id': user_id, 'screen_name':screen_name, 'name':name},ignore_index=True)\n",
    "\n",
    "#store the author of the tweet        \n",
    "def store_user(tweet):\n",
    "    global df_users\n",
    "    user = tweet['user']\n",
    "    if user['id_str'] not in df_users['user_id'].values:\n",
    "        \n",
    "        d_user = {'user_id': user['id_str'],\n",
    "                  'name':user['name'],\n",
    "                  'screen_name':user['screen_name'],\n",
    "                  'location':user['location'],\n",
    "                  'description':user['description'],\n",
    "                  'url':user['url'],\n",
    "                  'followers_count':user['followers_count'],\n",
    "                  'friends_count':user['friends_count'],\n",
    "                  'listed_count':user['listed_count'],\n",
    "                  'created_at':user['created_at'],\n",
    "                  'favourites_count':user['favourites_count'],\n",
    "                  'geo_enabled':user['geo_enabled'],\n",
    "                  'verified':user['verified'],\n",
    "                  'statuses_count':user['statuses_count'],\n",
    "                  'lang':user['lang'],\n",
    "                  'contributors_enabled':user['contributors_enabled']\n",
    "                 }\n",
    "        df_users = df_users.append(d_user,ignore_index=True)\n",
    "\n",
    "#store the content of the tweet\n",
    "def store_tweet(tweet):\n",
    "    global df_tweets\n",
    "    text = re.sub(r\"http\\S+\", \"\", tweet['full_text'])\n",
    "    df_tweets = df_tweets.append({'tweet_id':  tweet['id_str'],\n",
    "            'created_at': tweet['created_at'],\n",
    "            'text': text,\n",
    "            'truncated': tweet['truncated'],\n",
    "            'source': tweet['source'],\n",
    "            'in_reply_to_status_id': tweet['in_reply_to_status_id_str'],\n",
    "            'in_reply_to_user_id': tweet['in_reply_to_user_id_str'],\n",
    "            'in_reply_to_screen_name': tweet['in_reply_to_screen_name'],\n",
    "            'user_id': tweet['user']['id_str'],\n",
    "            'geo': tweet['geo'],\n",
    "            'coordinates': tweet['coordinates'],\n",
    "            'place': tweet['place'],\n",
    "            'contributors': tweet['contributors'],\n",
    "            'is_quote_status': tweet['is_quote_status'],\n",
    "            'retweet_count': tweet['retweet_count'],\n",
    "            'favorite_count': tweet['favorite_count'],\n",
    "            'favorited': tweet['favorited'],\n",
    "            'retweeted': tweet['retweeted'],\n",
    "            'lang': tweet['lang'] },ignore_index=True)\n",
    "\n",
    "#called when the tweet is a retweet: store the original author of the tweet as well as the user who retweeted it,\n",
    "# and the original id of the tweet\n",
    "def store_retweet_user(tweet):\n",
    "    global df_retweet_users\n",
    "    if is_a_retweet(tweet):\n",
    "        df_retweet_users = df_retweet_users.append({'user_id':tweet['user']['id_str'],\n",
    "                                                    'original_user_id':tweet['retweeted_status']['user']['id_str'],\n",
    "                                                    'original_tweet_id':tweet['retweeted_status']['id_str']}, ignore_index=True)\n",
    "##Never used\n",
    "##T0D0: proper encapsulation\n",
    "def store_influent_users(n):\n",
    "    #n is the number of influent users return\n",
    "    df_favorite_count = df_tweets.groupby(['user_id'])['favorite_count'].agg('sum').sort_values(ascending=False).head()\n",
    "    for i in range(n):\n",
    "        d_influent_users = {'user_id':df_favorite_count[0], \n",
    "                            'name':[],\n",
    "                            'retweet_count':[],\n",
    "                            'favorite_count':[], \n",
    "                            'description':[] \n",
    "                           }\n",
    "        "
   ]
  },
  {
   "cell_type": "code",
   "execution_count": 9,
   "metadata": {},
   "outputs": [],
   "source": [
    "#### loading the databases\n",
    "\n",
    "import warnings\n",
    "warnings.simplefilter(action='ignore', category=FutureWarning) #https://stackoverflow.com/questions/40659212/futurewarning-elementwise-comparison-failed-returning-scalar-but-in-the-futur\n",
    "import os\n",
    "\n",
    "path_to_json = 'tweets/'\n",
    "json_files = [pos_json for pos_json in os.listdir(path_to_json) if pos_json.endswith('.json')]\n",
    "for json_file in json_files:\n",
    "    \n",
    "    with open(path_to_json+json_file) as tweet:\n",
    "        tweet = json.load(tweet)\n",
    "        if is_a_retweet(tweet):\n",
    "            store_retweet_user(tweet)\n",
    "        else:  #store tweets only when they are original tweets\n",
    "            store_tweet(tweet)\n",
    "            store_user(tweet)\n",
    "            store_hashtag(tweet)\n",
    "            store_user_mentions(tweet)\n",
    "        \n",
    "        \n",
    "        "
   ]
  },
  {
   "cell_type": "code",
   "execution_count": 10,
   "metadata": {
    "lines_to_next_cell": 2
   },
   "outputs": [],
   "source": [
    "df_tweets.head(10);"
   ]
  },
  {
   "cell_type": "code",
   "execution_count": 11,
   "metadata": {},
   "outputs": [
    {
     "data": {
      "text/plain": [
       "'Insupportable d\\'entendre le #GiletJaune en roue libre sur #LCI dire, par exemple, que l\\'élection d\\'#EmmanuelMacron est \"une erreur de l\\'Histoire\", et ajouter \"j\\'aimerais bien qu\\'il bosse au lieu de faire du ski\". Sans que la journaliste ne le pousse à s\\'expliquer davantage...'"
      ]
     },
     "execution_count": 11,
     "metadata": {},
     "output_type": "execute_result"
    }
   ],
   "source": [
    "#tweet example\n",
    "df_tweets['text'].iloc[0]"
   ]
  },
  {
   "cell_type": "code",
   "execution_count": 12,
   "metadata": {
    "lines_to_next_cell": 2
   },
   "outputs": [
    {
     "name": "stdout",
     "output_type": "stream",
     "text": [
      "False\n",
      "False\n"
     ]
    }
   ],
   "source": [
    "#primary keys are ok if both return false\n",
    "print(df_tweets.duplicated('tweet_id').any())\n",
    "print(df_users.duplicated('user_id').any())"
   ]
  },
  {
   "cell_type": "markdown",
   "metadata": {},
   "source": [
    "# Aggregations\n"
   ]
  },
  {
   "cell_type": "markdown",
   "metadata": {},
   "source": [
    "## Top users"
   ]
  },
  {
   "cell_type": "code",
   "execution_count": 13,
   "metadata": {
    "lines_to_end_of_cell_marker": 2,
    "scrolled": true
   },
   "outputs": [],
   "source": [
    "df_most_favorited_users = df_tweets.groupby(['user_id'])['favorite_count'].agg('sum').sort_values(ascending=False).reset_index().head(15)\n",
    "df_most_retweeted_users = df_tweets.groupby(['user_id'])['retweet_count'].agg('sum').sort_values(ascending=False).reset_index().head(15)\n",
    "df_most_favorited_users['favorite_count'] = df_most_favorited_users['favorite_count'].astype('int32')\n",
    "df_most_retweeted_users['retweet_count'] = df_most_retweeted_users['retweet_count'].astype('int32')\n",
    "\n",
    "df_most_favorited_users['user_id'] = df_most_favorited_users['user_id'].astype(object)\n",
    "df_most_retweeted_users['user_id'] = df_most_retweeted_users['user_id'].astype(object)"
   ]
  },
  {
   "cell_type": "code",
   "execution_count": 14,
   "metadata": {},
   "outputs": [],
   "source": [
    "df_most_favorited_users_with_info = df_most_favorited_users.set_index('user_id').join(df_users.set_index('user_id')).drop_duplicates().sort_values('favorite_count',ascending=False)\n",
    "df_most_retweeted_users_with_info = df_most_retweeted_users.set_index('user_id').join(df_users.set_index('user_id')).drop_duplicates().sort_values('retweet_count',ascending=False)"
   ]
  },
  {
   "cell_type": "code",
   "execution_count": 19,
   "metadata": {},
   "outputs": [],
   "source": [
    "df_most_retweeted_users_with_info.head(15);"
   ]
  },
  {
   "cell_type": "code",
   "execution_count": 14,
   "metadata": {},
   "outputs": [],
   "source": [
    "df_most_favorited_users_with_info.head(15);"
   ]
  },
  {
   "cell_type": "code",
   "execution_count": 15,
   "metadata": {},
   "outputs": [],
   "source": [
    "df_most_retweeted_users_with_info.reset_index()\n",
    "df_most_favorited_users_with_info.reset_index();"
   ]
  },
  {
   "cell_type": "code",
   "execution_count": 20,
   "metadata": {},
   "outputs": [
    {
     "name": "stdout",
     "output_type": "stream",
     "text": [
      "user_id\n",
      "472852289               Brevesdepresse\n",
      "1028668294751039488     GiletsJaunesFr\n",
      "338955445                    tcabarrus\n",
      "388972391                  AnasseKazib\n",
      "2148731538                   jylgallou\n",
      "3028247758                RTenfrancais\n",
      "742382030                  gaetan34070\n",
      "2470583048               CharlesBaudry\n",
      "2653885316                  jeangarr78\n",
      "859407061230252032     Circonscripti18\n",
      "203894274               cecileollivier\n",
      "717040304218632194     exvulgusscienta\n",
      "1099297175417380865        TVPopulaire\n",
      "3306815273               RevPermanente\n",
      "3688356795                jpbordes4873\n",
      "Name: screen_name, dtype: object\n",
      "user_id\n",
      "1028668294751039488     GiletsJaunesFr\n",
      "338955445                    tcabarrus\n",
      "472852289               Brevesdepresse\n",
      "388972391                  AnasseKazib\n",
      "742382030                  gaetan34070\n",
      "2653885316                  jeangarr78\n",
      "3028247758                RTenfrancais\n",
      "2148731538                   jylgallou\n",
      "804606773848133633     philippe_barthe\n",
      "2470583048               CharlesBaudry\n",
      "859407061230252032     Circonscripti18\n",
      "84204116                        adia66\n",
      "57732899                       LesNews\n",
      "1099297175417380865        TVPopulaire\n",
      "203894274               cecileollivier\n",
      "Name: screen_name, dtype: object\n"
     ]
    }
   ],
   "source": [
    "print(df_most_retweeted_users_with_info['screen_name'])\n",
    "print(df_most_favorited_users_with_info['screen_name'])"
   ]
  },
  {
   "cell_type": "code",
   "execution_count": 21,
   "metadata": {},
   "outputs": [],
   "source": [
    "df_tweets_by_user = df_tweets.groupby(['user_id']).size().to_frame().reset_index()\n",
    "df_most_favorited_users_with_info = df_most_favorited_users_with_info.join(df_tweets_by_user.set_index('user_id')).drop_duplicates().sort_values('favorite_count',ascending=False)\n",
    "df_most_retweeted_users_with_info = df_most_retweeted_users_with_info.join(df_tweets_by_user.set_index('user_id')).drop_duplicates().sort_values('retweet_count',ascending=False)"
   ]
  },
  {
   "cell_type": "code",
   "execution_count": 22,
   "metadata": {},
   "outputs": [],
   "source": [
    "df_most_favorited_users_with_info;"
   ]
  },
  {
   "cell_type": "code",
   "execution_count": 23,
   "metadata": {},
   "outputs": [],
   "source": [
    "top_influencers_fav = df_most_favorited_users_with_info[['screen_name','description', 'followers_count', 'friends_count','favorite_count',0]]\n",
    "top_influencers_rt = df_most_retweeted_users_with_info[['screen_name','description', 'followers_count', 'friends_count','retweet_count',0]]\n",
    "top_influencers_fav.columns = [\"Name\",\"Description\",\"Number of followers\",\"Number of friends\",\"Number of favorites\",\"Number of tweets\"]\n",
    "top_influencers_rt.columns = [\"Name\",\"Description\",\"Number of followers\",\"Number of friends\",\"Number of retweets\",\"Number of tweets\"]\n",
    "top_influencers_fav = top_influencers_fav.reset_index().drop(columns = [\"user_id\"])\n",
    "top_influencers_rt = top_influencers_rt.reset_index().drop(columns = [\"user_id\"]);\n",
    "top_influencers_fav['Number of followers'] = top_influencers_fav['Number of followers'].astype(int)\n",
    "top_influencers_fav['Number of friends'] = top_influencers_fav['Number of friends'].astype(int)\n",
    "top_influencers_rt['Number of followers'] = top_influencers_rt['Number of followers'].astype(int)\n",
    "top_influencers_rt['Number of friends'] = top_influencers_rt['Number of friends'].astype(int)"
   ]
  },
  {
   "cell_type": "code",
   "execution_count": 24,
   "metadata": {},
   "outputs": [],
   "source": [
    "#add ratios\n",
    "top_influencers_fav.loc[:,'Like Tweet Ratio'] = top_influencers_fav.loc[:,\"Number of favorites\"]/top_influencers_fav.loc[:,\"Number of tweets\"]\n",
    "top_influencers_rt.loc[:,'Retweet Tweet Ratio'] = top_influencers_rt.loc[:,\"Number of retweets\"]/top_influencers_rt.loc[:,\"Number of tweets\"]"
   ]
  },
  {
   "cell_type": "code",
   "execution_count": 25,
   "metadata": {},
   "outputs": [
    {
     "name": "stdout",
     "output_type": "stream",
     "text": [
      "['Brevesdepresse' 'GiletsJaunesFr' 'tcabarrus' 'AnasseKazib' 'jylgallou'\n",
      " 'RTenfrancais' 'gaetan34070' 'CharlesBaudry' 'jeangarr78'\n",
      " 'Circonscripti18' 'cecileollivier' 'exvulgusscienta' 'TVPopulaire'\n",
      " 'RevPermanente' 'jpbordes4873']\n"
     ]
    }
   ],
   "source": [
    "top_influencers_fav_names = top_influencers_fav['Name'].values\n",
    "top_influencers_rt_names = top_influencers_rt['Name'].values\n",
    "print(top_influencers_rt_names)"
   ]
  },
  {
   "cell_type": "markdown",
   "metadata": {},
   "source": [
    "## Top hashtags for this input hashtags and by users"
   ]
  },
  {
   "cell_type": "code",
   "execution_count": 26,
   "metadata": {},
   "outputs": [],
   "source": [
    "top_influencers_fav.style.set_properties(**{'text-align': 'left'});"
   ]
  },
  {
   "cell_type": "code",
   "execution_count": 27,
   "metadata": {},
   "outputs": [],
   "source": [
    "df_tweets_hashtags = df_hashtags.set_index('tweet_id').join(df_tweets.set_index('tweet_id'))"
   ]
  },
  {
   "cell_type": "code",
   "execution_count": 28,
   "metadata": {},
   "outputs": [],
   "source": [
    "df_tw_hash_user = df_tweets_hashtags.set_index('user_id').join(df_users.drop(columns=['created_at', 'lang']).set_index('user_id'))"
   ]
  },
  {
   "cell_type": "code",
   "execution_count": 37,
   "metadata": {},
   "outputs": [],
   "source": [
    "#df_aggretated = df_tw_hash_user.groupby(['user_id','hashtag']).size().reset_index()\n",
    "df_aggretated = df_tw_hash_user.groupby(['screen_name','hashtag']).size().reset_index()"
   ]
  },
  {
   "cell_type": "code",
   "execution_count": 68,
   "metadata": {},
   "outputs": [],
   "source": [
    "df_aggretated.columns = [\"Name\", \"#\", \"Used\"]\n",
    "df_aggretated;"
   ]
  },
  {
   "cell_type": "code",
   "execution_count": 43,
   "metadata": {},
   "outputs": [],
   "source": [
    "#useful encapsulation, aint it?\n",
    "def get_tweet_by_userid(user_id):\n",
    "    df_tweets[df_tweets['user_id'] == 'user_id']\n",
    "\n",
    "def get_tweet_by_username(name):\n",
    "    df_tweets_user_info = df_tweets.set_index('user_id').join(df_users.drop(columns=['created_at', 'lang']).set_index('user_id'))\n",
    "    df_tweets_user_info = df_tweets_user_info[df_tweets_user_info['screen_name'] == name]\n",
    "    df_tweets_user_info = df_tweets_user_info[['tweet_id','text','created_at', 'favorite_count', 'retweet_count']]\n",
    "    return df_tweets_user_info\n",
    "\n",
    "def get_related_hashtags_by_username(name):\n",
    "    d_name = df_aggretated[df_aggretated['Name'] == name][['#',\"Used\"]].sort_values(\"Used\", ascending = False)\n",
    "    return d_name"
   ]
  },
  {
   "cell_type": "code",
   "execution_count": 44,
   "metadata": {
    "lines_to_next_cell": 2
   },
   "outputs": [
    {
     "data": {
      "text/html": [
       "<div>\n",
       "<style scoped>\n",
       "    .dataframe tbody tr th:only-of-type {\n",
       "        vertical-align: middle;\n",
       "    }\n",
       "\n",
       "    .dataframe tbody tr th {\n",
       "        vertical-align: top;\n",
       "    }\n",
       "\n",
       "    .dataframe thead th {\n",
       "        text-align: right;\n",
       "    }\n",
       "</style>\n",
       "<table border=\"1\" class=\"dataframe\">\n",
       "  <thead>\n",
       "    <tr style=\"text-align: right;\">\n",
       "      <th></th>\n",
       "      <th>tweet_id</th>\n",
       "      <th>text</th>\n",
       "      <th>created_at</th>\n",
       "      <th>favorite_count</th>\n",
       "      <th>retweet_count</th>\n",
       "    </tr>\n",
       "    <tr>\n",
       "      <th>user_id</th>\n",
       "      <th></th>\n",
       "      <th></th>\n",
       "      <th></th>\n",
       "      <th></th>\n",
       "      <th></th>\n",
       "    </tr>\n",
       "  </thead>\n",
       "  <tbody>\n",
       "    <tr>\n",
       "      <th>472852289</th>\n",
       "      <td>1107688525783289856</td>\n",
       "      <td>⚡🇨🇵INFO - Un #giletjaune a perdu un œil samedi sur les Champs-Élysées suite à un tir de #LBD (BFMTV). Selon le journaliste David Dufresne, 22 personnes ont été éborgnées depuis le début de cette crise sociale.</td>\n",
       "      <td>Mon Mar 18 17:01:39 +0000 2019</td>\n",
       "      <td>598.0</td>\n",
       "      <td>1039.0</td>\n",
       "    </tr>\n",
       "  </tbody>\n",
       "</table>\n",
       "</div>"
      ],
      "text/plain": [
       "                      tweet_id  \\\n",
       "user_id                          \n",
       "472852289  1107688525783289856   \n",
       "\n",
       "                                                                                                                                                                                                                        text  \\\n",
       "user_id                                                                                                                                                                                                                        \n",
       "472852289  ⚡🇨🇵INFO - Un #giletjaune a perdu un œil samedi sur les Champs-Élysées suite à un tir de #LBD (BFMTV). Selon le journaliste David Dufresne, 22 personnes ont été éborgnées depuis le début de cette crise sociale.   \n",
       "\n",
       "                               created_at  favorite_count  retweet_count  \n",
       "user_id                                                                   \n",
       "472852289  Mon Mar 18 17:01:39 +0000 2019           598.0         1039.0  "
      ]
     },
     "execution_count": 44,
     "metadata": {},
     "output_type": "execute_result"
    }
   ],
   "source": [
    "get_tweet_by_username('Brevesdepresse')"
   ]
  },
  {
   "cell_type": "code",
   "execution_count": 45,
   "metadata": {},
   "outputs": [
    {
     "name": "stdout",
     "output_type": "stream",
     "text": [
      "Brevesdepresse\n",
      "GiletsJaunesFr\n",
      "tcabarrus\n",
      "AnasseKazib\n",
      "jylgallou\n",
      "RTenfrancais\n",
      "gaetan34070\n",
      "CharlesBaudry\n",
      "jeangarr78\n",
      "Circonscripti18\n",
      "cecileollivier\n",
      "exvulgusscienta\n",
      "TVPopulaire\n",
      "RevPermanente\n",
      "jpbordes4873\n"
     ]
    }
   ],
   "source": [
    "#output \n",
    "for name in top_influencers_rt_names:\n",
    "    df_rel = get_related_hashtags_by_username(name)\n",
    "    print(name)\n",
    "    df_rel.to_csv('top_hashtags_by_'+name+'.csv',index=False)\n",
    "    df_rel=[]"
   ]
  },
  {
   "cell_type": "code",
   "execution_count": 46,
   "metadata": {
    "lines_to_next_cell": 2
   },
   "outputs": [
    {
     "data": {
      "text/html": [
       "<div>\n",
       "<style scoped>\n",
       "    .dataframe tbody tr th:only-of-type {\n",
       "        vertical-align: middle;\n",
       "    }\n",
       "\n",
       "    .dataframe tbody tr th {\n",
       "        vertical-align: top;\n",
       "    }\n",
       "\n",
       "    .dataframe thead th {\n",
       "        text-align: right;\n",
       "    }\n",
       "</style>\n",
       "<table border=\"1\" class=\"dataframe\">\n",
       "  <thead>\n",
       "    <tr style=\"text-align: right;\">\n",
       "      <th></th>\n",
       "      <th>#</th>\n",
       "      <th>Used</th>\n",
       "    </tr>\n",
       "  </thead>\n",
       "  <tbody>\n",
       "    <tr>\n",
       "      <th>253</th>\n",
       "      <td>LBD</td>\n",
       "      <td>1</td>\n",
       "    </tr>\n",
       "    <tr>\n",
       "      <th>254</th>\n",
       "      <td>giletjaune</td>\n",
       "      <td>1</td>\n",
       "    </tr>\n",
       "  </tbody>\n",
       "</table>\n",
       "</div>"
      ],
      "text/plain": [
       "              #  Used\n",
       "253         LBD     1\n",
       "254  giletjaune     1"
      ]
     },
     "execution_count": 46,
     "metadata": {},
     "output_type": "execute_result"
    }
   ],
   "source": [
    "get_related_hashtags_by_username('Brevesdepresse')"
   ]
  },
  {
   "cell_type": "markdown",
   "metadata": {},
   "source": [
    "# NLP\n"
   ]
  },
  {
   "cell_type": "code",
   "execution_count": 47,
   "metadata": {
    "lines_to_next_cell": 2
   },
   "outputs": [],
   "source": [
    "import spacy"
   ]
  },
  {
   "cell_type": "code",
   "execution_count": 48,
   "metadata": {},
   "outputs": [
    {
     "data": {
      "text/html": [
       "<script type=\"text/javascript\">window.PlotlyConfig = {MathJaxConfig: 'local'};</script><script type=\"text/javascript\">if (window.MathJax) {MathJax.Hub.Config({SVG: {font: \"STIX-Web\"}});}</script><script>requirejs.config({paths: { 'plotly': ['https://cdn.plot.ly/plotly-latest.min']},});if(!window._Plotly) {require(['plotly'],function(plotly) {window._Plotly=plotly;});}</script>"
      ],
      "text/vnd.plotly.v1+html": [
       "<script type=\"text/javascript\">window.PlotlyConfig = {MathJaxConfig: 'local'};</script><script type=\"text/javascript\">if (window.MathJax) {MathJax.Hub.Config({SVG: {font: \"STIX-Web\"}});}</script><script>requirejs.config({paths: { 'plotly': ['https://cdn.plot.ly/plotly-latest.min']},});if(!window._Plotly) {require(['plotly'],function(plotly) {window._Plotly=plotly;});}</script>"
      ]
     },
     "metadata": {},
     "output_type": "display_data"
    }
   ],
   "source": [
    "from tqdm import tqdm\n",
    "import string\n",
    "import matplotlib.pyplot as plt\n",
    "from sklearn.decomposition import NMF, LatentDirichletAllocation, TruncatedSVD\n",
    "from sklearn.feature_extraction.text import CountVectorizer\n",
    "from sklearn.manifold import TSNE\n",
    "import concurrent.futures\n",
    "import time\n",
    "import pyLDAvis.sklearn\n",
    "from pylab import bone, pcolor, colorbar, plot, show, rcParams, savefig\n",
    "import warnings\n",
    "warnings.filterwarnings('ignore')\n",
    "\n",
    "%matplotlib inline\n",
    "import os\n",
    "\n",
    "# Plotly based imports for visualization\n",
    "from plotly import tools\n",
    "import plotly.plotly as py\n",
    "from plotly.offline import init_notebook_mode, iplot\n",
    "init_notebook_mode(connected=True)\n",
    "import plotly.graph_objs as go\n",
    "import plotly.figure_factory as ff\n",
    "\n",
    "import spacy\n",
    "from spacy.lang.fr.stop_words import STOP_WORDS\n",
    "from spacy.lang.fr import French\n",
    "import fr_core_news_sm\n",
    "nlp = fr_core_news_sm.load()\n",
    "#!python -m spacy download fr_core_web_lg"
   ]
  },
  {
   "cell_type": "code",
   "execution_count": 49,
   "metadata": {},
   "outputs": [
    {
     "data": {
      "text/html": [
       "<div class=\"entities\" style=\"line-height: 2.5\">Rien que sur la journée de samedi dernier, la ville de \n",
       "<mark class=\"entity\" style=\"background: #ff9561; padding: 0.45em 0.6em; margin: 0 0.25em; line-height: 1; border-radius: 0.35em; box-decoration-break: clone; -webkit-box-decoration-break: clone\">\n",
       "    Paris\n",
       "    <span style=\"font-size: 0.8em; font-weight: bold; line-height: 1; border-radius: 0.35em; text-transform: uppercase; vertical-align: middle; margin-left: 0.5rem\">LOC</span>\n",
       "</mark>\n",
       " estime les dégâts à 5 millions d’euros. La facture #\n",
       "<mark class=\"entity\" style=\"background: #7aecec; padding: 0.45em 0.6em; margin: 0 0.25em; line-height: 1; border-radius: 0.35em; box-decoration-break: clone; -webkit-box-decoration-break: clone\">\n",
       "    GiletJaune\n",
       "    <span style=\"font-size: 0.8em; font-weight: bold; line-height: 1; border-radius: 0.35em; text-transform: uppercase; vertical-align: middle; margin-left: 0.5rem\">ORG</span>\n",
       "</mark>\n",
       " depuis le début du mouvement en serait désormais à 20 millions. @RTLFrance</div>"
      ],
      "text/plain": [
       "<IPython.core.display.HTML object>"
      ]
     },
     "metadata": {},
     "output_type": "display_data"
    }
   ],
   "source": [
    "doc = nlp(df_tweets[\"text\"][3])\n",
    "spacy.displacy.render(doc, style='ent',jupyter=True)"
   ]
  },
  {
   "cell_type": "code",
   "execution_count": 50,
   "metadata": {},
   "outputs": [],
   "source": [
    "punctuations = string.punctuation\n",
    "stopwords = list(STOP_WORDS)"
   ]
  },
  {
   "cell_type": "code",
   "execution_count": 51,
   "metadata": {},
   "outputs": [],
   "source": [
    "review = str(\" \".join([i.lemma_ for i in doc]))"
   ]
  },
  {
   "cell_type": "code",
   "execution_count": 52,
   "metadata": {},
   "outputs": [
    {
     "data": {
      "text/html": [
       "<div class=\"entities\" style=\"line-height: 2.5\">rien que sur le journée de samedi dernier , le ville de \n",
       "<mark class=\"entity\" style=\"background: #ff9561; padding: 0.45em 0.6em; margin: 0 0.25em; line-height: 1; border-radius: 0.35em; box-decoration-break: clone; -webkit-box-decoration-break: clone\">\n",
       "    Paris\n",
       "    <span style=\"font-size: 0.8em; font-weight: bold; line-height: 1; border-radius: 0.35em; text-transform: uppercase; vertical-align: middle; margin-left: 0.5rem\">LOC</span>\n",
       "</mark>\n",
       " estimer le dégât à 5 million d’ euro . le facture # giletjaun depuis le début du mouvement en être désormais à 20 million . @rtlfrance</div>"
      ],
      "text/plain": [
       "<IPython.core.display.HTML object>"
      ]
     },
     "metadata": {},
     "output_type": "display_data"
    }
   ],
   "source": [
    "doc = nlp(review)\n",
    "spacy.displacy.render(doc, style='ent',jupyter=True)"
   ]
  },
  {
   "cell_type": "code",
   "execution_count": 53,
   "metadata": {},
   "outputs": [
    {
     "name": "stdout",
     "output_type": "stream",
     "text": [
      "rien => PRON\n",
      "que => ADV\n",
      "sur => ADP\n",
      "le => DET\n",
      "journée => NOUN\n",
      "de => ADP\n",
      "samedi => NOUN\n",
      "dernier => ADJ\n",
      ", => PUNCT\n",
      "le => DET\n",
      "ville => NOUN\n",
      "de => ADP\n",
      "Paris => PROPN\n",
      "estimer => VERB\n",
      "le => DET\n",
      "dégât => NOUN\n",
      "à => ADP\n",
      "5 => NUM\n",
      "million => NOUN\n",
      "d’ => PUNCT\n",
      "euro => NOUN\n",
      ". => PUNCT\n",
      "le => DET\n",
      "facture => NOUN\n",
      "# => ADJ\n",
      "giletjaun => ADJ\n",
      "depuis => ADP\n",
      "le => DET\n",
      "début => NOUN\n",
      "du => DET\n",
      "mouvement => NOUN\n",
      "en => ADP\n",
      "être => AUX\n",
      "désormais => ADV\n",
      "à => ADP\n",
      "20 => NUM\n",
      "million => NOUN\n",
      ". => PUNCT\n",
      "@rtlfrance => NOUN\n"
     ]
    }
   ],
   "source": [
    "for i in nlp(review):\n",
    "    print(i,\"=>\",i.pos_)"
   ]
  },
  {
   "cell_type": "code",
   "execution_count": 54,
   "metadata": {},
   "outputs": [],
   "source": [
    "parser = French()\n",
    "def spacy_tokenizer(sentence):\n",
    "    mytokens = parser(sentence)\n",
    "    mytokens = [ word.lemma_.lower().strip() if word.lemma_ != \"-PRON-\" else word.lower_ for word in mytokens ]\n",
    "    mytokens = [ word for word in mytokens if word not in stopwords and word not in punctuations ]\n",
    "    mytokens = \" \".join([i for i in mytokens])\n",
    "    return mytokens"
   ]
  },
  {
   "cell_type": "code",
   "execution_count": 55,
   "metadata": {},
   "outputs": [
    {
     "name": "stderr",
     "output_type": "stream",
     "text": [
      "100%|██████████| 783/783 [00:03<00:00, 218.34it/s]\n"
     ]
    }
   ],
   "source": [
    "tqdm.pandas()\n",
    "df_tweets[\"processed_text\"] = df_tweets[\"text\"].progress_apply(spacy_tokenizer)"
   ]
  },
  {
   "cell_type": "code",
   "execution_count": 56,
   "metadata": {},
   "outputs": [],
   "source": [
    "df_tweets.head(10)[\"processed_text\"];"
   ]
  },
  {
   "cell_type": "code",
   "execution_count": 57,
   "metadata": {},
   "outputs": [],
   "source": [
    "vectorizer = CountVectorizer(min_df=5, max_df=0.9, stop_words=stopwords, lowercase=True, token_pattern='[a-zA-Z\\-][a-zA-Z\\-]{2,}')\n",
    "data_vectorized = vectorizer.fit_transform(df_tweets[\"processed_text\"])"
   ]
  },
  {
   "cell_type": "code",
   "execution_count": 58,
   "metadata": {},
   "outputs": [],
   "source": [
    "##How many topics do you want to find??\n",
    "NUM_TOPICS = 6"
   ]
  },
  {
   "cell_type": "code",
   "execution_count": 59,
   "metadata": {},
   "outputs": [
    {
     "name": "stdout",
     "output_type": "stream",
     "text": [
      "iteration: 1 of max_iter: 10\n",
      "iteration: 2 of max_iter: 10\n",
      "iteration: 3 of max_iter: 10\n",
      "iteration: 4 of max_iter: 10\n",
      "iteration: 5 of max_iter: 10\n",
      "iteration: 6 of max_iter: 10\n",
      "iteration: 7 of max_iter: 10\n",
      "iteration: 8 of max_iter: 10\n",
      "iteration: 9 of max_iter: 10\n",
      "iteration: 10 of max_iter: 10\n"
     ]
    }
   ],
   "source": [
    "lda = LatentDirichletAllocation(n_components=NUM_TOPICS, max_iter=10, learning_method='online',verbose=True)\n",
    "data_lda = lda.fit_transform(data_vectorized)"
   ]
  },
  {
   "cell_type": "code",
   "execution_count": 60,
   "metadata": {},
   "outputs": [],
   "source": [
    "# Non-Negative Matrix Factorization Model\n",
    "nmf = NMF(n_components=NUM_TOPICS)\n",
    "data_nmf = nmf.fit_transform(data_vectorized) "
   ]
  },
  {
   "cell_type": "code",
   "execution_count": 61,
   "metadata": {},
   "outputs": [],
   "source": [
    "# Latent Semantic Indexing Model using Truncated SVD\n",
    "lsi = TruncatedSVD(n_components=NUM_TOPICS)\n",
    "data_lsi = lsi.fit_transform(data_vectorized)"
   ]
  },
  {
   "cell_type": "code",
   "execution_count": 62,
   "metadata": {},
   "outputs": [],
   "source": [
    "# Functions for printing keywords for each topic\n",
    "def selected_topics(model, vectorizer, top_n=10):\n",
    "    for idx, topic in enumerate(model.components_):\n",
    "        print(\"Topic %d:\" % (idx))\n",
    "        print([(vectorizer.get_feature_names()[i], topic[i])\n",
    "                        for i in topic.argsort()[:-top_n - 1:-1]]) "
   ]
  },
  {
   "cell_type": "code",
   "execution_count": 63,
   "metadata": {},
   "outputs": [
    {
     "name": "stdout",
     "output_type": "stream",
     "text": [
      "LDA Model:\n",
      "Topic 0:\n",
      "[('jaune', 70.21517008669059), ('gilet', 64.9601382291061), ('giletsjaunes', 57.895210710221214), ('manifestation', 37.687601333169894), ('acte', 26.00523217951027), ('yellowvests', 25.56481410114665), ('france', 24.300112619260503), ('mars', 24.267062521895596), ('giletjaunes', 23.562862462037458), ('mois', 22.691886454665717)]\n",
      "Topic 1:\n",
      "[('faire', 42.17246309895365), ('giletsjaunes', 32.368270182406185), ('falloir', 31.500528820129944), ('luire', 23.586176169005135), ('prendre', 19.436856136931958), ('youtube', 17.51618493121578), ('ter', 16.300634760432093), ('yellowvests', 14.737064093360534), ('europeennes', 14.63798809462457), ('casseur', 13.929166440842124)]\n",
      "Topic 2:\n",
      "[('france', 109.4551396942014), ('giletsjaunes', 108.33125680838569), ('macron', 101.22277321701723), ('dictature', 82.26001186177811), ('plaire', 42.955785169317195), ('publique', 41.917712582386024), ('dan', 33.58269610985232), ('mettre', 31.574688507358594), ('pouvoir', 29.697821064504637), ('porter', 29.191929970591133)]\n",
      "Topic 3:\n",
      "[('drouet', 56.538455579974354), ('aller', 36.649834249152285), ('faire', 36.49557171528247), ('ric', 36.22306766559931), ('ais', 30.00881564773272), ('fran', 25.425849449603326), ('giletsjaunes', 24.19692715746552), ('dan', 23.877406762724622), ('plaire', 23.778517169414144), ('condamner', 21.83970263151032)]\n",
      "Topic 4:\n",
      "[('prison', 66.68741402642524), ('casseur', 64.54457822705425), ('castaner', 42.75201217928436), ('democratie', 37.514808546623655), ('acte', 36.264232176933675), ('giletsjaunes', 26.894154568131412), ('violence', 26.061525624834204), ('samedi', 25.07388186407648), ('black', 22.063772037549555), ('truc', 20.3709599205456)]\n",
      "Topic 5:\n",
      "[('paris', 49.87159834534339), ('giletsjaunes', 47.56710056850041), ('acte', 47.430682239572704), ('dan', 28.927575880441594), ('gilets', 17.3085421270402), ('jaunes', 15.088177106191047), ('ephilippepm', 14.912564635046694), ('europeennes', 14.773713785057518), ('giletsjaunesparis', 12.0948941163838), ('emmanuelmacron', 11.788125766911904)]\n"
     ]
    }
   ],
   "source": [
    "print(\"LDA Model:\")\n",
    "selected_topics(lda, vectorizer)"
   ]
  },
  {
   "cell_type": "code",
   "execution_count": 64,
   "metadata": {},
   "outputs": [
    {
     "name": "stdout",
     "output_type": "stream",
     "text": [
      "NMF Model:\n",
      "Topic 0:\n",
      "[('giletsjaunes', 5.00460507323224), ('yellowvests', 0.6051159039395224), ('europeennes', 0.38906624574927856), ('ric', 0.3252284877849237), ('paris', 0.2924428452944739), ('giletsjaunesparis', 0.2863501119596797), ('chalecosamarillos', 0.2650244601703079), ('jaunes', 0.25651705122716256), ('ephilippepm', 0.2092915190382774), ('partir', 0.20322022112854196)]\n",
      "Topic 1:\n",
      "[('faire', 3.031212657245806), ('aller', 1.1788672250421715), ('voir', 0.48758044623980257), ('falloir', 0.45836058255199447), ('ter', 0.3561119692231165), ('drouet', 0.3043416962328316), ('paris', 0.30164238728496484), ('bfmtv', 0.2852488106630809), ('devoir', 0.2706282777129441), ('prendre', 0.2571361476226955)]\n",
      "Topic 2:\n",
      "[('france', 2.6777456096881957), ('macron', 1.9250274888045773), ('fran', 0.6874960331742863), ('dictature', 0.5328050592789828), ('ais', 0.5247484028791614), ('lci', 0.4449420066387918), ('castaner', 0.44018711984549647), ('cnews', 0.3970802847157433), ('politique', 0.3443006732975383), ('prison', 0.2597262197121873)]\n",
      "Topic 3:\n",
      "[('gilet', 2.598269358290567), ('jaune', 2.3278299864858645), ('giletjaunes', 0.6498692267761207), ('jaunes', 0.6274284202818549), ('mars', 0.44586668027483284), ('samedi', 0.3243830802043844), ('champs', 0.20773048065948185), ('manifestation', 0.17360964085310723), ('elys', 0.16393362543392398), ('appel', 0.16165674343990025)]\n",
      "Topic 4:\n",
      "[('acte', 3.26469450447355), ('actexx', 0.530708704487002), ('manifestation', 0.4710145844236106), ('violence', 0.44125185020793156), ('actexviii', 0.3910199307184254), ('mars', 0.3532652475745377), ('champselysees', 0.2971687053515623), ('paris', 0.29429284886510354), ('actexix', 0.2897518258914771), ('giletsjaune', 0.2649849015283388)]\n",
      "Topic 5:\n",
      "[('plaire', 2.369061036671186), ('dan', 1.821879701540804), ('pouvoir', 0.9726945881813609), ('mettre', 0.6206022310825324), ('bon', 0.3513212599425825), ('gouvernement', 0.3479544720818094), ('voir', 0.33904034823589546), ('devoir', 0.3041063764694142), ('vouloir', 0.2870933569611949), ('emmanuelmacron', 0.2795299481874712)]\n"
     ]
    }
   ],
   "source": [
    "# Keywords for topics clustered by Latent Semantic Indexing\n",
    "print(\"NMF Model:\")\n",
    "selected_topics(nmf, vectorizer)"
   ]
  },
  {
   "cell_type": "code",
   "execution_count": 65,
   "metadata": {},
   "outputs": [
    {
     "name": "stdout",
     "output_type": "stream",
     "text": [
      "LSI Model:\n",
      "Topic 0:\n",
      "[('giletsjaunes', 0.6966699233513366), ('acte', 0.30091720605287037), ('france', 0.24926972524999746), ('macron', 0.2341114969237363), ('faire', 0.1693427612756951), ('dan', 0.1223174657963461), ('jaune', 0.1150603142960139), ('gilet', 0.11228857959723595), ('paris', 0.11166628946331529), ('ric', 0.09990610896842671)]\n",
      "Topic 1:\n",
      "[('faire', 0.4949648647187125), ('plaire', 0.3980561595853617), ('dan', 0.2537102041530325), ('aller', 0.22657238185908174), ('pouvoir', 0.176847873922892), ('voir', 0.1653747841336591), ('mettre', 0.14084506303963884), ('falloir', 0.1342757237137937), ('jaune', 0.13398586577397167), ('ter', 0.10433236200062689)]\n",
      "Topic 2:\n",
      "[('france', 0.5238234392854481), ('macron', 0.36829727318977484), ('fran', 0.1474863477067775), ('ais', 0.13249206696501328), ('dictature', 0.10218342618722662), ('lci', 0.09698916638066127), ('castaner', 0.08069305141975293), ('politique', 0.08051442434769006), ('cnews', 0.07468882479645657), ('acte', 0.07322465032158115)]\n",
      "Topic 3:\n",
      "[('gilet', 0.5148018748254825), ('jaune', 0.4708542190101334), ('france', 0.36609809589893005), ('macron', 0.21308627020857537), ('giletjaunes', 0.1519468083408099), ('jaunes', 0.10453872876540034), ('fran', 0.0997091421838308), ('mars', 0.09067170117580231), ('manifestation', 0.08178623915860073), ('ais', 0.07241146623645672)]\n",
      "Topic 4:\n",
      "[('acte', 0.79259255654024), ('actexx', 0.11302568728777743), ('manifestation', 0.10823669512720788), ('violence', 0.10471400667453601), ('samedi', 0.0904393761029849), ('dan', 0.0884774780746541), ('actexviii', 0.08482273111483216), ('mars', 0.08445029904781201), ('champselysees', 0.06982958951260357), ('plaire', 0.06827142780823227)]\n",
      "Topic 5:\n",
      "[('plaire', 0.44631747964811497), ('dan', 0.41781292103214707), ('france', 0.22870816968842664), ('europeennes', 0.184852963165868), ('yellowvests', 0.17245787957394282), ('pouvoir', 0.10158078024750708), ('chalecosamarillos', 0.083298864620906), ('cnews', 0.07921031418915574), ('pays', 0.07550401232259792), ('ric', 0.06767432174524272)]\n"
     ]
    }
   ],
   "source": [
    "# Keywords for topics clustered by Non-Negative Matrix Factorization\n",
    "print(\"LSI Model:\")\n",
    "selected_topics(lsi, vectorizer)"
   ]
  },
  {
   "cell_type": "code",
   "execution_count": 66,
   "metadata": {},
   "outputs": [
    {
     "name": "stdout",
     "output_type": "stream",
     "text": [
      "[0.35896774 0.02112734 0.02111155 0.02088853 0.23734235 0.34056248]\n"
     ]
    }
   ],
   "source": [
    "# Transforming an individual sentence\n",
    "text = spacy_tokenizer(\"Les gilets jaune tous unis contre Macron. Tous dans la rue jusqu'à la démission\")\n",
    "x = lda.transform(vectorizer.transform([text]))[0]\n",
    "print(x)"
   ]
  },
  {
   "cell_type": "code",
   "execution_count": 67,
   "metadata": {},
   "outputs": [
    {
     "data": {
      "text/html": [
       "\n",
       "<link rel=\"stylesheet\" type=\"text/css\" href=\"https://cdn.rawgit.com/bmabey/pyLDAvis/files/ldavis.v1.0.0.css\">\n",
       "\n",
       "\n",
       "<div id=\"ldavis_el1501212468726126803778514309\"></div>\n",
       "<script type=\"text/javascript\">\n",
       "\n",
       "var ldavis_el1501212468726126803778514309_data = {\"mdsDat\": {\"x\": [9.554444313049316, -9.474203109741211, 23.348379135131836, 90.25011444091797, 78.48974609375, -52.07844924926758], \"y\": [-139.42092895507812, 4.049434185028076, -64.59432220458984, -100.8357925415039, -12.16609001159668, -74.5982666015625], \"topics\": [1, 2, 3, 4, 5, 6], \"cluster\": [1, 1, 1, 1, 1, 1], \"Freq\": [22.985540863398768, 18.546468495548055, 16.03836736331195, 15.802267997605963, 15.308145229129716, 11.319210051005541]}, \"tinfo\": {\"Category\": [\"Default\", \"Default\", \"Default\", \"Default\", \"Default\", \"Default\", \"Default\", \"Default\", \"Default\", \"Default\", \"Default\", \"Default\", \"Default\", \"Default\", \"Default\", \"Default\", \"Default\", \"Default\", \"Default\", \"Default\", \"Default\", \"Default\", \"Default\", \"Default\", \"Default\", \"Default\", \"Default\", \"Default\", \"Default\", \"Default\", \"Topic1\", \"Topic1\", \"Topic1\", \"Topic1\", \"Topic1\", \"Topic1\", \"Topic1\", \"Topic1\", \"Topic1\", \"Topic1\", \"Topic1\", \"Topic1\", \"Topic1\", \"Topic1\", \"Topic1\", \"Topic1\", \"Topic1\", \"Topic1\", \"Topic1\", \"Topic1\", \"Topic1\", \"Topic1\", \"Topic1\", \"Topic1\", \"Topic1\", \"Topic1\", \"Topic1\", \"Topic1\", \"Topic1\", \"Topic1\", \"Topic1\", \"Topic1\", \"Topic1\", \"Topic1\", \"Topic1\", \"Topic1\", \"Topic1\", \"Topic1\", \"Topic1\", \"Topic1\", \"Topic1\", \"Topic1\", \"Topic1\", \"Topic1\", \"Topic1\", \"Topic1\", \"Topic1\", \"Topic1\", \"Topic1\", \"Topic1\", \"Topic1\", \"Topic1\", \"Topic2\", \"Topic2\", \"Topic2\", \"Topic2\", \"Topic2\", \"Topic2\", \"Topic2\", \"Topic2\", \"Topic2\", \"Topic2\", \"Topic2\", \"Topic2\", \"Topic2\", \"Topic2\", \"Topic2\", \"Topic2\", \"Topic2\", \"Topic2\", \"Topic2\", \"Topic2\", \"Topic2\", \"Topic2\", \"Topic2\", \"Topic2\", \"Topic2\", \"Topic2\", \"Topic2\", \"Topic2\", \"Topic2\", \"Topic2\", \"Topic2\", \"Topic2\", \"Topic2\", \"Topic2\", \"Topic2\", \"Topic2\", \"Topic2\", \"Topic2\", \"Topic2\", \"Topic2\", \"Topic2\", \"Topic2\", \"Topic2\", \"Topic2\", \"Topic2\", \"Topic2\", \"Topic2\", \"Topic2\", \"Topic2\", \"Topic2\", \"Topic2\", \"Topic2\", \"Topic2\", \"Topic3\", \"Topic3\", \"Topic3\", \"Topic3\", \"Topic3\", \"Topic3\", \"Topic3\", \"Topic3\", \"Topic3\", \"Topic3\", \"Topic3\", \"Topic3\", \"Topic3\", \"Topic3\", \"Topic3\", \"Topic3\", \"Topic3\", \"Topic3\", \"Topic3\", \"Topic3\", \"Topic3\", \"Topic3\", \"Topic3\", \"Topic3\", \"Topic3\", \"Topic3\", \"Topic3\", \"Topic3\", \"Topic3\", \"Topic3\", \"Topic3\", \"Topic3\", \"Topic3\", \"Topic3\", \"Topic3\", \"Topic3\", \"Topic3\", \"Topic3\", \"Topic3\", \"Topic3\", \"Topic3\", \"Topic3\", \"Topic3\", \"Topic3\", \"Topic3\", \"Topic3\", \"Topic3\", \"Topic3\", \"Topic3\", \"Topic3\", \"Topic3\", \"Topic3\", \"Topic3\", \"Topic3\", \"Topic4\", \"Topic4\", \"Topic4\", \"Topic4\", \"Topic4\", \"Topic4\", \"Topic4\", \"Topic4\", \"Topic4\", \"Topic4\", \"Topic4\", \"Topic4\", \"Topic4\", \"Topic4\", \"Topic4\", \"Topic4\", \"Topic4\", \"Topic4\", \"Topic4\", \"Topic4\", \"Topic4\", \"Topic4\", \"Topic4\", \"Topic4\", \"Topic4\", \"Topic4\", \"Topic4\", \"Topic4\", \"Topic4\", \"Topic4\", \"Topic4\", \"Topic4\", \"Topic4\", \"Topic4\", \"Topic4\", \"Topic4\", \"Topic4\", \"Topic4\", \"Topic4\", \"Topic4\", \"Topic4\", \"Topic4\", \"Topic4\", \"Topic4\", \"Topic4\", \"Topic5\", \"Topic5\", \"Topic5\", \"Topic5\", \"Topic5\", \"Topic5\", \"Topic5\", \"Topic5\", \"Topic5\", \"Topic5\", \"Topic5\", \"Topic5\", \"Topic5\", \"Topic5\", \"Topic5\", \"Topic5\", \"Topic5\", \"Topic5\", \"Topic5\", \"Topic5\", \"Topic5\", \"Topic5\", \"Topic5\", \"Topic5\", \"Topic5\", \"Topic5\", \"Topic5\", \"Topic5\", \"Topic5\", \"Topic5\", \"Topic5\", \"Topic5\", \"Topic5\", \"Topic5\", \"Topic5\", \"Topic5\", \"Topic5\", \"Topic5\", \"Topic5\", \"Topic5\", \"Topic5\", \"Topic5\", \"Topic5\", \"Topic5\", \"Topic5\", \"Topic5\", \"Topic5\", \"Topic6\", \"Topic6\", \"Topic6\", \"Topic6\", \"Topic6\", \"Topic6\", \"Topic6\", \"Topic6\", \"Topic6\", \"Topic6\", \"Topic6\", \"Topic6\", \"Topic6\", \"Topic6\", \"Topic6\", \"Topic6\", \"Topic6\", \"Topic6\", \"Topic6\", \"Topic6\", \"Topic6\", \"Topic6\", \"Topic6\", \"Topic6\", \"Topic6\", \"Topic6\", \"Topic6\", \"Topic6\", \"Topic6\", \"Topic6\", \"Topic6\", \"Topic6\", \"Topic6\", \"Topic6\", \"Topic6\", \"Topic6\", \"Topic6\", \"Topic6\", \"Topic6\", \"Topic6\", \"Topic6\", \"Topic6\"], \"Freq\": [67.0, 60.0, 112.0, 55.0, 54.0, 65.0, 67.0, 55.0, 115.0, 115.0, 55.0, 50.0, 93.0, 32.0, 48.0, 61.0, 22.0, 22.0, 265.0, 25.0, 34.0, 28.0, 27.0, 20.0, 40.0, 31.0, 18.0, 61.0, 26.0, 25.0, 64.94826153039855, 33.09606329903631, 23.048441878331257, 15.320784249975146, 10.414299364915523, 10.184121292220347, 6.869288546473319, 6.529341408714965, 6.728434278760833, 4.410765559049653, 5.4754760857352105, 4.34630751636886, 3.8762346898136077, 6.661049687132681, 3.5926753662604387, 3.52391707403583, 3.470822997066814, 8.291615071711371, 13.791381398194641, 3.473720754784197, 10.996847121863595, 3.3776671122087203, 15.034807205620565, 3.4672345280374053, 3.5505732225321376, 86.42013145646581, 3.8810171126564863, 4.718617429980281, 3.7662341187912354, 15.169949419495042, 79.92027959803592, 24.929745091243507, 11.659397913417397, 13.057453421754985, 6.8764160654216635, 11.07431731340464, 15.183038125066846, 33.915671858986805, 14.605172001735662, 14.157127071582355, 23.447867386907685, 85.53277151151285, 11.260075220350382, 22.522756967014537, 13.076970784617549, 14.745976031228597, 26.515164300043658, 17.286578187108514, 15.606621564293828, 11.654389984368652, 11.565230044002645, 11.438956805998, 26.771529697554243, 12.589040206797623, 16.943639879010263, 12.388296672612354, 11.45264814807395, 8.127873783826162, 50.43920961030978, 16.440622432311702, 6.9967548168316895, 17.637733370995974, 6.112964471343291, 6.1622794472980615, 5.468124609628424, 5.439624581676724, 5.350825974716711, 4.77577036620496, 10.775710571982659, 4.655880985574629, 4.796266003683275, 4.904733238048467, 4.418558383365237, 4.720852625276165, 4.402187953102578, 4.657584997271028, 3.8746974412300186, 3.9056517215349236, 3.966682273987977, 3.9384196796183835, 3.9391895585010457, 8.959376008552102, 12.076708290249279, 19.15528677884536, 7.678422676258211, 19.48368287668184, 15.928749921279294, 32.696129615023715, 32.31540168495043, 22.682963953528347, 32.558508588749476, 10.17191107076989, 6.846012520572206, 14.464227641518686, 18.20418194459717, 21.213342307058717, 14.490761380437686, 21.301563905510587, 15.571066099321206, 11.11053686537141, 12.205198602272946, 14.638593152419055, 21.586615133029678, 11.917350923776496, 10.630658035091308, 53.104162911736886, 10.3240596989858, 11.103568669946034, 11.869399100858587, 18.43044280462343, 9.551756922080765, 8.70821517994954, 8.691724998975392, 7.762863659491503, 6.411747955818769, 6.042022322068677, 5.91637353255658, 6.01704164677245, 6.332179106532417, 5.542279798018181, 5.467175571735617, 5.568023758863253, 5.583603871896618, 5.104574933013187, 4.646793483987364, 4.837190923812385, 4.473964095081165, 4.181824935500129, 4.182027461413443, 4.181470890103729, 4.181003847415338, 4.18101916335867, 4.180707276985822, 4.181030523679045, 4.180432268433634, 8.871260508934341, 15.879163453466273, 11.94168138262838, 10.157443321739771, 16.066158729061907, 5.810618562820424, 50.505032127174175, 9.894751642552633, 8.67125131435448, 7.700991934471777, 15.731312604427929, 12.878857884381905, 30.802596130148626, 50.6502927846201, 12.552205502123913, 6.647237695005765, 7.709759869026184, 11.177935608302981, 8.655244386556221, 8.181746682152212, 8.721675996519169, 10.184668141197001, 9.01108282743121, 8.444089983554543, 24.621703598840554, 13.085239027840448, 12.26867216813593, 12.37168912634453, 12.34925199632207, 11.354633500918835, 10.371541476961529, 9.508062885507638, 8.976320390239275, 10.082392503873987, 8.685964057306746, 8.583104404374437, 8.761442715456745, 8.31301354257322, 6.943305709943608, 6.536479537574713, 6.852131790927979, 6.479698181080028, 5.877737144333754, 5.503893093353307, 5.5768653266082975, 5.902534583407348, 4.576943493132361, 11.293872752256815, 5.479107067978263, 5.547052083324013, 8.816160934903035, 4.741302674004235, 4.627403915179647, 8.843840369275645, 18.285215478277483, 17.01629779530495, 32.88352797242287, 44.02400283179414, 20.290211828644612, 15.28065429371399, 11.361524591791877, 15.38408012489394, 33.78936664967722, 11.568455999433832, 9.541167801684736, 14.540712535507092, 13.212726794298266, 11.173791778680862, 8.949839844909054, 54.01678711330477, 17.871649312965385, 11.642716042108171, 30.38698465735038, 10.362268453683141, 9.921287137274659, 9.529114307961644, 9.449805053658805, 10.760201692489336, 8.548552941477467, 7.488208494629045, 7.1834112800402785, 7.213939051802837, 6.893421640730459, 5.736203425765383, 5.302594037639645, 5.163766586047066, 4.2598629106690815, 4.247971944062789, 4.134943519800202, 14.794574814398468, 3.789741182044551, 3.713293687703722, 3.45838454330158, 3.455834595822604, 10.661122416936301, 6.100709406535339, 52.281090702172, 15.713438894208368, 20.309837448776772, 34.62911816671633, 6.9906875997035, 10.770623549403288, 16.50047196140709, 21.109828624735307, 6.335472414403665, 29.374018140104635, 9.63494668206102, 13.304948719552396, 21.78425784096851, 15.974052118482719, 8.567334672887512, 9.116591776951282, 11.749953012526879, 8.570273363441942, 9.220390248401474, 7.53338824421767, 58.724219006017854, 21.9375194237196, 21.300919815613604, 63.47478835671734, 5.739952988197992, 5.477473756679845, 4.472707034555179, 4.264455819236881, 4.511518930853413, 4.026102046199347, 5.930540929256252, 3.766868517917386, 17.09217272772195, 5.024757949875115, 5.436422549713727, 20.513554098725887, 3.991722770019193, 4.212596498874715, 6.12785340131757, 6.994561183394479, 4.512847738831555, 34.06973899431948, 3.369225918828028, 2.9256474536977435, 2.929764115361893, 2.361109626988801, 3.0026529505872417, 23.110691926625357, 4.651895492770171, 4.022983586138197, 7.047914011260069, 52.33749689934067, 8.223036363306049, 23.508831591858495, 21.9673968409902, 15.16655765320118, 5.262206542154383, 7.072833851544054, 4.6737608421767005, 4.615963925424243, 4.6428171168134895, 4.5961256275480675], \"Term\": [\"jaune\", \"gilet\", \"france\", \"prison\", \"paris\", \"dictature\", \"casseur\", \"drouet\", \"macron\", \"acte\", \"manifestation\", \"castaner\", \"faire\", \"democratie\", \"yellowvests\", \"falloir\", \"mars\", \"giletjaunes\", \"giletsjaunes\", \"luire\", \"publique\", \"mois\", \"ais\", \"fermer\", \"violence\", \"europeennes\", \"black\", \"aller\", \"samedi\", \"jaunes\", \"dictature\", \"publique\", \"porter\", \"casser\", \"macrondestitution\", \"importer\", \"temps\", \"attac\", \"libert\", \"taxer\", \"revenir\", \"legay\", \"faut\", \"monsieur\", \"macroncomplicedupire\", \"stylosrouges\", \"referendum\", \"macrondemission\", \"enfant\", \"salaire\", \"soutenir\", \"culture\", \"vid\", \"francais\", \"chine\", \"france\", \"retraiter\", \"blesser\", \"ouvrir\", \"peupler\", \"macron\", \"mettre\", \"aimer\", \"savoir\", \"sortir\", \"droit\", \"mouvement\", \"plaire\", \"gouvernement\", \"manifester\", \"pouvoir\", \"giletsjaunes\", \"voiturer\", \"fran\", \"tre\", \"politique\", \"dan\", \"actexx\", \"castaner\", \"truc\", \"voir\", \"ric\", \"ais\", \"pauvre\", \"ericdrouet\", \"euro\", \"semaine\", \"vandaliser\", \"drouet\", \"grand\", \"changer\", \"eric\", \"ami\", \"chose\", \"couter\", \"flyridergj\", \"ner\", \"taire\", \"domicile\", \"fauter\", \"organiser\", \"officiel\", \"million\", \"celer\", \"gauche\", \"matin\", \"vandalis\", \"extr\", \"anatolium\", \"mot\", \"col\", \"pillage\", \"coup\", \"amender\", \"jour\", \"condamner\", \"rer\", \"aller\", \"ric\", \"fran\", \"faire\", \"clarer\", \"con\", \"politique\", \"actexx\", \"plaire\", \"violence\", \"dan\", \"manifestation\", \"devoir\", \"voir\", \"falloir\", \"giletsjaunes\", \"pouvoir\", \"mettre\", \"paris\", \"forcer\", \"upr\", \"place\", \"gilets\", \"total\", \"liste\", \"asselineau\", \"oui\", \"esp\", \"vie\", \"brexit\", \"accepter\", \"manif\", \"recevoir\", \"leader\", \"courage\", \"citoyen\", \"attacher\", \"message\", \"fiscal\", \"casseurs\", \"ena\", \"opter\", \"bient\", \"cout\", \"excessivement\", \"ballot\", \"polytechnique\", \"rieusement\", \"ruer\", \"ephilippepm\", \"soutien\", \"policer\", \"jaunes\", \"suffire\", \"acte\", \"frexit\", \"venir\", \"homme\", \"europeennes\", \"giletsjaunesparis\", \"dan\", \"giletsjaunes\", \"emmanuelmacron\", \"guerre\", \"ordre\", \"prendre\", \"ccastaner\", \"actexix\", \"rer\", \"ric\", \"yellowvests\", \"pouvoir\", \"luire\", \"strat\", \"gie\", \"lire\", \"chalecosamarillos\", \"chaos\", \"tence\", \"incomp\", \"fdo\", \"violencespolicieres\", \"droitsdelhomme\", \"compter\", \"jamais\", \"benalla\", \"gelbewesten\", \"histoire\", \"assembleenationale\", \"europ\", \"amnestyinternational\", \"exemple\", \"gelbwesten\", \"rtfrance\", \"ennes\", \"alit\", \"montpellier\", \"pludosky\", \"bfm\", \"cision\", \"crs\", \"senat\", \"youtube\", \"ter\", \"falloir\", \"faire\", \"prendre\", \"europeennes\", \"lci\", \"yellowvests\", \"giletsjaunes\", \"bfmtv\", \"contrer\", \"casseur\", \"aller\", \"dan\", \"voir\", \"prison\", \"black\", \"lys\", \"democratie\", \"bloc\", \"champs\", \"lbd\", \"elys\", \"fet\", \"franceinfo\", \"donner\", \"suite\", \"interdiction\", \"social\", \"pourtant\", \"perdre\", \"tir\", \"nommer\", \"afp\", \"fouquet\", \"policier\", \"directan\", \"lfi\", \"couvrir\", \"champselys\", \"yellowvest\", \"femmesgiletsjaunes\", \"casseur\", \"actexviii\", \"samedi\", \"castaner\", \"femme\", \"pari\", \"truc\", \"violence\", \"info\", \"acte\", \"lci\", \"falloir\", \"giletsjaunes\", \"macron\", \"manifester\", \"condamner\", \"faire\", \"tre\", \"fran\", \"devoir\", \"gilet\", \"mars\", \"giletjaunes\", \"jaune\", \"futur\", \"famille\", \"appel\", \"web\", \"peinture\", \"rentrer\", \"gagner\", \"hiculer\", \"fermer\", \"ville\", \"information\", \"mois\", \"mocratie\", \"angers\", \"bordeaux\", \"puter\", \"crever\", \"manifestation\", \"ind\", \"demain\", \"besoin\", \"pendre\", \"soci\", \"yellowvests\", \"justice\", \"payer\", \"actexix\", \"giletsjaunes\", \"jaunes\", \"acte\", \"france\", \"macron\", \"giletsjaune\", \"actexx\", \"champselysees\", \"pari\", \"drouet\", \"ric\"], \"Total\": [67.0, 60.0, 112.0, 55.0, 54.0, 65.0, 67.0, 55.0, 115.0, 115.0, 55.0, 50.0, 93.0, 32.0, 48.0, 61.0, 22.0, 22.0, 265.0, 25.0, 34.0, 28.0, 27.0, 20.0, 40.0, 31.0, 18.0, 61.0, 26.0, 25.0, 65.87700505152559, 34.22662124546348, 23.99989020316772, 16.415803834893946, 11.223664064098005, 10.99287118879004, 7.679662508481325, 7.334587813390156, 7.5916262309033, 5.212331309994613, 6.499210037587365, 5.188414352259385, 4.6737577873574665, 8.119659081318277, 4.399809952657478, 4.330966201148501, 4.268106866341141, 10.212681210105274, 17.044594403038506, 4.30479975516086, 13.701087004011283, 4.3071868799817885, 19.237309334238546, 4.4395114742776185, 4.598825395460186, 112.65051838028981, 5.061723764210136, 6.160994638256504, 5.083875577232068, 20.88173387093498, 115.83717436944247, 36.235787181408384, 16.657109400569272, 19.47868885340049, 9.577362996250507, 16.743426483424972, 24.763930844789506, 65.70285308269744, 24.154593633902934, 23.440823686771246, 44.63104536967176, 265.68080081914906, 19.358044659394643, 54.93972835756914, 25.059317304446665, 30.26786561896333, 94.37246488113492, 45.863074924696384, 50.985821223428644, 28.84801965447322, 35.19112034766127, 62.41423350081189, 27.557703044755932, 13.40523061863351, 18.06595906614358, 13.22997850803067, 12.2361503185242, 8.92147449105066, 55.749333706385286, 18.211655105986246, 7.78220032879811, 19.868228808987766, 6.900690585865333, 6.962935596045609, 6.2569998885036195, 6.22867323976793, 6.144366518411744, 5.5547892986446, 12.561020827051466, 5.445366688184957, 5.627381881866703, 5.7619615441906555, 5.199506330882372, 5.564983411142023, 5.1936938973412206, 5.509564706448699, 4.661825796421904, 4.7022265109967165, 4.777388883340182, 4.744772938257982, 4.750773549893505, 11.26181683127631, 16.077498633348636, 27.54983970068202, 10.093192117105524, 29.720984082038388, 25.275911180441778, 61.75901385607604, 62.41423350081189, 54.93972835756914, 93.76377568542664, 17.097419865939557, 9.628897637475507, 30.26786561896333, 45.863074924696384, 65.70285308269744, 40.27505385017214, 94.37246488113492, 55.22264127088957, 27.282853992715875, 35.19112034766127, 61.33155876259109, 265.68080081914906, 44.63104536967176, 36.235787181408384, 54.354932170397014, 11.088010639037803, 11.95381307528518, 12.78647440321345, 19.904248362048705, 10.383118331091593, 9.49218149737903, 9.479352594870916, 8.529350317293554, 7.1674105580326275, 6.794136208447329, 6.669360567251543, 6.782973177123185, 7.183999822561805, 6.312622975611736, 6.233334837482716, 6.359434268795483, 6.39392116594388, 5.858814802809761, 5.396943018352431, 5.641904249861831, 5.257312817121381, 4.934575325183612, 4.935224768135924, 4.934751394234555, 4.934274450409727, 4.934754261753055, 4.934407747016343, 4.935248995271409, 4.9345895933387816, 10.754543910766698, 21.83872671640374, 16.97728794050961, 14.032357692969224, 25.040483641321643, 7.426543956065736, 115.13509212332696, 14.749864593723082, 12.626689200601012, 10.932492379408354, 31.64490704182947, 24.451675484915434, 94.37246488113492, 265.68080081914906, 37.321883511004366, 9.442690339721924, 13.916335308281312, 36.82473374370069, 22.330496288994485, 19.603947806886964, 25.275911180441778, 62.41423350081189, 48.37400468318389, 44.63104536967176, 25.4819845363864, 13.847839008810823, 13.024195914067336, 13.141373644088667, 13.128062694500171, 12.115827109674049, 11.12626272416692, 10.26149097302494, 9.753579849036186, 10.969806738328224, 9.453055827955968, 9.348152646026874, 9.555331008613825, 9.161657850237791, 7.714684008598153, 7.29724453578233, 7.6717909208945185, 7.303058949506652, 6.6383527483485665, 6.25901357642398, 6.342479343202569, 6.751803406342128, 5.3681260640833015, 13.527782485883536, 6.607544097785194, 7.10550763140292, 11.356184430691663, 6.1474424094353575, 6.02306827585704, 11.570443005976278, 24.679321835417447, 27.529861554433555, 61.33155876259109, 93.76377568542664, 36.82473374370069, 31.64490704182947, 23.514430632988244, 48.37400468318389, 265.68080081914906, 28.38133156006964, 18.926522298118037, 67.52700914881486, 61.75901385607604, 94.37246488113492, 35.19112034766127, 55.06728009176289, 18.670415754858098, 12.445543228187926, 32.606623014019206, 11.158661309186803, 10.726328803485355, 10.33194554461964, 10.251109562929592, 11.714840079262284, 9.373523900415222, 8.292671101112038, 7.98103460939586, 8.026330757551946, 7.694568005207314, 6.546093862025299, 6.0970936146671075, 5.966725854536732, 5.062456889028339, 5.0645706293371155, 4.931857915697284, 17.76153354508325, 4.588880356471183, 4.520987165880469, 4.257958169130631, 4.291175744539162, 13.32881981380688, 7.798503188457714, 67.52700914881486, 20.37073649466336, 26.66156374429638, 50.985821223428644, 9.308528487052335, 16.767634701947408, 28.84801965447322, 40.27505385017214, 9.312488212256817, 115.13509212332696, 23.514430632988244, 61.33155876259109, 265.68080081914906, 115.83717436944247, 23.440823686771246, 29.720984082038388, 93.76377568542664, 25.059317304446665, 54.93972835756914, 27.282853992715875, 60.27922384233302, 22.74755192902097, 22.088501373511658, 67.55710664734914, 6.546651299276475, 6.26108452483281, 5.2612807526062415, 5.044320991419946, 5.35251344711243, 4.825062624815771, 7.115060968692291, 4.566769420739126, 20.760339916534306, 6.4791987498827615, 7.064253054249192, 28.102438686782367, 5.604529002518678, 5.94738893408403, 8.824881078966408, 10.94716832326766, 7.174195946237883, 55.22264127088957, 5.7311307204130735, 5.532925312382876, 5.6421194780665065, 4.690763950461259, 6.210828488858381, 48.37400468318389, 10.433562643146171, 9.482650645623185, 19.603947806886964, 265.68080081914906, 25.040483641321643, 115.13509212332696, 112.65051838028981, 115.83717436944247, 15.455461886791332, 45.863074924696384, 11.928126379266704, 16.767634701947408, 55.749333706385286, 62.41423350081189], \"loglift\": [30.0, 29.0, 28.0, 27.0, 26.0, 25.0, 24.0, 23.0, 22.0, 21.0, 20.0, 19.0, 18.0, 17.0, 16.0, 15.0, 14.0, 13.0, 12.0, 11.0, 10.0, 9.0, 8.0, 7.0, 6.0, 5.0, 4.0, 3.0, 2.0, 1.0, 1.4561, 1.4367, 1.4299, 1.4013, 1.3955, 1.3939, 1.3588, 1.354, 1.3496, 1.3033, 1.2989, 1.2932, 1.2832, 1.2723, 1.2676, 1.2641, 1.2635, 1.2619, 1.2585, 1.2558, 1.2504, 1.2272, 1.2238, 1.2231, 1.2116, 1.2052, 1.2047, 1.2036, 1.1703, 1.1507, 1.0991, 1.0963, 1.1136, 1.0703, 1.139, 1.0569, 0.9811, 0.809, 0.9672, 0.966, 0.8267, 0.3369, 0.9285, 0.5786, 0.8199, 0.7512, 0.2008, 0.4946, 0.2865, 0.5639, 0.3575, -0.2265, 1.6559, 1.6221, 1.6208, 1.6192, 1.6187, 1.5917, 1.5848, 1.5826, 1.5785, 1.5658, 1.5637, 1.5627, 1.5501, 1.5494, 1.5466, 1.5338, 1.5316, 1.5283, 1.5251, 1.5238, 1.5221, 1.5204, 1.5195, 1.5169, 1.5, 1.4993, 1.4989, 1.4986, 1.4976, 1.4562, 1.3987, 1.3215, 1.4114, 1.2626, 1.2232, 1.0489, 1.0266, 0.8003, 0.6272, 1.1656, 1.3438, 0.9465, 0.7609, 0.5544, 0.6627, 0.1964, 0.4189, 0.7865, 0.626, 0.2523, -0.8253, 0.3645, 0.4586, 1.8069, 1.7588, 1.7564, 1.7558, 1.7533, 1.7467, 1.744, 1.7434, 1.736, 1.7188, 1.7129, 1.7104, 1.7104, 1.704, 1.7, 1.699, 1.6973, 1.6947, 1.6924, 1.6805, 1.6763, 1.6688, 1.6647, 1.6646, 1.6645, 1.6645, 1.6644, 1.6644, 1.6643, 1.6643, 1.6377, 1.5115, 1.4783, 1.507, 1.3864, 1.5848, 1.0062, 1.431, 1.4544, 1.4798, 1.1313, 1.1891, 0.7105, 0.1728, 0.7405, 1.4791, 1.2396, 0.638, 0.8824, 0.9564, 0.7661, 0.0173, 0.1497, 0.1652, 1.8107, 1.7884, 1.7853, 1.7847, 1.7839, 1.7801, 1.7748, 1.7688, 1.762, 1.7607, 1.7604, 1.7596, 1.7583, 1.7478, 1.7397, 1.7349, 1.732, 1.7254, 1.7233, 1.7164, 1.7164, 1.7106, 1.6856, 1.6645, 1.6577, 1.5974, 1.5918, 1.5853, 1.5814, 1.5763, 1.5451, 1.3639, 1.2217, 1.089, 1.249, 1.117, 1.1176, 0.6994, -0.2171, 0.9476, 1.1601, 0.3094, 0.303, -0.2887, 0.4759, 1.8575, 1.8331, 1.8101, 1.8063, 1.8027, 1.7988, 1.7959, 1.7954, 1.7918, 1.7847, 1.7747, 1.7715, 1.7701, 1.7668, 1.7447, 1.7372, 1.7323, 1.7042, 1.701, 1.7005, 1.694, 1.6854, 1.68, 1.6688, 1.6603, 1.6535, 1.6313, 1.6209, 1.6172, 1.6047, 1.4899, 1.5904, 1.4342, 1.3181, 1.2308, 1.4916, 0.5108, 0.9846, 0.3486, -0.6243, -0.1044, 0.8703, 0.695, -0.2001, 0.8038, 0.092, 0.5899, 2.1525, 2.1424, 2.1424, 2.1163, 2.0472, 2.045, 2.0163, 2.0107, 2.0077, 1.9976, 1.9966, 1.9861, 1.9842, 1.9244, 1.9167, 1.8639, 1.8393, 1.8338, 1.8139, 1.7307, 1.7151, 1.6957, 1.6474, 1.5415, 1.5233, 1.4922, 1.4519, 1.44, 1.3709, 1.3212, 1.1557, 0.5541, 1.0651, 0.5899, 0.5439, 0.1456, 1.1013, 0.3093, 1.2417, 0.8887, -0.3069, -0.4299], \"logprob\": [30.0, 29.0, 28.0, 27.0, 26.0, 25.0, 24.0, 23.0, 22.0, 21.0, 20.0, 19.0, 18.0, 17.0, 16.0, 15.0, 14.0, 13.0, 12.0, 11.0, 10.0, 9.0, 8.0, 7.0, 6.0, 5.0, 4.0, 3.0, 2.0, 1.0, -3.0063, -3.6804, -4.0422, -4.4506, -4.8367, -4.859, -5.2528, -5.3035, -5.2735, -5.6958, -5.4796, -5.7105, -5.825, -5.2836, -5.9009, -5.9203, -5.9355, -5.0646, -4.5558, -5.9346, -4.7822, -5.9627, -4.4695, -5.9365, -5.9127, -2.7206, -5.8237, -5.6283, -5.8538, -4.4605, -2.7988, -3.9638, -4.7237, -4.6105, -5.2517, -4.7752, -4.4597, -3.656, -4.4985, -4.5296, -4.0251, -2.7309, -4.7586, -4.0653, -4.609, -4.4889, -3.9021, -4.3299, -4.4321, -4.7242, -4.7318, -4.7428, -3.6779, -4.4324, -4.1354, -4.4485, -4.527, -4.87, -3.0445, -4.1655, -5.0198, -4.0952, -5.1548, -5.1468, -5.2663, -5.2715, -5.288, -5.4017, -4.588, -5.4271, -5.3974, -5.3751, -5.4794, -5.4133, -5.4832, -5.4268, -5.6108, -5.6028, -5.5873, -5.5945, -5.5943, -4.7726, -4.474, -4.0127, -4.9268, -3.9957, -4.1971, -3.478, -3.4897, -3.8436, -3.4822, -4.6456, -5.0416, -4.2936, -4.0636, -3.9106, -4.2917, -3.9065, -4.2198, -4.5574, -4.4634, -4.2816, -3.8932, -4.4873, -4.6015, -2.8477, -4.4855, -4.4127, -4.346, -3.906, -4.5632, -4.6557, -4.6576, -4.7706, -4.9618, -5.0212, -5.0422, -5.0254, -4.9743, -5.1076, -5.1212, -5.1029, -5.1001, -5.1898, -5.2838, -5.2436, -5.3217, -5.3892, -5.3892, -5.3893, -5.3894, -5.3894, -5.3895, -5.3894, -5.3895, -4.6371, -4.055, -4.3399, -4.5018, -4.0432, -5.0603, -2.8979, -4.528, -4.6599, -4.7786, -4.0643, -4.2644, -3.3924, -2.895, -4.2901, -4.9258, -4.7775, -4.406, -4.6618, -4.7181, -4.6542, -4.4991, -4.6215, -4.6865, -3.6015, -4.2336, -4.2981, -4.2897, -4.2915, -4.3755, -4.4661, -4.553, -4.6105, -4.4943, -4.6434, -4.6553, -4.6348, -4.6873, -4.8674, -4.9277, -4.8806, -4.9365, -5.034, -5.0997, -5.0865, -5.0298, -5.2841, -4.3809, -5.1042, -5.0919, -4.6285, -5.2488, -5.2731, -4.6254, -3.899, -3.971, -3.3122, -3.0204, -3.795, -4.0785, -4.3749, -4.0718, -3.285, -4.3569, -4.5495, -4.1282, -4.224, -4.3916, -4.6135, -2.7841, -3.8901, -4.3187, -3.3593, -4.4352, -4.4787, -4.519, -4.5274, -4.3975, -4.6276, -4.76, -4.8016, -4.7973, -4.8428, -5.0266, -5.1052, -5.1317, -5.3241, -5.3269, -5.3539, -4.0791, -5.4411, -5.4614, -5.5326, -5.5333, -4.4068, -4.965, -2.8167, -4.0188, -3.7623, -3.2287, -4.8288, -4.3965, -3.97, -3.7236, -4.9272, -3.3933, -4.508, -4.1852, -3.6922, -4.0024, -4.6254, -4.5633, -4.3095, -4.6251, -4.5519, -4.754, -2.3986, -3.3833, -3.4127, -2.3208, -4.724, -4.7708, -4.9735, -5.0212, -4.9648, -5.0787, -4.6914, -5.1452, -3.6329, -4.8571, -4.7784, -3.4504, -5.0873, -5.0334, -4.6586, -4.5263, -4.9646, -2.9431, -5.2568, -5.398, -5.3966, -5.6123, -5.372, -3.3312, -4.9342, -5.0795, -4.5187, -2.5138, -4.3645, -3.3141, -3.3819, -3.7524, -4.8109, -4.5152, -4.9295, -4.942, -4.9362, -4.9463]}, \"token.table\": {\"Topic\": [3, 1, 2, 3, 4, 5, 6, 2, 3, 6, 3, 5, 1, 2, 5, 6, 5, 1, 4, 5, 2, 3, 4, 1, 2, 3, 4, 1, 2, 2, 4, 2, 2, 6, 6, 3, 4, 1, 3, 3, 4, 4, 6, 1, 4, 5, 2, 3, 4, 5, 6, 3, 5, 1, 5, 5, 1, 5, 6, 3, 1, 4, 5, 3, 1, 5, 1, 2, 3, 4, 5, 2, 4, 5, 5, 3, 5, 6, 2, 4, 1, 2, 4, 5, 3, 2, 4, 6, 2, 4, 2, 3, 2, 5, 6, 1, 4, 5, 1, 2, 5, 3, 3, 2, 5, 4, 6, 4, 5, 1, 1, 2, 3, 4, 5, 3, 6, 1, 5, 1, 2, 5, 1, 5, 2, 6, 5, 1, 2, 4, 5, 4, 2, 6, 5, 1, 2, 3, 4, 5, 3, 1, 5, 4, 3, 4, 2, 6, 2, 3, 2, 4, 3, 4, 3, 4, 2, 1, 2, 3, 4, 5, 2, 4, 5, 6, 1, 2, 4, 2, 5, 5, 6, 2, 5, 6, 5, 3, 2, 3, 5, 1, 2, 5, 1, 1, 3, 5, 6, 5, 2, 3, 6, 2, 6, 2, 4, 4, 4, 5, 6, 6, 3, 6, 1, 5, 6, 1, 2, 3, 4, 5, 6, 1, 3, 4, 1, 2, 3, 2, 6, 1, 3, 6, 4, 3, 4, 5, 1, 4, 2, 6, 2, 5, 2, 6, 5, 4, 4, 5, 6, 3, 6, 2, 6, 1, 4, 6, 5, 3, 4, 5, 3, 1, 5, 1, 4, 3, 4, 5, 1, 3, 5, 6, 1, 1, 3, 1, 3, 2, 3, 4, 5, 6, 1, 5, 6, 2, 3, 1, 2, 2, 2, 6, 3, 5, 6, 1, 5, 3, 4, 2, 1, 2, 3, 5, 2, 5, 2, 3, 1, 3, 4, 2, 3, 1, 2, 1, 5, 6, 2, 3, 2, 1, 6, 6, 2, 6, 5, 1, 2, 4, 2, 5, 3, 1, 2, 3, 4, 3, 4, 3, 5, 1, 5, 1, 2, 3, 3, 1, 5, 1, 2, 3, 2, 3, 4, 6, 5, 1, 4, 5, 6, 3, 1, 6, 2, 3, 1, 2, 1, 1, 2, 3, 4, 6, 3, 4, 3, 6, 1, 1, 2, 3, 5, 1, 2, 4, 5, 2, 1, 4, 5, 2, 6, 5, 1, 2, 3, 1, 3, 1, 3, 4, 1, 2, 3, 5, 2, 1, 1, 4, 1, 4, 5, 6, 5, 3, 1, 2, 5, 1, 5, 3, 2, 2, 3, 6, 1, 6, 3, 2, 6, 2, 3, 5, 4, 1, 2, 4, 5, 1, 2, 6, 1, 5, 3, 4, 6, 3, 4], \"Freq\": [0.8845678500154026, 0.05211269552442881, 0.01737089850814294, 0.44295791195764495, 0.03474179701628588, 0.2518780283680726, 0.20845078209771525, 0.20404053506991995, 0.4080810701398399, 0.3570709363723599, 0.1963601071099174, 0.7854404284396695, 0.3706685613189408, 0.3924725943377021, 0.06541209905628367, 0.1526282311313286, 0.7898004179919091, 0.7204131107879912, 0.24013770359599707, 0.060034425898999266, 0.9797623537836162, 0.1478438910506606, 0.8131414007786333, 0.12953574709990184, 0.5343349567870952, 0.11334377871241412, 0.2104955890373405, 0.29038281481550515, 0.6896591851868248, 0.8694781957460583, 0.903838682193053, 0.8372774537883844, 0.1681410129862328, 0.6725640519449312, 0.7602711560333574, 0.9494319269091981, 0.912433624974729, 0.9543821927144527, 0.8534149257631609, 0.8106342655648299, 0.8732044058807937, 0.3544767188598031, 0.5317150782897047, 0.0880577456365856, 0.7925197107292703, 0.0880577456365856, 0.3171098572648477, 0.07046885716996615, 0.4228131430197969, 0.17617214292491537, 0.035234428584983074, 0.810577814451472, 0.9640920821656768, 0.8115572717678824, 0.16231145435357647, 0.8961648465633696, 0.11331597457822315, 0.2266319491564463, 0.679895847469339, 0.8996364703179652, 0.9137536090749044, 0.22213333877920255, 0.7700622411012354, 0.7608449675989002, 0.3138127349147765, 0.6864653576260736, 0.1791272324731711, 0.08956361623658556, 0.403036273064635, 0.1791272324731711, 0.13434542435487834, 0.8984752748748842, 0.914072417176012, 0.9322854243243648, 0.6991090970388993, 0.08383546319044585, 0.5030127791426752, 0.4191773159522293, 0.8994885384916692, 0.9079033482754882, 0.8697873165501505, 0.8617055144682827, 0.8133463751243584, 0.1626692750248717, 0.9383913007808052, 0.5848835718143294, 0.3509301430885976, 0.058488357181432936, 0.841968146448417, 0.9627570645014184, 0.7269783378687211, 0.20770809653392033, 0.6392789669263502, 0.30281635275458696, 0.033646261417176325, 0.15850772544189515, 0.5283590848063171, 0.3170154508837903, 0.06219873021327815, 0.7463847625593378, 0.18659619063983446, 0.9434801503399197, 0.8106561643866106, 0.7991050166369373, 0.7045630513116397, 0.2787768852408877, 0.6969422131022193, 0.8301416771319159, 0.16602833542638318, 0.6965102939793233, 0.2861004005141473, 0.22252253373322567, 0.3284856450347617, 0.11655942243168964, 0.042385244520614415, 0.36147243764956155, 0.5422086564743424, 0.030668615991605457, 0.9200584797481638, 0.29322445526175095, 0.4031836259849076, 0.29322445526175095, 0.986687235540844, 0.8716723229358658, 0.875725002884348, 0.07961136389857708, 0.8441188508080717, 0.6569742466328123, 0.1194498630241477, 0.05972493151207385, 0.1194498630241477, 0.9520730823765872, 0.8968717054688892, 0.08968717054688892, 0.8779537419584416, 0.2947332493751728, 0.13396965880689674, 0.3483211128979315, 0.18755752232965542, 0.0535878635227587, 0.8106067364269413, 0.8213747812916128, 0.1760088817053456, 0.9314237296798347, 0.7326434461026479, 0.22895107690707744, 0.9059690309111682, 0.10066322565679647, 0.9409962647296575, 0.8371224100279434, 0.9070309519184732, 0.8215735408250158, 0.5056105862106208, 0.474009924572457, 0.8105773434357425, 0.9586175084521922, 0.8506608498432655, 0.04266039812027008, 0.35194828449222815, 0.01066509953006752, 0.4692643793229709, 0.12798119436081024, 0.24457229365494593, 0.5380590460408811, 0.21196265450095314, 0.7985836926763922, 0.8558423825085707, 0.9182118094725764, 0.922738126851891, 0.2148567308766249, 0.7519985580681872, 0.7693784121137998, 0.12822973535229995, 0.04816876814254678, 0.09633753628509356, 0.8188690584232953, 0.938979954107295, 0.8862256037263392, 0.8027391721364873, 0.9018750365185239, 0.8110533734697962, 0.4186405846477261, 0.4186405846477261, 0.1638158809491102, 0.6757500273131176, 0.7634230293524084, 0.02663103590764215, 0.00887701196921405, 0.1952942633227091, 0.9601511764002996, 0.2711889302158225, 0.6779723255395562, 0.9164990963644436, 0.14054693338542038, 0.8432816003125222, 0.7701647573122664, 0.9073605597064475, 0.9460022926886448, 0.9213620617483871, 0.016589463769732846, 0.978778362414238, 0.9507209042793198, 0.9043295517915902, 0.05024053065508835, 0.38821227368997413, 0.2588081824599827, 0.3235102280749784, 0.3236967057267373, 0.08280613402311884, 0.19195967432632097, 0.1279731162175473, 0.08280613402311884, 0.19572358950919, 0.32717594362542995, 0.5316609083913237, 0.08179398590635749, 0.6209998904285552, 0.20699996347618507, 0.16559997078094807, 0.878558258812003, 0.05490989117575019, 0.21180404397957814, 0.7413141539285235, 0.8758927003922622, 0.9592661950240561, 0.7317636017810739, 0.09147045022263424, 0.09147045022263424, 0.9096804491075526, 0.97451725351488, 0.34897127592578264, 0.5234569138886739, 0.214765372520704, 0.644296117562112, 0.14155778287111245, 0.7077889143555622, 0.8721295211281599, 0.9418825985082869, 0.014802291714771635, 0.044406875144314906, 0.932544378030613, 0.6389652943282974, 0.3194826471641487, 0.7926134672936554, 0.19815336682341386, 0.28753361652270387, 0.1916890776818026, 0.47922269420450647, 0.9678719227481314, 0.08505415381796287, 0.46779784599879576, 0.4252707690898143, 0.8021388438711261, 0.770948449454144, 0.884762520492799, 0.9220685775473295, 0.9131465495920903, 0.9481487477336025, 0.9810852825964885, 0.9642005800776285, 0.6906245808867364, 0.034531229044336816, 0.13812491617734726, 0.12949210891626306, 0.9091301767668413, 0.7833398336260743, 0.09791747920325929, 0.8909746356350567, 0.835189330205246, 0.28973623194720943, 0.03621702899340118, 0.01810851449670059, 0.03621702899340118, 0.61568949288782, 0.5972486371245075, 0.38394555243718337, 0.9671370382468606, 0.9075127104229711, 0.9264503966407248, 0.6899256769238018, 0.3035672978464728, 0.7693038041404189, 0.1784271255533872, 0.7137085022135488, 0.21350460246078307, 0.03558410041013051, 0.7472661086127408, 0.862105161053573, 0.12315788015051043, 0.15134216059718672, 0.7567108029859335, 0.8430329653390282, 0.6057196692243266, 0.1615252451264871, 0.08076262256324356, 0.08076262256324356, 0.8137535391186996, 0.7901301853392649, 0.8677600434596994, 0.8105000659394149, 0.07185799837726829, 0.5748639870181463, 0.3592899918863415, 0.8885126520579071, 0.9379377915548529, 0.786801317072715, 0.19670032926817874, 0.05963870383482645, 0.656025742183091, 0.2981935191741323, 0.018397594478916923, 0.975072507382597, 0.9697707088999847, 0.5272787311117278, 0.4218229848893823, 0.9341405770213238, 0.42636978136649434, 0.42636978136649434, 0.8200628555172664, 0.7183311545253581, 0.14366623090507163, 0.09577748727004776, 0.7991605737189054, 0.17759123860420117, 0.9384916922043971, 0.5174813330740085, 0.3196208233692405, 0.09132023524835443, 0.06088015683223629, 0.1407358983868347, 0.8444153903210083, 0.7126386184561417, 0.21379158553684252, 0.11260288954912005, 0.8445216716184004, 0.49557508245980336, 0.4625367436291498, 0.03303833883065356, 0.8104960871948922, 0.958337717601902, 0.9165771414929967, 0.5153363496080969, 0.2688711389259636, 0.1792474259506424, 0.08146698414386189, 0.29871227519416027, 0.5431132276257459, 0.05431132276257459, 0.9806186161730814, 0.9641617781472935, 0.09134782351656638, 0.27404347054969913, 0.6394347646159646, 0.9504765330006992, 0.7028877424926727, 0.8290047841923559, 0.6330137768635864, 0.3560702494857673, 0.7902446254145175, 0.19756115635362936, 0.7693242672698879, 0.17624185034423134, 0.5127035646377639, 0.16021986394930124, 0.06408794557972049, 0.08010993197465062, 0.8106043925921647, 0.8886514667124429, 0.8368555723678648, 0.09298395248531831, 0.6968965272782816, 0.0375071773580395, 0.1875358867901975, 0.0375071773580395, 0.75014354716079, 0.6673960500031564, 0.10267631538510098, 0.15401447307765148, 0.05133815769255049, 0.89897555306649, 0.17285422856903362, 0.7778440285606513, 0.08642711428451681, 0.3220182305126932, 0.4830273457690398, 0.9097326835324265, 0.7308901210845269, 0.10441287444064669, 0.10441287444064669, 0.8028560067372404, 0.14597381940677098, 0.23560889195120358, 0.7068266758536108, 0.9387746342031145, 0.9235814398503656, 0.13465213508677018, 0.807912810520621, 0.8770792688656037, 0.9001241507432205, 0.7674109265330131, 0.9114983884082518, 0.8987743906387713, 0.21794515704833714, 0.6175112783036218, 0.07264838568277905, 0.10897257852416857, 0.8379805142544478, 0.9631018044025975, 0.5187691205655155, 0.11971595089973433, 0.359147852699203, 0.4159730942965876, 0.5892952169201657, 0.9202084665973895, 0.8580329198637419, 0.8967127584151015, 0.7127759190882447, 0.2375919730294149, 0.7797348235859063, 0.15594696471718125, 0.8831144704664652, 0.15434007175935058, 0.7717003587967529, 0.3476097152366728, 0.09931706149619222, 0.5214145728550091, 0.9115930880587217, 0.34099511130788696, 0.34099511130788696, 0.25574633348091524, 0.05683251855131449, 0.5682392097727492, 0.36160676985538587, 0.7929709482809943, 0.1500507942892488, 0.8252793685908685, 0.18605033961822562, 0.3100838993637094, 0.4754619790243544, 0.2431185119272347, 0.7293555357817041], \"Term\": [\"accepter\", \"acte\", \"acte\", \"acte\", \"acte\", \"acte\", \"acte\", \"actexix\", \"actexix\", \"actexix\", \"actexviii\", \"actexviii\", \"actexx\", \"actexx\", \"actexx\", \"actexx\", \"afp\", \"aimer\", \"aimer\", \"aimer\", \"ais\", \"alit\", \"alit\", \"aller\", \"aller\", \"aller\", \"aller\", \"amender\", \"amender\", \"ami\", \"amnestyinternational\", \"anatolium\", \"angers\", \"angers\", \"appel\", \"asselineau\", \"assembleenationale\", \"attac\", \"attacher\", \"ballot\", \"benalla\", \"besoin\", \"besoin\", \"bfm\", \"bfm\", \"bfm\", \"bfmtv\", \"bfmtv\", \"bfmtv\", \"bfmtv\", \"bfmtv\", \"bient\", \"black\", \"blesser\", \"blesser\", \"bloc\", \"bordeaux\", \"bordeaux\", \"bordeaux\", \"brexit\", \"casser\", \"casseur\", \"casseur\", \"casseurs\", \"castaner\", \"castaner\", \"ccastaner\", \"ccastaner\", \"ccastaner\", \"ccastaner\", \"ccastaner\", \"celer\", \"chalecosamarillos\", \"champs\", \"champselys\", \"champselysees\", \"champselysees\", \"champselysees\", \"changer\", \"chaos\", \"chine\", \"chose\", \"cision\", \"cision\", \"citoyen\", \"clarer\", \"clarer\", \"clarer\", \"col\", \"compter\", \"con\", \"con\", \"condamner\", \"condamner\", \"condamner\", \"contrer\", \"contrer\", \"contrer\", \"coup\", \"coup\", \"coup\", \"courage\", \"cout\", \"couter\", \"couvrir\", \"crever\", \"crever\", \"crs\", \"crs\", \"culture\", \"dan\", \"dan\", \"dan\", \"dan\", \"dan\", \"demain\", \"demain\", \"democratie\", \"democratie\", \"devoir\", \"devoir\", \"devoir\", \"dictature\", \"directan\", \"domicile\", \"domicile\", \"donner\", \"droit\", \"droit\", \"droit\", \"droit\", \"droitsdelhomme\", \"drouet\", \"drouet\", \"elys\", \"emmanuelmacron\", \"emmanuelmacron\", \"emmanuelmacron\", \"emmanuelmacron\", \"emmanuelmacron\", \"ena\", \"enfant\", \"enfant\", \"ennes\", \"ephilippepm\", \"ephilippepm\", \"eric\", \"eric\", \"ericdrouet\", \"esp\", \"euro\", \"europ\", \"europeennes\", \"europeennes\", \"excessivement\", \"exemple\", \"extr\", \"faire\", \"faire\", \"faire\", \"faire\", \"faire\", \"falloir\", \"falloir\", \"falloir\", \"famille\", \"faut\", \"fauter\", \"fdo\", \"femme\", \"femme\", \"femmesgiletsjaunes\", \"femmesgiletsjaunes\", \"fermer\", \"fermer\", \"fermer\", \"fet\", \"fiscal\", \"flyridergj\", \"forcer\", \"fouquet\", \"fran\", \"fran\", \"fran\", \"francais\", \"france\", \"france\", \"france\", \"france\", \"franceinfo\", \"frexit\", \"frexit\", \"futur\", \"gagner\", \"gagner\", \"gauche\", \"gelbewesten\", \"gelbwesten\", \"gie\", \"gilet\", \"gilet\", \"giletjaunes\", \"gilets\", \"gilets\", \"giletsjaune\", \"giletsjaune\", \"giletsjaune\", \"giletsjaunes\", \"giletsjaunes\", \"giletsjaunes\", \"giletsjaunes\", \"giletsjaunes\", \"giletsjaunes\", \"giletsjaunesparis\", \"giletsjaunesparis\", \"giletsjaunesparis\", \"gouvernement\", \"gouvernement\", \"gouvernement\", \"grand\", \"grand\", \"guerre\", \"guerre\", \"hiculer\", \"histoire\", \"homme\", \"homme\", \"homme\", \"importer\", \"incomp\", \"ind\", \"ind\", \"info\", \"info\", \"information\", \"information\", \"interdiction\", \"jamais\", \"jaune\", \"jaune\", \"jaune\", \"jaunes\", \"jaunes\", \"jour\", \"jour\", \"justice\", \"justice\", \"justice\", \"lbd\", \"lci\", \"lci\", \"lci\", \"leader\", \"legay\", \"lfi\", \"libert\", \"lire\", \"liste\", \"luire\", \"lys\", \"macron\", \"macron\", \"macron\", \"macron\", \"macroncomplicedupire\", \"macrondemission\", \"macrondemission\", \"macrondestitution\", \"manif\", \"manifestation\", \"manifestation\", \"manifestation\", \"manifestation\", \"manifestation\", \"manifester\", \"manifester\", \"mars\", \"matin\", \"message\", \"mettre\", \"mettre\", \"million\", \"mocratie\", \"mocratie\", \"mois\", \"mois\", \"mois\", \"monsieur\", \"monsieur\", \"montpellier\", \"montpellier\", \"mot\", \"mouvement\", \"mouvement\", \"mouvement\", \"mouvement\", \"ner\", \"nommer\", \"officiel\", \"opter\", \"ordre\", \"ordre\", \"ordre\", \"organiser\", \"oui\", \"ouvrir\", \"ouvrir\", \"pari\", \"pari\", \"pari\", \"paris\", \"paris\", \"pauvre\", \"payer\", \"payer\", \"peinture\", \"pendre\", \"pendre\", \"perdre\", \"peupler\", \"peupler\", \"peupler\", \"pillage\", \"pillage\", \"place\", \"plaire\", \"plaire\", \"plaire\", \"plaire\", \"pludosky\", \"pludosky\", \"policer\", \"policer\", \"policier\", \"policier\", \"politique\", \"politique\", \"politique\", \"polytechnique\", \"porter\", \"pourtant\", \"pouvoir\", \"pouvoir\", \"pouvoir\", \"prendre\", \"prendre\", \"prendre\", \"prendre\", \"prison\", \"publique\", \"puter\", \"puter\", \"puter\", \"recevoir\", \"referendum\", \"rentrer\", \"rer\", \"rer\", \"retraiter\", \"retraiter\", \"revenir\", \"ric\", \"ric\", \"ric\", \"ric\", \"ric\", \"rieusement\", \"rtfrance\", \"ruer\", \"ruer\", \"salaire\", \"samedi\", \"samedi\", \"samedi\", \"samedi\", \"savoir\", \"savoir\", \"savoir\", \"savoir\", \"semaine\", \"senat\", \"senat\", \"senat\", \"soci\", \"soci\", \"social\", \"sortir\", \"sortir\", \"sortir\", \"soutenir\", \"soutenir\", \"soutien\", \"soutien\", \"strat\", \"stylosrouges\", \"suffire\", \"suffire\", \"suite\", \"taire\", \"taxer\", \"temps\", \"tence\", \"ter\", \"ter\", \"ter\", \"ter\", \"tir\", \"total\", \"tre\", \"tre\", \"tre\", \"truc\", \"truc\", \"upr\", \"vandalis\", \"vandaliser\", \"venir\", \"venir\", \"vid\", \"vid\", \"vie\", \"ville\", \"ville\", \"violence\", \"violence\", \"violence\", \"violencespolicieres\", \"voir\", \"voir\", \"voir\", \"voir\", \"voiturer\", \"voiturer\", \"web\", \"yellowvest\", \"yellowvest\", \"yellowvests\", \"yellowvests\", \"yellowvests\", \"youtube\", \"youtube\"]}, \"R\": 30, \"lambda.step\": 0.01, \"plot.opts\": {\"xlab\": \"PC1\", \"ylab\": \"PC2\"}, \"topic.order\": [3, 4, 6, 2, 5, 1]};\n",
       "\n",
       "function LDAvis_load_lib(url, callback){\n",
       "  var s = document.createElement('script');\n",
       "  s.src = url;\n",
       "  s.async = true;\n",
       "  s.onreadystatechange = s.onload = callback;\n",
       "  s.onerror = function(){console.warn(\"failed to load library \" + url);};\n",
       "  document.getElementsByTagName(\"head\")[0].appendChild(s);\n",
       "}\n",
       "\n",
       "if(typeof(LDAvis) !== \"undefined\"){\n",
       "   // already loaded: just create the visualization\n",
       "   !function(LDAvis){\n",
       "       new LDAvis(\"#\" + \"ldavis_el1501212468726126803778514309\", ldavis_el1501212468726126803778514309_data);\n",
       "   }(LDAvis);\n",
       "}else if(typeof define === \"function\" && define.amd){\n",
       "   // require.js is available: use it to load d3/LDAvis\n",
       "   require.config({paths: {d3: \"https://cdnjs.cloudflare.com/ajax/libs/d3/3.5.5/d3.min\"}});\n",
       "   require([\"d3\"], function(d3){\n",
       "      window.d3 = d3;\n",
       "      LDAvis_load_lib(\"https://cdn.rawgit.com/bmabey/pyLDAvis/files/ldavis.v1.0.0.js\", function(){\n",
       "        new LDAvis(\"#\" + \"ldavis_el1501212468726126803778514309\", ldavis_el1501212468726126803778514309_data);\n",
       "      });\n",
       "    });\n",
       "}else{\n",
       "    // require.js not available: dynamically load d3 & LDAvis\n",
       "    LDAvis_load_lib(\"https://cdnjs.cloudflare.com/ajax/libs/d3/3.5.5/d3.min.js\", function(){\n",
       "         LDAvis_load_lib(\"https://cdn.rawgit.com/bmabey/pyLDAvis/files/ldavis.v1.0.0.js\", function(){\n",
       "                 new LDAvis(\"#\" + \"ldavis_el1501212468726126803778514309\", ldavis_el1501212468726126803778514309_data);\n",
       "            })\n",
       "         });\n",
       "}\n",
       "</script>"
      ],
      "text/plain": [
       "PreparedData(topic_coordinates=               x           y  topics  cluster       Freq\n",
       "topic                                                   \n",
       "2       9.554444 -139.420929       1        1  22.985541\n",
       "3      -9.474203    4.049434       2        1  18.546468\n",
       "5      23.348379  -64.594322       3        1  16.038367\n",
       "1      90.250114 -100.835793       4        1  15.802268\n",
       "4      78.489746  -12.166090       5        1  15.308145\n",
       "0     -52.078449  -74.598267       6        1  11.319210, topic_info=    Category        Freq           Term       Total  loglift  logprob\n",
       "213  Default   67.000000          jaune   67.000000  30.0000  30.0000\n",
       "181  Default   60.000000          gilet   60.000000  29.0000  29.0000\n",
       "163  Default  112.000000         france  112.000000  28.0000  28.0000\n",
       "318  Default   55.000000         prison   55.000000  27.0000  27.0000\n",
       "284  Default   54.000000          paris   54.000000  26.0000  26.0000\n",
       "105  Default   65.000000      dictature   65.000000  25.0000  25.0000\n",
       "52   Default   67.000000        casseur   67.000000  24.0000  24.0000\n",
       "113  Default   55.000000         drouet   55.000000  23.0000  23.0000\n",
       "236  Default  115.000000         macron  115.000000  22.0000  22.0000\n",
       "2    Default  115.000000           acte  115.000000  21.0000  21.0000\n",
       "245  Default   55.000000  manifestation   55.000000  20.0000  20.0000\n",
       "54   Default   50.000000       castaner   50.000000  19.0000  19.0000\n",
       "141  Default   93.000000          faire   93.000000  18.0000  18.0000\n",
       "100  Default   32.000000     democratie   32.000000  17.0000  17.0000\n",
       "417  Default   48.000000    yellowvests   48.000000  16.0000  16.0000\n",
       "142  Default   61.000000        falloir   61.000000  15.0000  15.0000\n",
       "249  Default   22.000000           mars   22.000000  14.0000  14.0000\n",
       "182  Default   22.000000    giletjaunes   22.000000  13.0000  13.0000\n",
       "185  Default  265.000000   giletsjaunes  265.000000  12.0000  12.0000\n",
       "234  Default   25.000000          luire   25.000000  11.0000  11.0000\n",
       "323  Default   34.000000       publique   34.000000  10.0000  10.0000\n",
       "260  Default   28.000000           mois   28.000000   9.0000   9.0000\n",
       "11   Default   27.000000            ais   27.000000   8.0000   8.0000\n",
       "149  Default   20.000000         fermer   20.000000   7.0000   7.0000\n",
       "403  Default   40.000000       violence   40.000000   6.0000   6.0000\n",
       "135  Default   31.000000    europeennes   31.000000   5.0000   5.0000\n",
       "41   Default   18.000000          black   18.000000   4.0000   4.0000\n",
       "13   Default   61.000000          aller   61.000000   3.0000   3.0000\n",
       "354  Default   26.000000         samedi   26.000000   2.0000   2.0000\n",
       "214  Default   25.000000         jaunes   25.000000   1.0000   1.0000\n",
       "..       ...         ...            ...         ...      ...      ...\n",
       "149   Topic6   17.092173         fermer   20.760340   1.9842  -3.6329\n",
       "402   Topic6    5.024758          ville    6.479199   1.9244  -4.8571\n",
       "208   Topic6    5.436423    information    7.064253   1.9167  -4.7784\n",
       "260   Topic6   20.513554           mois   28.102439   1.8639  -3.4504\n",
       "258   Topic6    3.991723       mocratie    5.604529   1.8393  -5.0873\n",
       "20    Topic6    4.212596         angers    5.947389   1.8338  -5.0334\n",
       "46    Topic6    6.127853       bordeaux    8.824881   1.8139  -4.6586\n",
       "324   Topic6    6.994561          puter   10.947168   1.7307  -4.5263\n",
       "91    Topic6    4.512848         crever    7.174196   1.7151  -4.9646\n",
       "245   Topic6   34.069739  manifestation   55.222641   1.6957  -2.9431\n",
       "205   Topic6    3.369226            ind    5.731131   1.6474  -5.2568\n",
       "98    Topic6    2.925647         demain    5.532925   1.5415  -5.3980\n",
       "37    Topic6    2.929764         besoin    5.642119   1.5233  -5.3966\n",
       "291   Topic6    2.361110         pendre    4.690764   1.4922  -5.6123\n",
       "361   Topic6    3.002653           soci    6.210828   1.4519  -5.3720\n",
       "417   Topic6   23.110692    yellowvests   48.374005   1.4400  -3.3312\n",
       "219   Topic6    4.651895        justice   10.433563   1.3709  -4.9342\n",
       "288   Topic6    4.022984          payer    9.482651   1.3212  -5.0795\n",
       "3     Topic6    7.047914        actexix   19.603948   1.1557  -4.5187\n",
       "185   Topic6   52.337497   giletsjaunes  265.680801   0.5541  -2.5138\n",
       "214   Topic6    8.223036         jaunes   25.040484   1.0651  -4.3645\n",
       "2     Topic6   23.508832           acte  115.135092   0.5899  -3.3141\n",
       "163   Topic6   21.967397         france  112.650518   0.5439  -3.3819\n",
       "236   Topic6   15.166558         macron  115.837174   0.1456  -3.7524\n",
       "184   Topic6    5.262207    giletsjaune   15.455462   1.1013  -4.8109\n",
       "5     Topic6    7.072834         actexx   45.863075   0.3093  -4.5152\n",
       "63    Topic6    4.673761  champselysees   11.928126   1.2417  -4.9295\n",
       "283   Topic6    4.615964           pari   16.767635   0.8887  -4.9420\n",
       "113   Topic6    4.642817         drouet   55.749334  -0.3069  -4.9362\n",
       "344   Topic6    4.596126            ric   62.414234  -0.4299  -4.9463\n",
       "\n",
       "[323 rows x 6 columns], token_table=      Topic      Freq                 Term\n",
       "term                                      \n",
       "0         3  0.884568             accepter\n",
       "2         1  0.052113                 acte\n",
       "2         2  0.017371                 acte\n",
       "2         3  0.442958                 acte\n",
       "2         4  0.034742                 acte\n",
       "2         5  0.251878                 acte\n",
       "2         6  0.208451                 acte\n",
       "3         2  0.204041              actexix\n",
       "3         3  0.408081              actexix\n",
       "3         6  0.357071              actexix\n",
       "4         3  0.196360            actexviii\n",
       "4         5  0.785440            actexviii\n",
       "5         1  0.370669               actexx\n",
       "5         2  0.392473               actexx\n",
       "5         5  0.065412               actexx\n",
       "5         6  0.152628               actexx\n",
       "7         5  0.789800                  afp\n",
       "10        1  0.720413                aimer\n",
       "10        4  0.240138                aimer\n",
       "10        5  0.060034                aimer\n",
       "11        2  0.979762                  ais\n",
       "12        3  0.147844                 alit\n",
       "12        4  0.813141                 alit\n",
       "13        1  0.129536                aller\n",
       "13        2  0.534335                aller\n",
       "13        3  0.113344                aller\n",
       "13        4  0.210496                aller\n",
       "14        1  0.290383              amender\n",
       "14        2  0.689659              amender\n",
       "15        2  0.869478                  ami\n",
       "...     ...       ...                  ...\n",
       "389       1  0.415973                 truc\n",
       "389       5  0.589295                 truc\n",
       "391       3  0.920208                  upr\n",
       "393       2  0.858033             vandalis\n",
       "394       2  0.896713           vandaliser\n",
       "396       3  0.712776                venir\n",
       "396       6  0.237592                venir\n",
       "398       1  0.779735                  vid\n",
       "398       6  0.155947                  vid\n",
       "400       3  0.883114                  vie\n",
       "402       2  0.154340                ville\n",
       "402       6  0.771700                ville\n",
       "403       2  0.347610             violence\n",
       "403       3  0.099317             violence\n",
       "403       5  0.521415             violence\n",
       "405       4  0.911593  violencespolicieres\n",
       "407       1  0.340995                 voir\n",
       "407       2  0.340995                 voir\n",
       "407       4  0.255746                 voir\n",
       "407       5  0.056833                 voir\n",
       "408       1  0.568239             voiturer\n",
       "408       2  0.361607             voiturer\n",
       "415       6  0.792971                  web\n",
       "416       1  0.150051           yellowvest\n",
       "416       5  0.825279           yellowvest\n",
       "417       3  0.186050          yellowvests\n",
       "417       4  0.310084          yellowvests\n",
       "417       6  0.475462          yellowvests\n",
       "418       3  0.243119              youtube\n",
       "418       4  0.729356              youtube\n",
       "\n",
       "[441 rows x 3 columns], R=30, lambda_step=0.01, plot_opts={'xlab': 'PC1', 'ylab': 'PC2'}, topic_order=[3, 4, 6, 2, 5, 1])"
      ]
     },
     "execution_count": 67,
     "metadata": {},
     "output_type": "execute_result"
    }
   ],
   "source": [
    "pyLDAvis.enable_notebook()\n",
    "dash = pyLDAvis.sklearn.prepare(lda, data_vectorized, vectorizer, mds='tsne')\n",
    "dash"
   ]
  },
  {
   "cell_type": "code",
   "execution_count": null,
   "metadata": {},
   "outputs": [],
   "source": []
  }
 ],
 "metadata": {
  "jupytext": {
   "formats": "ipynb,py:light"
  },
  "kernelspec": {
   "display_name": "Python 3",
   "language": "python",
   "name": "python3"
  },
  "language_info": {
   "codemirror_mode": {
    "name": "ipython",
    "version": 3
   },
   "file_extension": ".py",
   "mimetype": "text/x-python",
   "name": "python",
   "nbconvert_exporter": "python",
   "pygments_lexer": "ipython3",
   "version": "3.6.7"
  }
 },
 "nbformat": 4,
 "nbformat_minor": 2
}
