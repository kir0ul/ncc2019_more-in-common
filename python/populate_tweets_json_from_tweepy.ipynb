{
 "cells": [
  {
   "cell_type": "code",
   "execution_count": 2,
   "metadata": {},
   "outputs": [],
   "source": [
    "import tweepy"
   ]
  },
  {
   "cell_type": "code",
   "execution_count": null,
   "metadata": {},
   "outputs": [],
   "source": [
    "import urllib3\n",
    "import urllib3.request\n",
    "\n",
    "import csv\n",
    "import json\n",
    "from pandas.io.json import json_normalize\n",
    "\n",
    "import pandas as pd\n",
    "pd.options.display.max_colwidth = 1000\n",
    "import numpy as np\n",
    "\n",
    "import nbimporter\n",
    "import utility_functions as uf"
   ]
  },
  {
   "cell_type": "code",
   "execution_count": 4,
   "metadata": {
    "lines_to_next_cell": 2
   },
   "outputs": [
    {
     "name": "stdout",
     "output_type": "stream",
     "text": [
      "Importing Jupyter notebook from utility_functions.ipynb\n"
     ]
    },
    {
     "data": {
      "text/plain": [
       "<module 'utility_functions' from 'utility_functions.ipynb'>"
      ]
     },
     "execution_count": 4,
     "metadata": {},
     "output_type": "execute_result"
    }
   ],
   "source": [
    "from importlib import reload\n",
    "reload(uf)"
   ]
  },
  {
   "cell_type": "code",
   "execution_count": 1,
   "metadata": {},
   "outputs": [],
   "source": [
    "####input your credentials here\n",
    "consumer_key = '4ha4rLgP6Ci6fEZtaqttGTKoA'\n",
    "consumer_secret = '5ckLaCgfTdfmWM7qS9f2w05pDCSIWRCTHlm7RLnKwK9tCWIz9P'\n",
    "access_token = '602145669-jHmxtsl0wSZDFeZxi81GcTzYrD87dRBhF78ip0qo'\n",
    "access_token_secret = 'YFLMmVVdcN4gb4KDX3MeOjbjxoKnnsFvjKxjRGMkkEZ5D'"
   ]
  },
  {
   "cell_type": "code",
   "execution_count": 5,
   "metadata": {},
   "outputs": [],
   "source": [
    "#define inputs here\n",
    "input_hashtag = \"#giletjaune\"\n",
    "language = \"fr\"\n",
    "since_date = \"2018-03-07\"\n",
    "#n_tweets = 1"
   ]
  },
  {
   "cell_type": "code",
   "execution_count": 47,
   "metadata": {
    "lines_to_next_cell": 2
   },
   "outputs": [],
   "source": [
    "uf.db_init()\n",
    "rt = 0"
   ]
  },
  {
   "cell_type": "code",
   "execution_count": null,
   "metadata": {
    "lines_to_next_cell": 2
   },
   "outputs": [
    {
     "name": "stderr",
     "output_type": "stream",
     "text": [
      "rate limit exceeded: sleeping 614.4272046089172 secs\n"
     ]
    }
   ],
   "source": [
    "from twarc import Twarc\n",
    "t = Twarc(consumer_key, consumer_secret, access_token, access_token_secret,tweet_mode= 'extended')\n",
    "for tweet in t.search(input_hashtag, lang=language):\n",
    "    with open('tweets_twarc/tweet'+str(tweet['id'])+'.json', 'w', encoding='utf8') as file:\n",
    "        ####you need to create a 'tweets_twarc' folder\n",
    "       \n",
    "        json.dump(tweet, file)"
   ]
  },
  {
   "cell_type": "code",
   "execution_count": null,
   "metadata": {},
   "outputs": [],
   "source": [
    "## this cell will be deprecated when switching to utility function\n",
    "rt = 0\n",
    "#databases initialisations\n",
    "def db_init():\n",
    "    global df_users\n",
    "    global df_tweets\n",
    "    global df_hashtags\n",
    "    global df_users_mentions\n",
    "    global df_retweet_users\n",
    "    \n",
    "    #initialisation of databases, df files\n",
    "\n",
    "    d_users = {'user_id': [],\n",
    "               'name':[],\n",
    "               'screen_name':[],\n",
    "               'location':[],\n",
    "               'description':[],\n",
    "               'url':[],\n",
    "               'followers_count':[],\n",
    "               'friends_count':[],\n",
    "               'listed_count':[],\n",
    "               'created_at':[],\n",
    "               'favourites_count':[],\n",
    "               'geo_enabled':[],\n",
    "               'verified':[],\n",
    "               'statuses_count':[],\n",
    "               'lang':[],\n",
    "               'contributors_enabled':[]\n",
    "              }\n",
    "    df_users = pd.DataFrame(data=d_users)\n",
    "\n",
    "    d_tweets = {'tweet_id': [],\n",
    "                'created_at': [],\n",
    "                'text': [],\n",
    "                'truncated': [],\n",
    "                'source': [],\n",
    "                'in_reply_to_status_id': [],\n",
    "                'in_reply_to_user_id': [],\n",
    "                'in_reply_to_screen_name': [],\n",
    "                'user_id': [],\n",
    "                'geo': [],\n",
    "                'coordinates': [],\n",
    "                'place': [],\n",
    "                'contributors': [],\n",
    "                'is_quote_status': [],\n",
    "                'retweet_count': [],\n",
    "                'favorite_count': [],\n",
    "                'favorited': [],\n",
    "                'retweeted': [],\n",
    "                'lang': []         \n",
    "               }\n",
    "    df_tweets = pd.DataFrame(data=d_tweets)\n",
    "\n",
    "\n",
    "    d_hashtags={'hashtag': [], 'tweet_id': []}\n",
    "    df_hashtags = pd.DataFrame(data=d_hashtags)\n",
    "\n",
    "    d_users_mentions = {'tweet_id':[], 'user_id': [], 'screen_name':[], 'name':[]}\n",
    "    df_users_mentions = pd.DataFrame(data=d_users_mentions)\n",
    "\n",
    "    d_retweet_users = {'user_id':[], 'original_user_id':[], 'original_tweet_id':[]}\n",
    "    df_retweet_users= pd.DataFrame(data=d_retweet_users)\n",
    "\n",
    "\n",
    "# store all hashtags related to a tweet\n",
    "def store_hashtag(tweet):\n",
    "    global df_hashtags\n",
    "    for raw_hash in tweet['entities']['hashtags']:\n",
    "            df_hashtags = df_hashtags.append({'hashtag': raw_hash['text'] ,'tweet_id':tweet['id_str']}, ignore_index=True)\n",
    "\n",
    "#store all user mentions contained in the tweet\n",
    "def store_user_mentions(tweet):\n",
    "    global df_users_mentions\n",
    "    tweet_id = tweet['id_str']\n",
    "    for raw_mention in tweet['entities']['user_mentions']:\n",
    "        screen_name = raw_mention['screen_name']\n",
    "        name = raw_mention['name']\n",
    "        user_id = raw_mention['id_str']\n",
    "        df_users_mentions = df_users_mentions.append({'tweet_id':tweet_id, 'user_id': user_id, 'screen_name':screen_name, 'name':name},ignore_index=True)\n",
    "\n",
    "#store the author of the tweet        \n",
    "def store_user(tweet):\n",
    "    global df_users\n",
    "    user = tweet['user']\n",
    "    if user['id_str'] not in df_users['user_id'].values:\n",
    "        \n",
    "        d_user = {'user_id': user['id_str'],\n",
    "                  'name':user['name'],\n",
    "                  'screen_name':user['screen_name'],\n",
    "                  'location':user['location'],\n",
    "                  'description':user['description'],\n",
    "                  'url':user['url'],\n",
    "                  'followers_count':user['followers_count'],\n",
    "                  'friends_count':user['friends_count'],\n",
    "                  'listed_count':user['listed_count'],\n",
    "                  'created_at':user['created_at'],\n",
    "                  'favourites_count':user['favourites_count'],\n",
    "                  'geo_enabled':user['geo_enabled'],\n",
    "                  'verified':user['verified'],\n",
    "                  'statuses_count':user['statuses_count'],\n",
    "                  'lang':user['lang'],\n",
    "                  'contributors_enabled':user['contributors_enabled']\n",
    "                 }\n",
    "        df_users = df_users.append(d_user,ignore_index=True)\n",
    "\n",
    "#store the content of the tweet\n",
    "def store_tweet(tweet):\n",
    "    global df_tweets\n",
    "    text = re.sub(r\"http\\S+\", \"\", tweet['full_text']) ## Removes URLs from full text\n",
    "    df_tweets = df_tweets.append({'tweet_id':  tweet['id_str'],\n",
    "            'created_at': tweet['created_at'],\n",
    "            'text': text,\n",
    "            'truncated': tweet['truncated'],\n",
    "            'source': tweet['source'],\n",
    "            'in_reply_to_status_id': tweet['in_reply_to_status_id_str'],\n",
    "            'in_reply_to_user_id': tweet['in_reply_to_user_id_str'],\n",
    "            'in_reply_to_screen_name': tweet['in_reply_to_screen_name'],\n",
    "            'user_id': tweet['user']['id_str'],\n",
    "            'geo': tweet['geo'],\n",
    "            'coordinates': tweet['coordinates'],\n",
    "            'place': tweet['place'],\n",
    "            'contributors': tweet['contributors'],\n",
    "            'is_quote_status': tweet['is_quote_status'],\n",
    "            'retweet_count': tweet['retweet_count'],\n",
    "            'favorite_count': tweet['favorite_count'],\n",
    "            'favorited': tweet['favorited'],\n",
    "            'retweeted': tweet['retweeted'],\n",
    "            'lang': tweet['lang'] },ignore_index=True)\n",
    "\n",
    "#called when the tweet is a retweet: store the original author of the tweet as well as the user who retweeted it,\n",
    "# and the original id of the tweet\n",
    "def store_retweet_user(tweet):\n",
    "    global df_retweet_users\n",
    "    if is_a_retweet(tweet):\n",
    "        df_retweet_users = df_retweet_users.append({'user_id':tweet['user']['id_str'],\n",
    "                                                    'original_user_id':tweet['retweeted_status']['user']['id_str'],\n",
    "                                                    'original_tweet_id':tweet['retweeted_status']['id_str']}, ignore_index=True)\n",
    "##Never used\n",
    "##T0D0: proper encapsulation\n",
    "def store_influent_users(n):\n",
    "    #n is the number of influent users return\n",
    "    df_favorite_count = df_tweets.groupby(['user_id'])['favorite_count'].agg('sum').sort_values(ascending=False).head()\n",
    "    for i in range(n):\n",
    "        d_influent_users = {'user_id':df_favorite_count[0], \n",
    "                            'name':[],\n",
    "                            'retweet_count':[],\n",
    "                            'favorite_count':[], \n",
    "                            'description':[] \n",
    "                           }\n",
    "        \n",
    "        \n",
    "def is_a_retweet(tweet):\n",
    "    #### returns a true if the tweet is a retweet, false if it's an original tweets \n",
    "    global rt\n",
    "    rt += 1\n",
    "    return tweet.get('retweeted_status',None) != None\n",
    "\n",
    "def process_json_tweet(tweet):\n",
    "    tweet = json.load(tweet)\n",
    "    \n",
    "    if is_a_retweet(tweet):\n",
    "        store_retweet_user(tweet)\n",
    "        \n",
    "    else:  #store tweets only when they are original tweets\n",
    "        store_tweet(tweet)\n",
    "        store_user(tweet)\n",
    "        store_hashtag(tweet)\n",
    "        store_user_mentions(tweet)\n",
    "    \n",
    "\n"
   ]
  },
  {
   "cell_type": "code",
   "execution_count": 159,
   "metadata": {},
   "outputs": [],
   "source": [
    "db_init()"
   ]
  },
  {
   "cell_type": "code",
   "execution_count": null,
   "metadata": {},
   "outputs": [],
   "source": [
    "#### loading the databases\n",
    "t= 0\n",
    "import warnings\n",
    "warnings.simplefilter(action='ignore', category=FutureWarning) #https://stackoverflow.com/questions/40659212/futurewarning-elementwise-comparison-failed-returning-scalar-but-in-the-futur\n",
    "import os\n",
    "\n",
    "path_to_json = 'tweets_twarc/'\n",
    "json_files = [pos_json for pos_json in os.listdir(path_to_json) if pos_json.endswith('.json')]\n",
    "for json_file in json_files:\n",
    "    \n",
    "    with open(path_to_json+json_file) as tweet:\n",
    "        t+=1\n",
    "        process_json_tweet(tweet)\n",
    "        \n",
    "        \n",
    "        "
   ]
  },
  {
   "cell_type": "code",
   "execution_count": null,
   "metadata": {
    "lines_to_next_cell": 2
   },
   "outputs": [],
   "source": [
    "df_tweets.head(10);\n",
    "print(rt)\n",
    "print(t)"
   ]
  },
  {
   "cell_type": "code",
   "execution_count": 13,
   "metadata": {},
   "outputs": [
    {
     "data": {
      "text/plain": [
       "'[ #GiletsJaunes #ActeXVIII ] \\n\\n⚡️Plusieurs centaines de #GiletsJaunes défilent dans les rues de #Paris ❗️\\n\\n📢🗣«\\xa0#Macron démission / #Castaner en prison !\\xa0»\\n\\n#giletjaune #Acte18bis #EmmanuelMacron #acteXVIIIbis #manifestations #manifestation #Greve19mars #France #politique \\n\\n⬇️📹 '"
      ]
     },
     "execution_count": 13,
     "metadata": {},
     "output_type": "execute_result"
    }
   ],
   "source": [
    "#tweet example\n",
    "df_tweets['text'].iloc[0]"
   ]
  },
  {
   "cell_type": "code",
   "execution_count": 55,
   "metadata": {
    "scrolled": false
   },
   "outputs": [
    {
     "name": "stdout",
     "output_type": "stream",
     "text": [
      "2019-03-19 18:25:03+00:00\n",
      "2019-04-07 11:40:44+00:00\n",
      "3149\n",
      "number of files scraped, including possible retweets: 23812\n",
      "number of retweets 44475\n"
     ]
    }
   ],
   "source": [
    "d = pd.to_datetime(df_tweets['created_at'])\n",
    "print(d.min())\n",
    "print(d.max())\n",
    "print(len(df_tweets.index)) "
   ]
  },
  {
   "cell_type": "code",
   "execution_count": 15,
   "metadata": {
    "lines_to_next_cell": 2
   },
   "outputs": [
    {
     "name": "stdout",
     "output_type": "stream",
     "text": [
      "False\n",
      "False\n"
     ]
    }
   ],
   "source": [
    "#primary keys are ok if both return false\n",
    "print(df_tweets.duplicated('tweet_id').any())\n",
    "print(df_users.duplicated('user_id').any())"
   ]
  },
  {
   "cell_type": "markdown",
   "metadata": {},
   "source": [
    "# Aggregations\n"
   ]
  },
  {
   "cell_type": "markdown",
   "metadata": {},
   "source": [
    "## Top users"
   ]
  },
  {
   "cell_type": "code",
   "execution_count": 136,
   "metadata": {
    "lines_to_end_of_cell_marker": 2,
    "scrolled": true
   },
   "outputs": [],
   "source": [
    "df_most_favorited_users = df_tweets.groupby(['user_id'])['favorite_count'].agg('sum').sort_values(ascending=False).reset_index().head(15)\n",
    "df_most_retweeted_users = df_tweets.groupby(['user_id'])['retweet_count'].agg('sum').sort_values(ascending=False).reset_index().head(15)\n",
    "df_most_favorited_users['favorite_count'] = df_most_favorited_users['favorite_count'].astype('int32')\n",
    "df_most_retweeted_users['retweet_count'] = df_most_retweeted_users['retweet_count'].astype('int32')\n",
    "\n",
    "df_most_favorited_users['user_id'] = df_most_favorited_users['user_id'].astype(object)\n",
    "df_most_retweeted_users['user_id'] = df_most_retweeted_users['user_id'].astype(object)"
   ]
  },
  {
   "cell_type": "code",
   "execution_count": 137,
   "metadata": {},
   "outputs": [],
   "source": [
    "df_most_favorited_users_with_info = df_most_favorited_users.set_index('user_id').join(df_users.set_index('user_id')).drop_duplicates().sort_values('favorite_count',ascending=False)\n",
    "df_most_retweeted_users_with_info = df_most_retweeted_users.set_index('user_id').join(df_users.set_index('user_id')).drop_duplicates().sort_values('retweet_count',ascending=False)"
   ]
  },
  {
   "cell_type": "code",
   "execution_count": 138,
   "metadata": {},
   "outputs": [],
   "source": [
    "df_most_retweeted_users_with_info.head(15);"
   ]
  },
  {
   "cell_type": "code",
   "execution_count": 139,
   "metadata": {},
   "outputs": [],
   "source": [
    "df_most_favorited_users_with_info.head(15);"
   ]
  },
  {
   "cell_type": "code",
   "execution_count": 140,
   "metadata": {},
   "outputs": [],
   "source": [
    "df_most_retweeted_users_with_info.reset_index()\n",
    "df_most_favorited_users_with_info.reset_index();"
   ]
  },
  {
   "cell_type": "code",
   "execution_count": null,
   "metadata": {},
   "outputs": [],
   "source": [
    "print(df_most_retweeted_users_with_info['screen_name'])\n",
    "print(df_most_favorited_users_with_info['screen_name'])"
   ]
  },
  {
   "cell_type": "code",
   "execution_count": 142,
   "metadata": {},
   "outputs": [],
   "source": [
    "df_tweets_by_user = df_tweets.groupby(['user_id']).size().to_frame().reset_index()\n",
    "df_most_favorited_users_with_info = df_most_favorited_users_with_info.join(df_tweets_by_user.set_index('user_id')).drop_duplicates().sort_values('favorite_count',ascending=False)\n",
    "df_most_retweeted_users_with_info = df_most_retweeted_users_with_info.join(df_tweets_by_user.set_index('user_id')).drop_duplicates().sort_values('retweet_count',ascending=False)"
   ]
  },
  {
   "cell_type": "code",
   "execution_count": 143,
   "metadata": {},
   "outputs": [],
   "source": [
    "df_most_favorited_users_with_info;"
   ]
  },
  {
   "cell_type": "code",
   "execution_count": 144,
   "metadata": {},
   "outputs": [],
   "source": [
    "top_influencers_fav = df_most_favorited_users_with_info[['screen_name','description', 'followers_count', 'friends_count','favorite_count',0]]\n",
    "top_influencers_rt = df_most_retweeted_users_with_info[['screen_name','description', 'followers_count', 'friends_count','retweet_count',0]]\n",
    "top_influencers_fav.columns = [\"Name\",\"Description\",\"Number of followers\",\"Number of friends\",\"Number of favorites\",\"Number of tweets\"]\n",
    "top_influencers_rt.columns = [\"Name\",\"Description\",\"Number of followers\",\"Number of friends\",\"Number of retweets\",\"Number of tweets\"]\n",
    "top_influencers_fav = top_influencers_fav.reset_index().drop(columns = [\"user_id\"])\n",
    "top_influencers_rt = top_influencers_rt.reset_index().drop(columns = [\"user_id\"]);\n",
    "top_influencers_fav['Number of followers'] = top_influencers_fav['Number of followers'].astype(int)\n",
    "top_influencers_fav['Number of friends'] = top_influencers_fav['Number of friends'].astype(int)\n",
    "top_influencers_rt['Number of followers'] = top_influencers_rt['Number of followers'].astype(int)\n",
    "top_influencers_rt['Number of friends'] = top_influencers_rt['Number of friends'].astype(int)"
   ]
  },
  {
   "cell_type": "code",
   "execution_count": 145,
   "metadata": {},
   "outputs": [],
   "source": [
    "#add ratios\n",
    "top_influencers_fav.loc[:,'Like Tweet Ratio'] = top_influencers_fav.loc[:,\"Number of favorites\"]/top_influencers_fav.loc[:,\"Number of tweets\"]\n",
    "top_influencers_rt.loc[:,'Retweet Tweet Ratio'] = top_influencers_rt.loc[:,\"Number of retweets\"]/top_influencers_rt.loc[:,\"Number of tweets\"]"
   ]
  },
  {
   "cell_type": "code",
   "execution_count": null,
   "metadata": {},
   "outputs": [],
   "source": [
    "top_influencers_fav_names = top_influencers_fav['Name'].values\n",
    "top_influencers_rt_names = top_influencers_rt['Name'].values\n",
    "print(top_influencers_rt_names)"
   ]
  },
  {
   "cell_type": "markdown",
   "metadata": {},
   "source": [
    "## Top hashtags for this input hashtags and by users"
   ]
  },
  {
   "cell_type": "code",
   "execution_count": 146,
   "metadata": {},
   "outputs": [],
   "source": [
    "top_influencers_fav.style.set_properties(**{'text-align': 'left'});"
   ]
  },
  {
   "cell_type": "code",
   "execution_count": 147,
   "metadata": {},
   "outputs": [],
   "source": [
    "df_tweets_hashtags = df_hashtags.set_index('tweet_id').join(df_tweets.set_index('tweet_id'))"
   ]
  },
  {
   "cell_type": "code",
   "execution_count": 148,
   "metadata": {},
   "outputs": [],
   "source": [
    "df_tw_hash_user = df_tweets_hashtags.set_index('user_id').join(df_users.drop(columns=['created_at', 'lang']).set_index('user_id'))"
   ]
  },
  {
   "cell_type": "code",
   "execution_count": 149,
   "metadata": {},
   "outputs": [],
   "source": [
    "#df_aggretated = df_tw_hash_user.groupby(['user_id','hashtag']).size().reset_index()\n",
    "df_aggretated = df_tw_hash_user.groupby(['screen_name','hashtag']).size().reset_index()"
   ]
  },
  {
   "cell_type": "code",
   "execution_count": 150,
   "metadata": {},
   "outputs": [],
   "source": [
    "df_aggretated.columns = [\"Name\", \"#\", \"Used\"]\n",
    "df_aggretated;"
   ]
  },
  {
   "cell_type": "code",
   "execution_count": null,
   "metadata": {},
   "outputs": [],
   "source": [
    "#useful encapsulation, aint it?\n",
    "def get_tweet_by_userid(user_id):\n",
    "    df_tweets[df_tweets['user_id'] == 'user_id']\n",
    "\n",
    "def get_tweet_by_username(name):\n",
    "    df_tweets_user_info = df_tweets.set_index('user_id').join(df_users.drop(columns=['created_at', 'lang']).set_index('user_id'))\n",
    "    df_tweets_user_info = df_tweets_user_info[df_tweets_user_info['screen_name'] == name]\n",
    "    df_tweets_user_info = df_tweets_user_info[['tweet_id','text','created_at', 'favorite_count', 'retweet_count']]\n",
    "    return df_tweets_user_info\n",
    "\n",
    "def get_related_hashtags_by_username(name):\n",
    "    d_name = df_aggretated[df_aggretated['Name'] == name][['#',\"Used\"]].sort_values(\"Used\", ascending = False)\n",
    "    return d_name"
   ]
  },
  {
   "cell_type": "code",
   "execution_count": null,
   "metadata": {
    "lines_to_next_cell": 2
   },
   "outputs": [],
   "source": [
    "get_tweet_by_username('GiletsJaunesFr')"
   ]
  },
  {
   "cell_type": "code",
   "execution_count": null,
   "metadata": {},
   "outputs": [],
   "source": [
    "#output \n",
    "for name in top_influencers_rt_names:\n",
    "    df_rel = get_related_hashtags_by_username(name)\n",
    "    print(name)\n",
    "    df_rel.to_csv('top_hashtags_by_'+name+'.csv',index=False)\n",
    "    df_rel=[]"
   ]
  },
  {
   "cell_type": "code",
   "execution_count": null,
   "metadata": {
    "lines_to_next_cell": 2
   },
   "outputs": [],
   "source": [
    "get_related_hashtags_by_username('GiletsJaunesFr')"
   ]
  },
  {
   "cell_type": "markdown",
   "metadata": {},
   "source": [
    "# NLP\n"
   ]
  },
  {
   "cell_type": "code",
   "execution_count": 220,
   "metadata": {
    "lines_to_next_cell": 2
   },
   "outputs": [],
   "source": [
    "import spacy"
   ]
  },
  {
   "cell_type": "code",
   "execution_count": 221,
   "metadata": {},
   "outputs": [
    {
     "data": {
      "text/html": [
       "<script type=\"text/javascript\">window.PlotlyConfig = {MathJaxConfig: 'local'};</script><script type=\"text/javascript\">if (window.MathJax) {MathJax.Hub.Config({SVG: {font: \"STIX-Web\"}});}</script><script>requirejs.config({paths: { 'plotly': ['https://cdn.plot.ly/plotly-latest.min']},});if(!window._Plotly) {require(['plotly'],function(plotly) {window._Plotly=plotly;});}</script>"
      ],
      "text/vnd.plotly.v1+html": [
       "<script type=\"text/javascript\">window.PlotlyConfig = {MathJaxConfig: 'local'};</script><script type=\"text/javascript\">if (window.MathJax) {MathJax.Hub.Config({SVG: {font: \"STIX-Web\"}});}</script><script>requirejs.config({paths: { 'plotly': ['https://cdn.plot.ly/plotly-latest.min']},});if(!window._Plotly) {require(['plotly'],function(plotly) {window._Plotly=plotly;});}</script>"
      ]
     },
     "metadata": {},
     "output_type": "display_data"
    }
   ],
   "source": [
    "from tqdm import tqdm\n",
    "import string\n",
    "import matplotlib.pyplot as plt\n",
    "from sklearn.decomposition import NMF, LatentDirichletAllocation, TruncatedSVD\n",
    "from sklearn.feature_extraction.text import CountVectorizer\n",
    "from sklearn.manifold import TSNE\n",
    "import concurrent.futures\n",
    "import time\n",
    "import pyLDAvis.sklearn\n",
    "from pylab import bone, pcolor, colorbar, plot, show, rcParams, savefig\n",
    "import warnings\n",
    "warnings.filterwarnings('ignore')\n",
    "\n",
    "%matplotlib inline\n",
    "import os\n",
    "\n",
    "# Plotly based imports for visualization\n",
    "from plotly import tools\n",
    "import plotly.plotly as py\n",
    "from plotly.offline import init_notebook_mode, iplot\n",
    "init_notebook_mode(connected=True)\n",
    "import plotly.graph_objs as go\n",
    "import plotly.figure_factory as ff\n",
    "\n",
    "import spacy\n",
    "from spacy.lang.fr.stop_words import STOP_WORDS\n",
    "from spacy.lang.fr import French\n",
    "import fr_core_news_sm\n",
    "nlp = fr_core_news_sm.load()\n",
    "#!python -m spacy download fr_core_web_lg"
   ]
  },
  {
   "cell_type": "code",
   "execution_count": 222,
   "metadata": {},
   "outputs": [
    {
     "data": {
      "text/html": [
       "<div class=\"entities\" style=\"line-height: 2.5\">\"C'est en faisant n'importe quoi, que l'on devient n'importe qui\" on accréditait cette phrase à @RemiGaillard_  mais désormais c'est un petit peu l'histoire de @CCastaner #\n",
       "<mark class=\"entity\" style=\"background: #7aecec; padding: 0.45em 0.6em; margin: 0 0.25em; line-height: 1; border-radius: 0.35em; box-decoration-break: clone; -webkit-box-decoration-break: clone\">\n",
       "    Manifestation\n",
       "    <span style=\"font-size: 0.8em; font-weight: bold; line-height: 1; border-radius: 0.35em; text-transform: uppercase; vertical-align: middle; margin-left: 0.5rem\">ORG</span>\n",
       "</mark>\n",
       " #\n",
       "<mark class=\"entity\" style=\"background: #ddd; padding: 0.45em 0.6em; margin: 0 0.25em; line-height: 1; border-radius: 0.35em; box-decoration-break: clone; -webkit-box-decoration-break: clone\">\n",
       "    GiletJaune #\n",
       "    <span style=\"font-size: 0.8em; font-weight: bold; line-height: 1; border-radius: 0.35em; text-transform: uppercase; vertical-align: middle; margin-left: 0.5rem\">MISC</span>\n",
       "</mark>\n",
       "Castaner</div>"
      ],
      "text/plain": [
       "<IPython.core.display.HTML object>"
      ]
     },
     "metadata": {},
     "output_type": "display_data"
    }
   ],
   "source": [
    "doc = nlp(df_tweets[\"text\"][3])\n",
    "spacy.displacy.render(doc, style='ent',jupyter=True)"
   ]
  },
  {
   "cell_type": "code",
   "execution_count": 223,
   "metadata": {},
   "outputs": [],
   "source": [
    "punctuations = string.punctuation\n",
    "stopwords = list(STOP_WORDS)"
   ]
  },
  {
   "cell_type": "code",
   "execution_count": 224,
   "metadata": {},
   "outputs": [],
   "source": [
    "review = str(\" \".join([i.lemma_ for i in doc]))"
   ]
  },
  {
   "cell_type": "code",
   "execution_count": 225,
   "metadata": {},
   "outputs": [
    {
     "data": {
      "text/html": [
       "<div class=\"entities\" style=\"line-height: 2.5\">\" ce être en faire ne importer quoi , que le on devenir ne importer qui \" on accréditer ce phrase à @remigaillard _   mais désormais ce être un petit peu le histoire de @ccastaner # manifestation # giletjaun # \n",
       "<mark class=\"entity\" style=\"background: #ddd; padding: 0.45em 0.6em; margin: 0 0.25em; line-height: 1; border-radius: 0.35em; box-decoration-break: clone; -webkit-box-decoration-break: clone\">\n",
       "    Castaner\n",
       "    <span style=\"font-size: 0.8em; font-weight: bold; line-height: 1; border-radius: 0.35em; text-transform: uppercase; vertical-align: middle; margin-left: 0.5rem\">PER</span>\n",
       "</mark>\n",
       "</div>"
      ],
      "text/plain": [
       "<IPython.core.display.HTML object>"
      ]
     },
     "metadata": {},
     "output_type": "display_data"
    }
   ],
   "source": [
    "doc = nlp(review)\n",
    "spacy.displacy.render(doc, style='ent',jupyter=True)"
   ]
  },
  {
   "cell_type": "code",
   "execution_count": 226,
   "metadata": {},
   "outputs": [
    {
     "name": "stdout",
     "output_type": "stream",
     "text": [
      "\" => PUNCT\n",
      "ce => DET\n",
      "être => AUX\n",
      "en => PRON\n",
      "faire => VERB\n",
      "ne => ADV\n",
      "importer => VERB\n",
      "quoi => PRON\n",
      ", => PUNCT\n",
      "que => SCONJ\n",
      "le => DET\n",
      "on => PRON\n",
      "devenir => VERB\n",
      "ne => ADV\n",
      "importer => VERB\n",
      "qui => PRON\n",
      "\" => PUNCT\n",
      "on => PRON\n",
      "accréditer => VERB\n",
      "ce => DET\n",
      "phrase => NOUN\n",
      "à => ADP\n",
      "@remigaillard => ADV\n",
      "_ => ADP\n",
      "   => SPACE\n",
      "mais => CCONJ\n",
      "désormais => ADV\n",
      "ce => DET\n",
      "être => AUX\n",
      "un => DET\n",
      "petit => ADJ\n",
      "peu => ADV\n",
      "le => DET\n",
      "histoire => NOUN\n",
      "de => ADP\n",
      "@ccastaner => VERB\n",
      "# => ADJ\n",
      "manifestation => NOUN\n",
      "# => ADJ\n",
      "giletjaun => ADJ\n",
      "# => ADJ\n",
      "Castaner => PROPN\n"
     ]
    }
   ],
   "source": [
    "for i in nlp(review):\n",
    "    print(i,\"=>\",i.pos_)"
   ]
  },
  {
   "cell_type": "code",
   "execution_count": 227,
   "metadata": {},
   "outputs": [],
   "source": [
    "parser = French()\n",
    "def spacy_tokenizer(sentence):\n",
    "    mytokens = parser(sentence)\n",
    "    mytokens = [ word.lemma_.lower().strip() if word.lemma_ != \"-PRON-\" else word.lower_ for word in mytokens ]\n",
    "    mytokens = [ word for word in mytokens if word not in stopwords and word not in punctuations ]\n",
    "    mytokens = \" \".join([i for i in mytokens])\n",
    "    return mytokens"
   ]
  },
  {
   "cell_type": "code",
   "execution_count": 228,
   "metadata": {},
   "outputs": [
    {
     "name": "stderr",
     "output_type": "stream",
     "text": [
      "100%|██████████| 2002/2002 [00:04<00:00, 413.22it/s]\n"
     ]
    }
   ],
   "source": [
    "tqdm.pandas()\n",
    "df_tweets[\"processed_text\"] = df_tweets[\"text\"].progress_apply(spacy_tokenizer)"
   ]
  },
  {
   "cell_type": "code",
   "execution_count": 229,
   "metadata": {},
   "outputs": [],
   "source": [
    "df_tweets.head(10)[\"processed_text\"];"
   ]
  },
  {
   "cell_type": "code",
   "execution_count": 230,
   "metadata": {},
   "outputs": [],
   "source": [
    "vectorizer = CountVectorizer(min_df=5, max_df=0.9, stop_words=stopwords, lowercase=True, token_pattern='[a-zA-Z\\-][a-zA-Z\\-]{2,}')\n",
    "data_vectorized = vectorizer.fit_transform(df_tweets[\"processed_text\"])"
   ]
  },
  {
   "cell_type": "code",
   "execution_count": null,
   "metadata": {},
   "outputs": [],
   "source": [
    "##How many topics do you want to find??\n",
    "NUM_TOPICS = 6"
   ]
  },
  {
   "cell_type": "code",
   "execution_count": 242,
   "metadata": {},
   "outputs": [
    {
     "name": "stdout",
     "output_type": "stream",
     "text": [
      "iteration: 1 of max_iter: 10\n",
      "iteration: 2 of max_iter: 10\n",
      "iteration: 3 of max_iter: 10\n",
      "iteration: 4 of max_iter: 10\n",
      "iteration: 5 of max_iter: 10\n",
      "iteration: 6 of max_iter: 10\n",
      "iteration: 7 of max_iter: 10\n",
      "iteration: 8 of max_iter: 10\n",
      "iteration: 9 of max_iter: 10\n",
      "iteration: 10 of max_iter: 10\n"
     ]
    }
   ],
   "source": [
    "lda = LatentDirichletAllocation(n_components=NUM_TOPICS, max_iter=10, learning_method='online',verbose=True)\n",
    "data_lda = lda.fit_transform(data_vectorized)"
   ]
  },
  {
   "cell_type": "code",
   "execution_count": 243,
   "metadata": {},
   "outputs": [],
   "source": [
    "# Non-Negative Matrix Factorization Model\n",
    "nmf = NMF(n_components=NUM_TOPICS)\n",
    "data_nmf = nmf.fit_transform(data_vectorized) "
   ]
  },
  {
   "cell_type": "code",
   "execution_count": 244,
   "metadata": {},
   "outputs": [],
   "source": [
    "# Latent Semantic Indexing Model using Truncated SVD\n",
    "lsi = TruncatedSVD(n_components=NUM_TOPICS)\n",
    "data_lsi = lsi.fit_transform(data_vectorized)"
   ]
  },
  {
   "cell_type": "code",
   "execution_count": 245,
   "metadata": {},
   "outputs": [],
   "source": [
    "# Functions for printing keywords for each topic\n",
    "def selected_topics(model, vectorizer, top_n=10):\n",
    "    for idx, topic in enumerate(model.components_):\n",
    "        print(\"Topic %d:\" % (idx))\n",
    "        print([(vectorizer.get_feature_names()[i], topic[i])\n",
    "                        for i in topic.argsort()[:-top_n - 1:-1]]) "
   ]
  },
  {
   "cell_type": "code",
   "execution_count": 246,
   "metadata": {},
   "outputs": [
    {
     "name": "stdout",
     "output_type": "stream",
     "text": [
      "LDA Model:\n",
      "Topic 0:\n",
      "[('dan', 108.92088327641676), ('faire', 79.4970493326865), ('prendre', 78.58320751174651), ('giletsjaunes', 67.89442328541232), ('mettre', 65.44960746443925), ('tre', 54.75800828266243), ('bon', 53.13962343077285), ('policier', 51.393623068165184), ('aller', 48.07522864835847), ('fran', 42.23916030885288)]\n",
      "Topic 1:\n",
      "[('france', 201.7985579281172), ('giletsjaunes', 164.84010604316458), ('plaire', 159.0722089414498), ('pouvoir', 154.55298414172606), ('faire', 141.2876673899798), ('macron', 134.4797669920172), ('dan', 89.06299769397921), ('vouloir', 81.43998247346931), ('aller', 77.86293571221583), ('ric', 65.85398649664629)]\n",
      "Topic 2:\n",
      "[('giletsjaunes', 453.8203145535721), ('acte', 453.49227649507776), ('actexix', 245.55913518165858), ('mars', 209.22646953553294), ('samedi', 154.64274740625223), ('nice', 135.9365285513162), ('macron', 125.57193090693772), ('jaune', 121.95282900012835), ('manifestation', 120.39932759765075), ('paris', 111.55050725584891)]\n"
     ]
    }
   ],
   "source": [
    "print(\"LDA Model:\")\n",
    "selected_topics(lda, vectorizer)"
   ]
  },
  {
   "cell_type": "code",
   "execution_count": 247,
   "metadata": {},
   "outputs": [
    {
     "name": "stdout",
     "output_type": "stream",
     "text": [
      "NMF Model:\n",
      "Topic 0:\n",
      "[('mars', 3.5922614901588923), ('samedi', 1.8866201376120633), ('actexix', 1.7115744401895998), ('acte', 1.6261130026342412), ('stopgiletsjaunes', 1.611407236693129), ('giletsjaunes', 1.3737159578656095), ('blackbloc', 1.3304897528756037), ('noborder', 1.2603536052198356), ('direct', 1.2143374017612385), ('antifa', 1.205529783100565)]\n",
      "Topic 1:\n",
      "[('giletsjaunes', 3.6820213248467812), ('acte', 2.79192374702542), ('actexix', 1.048551391292378), ('macron', 0.5650489328117727), ('gilets', 0.4731756340645095), ('actexx', 0.4716658151738041), ('manifestation', 0.4522571196151421), ('jaunes', 0.42877357530794546), ('yellowvests', 0.39346336696441514), ('castaner', 0.3832264772316482)]\n",
      "Topic 2:\n",
      "[('faire', 2.1444670656602227), ('france', 2.0335353708982264), ('macron', 1.7985092282362491), ('dan', 1.6893066476514293), ('plaire', 1.3053119429678095), ('pouvoir', 1.0577362306170561), ('aller', 0.8460891418652707), ('fran', 0.7157986816167251), ('politique', 0.6639552251283546), ('ais', 0.6579835384654327)]\n"
     ]
    }
   ],
   "source": [
    "# Keywords for topics clustered by Latent Semantic Indexing\n",
    "print(\"NMF Model:\")\n",
    "selected_topics(nmf, vectorizer)"
   ]
  },
  {
   "cell_type": "code",
   "execution_count": 248,
   "metadata": {},
   "outputs": [
    {
     "name": "stdout",
     "output_type": "stream",
     "text": [
      "LSI Model:\n",
      "Topic 0:\n",
      "[('giletsjaunes', 0.5505396358520082), ('acte', 0.46845544463972444), ('mars', 0.31774558581878515), ('actexix', 0.2799902660729111), ('samedi', 0.18350764759423419), ('macron', 0.1420285710404683), ('stopgiletsjaunes', 0.13843691037047662), ('nice', 0.13276770955749298), ('france', 0.117677095764205), ('blackbloc', 0.10860019182721718)]\n",
      "Topic 1:\n",
      "[('mars', 0.44035786629551826), ('samedi', 0.2065202435989184), ('stopgiletsjaunes', 0.19717518766387707), ('blackbloc', 0.17434048313608305), ('noborder', 0.1677196752641014), ('antifa', 0.15998844301326348), ('direct', 0.15143650642631568), ('yellowvest', 0.13719106683507482), ('actexix', 0.13148763325831833), ('yellowjackets', 0.11361528411761693)]\n",
      "Topic 2:\n",
      "[('acte', 0.5161437998122204), ('giletsjaunes', 0.1428334796863568), ('gilets', 0.07473717513434407), ('actexx', 0.0707810540350995), ('jaunes', 0.0657696801019075), ('actexix', 0.0588415508788967), ('yellowvests', 0.04820093694614954), ('castaner', 0.0456037960501542), ('giletsjaunesparis', 0.031668918696966974), ('kelly', 0.025010925043027318)]\n"
     ]
    }
   ],
   "source": [
    "# Keywords for topics clustered by Non-Negative Matrix Factorization\n",
    "print(\"LSI Model:\")\n",
    "selected_topics(lsi, vectorizer)"
   ]
  },
  {
   "cell_type": "code",
   "execution_count": 249,
   "metadata": {},
   "outputs": [
    {
     "name": "stdout",
     "output_type": "stream",
     "text": [
      "[0.04573579 0.04770572 0.90655849]\n"
     ]
    }
   ],
   "source": [
    "# Transforming an individual sentence\n",
    "text = spacy_tokenizer(\"Les gilets jaune tous unis contre Macron. Tous dans la rue jusqu'à la démission\")\n",
    "x = lda.transform(vectorizer.transform([text]))[0]\n",
    "print(x)"
   ]
  },
  {
   "cell_type": "code",
   "execution_count": 250,
   "metadata": {
    "scrolled": true
   },
   "outputs": [
    {
     "data": {
      "text/html": [
       "\n",
       "<link rel=\"stylesheet\" type=\"text/css\" href=\"https://cdn.rawgit.com/bmabey/pyLDAvis/files/ldavis.v1.0.0.css\">\n",
       "\n",
       "\n",
       "<div id=\"ldavis_el1501212468601716886676194771\"></div>\n",
       "<script type=\"text/javascript\">\n",
       "\n",
       "var ldavis_el1501212468601716886676194771_data = {\"mdsDat\": {\"x\": [-632.0454711914062, -1209.6654052734375, -1437.4532470703125], \"y\": [-384.3250732421875, 212.16412353515625, -586.322509765625], \"topics\": [1, 2, 3], \"cluster\": [1, 1, 1], \"Freq\": [36.05033922128984, 35.09458322733379, 28.855077551376368]}, \"tinfo\": {\"Category\": [\"Default\", \"Default\", \"Default\", \"Default\", \"Default\", \"Default\", \"Default\", \"Default\", \"Default\", \"Default\", \"Default\", \"Default\", \"Default\", \"Default\", \"Default\", \"Default\", \"Default\", \"Default\", \"Default\", \"Default\", \"Default\", \"Default\", \"Default\", \"Default\", \"Default\", \"Default\", \"Default\", \"Default\", \"Default\", \"Default\", \"Topic1\", \"Topic1\", \"Topic1\", \"Topic1\", \"Topic1\", \"Topic1\", \"Topic1\", \"Topic1\", \"Topic1\", \"Topic1\", \"Topic1\", \"Topic1\", \"Topic1\", \"Topic1\", \"Topic1\", \"Topic1\", \"Topic1\", \"Topic1\", \"Topic1\", \"Topic1\", \"Topic1\", \"Topic1\", \"Topic1\", \"Topic1\", \"Topic1\", \"Topic1\", \"Topic1\", \"Topic1\", \"Topic1\", \"Topic1\", \"Topic1\", \"Topic1\", \"Topic1\", \"Topic1\", \"Topic1\", \"Topic1\", \"Topic1\", \"Topic1\", \"Topic1\", \"Topic1\", \"Topic1\", \"Topic1\", \"Topic1\", \"Topic1\", \"Topic2\", \"Topic2\", \"Topic2\", \"Topic2\", \"Topic2\", \"Topic2\", \"Topic2\", \"Topic2\", \"Topic2\", \"Topic2\", \"Topic2\", \"Topic2\", \"Topic2\", \"Topic2\", \"Topic2\", \"Topic2\", \"Topic2\", \"Topic2\", \"Topic2\", \"Topic2\", \"Topic2\", \"Topic2\", \"Topic2\", \"Topic2\", \"Topic2\", \"Topic2\", \"Topic2\", \"Topic2\", \"Topic2\", \"Topic2\", \"Topic2\", \"Topic2\", \"Topic2\", \"Topic2\", \"Topic2\", \"Topic2\", \"Topic2\", \"Topic2\", \"Topic2\", \"Topic2\", \"Topic2\", \"Topic2\", \"Topic2\", \"Topic2\", \"Topic2\", \"Topic2\", \"Topic2\", \"Topic2\", \"Topic2\", \"Topic2\", \"Topic2\", \"Topic2\", \"Topic2\", \"Topic2\", \"Topic2\", \"Topic2\", \"Topic2\", \"Topic3\", \"Topic3\", \"Topic3\", \"Topic3\", \"Topic3\", \"Topic3\", \"Topic3\", \"Topic3\", \"Topic3\", \"Topic3\", \"Topic3\", \"Topic3\", \"Topic3\", \"Topic3\", \"Topic3\", \"Topic3\", \"Topic3\", \"Topic3\", \"Topic3\", \"Topic3\", \"Topic3\", \"Topic3\", \"Topic3\", \"Topic3\", \"Topic3\", \"Topic3\", \"Topic3\", \"Topic3\", \"Topic3\", \"Topic3\", \"Topic3\", \"Topic3\", \"Topic3\", \"Topic3\", \"Topic3\", \"Topic3\", \"Topic3\", \"Topic3\", \"Topic3\", \"Topic3\", \"Topic3\", \"Topic3\", \"Topic3\", \"Topic3\", \"Topic3\", \"Topic3\", \"Topic3\", \"Topic3\", \"Topic3\", \"Topic3\", \"Topic3\", \"Topic3\", \"Topic3\", \"Topic3\", \"Topic3\"], \"Freq\": [446.0, 242.0, 200.0, 149.0, 130.0, 149.0, 163.0, 653.0, 255.0, 118.0, 77.0, 111.0, 126.0, 92.0, 88.0, 64.0, 78.0, 69.0, 66.0, 53.0, 82.0, 53.0, 101.0, 58.0, 61.0, 53.0, 59.0, 51.0, 51.0, 39.0, 200.26039860436472, 130.11118264822105, 77.3223278502471, 148.0157759465072, 65.62403032154793, 68.59085618128925, 58.25544061110463, 52.97589748007766, 50.85492854256031, 50.93029551629444, 43.69843238176298, 48.42962988393811, 116.72673252438543, 42.261059330652024, 33.068777521627545, 31.750906249835417, 60.11412709977748, 31.703953585030696, 28.433131348305437, 27.45260157304981, 26.681111301162076, 434.0585789958171, 235.03608506891382, 21.087042602673513, 20.30808332605509, 85.28445136786378, 22.14460022116968, 21.16758486740128, 20.256052900885436, 19.2098815277375, 88.66563504352392, 106.77018590031469, 115.23980397856982, 23.117861872454473, 85.101087451133, 434.3725594998007, 42.673878857468324, 43.0640652342258, 120.19074351714549, 55.887121934454285, 66.55234982124897, 40.94614269750827, 43.533773931919306, 53.310852818792966, 44.74519348659045, 38.17749324697726, 35.75744131825364, 36.02129573782703, 40.87550254381721, 24.24563904461864, 25.989256812380965, 25.98428299498047, 25.518223120270957, 26.350611432980507, 34.006879811754615, 21.558921189856623, 18.74978204275956, 21.584692600937785, 17.18227909550305, 34.97863495016133, 24.640878421683347, 16.589563051820882, 17.211924743435755, 17.209569263343127, 143.7998100134635, 19.05716625829937, 26.629924726257265, 17.59817673198336, 17.646144128761875, 16.74363464157651, 15.03940120506377, 14.651802404338744, 15.195117997467616, 14.135275791870832, 56.67475250737174, 20.60361805705474, 19.3800669877598, 148.00460535415053, 75.77371651682618, 187.7582270714613, 41.15315033133102, 53.89343236219845, 59.78828684822847, 27.716323434132885, 46.9903543601165, 43.96292748370409, 131.4574405712773, 61.272131362815145, 125.12320646215213, 57.45983448587083, 43.616211015776614, 72.44554626159619, 60.68947443711099, 153.37119540745684, 46.28242309248314, 82.86635304226431, 42.31393588948271, 42.38511690876839, 38.63729094526351, 37.79503191890083, 36.054326565547925, 52.99622208654783, 76.05486846906369, 63.34382935839961, 34.30087622225842, 32.87001411485273, 30.956145344458413, 29.01225172280492, 35.00289336214089, 27.61852241361234, 39.02918610387967, 26.127530615761287, 27.065319156613644, 27.304362081762118, 23.576599714560288, 36.088886093425465, 24.075251644934877, 23.444623116333354, 23.286429701819912, 22.509526108362802, 24.064224812794745, 51.42990720910549, 19.61838271922222, 21.13987517974106, 19.64605380084147, 17.356496093613885, 18.46328731960392, 16.467289588123446, 17.016962489449536, 24.635912815901143, 14.437479591369724, 16.659302416369222, 32.885874596199365, 23.168245129897365, 19.571219752797898, 25.70972072957167, 31.461838252273978, 22.159617605188732, 36.26957662227198, 105.4164587247707, 49.74008272713567, 76.93930830925133, 40.83088589042159, 30.272569723960128, 40.880155993292874, 33.257005890602514, 37.594171999373444, 46.528454452874286, 34.22735562293831, 32.880394097155964, 65.7099855841734, 36.141485089289404, 32.98448199427516, 33.44919379494208, 37.00491055174483, 31.90592166292659], \"Term\": [\"acte\", \"actexix\", \"mars\", \"samedi\", \"nice\", \"pouvoir\", \"plaire\", \"giletsjaunes\", \"france\", \"jaune\", \"prendre\", \"paris\", \"manifestation\", \"actexx\", \"gilet\", \"mettre\", \"gilets\", \"jaunes\", \"direct\", \"tre\", \"vouloir\", \"bon\", \"stopgiletsjaunes\", \"yellowvest\", \"blackbloc\", \"noborder\", \"europeennes\", \"giletsjaunesparis\", \"antifa\", \"vid\", \"mars\", \"nice\", \"gilets\", \"samedi\", \"direct\", \"jaunes\", \"yellowvest\", \"noborder\", \"giletsjaunesparis\", \"antifa\", \"yellowjackets\", \"manifestant\", \"jaune\", \"giletjaunes\", \"euro\", \"bordeaux\", \"blackbloc\", \"ruer\", \"pari\", \"retraiter\", \"gilletsjaunes\", \"acte\", \"actexix\", \"garibaldi\", \"algerie\", \"gilet\", \"info\", \"interdire\", \"gjnice\", \"referendum\", \"actexx\", \"paris\", \"manifestation\", \"million\", \"stopgiletsjaunes\", \"giletsjaunes\", \"place\", \"toulouse\", \"macron\", \"castaner\", \"france\", \"ter\", \"policier\", \"dan\", \"cnews\", \"comprendre\", \"mois\", \"franceinsoumise\", \"dictature\", \"chalecosamarillos\", \"croire\", \"battre\", \"oui\", \"prison\", \"frexit\", \"semaine\", \"asselineau\", \"question\", \"gelbewesten\", \"int\", \"balancetonpost\", \"nathalieloiseau\", \"diffusion\", \"kelly\", \"pouvoir\", \"democratie\", \"attac\", \"rieur\", \"oublier\", \"consid\", \"droitsdelhomme\", \"climat\", \"corruption\", \"pauvre\", \"europeennes\", \"bfm\", \"volution\", \"plaire\", \"vouloir\", \"france\", \"lci\", \"bfmtv\", \"falloir\", \"voter\", \"mouvement\", \"peupler\", \"faire\", \"ric\", \"macron\", \"voir\", \"luire\", \"aller\", \"politique\", \"giletsjaunes\", \"porter\", \"dan\", \"lrem\", \"devoir\", \"rer\", \"fran\", \"yellowvests\", \"tre\", \"prendre\", \"mettre\", \"liste\", \"strat\", \"incomp\", \"gie\", \"jamais\", \"tence\", \"vid\", \"res\", \"chaos\", \"gendarmerie\", \"violencespolici\", \"passer\", \"journaliste\", \"benjamincauchy\", \"flic\", \"aimer\", \"feu\", \"bon\", \"sentir\", \"aider\", \"responsable\", \"ennes\", \"damer\", \"causer\", \"interpeller\", \"dupontaignan\", \"discourir\", \"lection\", \"fdo\", \"amp\", \"homme\", \"but\", \"europ\", \"temps\", \"youtube\", \"dan\", \"policier\", \"faire\", \"ais\", \"ordre\", \"fran\", \"droit\", \"devoir\", \"aller\", \"partir\", \"armer\", \"giletsjaunes\", \"voir\", \"rer\", \"emmanuelmacron\", \"macron\", \"politique\"], \"Total\": [446.0, 242.0, 200.0, 149.0, 130.0, 149.0, 163.0, 653.0, 255.0, 118.0, 77.0, 111.0, 126.0, 92.0, 88.0, 64.0, 78.0, 69.0, 66.0, 53.0, 82.0, 53.0, 101.0, 58.0, 61.0, 53.0, 59.0, 51.0, 51.0, 39.0, 200.91389398290357, 130.94352646302053, 78.01467521306652, 149.47085900286748, 66.29270108306764, 69.29725297165281, 58.897559995632044, 53.6222395658114, 51.54318356990737, 51.6512086505566, 44.349131346292374, 49.25892793000284, 118.97096446117034, 43.097567875034684, 33.74324775859519, 32.42220614060786, 61.39601335467901, 32.402501937175984, 29.094505313993682, 28.156660585951386, 27.371314473320123, 446.842118235576, 242.24027809598613, 21.754274493039723, 20.96012150609283, 88.0676997793262, 22.88681543943694, 21.884768823755152, 20.944224970382468, 19.893516619395793, 92.06106206337456, 111.76679133382252, 126.15371111685927, 24.0378606210793, 101.62474024916916, 653.453740491431, 48.55457530417133, 54.89140577228199, 282.31886053104245, 88.0595738213064, 255.4587205539398, 67.81659897213287, 93.595050172269, 241.59366458582798, 45.55570049695708, 38.99835456459905, 36.56542769150792, 36.90135232575466, 41.88144274689405, 24.907312357230243, 26.707542625858633, 26.704729672511906, 26.240090294709066, 27.13041322627532, 35.027067853544594, 22.27135469929349, 19.411930081972802, 22.396897239384067, 17.841150099918433, 36.32843963765181, 25.59379078306323, 17.246177798991734, 17.902523965237986, 17.902558487503935, 149.61065075015682, 19.83899083463694, 27.723430404882233, 18.326923650096507, 18.396493771735212, 17.463766898619895, 15.698482844548598, 15.30830404933973, 15.882885162605326, 14.808246268976216, 59.4285865526785, 21.619410066787957, 20.345720516201826, 163.08690430557058, 82.68611119256191, 255.4587205539398, 47.33543835177296, 66.66682402032693, 75.65039885226693, 31.713241171396565, 61.642974953645755, 58.791356613737065, 247.25480717261445, 91.8079419894386, 282.31886053104245, 98.37526390138106, 65.9716105611578, 154.3731429403332, 117.78801034730064, 653.453740491431, 79.6931206418097, 241.59366458582798, 67.57766959376906, 81.35541663442909, 71.9653918632978, 91.60164001259778, 66.28715226330168, 53.71421216443254, 77.11883799994236, 64.36613650459253, 34.98035248285872, 33.53630694292304, 31.60300812664573, 29.667914418608525, 35.807923343581486, 28.261660886118612, 39.96047987533597, 26.800528577578415, 27.798873587746392, 28.05080462613526, 24.241629469433615, 37.11645147010697, 24.77725258665305, 24.150965895644923, 24.01688308939116, 23.273014617210045, 24.88802501960314, 53.207669206996314, 20.30902735050337, 21.919790188616968, 20.382706661480036, 18.01232573507654, 19.19954667567105, 17.150351625090014, 17.742715533858828, 25.691913675243356, 15.079712435133086, 17.42587773754223, 34.969901546734775, 24.449775226784155, 20.565470448111757, 27.605954650079145, 35.720942573688475, 23.974100849073885, 46.659894702609215, 241.59366458582798, 93.595050172269, 247.25480717261445, 79.71607747227941, 43.58825340204535, 91.60164001259778, 56.88316811534989, 81.35541663442909, 154.3731429403332, 65.9479591173862, 64.36991889521907, 653.453740491431, 98.37526390138106, 71.9653918632978, 81.46378303030298, 282.31886053104245, 117.78801034730064], \"loglift\": [30.0, 29.0, 28.0, 27.0, 26.0, 25.0, 24.0, 23.0, 22.0, 21.0, 20.0, 19.0, 18.0, 17.0, 16.0, 15.0, 14.0, 13.0, 12.0, 11.0, 10.0, 9.0, 8.0, 7.0, 6.0, 5.0, 4.0, 3.0, 2.0, 1.0, 1.017, 1.0139, 1.0113, 1.0105, 1.0101, 1.01, 1.0093, 1.0081, 1.0068, 1.0062, 1.0055, 1.0033, 1.0012, 1.0007, 1.0001, 0.9993, 0.9992, 0.9985, 0.9973, 0.9949, 0.9947, 0.9912, 0.9901, 0.9891, 0.9887, 0.9881, 0.9873, 0.9869, 0.9868, 0.9853, 0.9827, 0.9745, 0.9298, 0.9812, 0.8428, 0.6119, 0.8912, 0.7776, 0.1663, 0.5656, -0.3248, 0.5157, 0.2548, -0.4909, 1.0292, 1.0259, 1.0248, 1.023, 1.0228, 1.0202, 1.0199, 1.0198, 1.0192, 1.018, 1.0176, 1.0146, 1.0124, 1.0102, 1.0095, 1.0093, 1.0092, 1.0083, 1.0078, 1.0076, 1.0075, 1.0069, 1.0069, 1.0065, 1.0055, 1.005, 1.0042, 1.0033, 1.0029, 1.0006, 0.9997, 0.999, 0.9985, 0.9501, 0.9598, 0.7392, 0.9072, 0.8344, 0.8118, 0.9124, 0.7757, 0.7565, 0.4154, 0.6427, 0.2334, 0.5094, 0.6333, 0.2906, 0.384, -0.4023, 0.5037, -0.0229, 0.579, 0.3951, 0.4252, 0.1619, 0.4382, 1.2294, 1.229, 1.2269, 1.2233, 1.2228, 1.2222, 1.2205, 1.2201, 1.2199, 1.2193, 1.2175, 1.2161, 1.2159, 1.2151, 1.2148, 1.2141, 1.2132, 1.212, 1.2095, 1.2092, 1.2089, 1.2083, 1.2067, 1.2061, 1.2058, 1.2038, 1.2022, 1.2011, 1.2009, 1.1994, 1.1979, 1.1814, 1.189, 1.1933, 1.1717, 1.1159, 1.1642, 0.991, 0.4135, 0.6107, 0.0755, 0.5739, 0.8783, 0.4361, 0.7062, 0.4709, 0.0436, 0.587, 0.5711, -1.0541, 0.2415, 0.4627, 0.3528, -0.7891, -0.0632], \"logprob\": [30.0, 29.0, 28.0, 27.0, 26.0, 25.0, 24.0, 23.0, 22.0, 21.0, 20.0, 19.0, 18.0, 17.0, 16.0, 15.0, 14.0, 13.0, 12.0, 11.0, 10.0, 9.0, 8.0, 7.0, 6.0, 5.0, 4.0, 3.0, 2.0, 1.0, -3.5522, -3.9834, -4.5038, -3.8545, -4.6679, -4.6236, -4.787, -4.882, -4.9228, -4.9213, -5.0745, -4.9717, -4.092, -5.1079, -5.3532, -5.3939, -4.7555, -5.3954, -5.5042, -5.5393, -5.5678, -2.7786, -3.3921, -5.8031, -5.8408, -4.4058, -5.7542, -5.7993, -5.8433, -5.8964, -4.3669, -4.1811, -4.1048, -5.7112, -4.408, -2.7779, -5.0982, -5.0891, -4.0627, -4.8285, -4.6538, -5.1395, -5.0783, -4.8757, -5.0239, -5.1827, -5.2482, -5.2408, -5.1144, -5.6367, -5.5672, -5.5674, -5.5855, -5.5534, -5.2984, -5.7541, -5.8937, -5.7529, -5.981, -5.2702, -5.6205, -6.0162, -5.9793, -5.9795, -3.8565, -5.8775, -5.5429, -5.9571, -5.9544, -6.0069, -6.1143, -6.1404, -6.104, -6.1763, -4.7876, -5.7995, -5.8607, -3.8277, -4.4972, -3.5898, -5.1076, -4.8379, -4.7341, -5.5029, -4.975, -5.0416, -3.9462, -4.7096, -3.9956, -4.7738, -5.0495, -4.5421, -4.7192, -3.7921, -4.9902, -4.4077, -5.0798, -5.0781, -5.1707, -5.1927, -5.2399, -4.6589, -4.2977, -4.4806, -5.094, -5.1366, -5.1966, -5.2614, -5.0737, -5.3107, -4.9649, -5.3662, -5.3309, -5.3221, -5.4689, -5.0432, -5.448, -5.4745, -5.4813, -5.5152, -5.4484, -4.6889, -5.6527, -5.578, -5.6513, -5.7752, -5.7134, -5.8278, -5.795, -5.425, -5.9593, -5.8162, -5.1361, -5.4864, -5.6551, -5.3823, -5.1804, -5.5309, -5.0382, -3.9712, -4.7224, -4.2861, -4.9197, -5.2189, -4.9185, -5.1249, -5.0023, -4.7891, -5.0961, -5.1363, -4.4439, -5.0417, -5.1331, -5.1191, -5.0181, -5.1664]}, \"token.table\": {\"Topic\": [1, 2, 3, 1, 2, 3, 1, 2, 3, 3, 1, 2, 3, 1, 1, 2, 3, 1, 2, 3, 1, 1, 2, 3, 2, 1, 2, 1, 2, 2, 3, 2, 3, 1, 2, 3, 1, 3, 2, 3, 1, 2, 3, 1, 2, 3, 3, 2, 3, 2, 2, 2, 2, 2, 2, 3, 1, 2, 3, 2, 1, 2, 3, 2, 3, 2, 1, 3, 1, 2, 3, 2, 2, 3, 1, 2, 3, 3, 1, 1, 2, 3, 1, 2, 1, 2, 3, 2, 3, 1, 3, 3, 3, 1, 2, 3, 1, 2, 3, 2, 3, 1, 2, 1, 2, 3, 3, 1, 2, 1, 1, 1, 2, 3, 1, 1, 1, 1, 3, 3, 1, 1, 2, 1, 3, 3, 1, 2, 1, 3, 2, 1, 2, 3, 3, 3, 1, 2, 3, 2, 3, 1, 2, 3, 1, 1, 2, 3, 1, 2, 3, 1, 2, 1, 2, 3, 2, 1, 3, 1, 1, 3, 2, 2, 1, 1, 3, 1, 2, 3, 1, 3, 2, 1, 2, 3, 1, 3, 1, 2, 3, 1, 3, 1, 2, 3, 1, 2, 3, 1, 2, 3, 1, 3, 2, 2, 1, 2, 3, 3, 3, 1, 1, 2, 2, 1, 1, 3, 2, 3, 1, 3, 3, 1, 3, 3, 1, 3, 1, 2, 3, 3, 2, 3, 3, 1, 2, 3, 1, 2, 2, 3, 2, 3, 1, 1, 1, 2, 1, 3], \"Freq\": [0.9712602780456663, 0.026855122895271876, 0.002237926907939323, 0.9701111716313452, 0.008256265290479533, 0.020640663226198834, 0.9667496551227344, 0.032587067026609025, 0.9580383671238505, 0.988269048006864, 0.16307877171353094, 0.3261575434270619, 0.5143253569426744, 0.9541929417816717, 0.2267233751503515, 0.466402371737866, 0.3044571037733292, 0.04090017150360235, 0.04090017150360235, 0.9407039445828541, 0.9873921895039802, 0.1087464474111666, 0.3728449625525712, 0.5126618235097854, 0.9787795401985634, 0.036070572270302276, 0.9739054512981614, 0.03907197681172549, 0.9767994202931372, 0.9736103049476922, 0.95234286278163, 0.9713493538965939, 0.04625473113793304, 0.17999957514612008, 0.8099980881575404, 0.014999964595510007, 0.9772621497976689, 0.016287702496627813, 0.01879428313444163, 0.958508439856523, 0.9869778713152075, 0.07244813756130206, 0.9418257882969268, 0.6359331253821098, 0.3179665626910549, 0.05677974333768838, 0.9329254787168846, 0.9635724503624791, 0.971262375605804, 0.979860339306951, 0.9878017352187527, 0.9744000849331907, 0.9734440512569745, 0.9444127969467416, 0.9735077601196608, 0.9375221354996328, 0.2193766135832231, 0.34355205523410415, 0.43461404577808355, 0.9577100044236048, 0.01229174456193254, 0.5162532716011667, 0.4670862933534366, 0.9789538590582718, 0.023876923391665167, 0.9495867751949137, 0.9955847162917547, 0.928399666785585, 0.017579892842328356, 0.40433753537355216, 0.5801364637968357, 0.9555063472397174, 0.03892275260770461, 0.9730688151926152, 0.22095708461396082, 0.36826180768993466, 0.4050879884589282, 0.9437981663242313, 0.9779734374144271, 0.027994781994822988, 0.11197912797929195, 0.8678382418395125, 0.033653837589207446, 0.9591343712924122, 0.157732019231372, 0.5298178081874291, 0.3114196277132217, 0.793122057653263, 0.19828051441331576, 0.057192039769604235, 0.94366865619847, 0.9643191848728984, 0.9576596561008226, 0.14191885645510427, 0.4148397342533817, 0.447590239589175, 0.26227329352748807, 0.7359310325845934, 0.003914526769066986, 0.9755740028767028, 0.02709927785768619, 0.02854934943973063, 0.9706778809508413, 0.9653275270898575, 0.9528533701466768, 0.9625392340740125, 0.9774869777098456, 0.9651665731362006, 0.02270980172085178, 0.974532950949409, 0.9869937904593548, 0.6641633111987538, 0.23414052215071277, 0.10100179386893492, 0.9894615828459518, 0.9864341745924531, 0.9549171682543656, 0.04862519447454781, 0.9725038894909561, 0.980919280714379, 0.9612521260642998, 0.027526643312353334, 0.9634325159323667, 0.9595714795582045, 0.9581396921772495, 0.977437302469921, 0.9834332312081607, 0.016810824465096765, 0.9957104652939937, 0.9686303966133946, 0.949584944066295, 0.021125821051207076, 0.8661586630994902, 0.12675492630724247, 0.9755606148535795, 0.9719741965625098, 0.014797787582959271, 0.6215070784842893, 0.3551469019910225, 0.6669535520769284, 0.3334767760384642, 0.4250513046640941, 0.4427617756917646, 0.13105748560476232, 0.9744426445538608, 0.9115863416294799, 0.015853675506599652, 0.07134153977969843, 0.9954513151639909, 0.015536119678841527, 0.9787755397670161, 0.9568239188403822, 0.9845365492158803, 0.11355714102481029, 0.762455089738012, 0.12977958974264034, 0.9857256603833617, 0.9927944016133781, 0.0076368800124106, 0.9883958676316063, 0.2982454901345045, 0.6882588233873181, 0.9784473184588905, 0.9908502489125398, 0.9623810302948421, 0.9573505575588622, 0.044736007362563654, 0.2426155443494511, 0.2274520728276104, 0.5155580317425835, 0.026942230746529874, 0.9699203068750755, 0.9454191769710422, 0.01700930302680483, 0.7484093331794125, 0.23813024237526761, 0.8856014027643213, 0.12357228875781227, 0.0919755026552898, 0.9074916261988593, 0.00613170017701932, 0.47011033082427506, 0.5342162850275853, 0.21224571097081044, 0.5178795347687775, 0.2716745100426374, 0.38899217084663085, 0.5772141889982264, 0.025096269086879407, 0.020052048333175608, 0.9624983199924292, 0.013368032222117071, 0.01296700035859912, 0.9854920272535331, 0.9583340947722634, 0.9822789185867166, 0.9550850341600925, 0.5419271540142884, 0.45855374570439783, 0.9701301198123329, 0.9812239528421763, 0.9589205338317537, 0.3267691155025688, 0.6644305348552233, 0.9821615642462294, 0.9875780599301751, 0.9901595601130567, 0.006690267298061194, 0.9878159769373124, 0.98478374443197, 0.8364105019269156, 0.15744197683330174, 0.9840081693003405, 0.041711679044623265, 0.9176569389817119, 0.9907414894272143, 0.6045717511850998, 0.3833869641661608, 0.7833648891847713, 0.12752451684403254, 0.09108894060288039, 0.9867034787321062, 0.02502472450580381, 0.9759642557263486, 0.9900324576061075, 0.050825784874258484, 0.5794139475665467, 0.3659456510946611, 0.049150385173318094, 0.9338573182930437, 0.8829119625039876, 0.1261302803577125, 0.919138642558832, 0.08465750655147138, 0.992127662127895, 0.9847606590884477, 0.4525763888730033, 0.5430916666476039, 0.2143168145521083, 0.7715405323875899], \"Term\": [\"acte\", \"acte\", \"acte\", \"actexix\", \"actexix\", \"actexix\", \"actexx\", \"actexx\", \"aider\", \"aimer\", \"ais\", \"ais\", \"ais\", \"algerie\", \"aller\", \"aller\", \"aller\", \"amp\", \"amp\", \"amp\", \"antifa\", \"armer\", \"armer\", \"armer\", \"asselineau\", \"attac\", \"attac\", \"balancetonpost\", \"balancetonpost\", \"battre\", \"benjamincauchy\", \"bfm\", \"bfm\", \"bfmtv\", \"bfmtv\", \"bfmtv\", \"blackbloc\", \"blackbloc\", \"bon\", \"bon\", \"bordeaux\", \"but\", \"but\", \"castaner\", \"castaner\", \"castaner\", \"causer\", \"chalecosamarillos\", \"chaos\", \"climat\", \"cnews\", \"comprendre\", \"consid\", \"corruption\", \"croire\", \"damer\", \"dan\", \"dan\", \"dan\", \"democratie\", \"devoir\", \"devoir\", \"devoir\", \"dictature\", \"dictature\", \"diffusion\", \"direct\", \"discourir\", \"droit\", \"droit\", \"droit\", \"droitsdelhomme\", \"dupontaignan\", \"dupontaignan\", \"emmanuelmacron\", \"emmanuelmacron\", \"emmanuelmacron\", \"ennes\", \"euro\", \"europ\", \"europ\", \"europ\", \"europeennes\", \"europeennes\", \"faire\", \"faire\", \"faire\", \"falloir\", \"falloir\", \"fdo\", \"fdo\", \"feu\", \"flic\", \"fran\", \"fran\", \"fran\", \"france\", \"france\", \"france\", \"franceinsoumise\", \"franceinsoumise\", \"frexit\", \"frexit\", \"garibaldi\", \"gelbewesten\", \"gendarmerie\", \"gie\", \"gilet\", \"gilet\", \"giletjaunes\", \"gilets\", \"giletsjaunes\", \"giletsjaunes\", \"giletsjaunes\", \"giletsjaunesparis\", \"gilletsjaunes\", \"gjnice\", \"homme\", \"homme\", \"incomp\", \"info\", \"int\", \"int\", \"interdire\", \"interpeller\", \"jamais\", \"jaune\", \"jaune\", \"jaunes\", \"journaliste\", \"kelly\", \"lci\", \"lci\", \"lci\", \"lection\", \"liste\", \"lrem\", \"lrem\", \"lrem\", \"luire\", \"luire\", \"macron\", \"macron\", \"macron\", \"manifestant\", \"manifestation\", \"manifestation\", \"manifestation\", \"mars\", \"mettre\", \"mettre\", \"million\", \"mois\", \"mouvement\", \"mouvement\", \"mouvement\", \"nathalieloiseau\", \"nice\", \"nice\", \"noborder\", \"ordre\", \"ordre\", \"oublier\", \"oui\", \"pari\", \"paris\", \"paris\", \"partir\", \"partir\", \"partir\", \"passer\", \"passer\", \"pauvre\", \"peupler\", \"peupler\", \"peupler\", \"place\", \"place\", \"plaire\", \"plaire\", \"plaire\", \"policier\", \"policier\", \"politique\", \"politique\", \"politique\", \"porter\", \"porter\", \"porter\", \"pouvoir\", \"pouvoir\", \"pouvoir\", \"prendre\", \"prendre\", \"prison\", \"question\", \"referendum\", \"rer\", \"rer\", \"res\", \"responsable\", \"retraiter\", \"ric\", \"ric\", \"rieur\", \"ruer\", \"samedi\", \"samedi\", \"semaine\", \"sentir\", \"stopgiletsjaunes\", \"stopgiletsjaunes\", \"strat\", \"temps\", \"temps\", \"tence\", \"ter\", \"ter\", \"toulouse\", \"toulouse\", \"toulouse\", \"tre\", \"vid\", \"vid\", \"violencespolici\", \"voir\", \"voir\", \"voir\", \"volution\", \"volution\", \"voter\", \"voter\", \"vouloir\", \"vouloir\", \"yellowjackets\", \"yellowvest\", \"yellowvests\", \"yellowvests\", \"youtube\", \"youtube\"]}, \"R\": 30, \"lambda.step\": 0.01, \"plot.opts\": {\"xlab\": \"PC1\", \"ylab\": \"PC2\"}, \"topic.order\": [3, 2, 1]};\n",
       "\n",
       "function LDAvis_load_lib(url, callback){\n",
       "  var s = document.createElement('script');\n",
       "  s.src = url;\n",
       "  s.async = true;\n",
       "  s.onreadystatechange = s.onload = callback;\n",
       "  s.onerror = function(){console.warn(\"failed to load library \" + url);};\n",
       "  document.getElementsByTagName(\"head\")[0].appendChild(s);\n",
       "}\n",
       "\n",
       "if(typeof(LDAvis) !== \"undefined\"){\n",
       "   // already loaded: just create the visualization\n",
       "   !function(LDAvis){\n",
       "       new LDAvis(\"#\" + \"ldavis_el1501212468601716886676194771\", ldavis_el1501212468601716886676194771_data);\n",
       "   }(LDAvis);\n",
       "}else if(typeof define === \"function\" && define.amd){\n",
       "   // require.js is available: use it to load d3/LDAvis\n",
       "   require.config({paths: {d3: \"https://cdnjs.cloudflare.com/ajax/libs/d3/3.5.5/d3.min\"}});\n",
       "   require([\"d3\"], function(d3){\n",
       "      window.d3 = d3;\n",
       "      LDAvis_load_lib(\"https://cdn.rawgit.com/bmabey/pyLDAvis/files/ldavis.v1.0.0.js\", function(){\n",
       "        new LDAvis(\"#\" + \"ldavis_el1501212468601716886676194771\", ldavis_el1501212468601716886676194771_data);\n",
       "      });\n",
       "    });\n",
       "}else{\n",
       "    // require.js not available: dynamically load d3 & LDAvis\n",
       "    LDAvis_load_lib(\"https://cdnjs.cloudflare.com/ajax/libs/d3/3.5.5/d3.min.js\", function(){\n",
       "         LDAvis_load_lib(\"https://cdn.rawgit.com/bmabey/pyLDAvis/files/ldavis.v1.0.0.js\", function(){\n",
       "                 new LDAvis(\"#\" + \"ldavis_el1501212468601716886676194771\", ldavis_el1501212468601716886676194771_data);\n",
       "            })\n",
       "         });\n",
       "}\n",
       "</script>"
      ],
      "text/plain": [
       "PreparedData(topic_coordinates=                 x           y  topics  cluster       Freq\n",
       "topic                                                     \n",
       "2      -632.045471 -384.325073       1        1  36.050339\n",
       "1     -1209.665405  212.164124       2        1  35.094583\n",
       "0     -1437.453247 -586.322510       3        1  28.855078, topic_info=     Category        Freq               Term       Total  loglift  logprob\n",
       "6     Default  446.000000               acte  446.000000  30.0000  30.0000\n",
       "8     Default  242.000000            actexix  242.000000  29.0000  29.0000\n",
       "587   Default  200.000000               mars  200.000000  28.0000  28.0000\n",
       "866   Default  149.000000             samedi  149.000000  27.0000  27.0000\n",
       "657   Default  130.000000               nice  130.000000  26.0000  26.0000\n",
       "757   Default  149.000000            pouvoir  149.000000  25.0000  25.0000\n",
       "729   Default  163.000000             plaire  163.000000  24.0000  24.0000\n",
       "427   Default  653.000000       giletsjaunes  653.000000  23.0000  23.0000\n",
       "392   Default  255.000000             france  255.000000  22.0000  22.0000\n",
       "494   Default  118.000000              jaune  118.000000  21.0000  21.0000\n",
       "759   Default   77.000000            prendre   77.000000  20.0000  20.0000\n",
       "699   Default  111.000000              paris  111.000000  19.0000  19.0000\n",
       "574   Default  126.000000      manifestation  126.000000  18.0000  18.0000\n",
       "10    Default   92.000000             actexx   92.000000  17.0000  17.0000\n",
       "423   Default   88.000000              gilet   88.000000  16.0000  16.0000\n",
       "611   Default   64.000000             mettre   64.000000  15.0000  15.0000\n",
       "425   Default   78.000000             gilets   78.000000  14.0000  14.0000\n",
       "495   Default   69.000000             jaunes   69.000000  13.0000  13.0000\n",
       "280   Default   66.000000             direct   66.000000  12.0000  12.0000\n",
       "957   Default   53.000000                tre   53.000000  11.0000  11.0000\n",
       "1011  Default   82.000000            vouloir   82.000000  10.0000  10.0000\n",
       "116   Default   53.000000                bon   53.000000   9.0000   9.0000\n",
       "908   Default  101.000000   stopgiletsjaunes  101.000000   8.0000   8.0000\n",
       "1021  Default   58.000000         yellowvest   58.000000   7.0000   7.0000\n",
       "108   Default   61.000000          blackbloc   61.000000   6.0000   6.0000\n",
       "661   Default   53.000000           noborder   53.000000   5.0000   5.0000\n",
       "346   Default   59.000000        europeennes   59.000000   4.0000   4.0000\n",
       "430   Default   51.000000  giletsjaunesparis   51.000000   3.0000   3.0000\n",
       "53    Default   51.000000             antifa   51.000000   2.0000   2.0000\n",
       "987   Default   39.000000                vid   39.000000   1.0000   1.0000\n",
       "...       ...         ...                ...         ...      ...      ...\n",
       "252    Topic3   18.463287              damer   19.199547   1.2038  -5.7134\n",
       "152    Topic3   16.467290             causer   17.150352   1.2022  -5.8278\n",
       "490    Topic3   17.016962        interpeller   17.742716   1.2011  -5.7950\n",
       "297    Topic3   24.635913       dupontaignan   25.691914   1.2009  -5.4250\n",
       "282    Topic3   14.437480          discourir   15.079712   1.1994  -5.9593\n",
       "521    Topic3   16.659302            lection   17.425878   1.1979  -5.8162\n",
       "360    Topic3   32.885875                fdo   34.969902   1.1814  -5.1361\n",
       "44     Topic3   23.168245                amp   24.449775   1.1890  -5.4864\n",
       "459    Topic3   19.571220              homme   20.565470   1.1933  -5.6551\n",
       "134    Topic3   25.709721                but   27.605955   1.1717  -5.3823\n",
       "344    Topic3   31.461838              europ   35.720943   1.1159  -5.1804\n",
       "930    Topic3   22.159618              temps   23.974101   1.1642  -5.5309\n",
       "1023   Topic3   36.269577            youtube   46.659895   0.9910  -5.0382\n",
       "253    Topic3  105.416459                dan  241.593665   0.4135  -3.9712\n",
       "742    Topic3   49.740083           policier   93.595050   0.6107  -4.7224\n",
       "353    Topic3   76.939308              faire  247.254807   0.0755  -4.2861\n",
       "31     Topic3   40.830886                ais   79.716077   0.5739  -4.9197\n",
       "682    Topic3   30.272570              ordre   43.588253   0.8783  -5.2189\n",
       "390    Topic3   40.880156               fran   91.601640   0.4361  -4.9185\n",
       "293    Topic3   33.257006              droit   56.883168   0.7062  -5.1249\n",
       "269    Topic3   37.594172             devoir   81.355417   0.4709  -5.0023\n",
       "39     Topic3   46.528454              aller  154.373143   0.0436  -4.7891\n",
       "704    Topic3   34.227356             partir   65.947959   0.5870  -5.0961\n",
       "61     Topic3   32.880394              armer   64.369919   0.5711  -5.1363\n",
       "427    Topic3   65.709986       giletsjaunes  653.453740  -1.0541  -4.4439\n",
       "1004   Topic3   36.141485               voir   98.375264   0.2415  -5.0417\n",
       "820    Topic3   32.984482                rer   71.965392   0.4627  -5.1331\n",
       "313    Topic3   33.449194     emmanuelmacron   81.463783   0.3528  -5.1191\n",
       "556    Topic3   37.004911             macron  282.318861  -0.7891  -5.0181\n",
       "743    Topic3   31.905922          politique  117.788010  -0.0632  -5.1664\n",
       "\n",
       "[186 rows x 6 columns], token_table=      Topic      Freq              Term\n",
       "term                                   \n",
       "6         1  0.971260              acte\n",
       "6         2  0.026855              acte\n",
       "6         3  0.002238              acte\n",
       "8         1  0.970111           actexix\n",
       "8         2  0.008256           actexix\n",
       "8         3  0.020641           actexix\n",
       "10        1  0.966750            actexx\n",
       "10        2  0.032587            actexx\n",
       "26        3  0.958038             aider\n",
       "28        3  0.988269             aimer\n",
       "31        1  0.163079               ais\n",
       "31        2  0.326158               ais\n",
       "31        3  0.514325               ais\n",
       "36        1  0.954193           algerie\n",
       "39        1  0.226723             aller\n",
       "39        2  0.466402             aller\n",
       "39        3  0.304457             aller\n",
       "44        1  0.040900               amp\n",
       "44        2  0.040900               amp\n",
       "44        3  0.940704               amp\n",
       "53        1  0.987392            antifa\n",
       "61        1  0.108746             armer\n",
       "61        2  0.372845             armer\n",
       "61        3  0.512662             armer\n",
       "67        2  0.978780        asselineau\n",
       "72        1  0.036071             attac\n",
       "72        2  0.973905             attac\n",
       "89        1  0.039072    balancetonpost\n",
       "89        2  0.976799    balancetonpost\n",
       "94        2  0.973610            battre\n",
       "...     ...       ...               ...\n",
       "908       1  0.836411  stopgiletsjaunes\n",
       "908       3  0.157442  stopgiletsjaunes\n",
       "909       3  0.984008             strat\n",
       "930       1  0.041712             temps\n",
       "930       3  0.917657             temps\n",
       "931       3  0.990741             tence\n",
       "935       1  0.604572               ter\n",
       "935       3  0.383387               ter\n",
       "949       1  0.783365          toulouse\n",
       "949       2  0.127525          toulouse\n",
       "949       3  0.091089          toulouse\n",
       "957       3  0.986703               tre\n",
       "987       2  0.025025               vid\n",
       "987       3  0.975964               vid\n",
       "995       3  0.990032   violencespolici\n",
       "1004      1  0.050826              voir\n",
       "1004      2  0.579414              voir\n",
       "1004      3  0.365946              voir\n",
       "1008      1  0.049150          volution\n",
       "1008      2  0.933857          volution\n",
       "1010      2  0.882912             voter\n",
       "1010      3  0.126130             voter\n",
       "1011      2  0.919139           vouloir\n",
       "1011      3  0.084658           vouloir\n",
       "1020      1  0.992128     yellowjackets\n",
       "1021      1  0.984761        yellowvest\n",
       "1022      1  0.452576       yellowvests\n",
       "1022      2  0.543092       yellowvests\n",
       "1023      1  0.214317           youtube\n",
       "1023      3  0.771541           youtube\n",
       "\n",
       "[240 rows x 3 columns], R=30, lambda_step=0.01, plot_opts={'xlab': 'PC1', 'ylab': 'PC2'}, topic_order=[3, 2, 1])"
      ]
     },
     "execution_count": 250,
     "metadata": {},
     "output_type": "execute_result"
    }
   ],
   "source": [
    "pyLDAvis.enable_notebook()\n",
    "dash = pyLDAvis.sklearn.prepare(lda, data_vectorized, vectorizer, mds='tsne')\n",
    "dash"
   ]
  },
  {
   "cell_type": "code",
   "execution_count": null,
   "metadata": {},
   "outputs": [],
   "source": []
  },
  {
   "cell_type": "code",
   "execution_count": null,
   "metadata": {},
   "outputs": [],
   "source": [
    "db_init()"
   ]
  },
  {
   "cell_type": "code",
   "execution_count": null,
   "metadata": {},
   "outputs": [],
   "source": []
  }
 ],
 "metadata": {
  "jupytext": {
   "formats": "ipynb,py:light"
  },
  "kernelspec": {
   "display_name": "Python 3",
   "language": "python",
   "name": "python3"
  },
  "language_info": {
   "codemirror_mode": {
    "name": "ipython",
    "version": 3
   },
   "file_extension": ".py",
   "mimetype": "text/x-python",
   "name": "python",
   "nbconvert_exporter": "python",
   "pygments_lexer": "ipython3",
   "version": "3.6.7"
  }
 },
 "nbformat": 4,
 "nbformat_minor": 2
}
