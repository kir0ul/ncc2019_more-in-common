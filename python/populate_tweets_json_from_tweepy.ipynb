{
 "cells": [
  {
   "cell_type": "code",
   "execution_count": 1,
   "metadata": {},
   "outputs": [],
   "source": [
    "import tweepy"
   ]
  },
  {
   "cell_type": "code",
   "execution_count": 147,
   "metadata": {},
   "outputs": [],
   "source": [
    "import urllib3\n",
    "import urllib3.request\n",
    "\n",
    "import csv\n",
    "import json\n",
    "from pandas.io.json import json_normalize\n",
    "\n",
    "import pandas as pd\n",
    "pd.options.display.max_colwidth = 1000\n",
    "import numpy as np\n",
    "\n",
    "import nbimporter\n",
    "import utility_functions as uf"
   ]
  },
  {
   "cell_type": "code",
   "execution_count": 148,
   "metadata": {
    "lines_to_next_cell": 2
   },
   "outputs": [
    {
     "name": "stdout",
     "output_type": "stream",
     "text": [
      "Importing Jupyter notebook from utility_functions.ipynb\n"
     ]
    },
    {
     "data": {
      "text/plain": [
       "<module 'utility_functions' from 'utility_functions.ipynb'>"
      ]
     },
     "execution_count": 148,
     "metadata": {},
     "output_type": "execute_result"
    }
   ],
   "source": [
    "from importlib import reload\n",
    "reload(uf)"
   ]
  },
  {
   "cell_type": "code",
   "execution_count": 124,
   "metadata": {},
   "outputs": [],
   "source": [
    "####input your credentials here\n",
    "consumer_key = '4ha4rLgP6Ci6fEZtaqttGTKoA'\n",
    "consumer_secret = '5ckLaCgfTdfmWM7qS9f2w05pDCSIWRCTHlm7RLnKwK9tCWIz9P'\n",
    "access_token = '602145669-jHmxtsl0wSZDFeZxi81GcTzYrD87dRBhF78ip0qo'\n",
    "access_token_secret = 'YFLMmVVdcN4gb4KDX3MeOjbjxoKnnsFvjKxjRGMkkEZ5D'"
   ]
  },
  {
   "cell_type": "code",
   "execution_count": 185,
   "metadata": {},
   "outputs": [],
   "source": [
    "#define inputs here\n",
    "input_hashtag = \"#giletjaune\"\n",
    "language = \"fr\"\n",
    "since_date = \"2018-03-07\"\n",
    "#n_tweets = 1"
   ]
  },
  {
   "cell_type": "code",
   "execution_count": 151,
   "metadata": {
    "lines_to_next_cell": 2
   },
   "outputs": [],
   "source": [
    "uf.db_init()\n",
    "rt = 0"
   ]
  },
  {
   "cell_type": "code",
   "execution_count": 186,
   "metadata": {},
   "outputs": [],
   "source": [
    "from twarc import Twarc\n",
    "t = Twarc(consumer_key, consumer_secret, access_token, access_token_secret,tweet_mode= 'extended')\n",
    "for tweet in t.search(input_hashtag, lang=language):\n",
    "    with open('tweets_twarc/tweet'+str(tweet['id'])+'.json', 'w', encoding='utf8') as file:\n",
    "        ####you need to create a 'tweets_twarc' folder\n",
    "       \n",
    "        json.dump(tweet, file)\n",
    "    "
   ]
  },
  {
   "cell_type": "code",
   "execution_count": 187,
   "metadata": {},
   "outputs": [],
   "source": [
    "## this cell will be deprecated when switching to utility function\n",
    "rt = 0\n",
    "#databases initialisations\n",
    "def db_init():\n",
    "    global df_users\n",
    "    global df_tweets\n",
    "    global df_hashtags\n",
    "    global df_users_mentions\n",
    "    global df_retweet_users\n",
    "    \n",
    "    #initialisation of databases, df files\n",
    "\n",
    "    d_users = {'user_id': [],\n",
    "               'name':[],\n",
    "               'screen_name':[],\n",
    "               'location':[],\n",
    "               'description':[],\n",
    "               'url':[],\n",
    "               'followers_count':[],\n",
    "               'friends_count':[],\n",
    "               'listed_count':[],\n",
    "               'created_at':[],\n",
    "               'favourites_count':[],\n",
    "               'geo_enabled':[],\n",
    "               'verified':[],\n",
    "               'statuses_count':[],\n",
    "               'lang':[],\n",
    "               'contributors_enabled':[]\n",
    "              }\n",
    "    df_users = pd.DataFrame(data=d_users)\n",
    "\n",
    "    d_tweets = {'tweet_id': [],\n",
    "                'created_at': [],\n",
    "                'text': [],\n",
    "                'truncated': [],\n",
    "                'source': [],\n",
    "                'in_reply_to_status_id': [],\n",
    "                'in_reply_to_user_id': [],\n",
    "                'in_reply_to_screen_name': [],\n",
    "                'user_id': [],\n",
    "                'geo': [],\n",
    "                'coordinates': [],\n",
    "                'place': [],\n",
    "                'contributors': [],\n",
    "                'is_quote_status': [],\n",
    "                'retweet_count': [],\n",
    "                'favorite_count': [],\n",
    "                'favorited': [],\n",
    "                'retweeted': [],\n",
    "                'lang': []         \n",
    "               }\n",
    "    df_tweets = pd.DataFrame(data=d_tweets)\n",
    "\n",
    "\n",
    "    d_hashtags={'hashtag': [], 'tweet_id': []}\n",
    "    df_hashtags = pd.DataFrame(data=d_hashtags)\n",
    "\n",
    "    d_users_mentions = {'tweet_id':[], 'user_id': [], 'screen_name':[], 'name':[]}\n",
    "    df_users_mentions = pd.DataFrame(data=d_users_mentions)\n",
    "\n",
    "    d_retweet_users = {'user_id':[], 'original_user_id':[], 'original_tweet_id':[]}\n",
    "    df_retweet_users= pd.DataFrame(data=d_retweet_users)\n",
    "\n",
    "\n",
    "# store all hashtags related to a tweet\n",
    "def store_hashtag(tweet):\n",
    "    global df_hashtags\n",
    "    for raw_hash in tweet['entities']['hashtags']:\n",
    "            df_hashtags = df_hashtags.append({'hashtag': raw_hash['text'] ,'tweet_id':tweet['id_str']}, ignore_index=True)\n",
    "\n",
    "#store all user mentions contained in the tweet\n",
    "def store_user_mentions(tweet):\n",
    "    global df_users_mentions\n",
    "    tweet_id = tweet['id_str']\n",
    "    for raw_mention in tweet['entities']['user_mentions']:\n",
    "        screen_name = raw_mention['screen_name']\n",
    "        name = raw_mention['name']\n",
    "        user_id = raw_mention['id_str']\n",
    "        df_users_mentions = df_users_mentions.append({'tweet_id':tweet_id, 'user_id': user_id, 'screen_name':screen_name, 'name':name},ignore_index=True)\n",
    "\n",
    "#store the author of the tweet        \n",
    "def store_user(tweet):\n",
    "    global df_users\n",
    "    user = tweet['user']\n",
    "    if user['id_str'] not in df_users['user_id'].values:\n",
    "        \n",
    "        d_user = {'user_id': user['id_str'],\n",
    "                  'name':user['name'],\n",
    "                  'screen_name':user['screen_name'],\n",
    "                  'location':user['location'],\n",
    "                  'description':user['description'],\n",
    "                  'url':user['url'],\n",
    "                  'followers_count':user['followers_count'],\n",
    "                  'friends_count':user['friends_count'],\n",
    "                  'listed_count':user['listed_count'],\n",
    "                  'created_at':user['created_at'],\n",
    "                  'favourites_count':user['favourites_count'],\n",
    "                  'geo_enabled':user['geo_enabled'],\n",
    "                  'verified':user['verified'],\n",
    "                  'statuses_count':user['statuses_count'],\n",
    "                  'lang':user['lang'],\n",
    "                  'contributors_enabled':user['contributors_enabled']\n",
    "                 }\n",
    "        df_users = df_users.append(d_user,ignore_index=True)\n",
    "\n",
    "#store the content of the tweet\n",
    "def store_tweet(tweet):\n",
    "    global df_tweets\n",
    "    text = re.sub(r\"http\\S+\", \"\", tweet['full_text']) ## Removes URLs from full text\n",
    "    df_tweets = df_tweets.append({'tweet_id':  tweet['id_str'],\n",
    "            'created_at': tweet['created_at'],\n",
    "            'text': text,\n",
    "            'truncated': tweet['truncated'],\n",
    "            'source': tweet['source'],\n",
    "            'in_reply_to_status_id': tweet['in_reply_to_status_id_str'],\n",
    "            'in_reply_to_user_id': tweet['in_reply_to_user_id_str'],\n",
    "            'in_reply_to_screen_name': tweet['in_reply_to_screen_name'],\n",
    "            'user_id': tweet['user']['id_str'],\n",
    "            'geo': tweet['geo'],\n",
    "            'coordinates': tweet['coordinates'],\n",
    "            'place': tweet['place'],\n",
    "            'contributors': tweet['contributors'],\n",
    "            'is_quote_status': tweet['is_quote_status'],\n",
    "            'retweet_count': tweet['retweet_count'],\n",
    "            'favorite_count': tweet['favorite_count'],\n",
    "            'favorited': tweet['favorited'],\n",
    "            'retweeted': tweet['retweeted'],\n",
    "            'lang': tweet['lang'] },ignore_index=True)\n",
    "\n",
    "#called when the tweet is a retweet: store the original author of the tweet as well as the user who retweeted it,\n",
    "# and the original id of the tweet\n",
    "def store_retweet_user(tweet):\n",
    "    global df_retweet_users\n",
    "    if is_a_retweet(tweet):\n",
    "        df_retweet_users = df_retweet_users.append({'user_id':tweet['user']['id_str'],\n",
    "                                                    'original_user_id':tweet['retweeted_status']['user']['id_str'],\n",
    "                                                    'original_tweet_id':tweet['retweeted_status']['id_str']}, ignore_index=True)\n",
    "##Never used\n",
    "##T0D0: proper encapsulation\n",
    "def store_influent_users(n):\n",
    "    #n is the number of influent users return\n",
    "    df_favorite_count = df_tweets.groupby(['user_id'])['favorite_count'].agg('sum').sort_values(ascending=False).head()\n",
    "    for i in range(n):\n",
    "        d_influent_users = {'user_id':df_favorite_count[0], \n",
    "                            'name':[],\n",
    "                            'retweet_count':[],\n",
    "                            'favorite_count':[], \n",
    "                            'description':[] \n",
    "                           }\n",
    "        \n",
    "        \n",
    "def is_a_retweet(tweet):\n",
    "    #### returns a true if the tweet is a retweet, false if it's an original tweets \n",
    "    global rt\n",
    "    rt += 1\n",
    "    return tweet.get('retweeted_status',None) != None\n",
    "\n",
    "def process_json_tweet(tweet):\n",
    "    tweet = json.load(tweet)\n",
    "    \n",
    "    if is_a_retweet(tweet):\n",
    "        store_retweet_user(tweet)\n",
    "        \n",
    "    else:  #store tweets only when they are original tweets\n",
    "        store_tweet(tweet)\n",
    "        store_user(tweet)\n",
    "        store_hashtag(tweet)\n",
    "        store_user_mentions(tweet)\n",
    "    "
   ]
  },
  {
   "cell_type": "code",
   "execution_count": 189,
   "metadata": {},
   "outputs": [],
   "source": [
    "db_init()"
   ]
  },
  {
   "cell_type": "code",
   "execution_count": 192,
   "metadata": {},
   "outputs": [],
   "source": [
    "#### loading the databases\n",
    "t= 0\n",
    "import warnings\n",
    "warnings.simplefilter(action='ignore', category=FutureWarning) #https://stackoverflow.com/questions/40659212/futurewarning-elementwise-comparison-failed-returning-scalar-but-in-the-futur\n",
    "import os\n",
    "\n",
    "path_to_json = 'tweets_twarc/'\n",
    "json_files = [pos_json for pos_json in os.listdir(path_to_json) if pos_json.endswith('.json')]\n",
    "for json_file in json_files:\n",
    "    \n",
    "    with open(path_to_json+json_file) as tweet:\n",
    "        t+=1\n",
    "        process_json_tweet(tweet)\n",
    "        \n",
    "        \n",
    "        "
   ]
  },
  {
   "cell_type": "code",
   "execution_count": 193,
   "metadata": {
    "lines_to_next_cell": 2
   },
   "outputs": [
    {
     "name": "stdout",
     "output_type": "stream",
     "text": [
      "22158\n",
      "12080\n"
     ]
    }
   ],
   "source": [
    "df_tweets.head(10);\n",
    "print(rt)\n",
    "print(t)"
   ]
  },
  {
   "cell_type": "code",
   "execution_count": 194,
   "metadata": {},
   "outputs": [
    {
     "data": {
      "text/plain": [
       "'[ #GiletsJaunes #ActeXVIII ] \\n\\n⚡️Plusieurs centaines de #GiletsJaunes défilent dans les rues de #Paris ❗️\\n\\n📢🗣«\\xa0#Macron démission / #Castaner en prison !\\xa0»\\n\\n#giletjaune #Acte18bis #EmmanuelMacron #acteXVIIIbis #manifestations #manifestation #Greve19mars #France #politique \\n\\n⬇️📹 '"
      ]
     },
     "execution_count": 194,
     "metadata": {},
     "output_type": "execute_result"
    }
   ],
   "source": [
    "#tweet example\n",
    "df_tweets['text'].iloc[0]"
   ]
  },
  {
   "cell_type": "code",
   "execution_count": 195,
   "metadata": {
    "scrolled": false
   },
   "outputs": [
    {
     "name": "stdout",
     "output_type": "stream",
     "text": [
      "2019-03-19 18:25:03+00:00\n",
      "2019-03-29 14:29:31+00:00\n",
      "2002\n"
     ]
    }
   ],
   "source": [
    "d = pd.to_datetime(df_tweets['created_at'])\n",
    "print(d.min())\n",
    "print(d.max())\n",
    "print(len(df_tweets.index)) "
   ]
  },
  {
   "cell_type": "code",
   "execution_count": 196,
   "metadata": {
    "lines_to_next_cell": 2
   },
   "outputs": [
    {
     "name": "stdout",
     "output_type": "stream",
     "text": [
      "False\n",
      "False\n"
     ]
    }
   ],
   "source": [
    "#primary keys are ok if both return false\n",
    "print(df_tweets.duplicated('tweet_id').any())\n",
    "print(df_users.duplicated('user_id').any())"
   ]
  },
  {
   "cell_type": "markdown",
   "metadata": {},
   "source": [
    "# Aggregations\n"
   ]
  },
  {
   "cell_type": "markdown",
   "metadata": {},
   "source": [
    "## Top users"
   ]
  },
  {
   "cell_type": "code",
   "execution_count": 197,
   "metadata": {
    "lines_to_end_of_cell_marker": 2,
    "scrolled": true
   },
   "outputs": [],
   "source": [
    "df_most_favorited_users = df_tweets.groupby(['user_id'])['favorite_count'].agg('sum').sort_values(ascending=False).reset_index().head(15)\n",
    "df_most_retweeted_users = df_tweets.groupby(['user_id'])['retweet_count'].agg('sum').sort_values(ascending=False).reset_index().head(15)\n",
    "df_most_favorited_users['favorite_count'] = df_most_favorited_users['favorite_count'].astype('int32')\n",
    "df_most_retweeted_users['retweet_count'] = df_most_retweeted_users['retweet_count'].astype('int32')\n",
    "\n",
    "df_most_favorited_users['user_id'] = df_most_favorited_users['user_id'].astype(object)\n",
    "df_most_retweeted_users['user_id'] = df_most_retweeted_users['user_id'].astype(object)"
   ]
  },
  {
   "cell_type": "code",
   "execution_count": 198,
   "metadata": {},
   "outputs": [],
   "source": [
    "df_most_favorited_users_with_info = df_most_favorited_users.set_index('user_id').join(df_users.set_index('user_id')).drop_duplicates().sort_values('favorite_count',ascending=False)\n",
    "df_most_retweeted_users_with_info = df_most_retweeted_users.set_index('user_id').join(df_users.set_index('user_id')).drop_duplicates().sort_values('retweet_count',ascending=False)"
   ]
  },
  {
   "cell_type": "code",
   "execution_count": 199,
   "metadata": {},
   "outputs": [],
   "source": [
    "df_most_retweeted_users_with_info.head(15);"
   ]
  },
  {
   "cell_type": "code",
   "execution_count": 200,
   "metadata": {},
   "outputs": [],
   "source": [
    "df_most_favorited_users_with_info.head(15);"
   ]
  },
  {
   "cell_type": "code",
   "execution_count": 201,
   "metadata": {},
   "outputs": [],
   "source": [
    "df_most_retweeted_users_with_info.reset_index()\n",
    "df_most_favorited_users_with_info.reset_index();"
   ]
  },
  {
   "cell_type": "code",
   "execution_count": 202,
   "metadata": {},
   "outputs": [
    {
     "name": "stdout",
     "output_type": "stream",
     "text": [
      "user_id\n",
      "1028668294751039488     GiletsJaunesFr\n",
      "784636611183214592        FranceNews24\n",
      "1083279881209896966     LorentzMathias\n",
      "1084126493788332033         AA36514431\n",
      "435224364                    Callystor\n",
      "155606403                  LEDOUAISIEN\n",
      "338955445                    tcabarrus\n",
      "29707536                     quatremer\n",
      "4883112166                mojitobatbat\n",
      "1062458079470600194    collCartonJaune\n",
      "861352966653173760             HRyssen\n",
      "829280595230486528      Maraine_Lapine\n",
      "859534493111156736         ion_positon\n",
      "859407061230252032     Circonscripti18\n",
      "808440877865717766     GaetanEscorbiac\n",
      "Name: screen_name, dtype: object\n",
      "user_id\n",
      "1028668294751039488     GiletsJaunesFr\n",
      "29707536                     quatremer\n",
      "784636611183214592        FranceNews24\n",
      "1083279881209896966     LorentzMathias\n",
      "155606403                  LEDOUAISIEN\n",
      "338955445                    tcabarrus\n",
      "861352966653173760             HRyssen\n",
      "435224364                    Callystor\n",
      "1084126493788332033         AA36514431\n",
      "1071805600995131392    citoyensmepris1\n",
      "4883112166                mojitobatbat\n",
      "975004412                 CorsoMaltais\n",
      "414024815               EstherBenbassa\n",
      "1062458079470600194    collCartonJaune\n",
      "35287180                 morandiniblog\n",
      "Name: screen_name, dtype: object\n"
     ]
    }
   ],
   "source": [
    "print(df_most_retweeted_users_with_info['screen_name'])\n",
    "print(df_most_favorited_users_with_info['screen_name'])"
   ]
  },
  {
   "cell_type": "code",
   "execution_count": 203,
   "metadata": {},
   "outputs": [],
   "source": [
    "df_tweets_by_user = df_tweets.groupby(['user_id']).size().to_frame().reset_index()\n",
    "df_most_favorited_users_with_info = df_most_favorited_users_with_info.join(df_tweets_by_user.set_index('user_id')).drop_duplicates().sort_values('favorite_count',ascending=False)\n",
    "df_most_retweeted_users_with_info = df_most_retweeted_users_with_info.join(df_tweets_by_user.set_index('user_id')).drop_duplicates().sort_values('retweet_count',ascending=False)"
   ]
  },
  {
   "cell_type": "code",
   "execution_count": 204,
   "metadata": {},
   "outputs": [],
   "source": [
    "df_most_favorited_users_with_info;"
   ]
  },
  {
   "cell_type": "code",
   "execution_count": 205,
   "metadata": {},
   "outputs": [],
   "source": [
    "top_influencers_fav = df_most_favorited_users_with_info[['screen_name','description', 'followers_count', 'friends_count','favorite_count',0]]\n",
    "top_influencers_rt = df_most_retweeted_users_with_info[['screen_name','description', 'followers_count', 'friends_count','retweet_count',0]]\n",
    "top_influencers_fav.columns = [\"Name\",\"Description\",\"Number of followers\",\"Number of friends\",\"Number of favorites\",\"Number of tweets\"]\n",
    "top_influencers_rt.columns = [\"Name\",\"Description\",\"Number of followers\",\"Number of friends\",\"Number of retweets\",\"Number of tweets\"]\n",
    "top_influencers_fav = top_influencers_fav.reset_index().drop(columns = [\"user_id\"])\n",
    "top_influencers_rt = top_influencers_rt.reset_index().drop(columns = [\"user_id\"]);\n",
    "top_influencers_fav['Number of followers'] = top_influencers_fav['Number of followers'].astype(int)\n",
    "top_influencers_fav['Number of friends'] = top_influencers_fav['Number of friends'].astype(int)\n",
    "top_influencers_rt['Number of followers'] = top_influencers_rt['Number of followers'].astype(int)\n",
    "top_influencers_rt['Number of friends'] = top_influencers_rt['Number of friends'].astype(int)"
   ]
  },
  {
   "cell_type": "code",
   "execution_count": 206,
   "metadata": {},
   "outputs": [],
   "source": [
    "#add ratios\n",
    "top_influencers_fav.loc[:,'Like Tweet Ratio'] = top_influencers_fav.loc[:,\"Number of favorites\"]/top_influencers_fav.loc[:,\"Number of tweets\"]\n",
    "top_influencers_rt.loc[:,'Retweet Tweet Ratio'] = top_influencers_rt.loc[:,\"Number of retweets\"]/top_influencers_rt.loc[:,\"Number of tweets\"]"
   ]
  },
  {
   "cell_type": "code",
   "execution_count": 207,
   "metadata": {},
   "outputs": [
    {
     "name": "stdout",
     "output_type": "stream",
     "text": [
      "['GiletsJaunesFr' 'FranceNews24' 'LorentzMathias' 'AA36514431' 'Callystor'\n",
      " 'LEDOUAISIEN' 'tcabarrus' 'quatremer' 'mojitobatbat' 'collCartonJaune'\n",
      " 'HRyssen' 'Maraine_Lapine' 'ion_positon' 'Circonscripti18'\n",
      " 'GaetanEscorbiac']\n"
     ]
    }
   ],
   "source": [
    "top_influencers_fav_names = top_influencers_fav['Name'].values\n",
    "top_influencers_rt_names = top_influencers_rt['Name'].values\n",
    "print(top_influencers_rt_names)"
   ]
  },
  {
   "cell_type": "markdown",
   "metadata": {},
   "source": [
    "## Top hashtags for this input hashtags and by users"
   ]
  },
  {
   "cell_type": "code",
   "execution_count": 208,
   "metadata": {},
   "outputs": [],
   "source": [
    "top_influencers_fav.style.set_properties(**{'text-align': 'left'});"
   ]
  },
  {
   "cell_type": "code",
   "execution_count": 209,
   "metadata": {},
   "outputs": [],
   "source": [
    "df_tweets_hashtags = df_hashtags.set_index('tweet_id').join(df_tweets.set_index('tweet_id'))"
   ]
  },
  {
   "cell_type": "code",
   "execution_count": 210,
   "metadata": {},
   "outputs": [],
   "source": [
    "df_tw_hash_user = df_tweets_hashtags.set_index('user_id').join(df_users.drop(columns=['created_at', 'lang']).set_index('user_id'))"
   ]
  },
  {
   "cell_type": "code",
   "execution_count": 211,
   "metadata": {},
   "outputs": [],
   "source": [
    "#df_aggretated = df_tw_hash_user.groupby(['user_id','hashtag']).size().reset_index()\n",
    "df_aggretated = df_tw_hash_user.groupby(['screen_name','hashtag']).size().reset_index()"
   ]
  },
  {
   "cell_type": "code",
   "execution_count": 212,
   "metadata": {},
   "outputs": [],
   "source": [
    "df_aggretated.columns = [\"Name\", \"#\", \"Used\"]\n",
    "df_aggretated;"
   ]
  },
  {
   "cell_type": "code",
   "execution_count": 213,
   "metadata": {},
   "outputs": [],
   "source": [
    "#useful encapsulation, aint it?\n",
    "def get_tweet_by_userid(user_id):\n",
    "    df_tweets[df_tweets['user_id'] == 'user_id']\n",
    "\n",
    "def get_tweet_by_username(name):\n",
    "    df_tweets_user_info = df_tweets.set_index('user_id').join(df_users.drop(columns=['created_at', 'lang']).set_index('user_id'))\n",
    "    df_tweets_user_info = df_tweets_user_info[df_tweets_user_info['screen_name'] == name]\n",
    "    df_tweets_user_info = df_tweets_user_info[['tweet_id','text','created_at', 'favorite_count', 'retweet_count']]\n",
    "    return df_tweets_user_info\n",
    "\n",
    "def get_related_hashtags_by_username(name):\n",
    "    d_name = df_aggretated[df_aggretated['Name'] == name][['#',\"Used\"]].sort_values(\"Used\", ascending = False)\n",
    "    return d_name"
   ]
  },
  {
   "cell_type": "code",
   "execution_count": 216,
   "metadata": {
    "lines_to_next_cell": 2
   },
   "outputs": [
    {
     "data": {
      "text/html": [
       "<div>\n",
       "<style scoped>\n",
       "    .dataframe tbody tr th:only-of-type {\n",
       "        vertical-align: middle;\n",
       "    }\n",
       "\n",
       "    .dataframe tbody tr th {\n",
       "        vertical-align: top;\n",
       "    }\n",
       "\n",
       "    .dataframe thead th {\n",
       "        text-align: right;\n",
       "    }\n",
       "</style>\n",
       "<table border=\"1\" class=\"dataframe\">\n",
       "  <thead>\n",
       "    <tr style=\"text-align: right;\">\n",
       "      <th></th>\n",
       "      <th>tweet_id</th>\n",
       "      <th>text</th>\n",
       "      <th>created_at</th>\n",
       "      <th>favorite_count</th>\n",
       "      <th>retweet_count</th>\n",
       "    </tr>\n",
       "    <tr>\n",
       "      <th>user_id</th>\n",
       "      <th></th>\n",
       "      <th></th>\n",
       "      <th></th>\n",
       "      <th></th>\n",
       "      <th></th>\n",
       "    </tr>\n",
       "  </thead>\n",
       "  <tbody>\n",
       "    <tr>\n",
       "      <th>1028668294751039488</th>\n",
       "      <td>1108163259931205637</td>\n",
       "      <td>Répartition des fruits du travail ! \"Rothschild and Co\" présente ici son \"Rapport annuel 2017\". Énormes bénéfices en pourcentage par rapport aux bénéfices déjà conséquent de 2016 ... L'hémorragie est permanente ! \\n\\n#GiletJaune #GiletsJaunes #Finance #banque</td>\n",
       "      <td>Wed Mar 20 00:28:04 +0000 2019</td>\n",
       "      <td>11.0</td>\n",
       "      <td>18.0</td>\n",
       "    </tr>\n",
       "    <tr>\n",
       "      <th>1028668294751039488</th>\n",
       "      <td>1108261628309573632</td>\n",
       "      <td>Parler d'une manifestation à venir vous en rend responsable ! Y marcher vous en rend complice ! etc ... Choisir des têtes, les criminaliser pour l'exemple ... et ensuite ?\\n#GiletJaune #GiletsJaunes #YellowVests #chalecosamarillos #coletesamarelos #Gelbwesten #Europeennes2019</td>\n",
       "      <td>Wed Mar 20 06:58:57 +0000 2019</td>\n",
       "      <td>82.0</td>\n",
       "      <td>53.0</td>\n",
       "    </tr>\n",
       "    <tr>\n",
       "      <th>1028668294751039488</th>\n",
       "      <td>1108296971641597952</td>\n",
       "      <td>Acte 18 : Micro trottoir auprès des Gilets Jaunes.\\n\\n#GiletJaune #GiletsJaunes #YellowVests #chalecosamarillos #coletesamarelos #Gelbwesten #Europeennes2019 #assembleenationale #senat #Europeennes2019 #France2 #BFM #RTFrance #LCI #Cnews #CNN #CBSNews</td>\n",
       "      <td>Wed Mar 20 09:19:23 +0000 2019</td>\n",
       "      <td>21.0</td>\n",
       "      <td>12.0</td>\n",
       "    </tr>\n",
       "    <tr>\n",
       "      <th>1028668294751039488</th>\n",
       "      <td>1108313029769347072</td>\n",
       "      <td>C'est un tel privilège d'être ministre, un tel honneur de servir ce pays, que l'on peut faire un effort d'exemplarité !\\n#GiletJaune #GiletsJaunes #YellowVests #Gelbwesten #Europeennes2019 #assembleenationale #senat #Europeennes2019 #France2 #BFM #RTFrance #LCI #Cnews</td>\n",
       "      <td>Wed Mar 20 10:23:12 +0000 2019</td>\n",
       "      <td>34.0</td>\n",
       "      <td>35.0</td>\n",
       "    </tr>\n",
       "    <tr>\n",
       "      <th>1028668294751039488</th>\n",
       "      <td>1108432646458232832</td>\n",
       "      <td>Quand la castagne devient l'unique projet politique ...\\n#GiletJaune #GiletsJaunes #RIC #assembleenationale #senat\\n#France2 #BFM #RTFrance #LCI #Cnews #CNN #CBSNews\\n#YellowVests #chalecosamarillos #coletesamarelos #Gelbwesten #Europeennes2019 #ecologie #Climat</td>\n",
       "      <td>Wed Mar 20 18:18:31 +0000 2019</td>\n",
       "      <td>58.0</td>\n",
       "      <td>38.0</td>\n",
       "    </tr>\n",
       "    <tr>\n",
       "      <th>1028668294751039488</th>\n",
       "      <td>1108652526038147072</td>\n",
       "      <td>Mutilés après mutilés, les médias sont au diapason, l'omerta sur les violences d'état est totale, la non-réponse politique aux frigos vides est criante, le peuple est alors criminalisé, la répression est totale.\\n#GiletJaune #GiletsJaunes #YellowVests #Gelbwesten #Europeennes2019</td>\n",
       "      <td>Thu Mar 21 08:52:14 +0000 2019</td>\n",
       "      <td>743.0</td>\n",
       "      <td>606.0</td>\n",
       "    </tr>\n",
       "    <tr>\n",
       "      <th>1028668294751039488</th>\n",
       "      <td>1108825050071945216</td>\n",
       "      <td>Pris par le temps, mais également par l'argent, les premiers tests de l' \"Exterminator GJ\" seront menés in situ, samedi prochain, boutique du souvenir, Arc de Triomphe.\\n#GiletJaune #GiletsJaunes #Acte18 #Acte19\\n#YellowVests #chalecosamarillos #Gelbwesten #armee #Europeennes2019</td>\n",
       "      <td>Thu Mar 21 20:17:47 +0000 2019</td>\n",
       "      <td>88.0</td>\n",
       "      <td>56.0</td>\n",
       "    </tr>\n",
       "    <tr>\n",
       "      <th>1028668294751039488</th>\n",
       "      <td>1109030876665602050</td>\n",
       "      <td>Toute revendication sociale est étouffée dans l’œuf, grâce à l'action toujours incontrôlable des Black Blocs , un mouvement né en Allemagne dans les années 80, il y a plus de 35 ans ! Le 17 nov 2018 , il était simplement question de cela :\\n#GiletJaune #GiletsJaunes #RIC</td>\n",
       "      <td>Fri Mar 22 09:55:40 +0000 2019</td>\n",
       "      <td>69.0</td>\n",
       "      <td>39.0</td>\n",
       "    </tr>\n",
       "    <tr>\n",
       "      <th>1028668294751039488</th>\n",
       "      <td>1109073160639598595</td>\n",
       "      <td>Privatisons, privatisons ...\\n#GiletJaune #GiletsJaunes #RIC #assembleenationale #senat\\n#France2 #BFM #RTFrance #LCI #Cnews #CNN #CBSNews\\n#YellowVests #chalecosamarillos #coletesamarelos #Gelbwesten #Europeennes2019 #ecologie #Climat #Privatisation</td>\n",
       "      <td>Fri Mar 22 12:43:41 +0000 2019</td>\n",
       "      <td>27.0</td>\n",
       "      <td>17.0</td>\n",
       "    </tr>\n",
       "    <tr>\n",
       "      <th>1028668294751039488</th>\n",
       "      <td>1109268923814473729</td>\n",
       "      <td>🔥 Acte 18 : LE FILM – AU CŒUR D'UNE RÉVOLUTION POPULAIRE.\\nNe pas répondre à cela, en subvenant aux besoins les plus élémentaires de son peuple, est tout simplement meurtrier.\\n\\n#giletjaune #giletsjaunes  #acte18 #Macron #Elysée</td>\n",
       "      <td>Sat Mar 23 01:41:35 +0000 2019</td>\n",
       "      <td>49.0</td>\n",
       "      <td>52.0</td>\n",
       "    </tr>\n",
       "    <tr>\n",
       "      <th>1028668294751039488</th>\n",
       "      <td>1109411471547604992</td>\n",
       "      <td>Acte 19 : les Gilets jaunes ne se découragent pas malgré les interdictions  via @YouTube\\n#giletjaune #giletsjaunes #acte19</td>\n",
       "      <td>Sat Mar 23 11:08:01 +0000 2019</td>\n",
       "      <td>46.0</td>\n",
       "      <td>26.0</td>\n",
       "    </tr>\n",
       "    <tr>\n",
       "      <th>1028668294751039488</th>\n",
       "      <td>1109555127726288896</td>\n",
       "      <td>Cette après-midi les Gilets Jaunes de Berlin manifestaient aussi. On pouvait lire au bas d'un gilet : \"Salutations patriotiques à la France\"\\n\\nIls ont adopté l'étendard GJ :\\n\\n#GiletJaune #YellowVests #chalecosamarillos #Gelbewesten</td>\n",
       "      <td>Sat Mar 23 20:38:51 +0000 2019</td>\n",
       "      <td>149.0</td>\n",
       "      <td>108.0</td>\n",
       "    </tr>\n",
       "    <tr>\n",
       "      <th>1028668294751039488</th>\n",
       "      <td>1109799259900129281</td>\n",
       "      <td>Non à la violence d'un peuple qui monte au Sacré-Cœur ! 🤪\\n#GiletJaune #GiletsJaunes #assembleenationale #senat\\n#France2 #BFM #RTFrance #LCI #Cnews #CNN #CBSNews\\n#YellowVests #chalecosamarillos #Gelbewesten\\n#Europeennes2019 #ecologie #Climat #Privatisation #acte19</td>\n",
       "      <td>Sun Mar 24 12:48:57 +0000 2019</td>\n",
       "      <td>271.0</td>\n",
       "      <td>202.0</td>\n",
       "    </tr>\n",
       "    <tr>\n",
       "      <th>1028668294751039488</th>\n",
       "      <td>1109900257054416896</td>\n",
       "      <td>Quand il se manifeste , même en étant déclaré , le cancer du tabac tue encore 40 000 personnes par ans ! ... L'Etat est-il complice ?\\n#GiletJaune #GiletsJaunes #assembleenationale #senat #Europeennes2019 #ecologie #Climat #Privatisation #Sante #tabac #Cancer #securitesociale</td>\n",
       "      <td>Sun Mar 24 19:30:16 +0000 2019</td>\n",
       "      <td>21.0</td>\n",
       "      <td>17.0</td>\n",
       "    </tr>\n",
       "    <tr>\n",
       "      <th>1028668294751039488</th>\n",
       "      <td>1110159748052209664</td>\n",
       "      <td>\"Il faut avoir un comportement responsable\" avons nous entendu !\\n#GiletJaune #GiletsJaunes #RIC #assembleenationale #senat\\n#droitsdelhomme #Amnestyinternational #ViolencesPolicieres\\n#France2 #BFM #RTFrance #LCI #Cnews #CNN #CBSNews\\n#YellowVests #chalecosamarillos #Gelbewesten</td>\n",
       "      <td>Mon Mar 25 12:41:24 +0000 2019</td>\n",
       "      <td>31.0</td>\n",
       "      <td>44.0</td>\n",
       "    </tr>\n",
       "    <tr>\n",
       "      <th>1028668294751039488</th>\n",
       "      <td>1110186309249839105</td>\n",
       "      <td>Recadrage au sein de la \"médiacratie\" actuelle , à propos de la vomissure : \"les ennemis de la République\" ...\\n#GiletJaune #GiletsJaunes #RIC \\n#France2 #BFM #RTFrance #LCI #Cnews #CNN #CBSNews</td>\n",
       "      <td>Mon Mar 25 14:26:57 +0000 2019</td>\n",
       "      <td>139.0</td>\n",
       "      <td>107.0</td>\n",
       "    </tr>\n",
       "    <tr>\n",
       "      <th>1028668294751039488</th>\n",
       "      <td>1110223381012664320</td>\n",
       "      <td>Acte 19 : Vous n'avez pas peur ? 5000 manifestants, 8548 contrôles ?\\n#GiletJaune #GiletsJaunes #RIC #assembleenationale #senat\\n#droitsdelhomme #Amnestyinternational #ViolencesPolicieres\\n#France2 #BFM #RTFrance #LCI #Cnews #CNN #CBSNews\\n#YellowVests #chalecosamarillos #Gelbewesten</td>\n",
       "      <td>Mon Mar 25 16:54:15 +0000 2019</td>\n",
       "      <td>193.0</td>\n",
       "      <td>138.0</td>\n",
       "    </tr>\n",
       "    <tr>\n",
       "      <th>1028668294751039488</th>\n",
       "      <td>1110238110359740419</td>\n",
       "      <td>14 accords signés avec les Chinois !\\nCombien d'accords signé avec son propre peuple ?\\nAucun tapis rouge pour les gilets jaunes !\\n#GiletJaune #GiletsJaunes #China #Europeennes \\n#France2 #BFM #RTFrance #LCI #Cnews #CNN #CBSNews\\n#YellowVests #chalecosamarillos #Gelbewesten</td>\n",
       "      <td>Mon Mar 25 17:52:47 +0000 2019</td>\n",
       "      <td>32.0</td>\n",
       "      <td>20.0</td>\n",
       "    </tr>\n",
       "    <tr>\n",
       "      <th>1028668294751039488</th>\n",
       "      <td>1110313389648162816</td>\n",
       "      <td>Ou est l’Europe sociale ?\\n#GiletJaune #GiletsJaunes #YellowVests #chalecosamarillos #Gelbewesten #Europeennes #Europeennes2019 #social</td>\n",
       "      <td>Mon Mar 25 22:51:55 +0000 2019</td>\n",
       "      <td>11.0</td>\n",
       "      <td>13.0</td>\n",
       "    </tr>\n",
       "    <tr>\n",
       "      <th>1028668294751039488</th>\n",
       "      <td>1110448088920064001</td>\n",
       "      <td>Il y a encore des journalistes qui ont le courage de dire la vérité !\\n\\n#GiletJaune #GiletsJaunes #YellowVests #chalecosamarillos #Gelbewesten \\n#droitsdelhomme #Amnestyinternational #ViolencesPolicieres\\n#Europeennes #Europeennes2019</td>\n",
       "      <td>Tue Mar 26 07:47:10 +0000 2019</td>\n",
       "      <td>218.0</td>\n",
       "      <td>190.0</td>\n",
       "    </tr>\n",
       "    <tr>\n",
       "      <th>1028668294751039488</th>\n",
       "      <td>1110455330675277825</td>\n",
       "      <td>En marche !\\n#GiletJaune #GiletsJaunes #YellowVests #chalecosamarillos #Gelbewesten \\n#droitsdelhomme #Amnestyinternational #ViolencesPolicieres\\n#Europeennes #Europeennes2019</td>\n",
       "      <td>Tue Mar 26 08:15:56 +0000 2019</td>\n",
       "      <td>54.0</td>\n",
       "      <td>41.0</td>\n",
       "    </tr>\n",
       "    <tr>\n",
       "      <th>1028668294751039488</th>\n",
       "      <td>1110465174287409153</td>\n",
       "      <td>Comment un président de la République peut-il être destitué ?  via @lemondefr\\n#GiletJaune #GiletsJaunes #YellowVests #chalecosamarillos #Gelbewesten \\n#droitsdelhomme #Amnestyinternational #ViolencesPolicieres\\n#Europeennes #Europeennes2019</td>\n",
       "      <td>Tue Mar 26 08:55:03 +0000 2019</td>\n",
       "      <td>91.0</td>\n",
       "      <td>99.0</td>\n",
       "    </tr>\n",
       "    <tr>\n",
       "      <th>1028668294751039488</th>\n",
       "      <td>1110959459986296832</td>\n",
       "      <td>Après les béni-oui-oui sortis de nul-part pour la présidentielle , voici les béni-oui-oui sortis de nul-part pour l’Europe ...\\n#GiletJaune #GiletsJaunes #YellowVests #chalecosamarillos #Gelbewesten \\n#Europeennes #Europeennes2019</td>\n",
       "      <td>Wed Mar 27 17:39:10 +0000 2019</td>\n",
       "      <td>276.0</td>\n",
       "      <td>187.0</td>\n",
       "    </tr>\n",
       "    <tr>\n",
       "      <th>1028668294751039488</th>\n",
       "      <td>1110995825977683968</td>\n",
       "      <td>1er mai 2019 , Fête Nationale de \"L'Affaire Benalla\" , une date anniversaire a ne pas manquer ! \\n#GiletJaune #GiletsJaunes #YellowVests #chalecosamarillos #Gelbewesten \\n#Europeennes #Europeennes2019 #Benalla #affaireBenalla #gaypride</td>\n",
       "      <td>Wed Mar 27 20:03:40 +0000 2019</td>\n",
       "      <td>135.0</td>\n",
       "      <td>101.0</td>\n",
       "    </tr>\n",
       "    <tr>\n",
       "      <th>1028668294751039488</th>\n",
       "      <td>1111006324509290498</td>\n",
       "      <td>NICE : \"Hier soir à nôtre rassemblement en soutien à Geneviève blessée, le témoignage fort intéressant d'un doctorant enseignant arrêté et mis en garde à vue 24 h\"\\nVidéo : \\n#GiletJaune #GiletsJaunes #droitsdelhomme #Amnestyinternational #ViolencesPolicieres</td>\n",
       "      <td>Wed Mar 27 20:45:23 +0000 2019</td>\n",
       "      <td>280.0</td>\n",
       "      <td>329.0</td>\n",
       "    </tr>\n",
       "    <tr>\n",
       "      <th>1028668294751039488</th>\n",
       "      <td>1111192365266554880</td>\n",
       "      <td>Il y a toujours de l'argent pour tabasser le peuple !\\n\\n#GiletJaune #GiletsJaunes #YellowVests #chalecosamarillos #Gelbewesten \\n#droitsdelhomme #Amnestyinternational #ViolencesPolicieres\\n#Europeennes #Europeennes2019</td>\n",
       "      <td>Thu Mar 28 09:04:39 +0000 2019</td>\n",
       "      <td>95.0</td>\n",
       "      <td>73.0</td>\n",
       "    </tr>\n",
       "    <tr>\n",
       "      <th>1028668294751039488</th>\n",
       "      <td>1111253269312098305</td>\n",
       "      <td>21 nov. 2018 : Un automobiliste heurte une moto lors d'une manifestation de gilets jaunes motards ... Restez prudent ! 🙏\\nVidéo : \\n#GiletJaune #GiletsJaunes #securiteroutiere #motard</td>\n",
       "      <td>Thu Mar 28 13:06:40 +0000 2019</td>\n",
       "      <td>31.0</td>\n",
       "      <td>44.0</td>\n",
       "    </tr>\n",
       "    <tr>\n",
       "      <th>1028668294751039488</th>\n",
       "      <td>1111485507597467648</td>\n",
       "      <td>Un peu de quoi ? ... de sagesse ?\\nRassemblement Place de la République à Paris, en soutien à #GenevièveLegay , 73 ans !\\n\\n#GiletJaune #GiletsJaunes #YellowVests #chalecosamarillos #Gelbewesten \\n#droitsdelhomme #Amnestyinternational #ViolencesPolicieres</td>\n",
       "      <td>Fri Mar 29 04:29:30 +0000 2019</td>\n",
       "      <td>20.0</td>\n",
       "      <td>32.0</td>\n",
       "    </tr>\n",
       "    <tr>\n",
       "      <th>1028668294751039488</th>\n",
       "      <td>1111505672754118657</td>\n",
       "      <td>On est là ! ... Soutien à #GenevièveLegay\\n#GiletJaune #GiletsJaunes #YellowVests #chalecosamarillos #Gelbewesten \\n#droitsdelhomme #Amnestyinternational #ViolencesPolicieres\\n#Europeennes #Europeennes2019</td>\n",
       "      <td>Fri Mar 29 05:49:37 +0000 2019</td>\n",
       "      <td>318.0</td>\n",
       "      <td>202.0</td>\n",
       "    </tr>\n",
       "    <tr>\n",
       "      <th>1028668294751039488</th>\n",
       "      <td>1111530020617494529</td>\n",
       "      <td>Interpellation des streets medics qui voulaient porter secours à Geneviève Legay Source : \\n#GiletJaune #GiletsJaunes #YellowVests #chalecosamarillos #Gelbewesten \\n#droitsdelhomme #Amnestyinternational #ViolencesPolicieres\\n#atac #GenevieveLegay</td>\n",
       "      <td>Fri Mar 29 07:26:22 +0000 2019</td>\n",
       "      <td>58.0</td>\n",
       "      <td>72.0</td>\n",
       "    </tr>\n",
       "  </tbody>\n",
       "</table>\n",
       "</div>"
      ],
      "text/plain": [
       "                                tweet_id  \\\n",
       "user_id                                    \n",
       "1028668294751039488  1108163259931205637   \n",
       "1028668294751039488  1108261628309573632   \n",
       "1028668294751039488  1108296971641597952   \n",
       "1028668294751039488  1108313029769347072   \n",
       "1028668294751039488  1108432646458232832   \n",
       "1028668294751039488  1108652526038147072   \n",
       "1028668294751039488  1108825050071945216   \n",
       "1028668294751039488  1109030876665602050   \n",
       "1028668294751039488  1109073160639598595   \n",
       "1028668294751039488  1109268923814473729   \n",
       "1028668294751039488  1109411471547604992   \n",
       "1028668294751039488  1109555127726288896   \n",
       "1028668294751039488  1109799259900129281   \n",
       "1028668294751039488  1109900257054416896   \n",
       "1028668294751039488  1110159748052209664   \n",
       "1028668294751039488  1110186309249839105   \n",
       "1028668294751039488  1110223381012664320   \n",
       "1028668294751039488  1110238110359740419   \n",
       "1028668294751039488  1110313389648162816   \n",
       "1028668294751039488  1110448088920064001   \n",
       "1028668294751039488  1110455330675277825   \n",
       "1028668294751039488  1110465174287409153   \n",
       "1028668294751039488  1110959459986296832   \n",
       "1028668294751039488  1110995825977683968   \n",
       "1028668294751039488  1111006324509290498   \n",
       "1028668294751039488  1111192365266554880   \n",
       "1028668294751039488  1111253269312098305   \n",
       "1028668294751039488  1111485507597467648   \n",
       "1028668294751039488  1111505672754118657   \n",
       "1028668294751039488  1111530020617494529   \n",
       "\n",
       "                                                                                                                                                                                                                                                                                                              text  \\\n",
       "user_id                                                                                                                                                                                                                                                                                                              \n",
       "1028668294751039488                           Répartition des fruits du travail ! \"Rothschild and Co\" présente ici son \"Rapport annuel 2017\". Énormes bénéfices en pourcentage par rapport aux bénéfices déjà conséquent de 2016 ... L'hémorragie est permanente ! \\n\\n#GiletJaune #GiletsJaunes #Finance #banque    \n",
       "1028668294751039488          Parler d'une manifestation à venir vous en rend responsable ! Y marcher vous en rend complice ! etc ... Choisir des têtes, les criminaliser pour l'exemple ... et ensuite ?\\n#GiletJaune #GiletsJaunes #YellowVests #chalecosamarillos #coletesamarelos #Gelbwesten #Europeennes2019    \n",
       "1028668294751039488                                    Acte 18 : Micro trottoir auprès des Gilets Jaunes.\\n\\n#GiletJaune #GiletsJaunes #YellowVests #chalecosamarillos #coletesamarelos #Gelbwesten #Europeennes2019 #assembleenationale #senat #Europeennes2019 #France2 #BFM #RTFrance #LCI #Cnews #CNN #CBSNews   \n",
       "1028668294751039488                  C'est un tel privilège d'être ministre, un tel honneur de servir ce pays, que l'on peut faire un effort d'exemplarité !\\n#GiletJaune #GiletsJaunes #YellowVests #Gelbwesten #Europeennes2019 #assembleenationale #senat #Europeennes2019 #France2 #BFM #RTFrance #LCI #Cnews    \n",
       "1028668294751039488                        Quand la castagne devient l'unique projet politique ...\\n#GiletJaune #GiletsJaunes #RIC #assembleenationale #senat\\n#France2 #BFM #RTFrance #LCI #Cnews #CNN #CBSNews\\n#YellowVests #chalecosamarillos #coletesamarelos #Gelbwesten #Europeennes2019 #ecologie #Climat    \n",
       "1028668294751039488      Mutilés après mutilés, les médias sont au diapason, l'omerta sur les violences d'état est totale, la non-réponse politique aux frigos vides est criante, le peuple est alors criminalisé, la répression est totale.\\n#GiletJaune #GiletsJaunes #YellowVests #Gelbwesten #Europeennes2019    \n",
       "1028668294751039488      Pris par le temps, mais également par l'argent, les premiers tests de l' \"Exterminator GJ\" seront menés in situ, samedi prochain, boutique du souvenir, Arc de Triomphe.\\n#GiletJaune #GiletsJaunes #Acte18 #Acte19\\n#YellowVests #chalecosamarillos #Gelbwesten #armee #Europeennes2019    \n",
       "1028668294751039488               Toute revendication sociale est étouffée dans l’œuf, grâce à l'action toujours incontrôlable des Black Blocs , un mouvement né en Allemagne dans les années 80, il y a plus de 35 ans ! Le 17 nov 2018 , il était simplement question de cela :\\n#GiletJaune #GiletsJaunes #RIC    \n",
       "1028668294751039488                                    Privatisons, privatisons ...\\n#GiletJaune #GiletsJaunes #RIC #assembleenationale #senat\\n#France2 #BFM #RTFrance #LCI #Cnews #CNN #CBSNews\\n#YellowVests #chalecosamarillos #coletesamarelos #Gelbwesten #Europeennes2019 #ecologie #Climat #Privatisation    \n",
       "1028668294751039488                                                          🔥 Acte 18 : LE FILM – AU CŒUR D'UNE RÉVOLUTION POPULAIRE.\\nNe pas répondre à cela, en subvenant aux besoins les plus élémentaires de son peuple, est tout simplement meurtrier.\\n\\n#giletjaune #giletsjaunes  #acte18 #Macron #Elysée   \n",
       "1028668294751039488                                                                                                                                                                    Acte 19 : les Gilets jaunes ne se découragent pas malgré les interdictions  via @YouTube\\n#giletjaune #giletsjaunes #acte19   \n",
       "1028668294751039488                                                    Cette après-midi les Gilets Jaunes de Berlin manifestaient aussi. On pouvait lire au bas d'un gilet : \"Salutations patriotiques à la France\"\\n\\nIls ont adopté l'étendard GJ :\\n\\n#GiletJaune #YellowVests #chalecosamarillos #Gelbewesten    \n",
       "1028668294751039488                   Non à la violence d'un peuple qui monte au Sacré-Cœur ! 🤪\\n#GiletJaune #GiletsJaunes #assembleenationale #senat\\n#France2 #BFM #RTFrance #LCI #Cnews #CNN #CBSNews\\n#YellowVests #chalecosamarillos #Gelbewesten\\n#Europeennes2019 #ecologie #Climat #Privatisation #acte19    \n",
       "1028668294751039488          Quand il se manifeste , même en étant déclaré , le cancer du tabac tue encore 40 000 personnes par ans ! ... L'Etat est-il complice ?\\n#GiletJaune #GiletsJaunes #assembleenationale #senat #Europeennes2019 #ecologie #Climat #Privatisation #Sante #tabac #Cancer #securitesociale    \n",
       "1028668294751039488      \"Il faut avoir un comportement responsable\" avons nous entendu !\\n#GiletJaune #GiletsJaunes #RIC #assembleenationale #senat\\n#droitsdelhomme #Amnestyinternational #ViolencesPolicieres\\n#France2 #BFM #RTFrance #LCI #Cnews #CNN #CBSNews\\n#YellowVests #chalecosamarillos #Gelbewesten    \n",
       "1028668294751039488                                                                                            Recadrage au sein de la \"médiacratie\" actuelle , à propos de la vomissure : \"les ennemis de la République\" ...\\n#GiletJaune #GiletsJaunes #RIC \\n#France2 #BFM #RTFrance #LCI #Cnews #CNN #CBSNews    \n",
       "1028668294751039488  Acte 19 : Vous n'avez pas peur ? 5000 manifestants, 8548 contrôles ?\\n#GiletJaune #GiletsJaunes #RIC #assembleenationale #senat\\n#droitsdelhomme #Amnestyinternational #ViolencesPolicieres\\n#France2 #BFM #RTFrance #LCI #Cnews #CNN #CBSNews\\n#YellowVests #chalecosamarillos #Gelbewesten    \n",
       "1028668294751039488           14 accords signés avec les Chinois !\\nCombien d'accords signé avec son propre peuple ?\\nAucun tapis rouge pour les gilets jaunes !\\n#GiletJaune #GiletsJaunes #China #Europeennes \\n#France2 #BFM #RTFrance #LCI #Cnews #CNN #CBSNews\\n#YellowVests #chalecosamarillos #Gelbewesten    \n",
       "1028668294751039488                                                                                                                                                       Ou est l’Europe sociale ?\\n#GiletJaune #GiletsJaunes #YellowVests #chalecosamarillos #Gelbewesten #Europeennes #Europeennes2019 #social    \n",
       "1028668294751039488                                                   Il y a encore des journalistes qui ont le courage de dire la vérité !\\n\\n#GiletJaune #GiletsJaunes #YellowVests #chalecosamarillos #Gelbewesten \\n#droitsdelhomme #Amnestyinternational #ViolencesPolicieres\\n#Europeennes #Europeennes2019    \n",
       "1028668294751039488                                                                                                               En marche !\\n#GiletJaune #GiletsJaunes #YellowVests #chalecosamarillos #Gelbewesten \\n#droitsdelhomme #Amnestyinternational #ViolencesPolicieres\\n#Europeennes #Europeennes2019    \n",
       "1028668294751039488                                              Comment un président de la République peut-il être destitué ?  via @lemondefr\\n#GiletJaune #GiletsJaunes #YellowVests #chalecosamarillos #Gelbewesten \\n#droitsdelhomme #Amnestyinternational #ViolencesPolicieres\\n#Europeennes #Europeennes2019   \n",
       "1028668294751039488                                                        Après les béni-oui-oui sortis de nul-part pour la présidentielle , voici les béni-oui-oui sortis de nul-part pour l’Europe ...\\n#GiletJaune #GiletsJaunes #YellowVests #chalecosamarillos #Gelbewesten \\n#Europeennes #Europeennes2019    \n",
       "1028668294751039488                                                   1er mai 2019 , Fête Nationale de \"L'Affaire Benalla\" , une date anniversaire a ne pas manquer ! \\n#GiletJaune #GiletsJaunes #YellowVests #chalecosamarillos #Gelbewesten \\n#Europeennes #Europeennes2019 #Benalla #affaireBenalla #gaypride    \n",
       "1028668294751039488                           NICE : \"Hier soir à nôtre rassemblement en soutien à Geneviève blessée, le témoignage fort intéressant d'un doctorant enseignant arrêté et mis en garde à vue 24 h\"\\nVidéo : \\n#GiletJaune #GiletsJaunes #droitsdelhomme #Amnestyinternational #ViolencesPolicieres    \n",
       "1028668294751039488                                                                    Il y a toujours de l'argent pour tabasser le peuple !\\n\\n#GiletJaune #GiletsJaunes #YellowVests #chalecosamarillos #Gelbewesten \\n#droitsdelhomme #Amnestyinternational #ViolencesPolicieres\\n#Europeennes #Europeennes2019   \n",
       "1028668294751039488                                                                                                       21 nov. 2018 : Un automobiliste heurte une moto lors d'une manifestation de gilets jaunes motards ... Restez prudent ! 🙏\\nVidéo : \\n#GiletJaune #GiletsJaunes #securiteroutiere #motard    \n",
       "1028668294751039488                               Un peu de quoi ? ... de sagesse ?\\nRassemblement Place de la République à Paris, en soutien à #GenevièveLegay , 73 ans !\\n\\n#GiletJaune #GiletsJaunes #YellowVests #chalecosamarillos #Gelbewesten \\n#droitsdelhomme #Amnestyinternational #ViolencesPolicieres    \n",
       "1028668294751039488                                                                                 On est là ! ... Soutien à #GenevièveLegay\\n#GiletJaune #GiletsJaunes #YellowVests #chalecosamarillos #Gelbewesten \\n#droitsdelhomme #Amnestyinternational #ViolencesPolicieres\\n#Europeennes #Europeennes2019    \n",
       "1028668294751039488                                        Interpellation des streets medics qui voulaient porter secours à Geneviève Legay Source : \\n#GiletJaune #GiletsJaunes #YellowVests #chalecosamarillos #Gelbewesten \\n#droitsdelhomme #Amnestyinternational #ViolencesPolicieres\\n#atac #GenevieveLegay    \n",
       "\n",
       "                                         created_at  favorite_count  \\\n",
       "user_id                                                               \n",
       "1028668294751039488  Wed Mar 20 00:28:04 +0000 2019            11.0   \n",
       "1028668294751039488  Wed Mar 20 06:58:57 +0000 2019            82.0   \n",
       "1028668294751039488  Wed Mar 20 09:19:23 +0000 2019            21.0   \n",
       "1028668294751039488  Wed Mar 20 10:23:12 +0000 2019            34.0   \n",
       "1028668294751039488  Wed Mar 20 18:18:31 +0000 2019            58.0   \n",
       "1028668294751039488  Thu Mar 21 08:52:14 +0000 2019           743.0   \n",
       "1028668294751039488  Thu Mar 21 20:17:47 +0000 2019            88.0   \n",
       "1028668294751039488  Fri Mar 22 09:55:40 +0000 2019            69.0   \n",
       "1028668294751039488  Fri Mar 22 12:43:41 +0000 2019            27.0   \n",
       "1028668294751039488  Sat Mar 23 01:41:35 +0000 2019            49.0   \n",
       "1028668294751039488  Sat Mar 23 11:08:01 +0000 2019            46.0   \n",
       "1028668294751039488  Sat Mar 23 20:38:51 +0000 2019           149.0   \n",
       "1028668294751039488  Sun Mar 24 12:48:57 +0000 2019           271.0   \n",
       "1028668294751039488  Sun Mar 24 19:30:16 +0000 2019            21.0   \n",
       "1028668294751039488  Mon Mar 25 12:41:24 +0000 2019            31.0   \n",
       "1028668294751039488  Mon Mar 25 14:26:57 +0000 2019           139.0   \n",
       "1028668294751039488  Mon Mar 25 16:54:15 +0000 2019           193.0   \n",
       "1028668294751039488  Mon Mar 25 17:52:47 +0000 2019            32.0   \n",
       "1028668294751039488  Mon Mar 25 22:51:55 +0000 2019            11.0   \n",
       "1028668294751039488  Tue Mar 26 07:47:10 +0000 2019           218.0   \n",
       "1028668294751039488  Tue Mar 26 08:15:56 +0000 2019            54.0   \n",
       "1028668294751039488  Tue Mar 26 08:55:03 +0000 2019            91.0   \n",
       "1028668294751039488  Wed Mar 27 17:39:10 +0000 2019           276.0   \n",
       "1028668294751039488  Wed Mar 27 20:03:40 +0000 2019           135.0   \n",
       "1028668294751039488  Wed Mar 27 20:45:23 +0000 2019           280.0   \n",
       "1028668294751039488  Thu Mar 28 09:04:39 +0000 2019            95.0   \n",
       "1028668294751039488  Thu Mar 28 13:06:40 +0000 2019            31.0   \n",
       "1028668294751039488  Fri Mar 29 04:29:30 +0000 2019            20.0   \n",
       "1028668294751039488  Fri Mar 29 05:49:37 +0000 2019           318.0   \n",
       "1028668294751039488  Fri Mar 29 07:26:22 +0000 2019            58.0   \n",
       "\n",
       "                     retweet_count  \n",
       "user_id                             \n",
       "1028668294751039488           18.0  \n",
       "1028668294751039488           53.0  \n",
       "1028668294751039488           12.0  \n",
       "1028668294751039488           35.0  \n",
       "1028668294751039488           38.0  \n",
       "1028668294751039488          606.0  \n",
       "1028668294751039488           56.0  \n",
       "1028668294751039488           39.0  \n",
       "1028668294751039488           17.0  \n",
       "1028668294751039488           52.0  \n",
       "1028668294751039488           26.0  \n",
       "1028668294751039488          108.0  \n",
       "1028668294751039488          202.0  \n",
       "1028668294751039488           17.0  \n",
       "1028668294751039488           44.0  \n",
       "1028668294751039488          107.0  \n",
       "1028668294751039488          138.0  \n",
       "1028668294751039488           20.0  \n",
       "1028668294751039488           13.0  \n",
       "1028668294751039488          190.0  \n",
       "1028668294751039488           41.0  \n",
       "1028668294751039488           99.0  \n",
       "1028668294751039488          187.0  \n",
       "1028668294751039488          101.0  \n",
       "1028668294751039488          329.0  \n",
       "1028668294751039488           73.0  \n",
       "1028668294751039488           44.0  \n",
       "1028668294751039488           32.0  \n",
       "1028668294751039488          202.0  \n",
       "1028668294751039488           72.0  "
      ]
     },
     "execution_count": 216,
     "metadata": {},
     "output_type": "execute_result"
    }
   ],
   "source": [
    "get_tweet_by_username('GiletsJaunesFr')"
   ]
  },
  {
   "cell_type": "code",
   "execution_count": 217,
   "metadata": {},
   "outputs": [
    {
     "name": "stdout",
     "output_type": "stream",
     "text": [
      "GiletsJaunesFr\n",
      "FranceNews24\n",
      "LorentzMathias\n",
      "AA36514431\n",
      "Callystor\n",
      "LEDOUAISIEN\n",
      "tcabarrus\n",
      "quatremer\n",
      "mojitobatbat\n",
      "collCartonJaune\n",
      "HRyssen\n",
      "Maraine_Lapine\n",
      "ion_positon\n",
      "Circonscripti18\n",
      "GaetanEscorbiac\n"
     ]
    }
   ],
   "source": [
    "#output \n",
    "for name in top_influencers_rt_names:\n",
    "    df_rel = get_related_hashtags_by_username(name)\n",
    "    print(name)\n",
    "    df_rel.to_csv('top_hashtags_by_'+name+'.csv',index=False)\n",
    "    df_rel=[]"
   ]
  },
  {
   "cell_type": "code",
   "execution_count": 219,
   "metadata": {
    "lines_to_next_cell": 2
   },
   "outputs": [
    {
     "data": {
      "text/html": [
       "<div>\n",
       "<style scoped>\n",
       "    .dataframe tbody tr th:only-of-type {\n",
       "        vertical-align: middle;\n",
       "    }\n",
       "\n",
       "    .dataframe tbody tr th {\n",
       "        vertical-align: top;\n",
       "    }\n",
       "\n",
       "    .dataframe thead th {\n",
       "        text-align: right;\n",
       "    }\n",
       "</style>\n",
       "<table border=\"1\" class=\"dataframe\">\n",
       "  <thead>\n",
       "    <tr style=\"text-align: right;\">\n",
       "      <th></th>\n",
       "      <th>#</th>\n",
       "      <th>Used</th>\n",
       "    </tr>\n",
       "  </thead>\n",
       "  <tbody>\n",
       "    <tr>\n",
       "      <th>1506</th>\n",
       "      <td>GiletJaune</td>\n",
       "      <td>28</td>\n",
       "    </tr>\n",
       "    <tr>\n",
       "      <th>1507</th>\n",
       "      <td>GiletsJaunes</td>\n",
       "      <td>27</td>\n",
       "    </tr>\n",
       "    <tr>\n",
       "      <th>1515</th>\n",
       "      <td>YellowVests</td>\n",
       "      <td>22</td>\n",
       "    </tr>\n",
       "    <tr>\n",
       "      <th>1523</th>\n",
       "      <td>chalecosamarillos</td>\n",
       "      <td>20</td>\n",
       "    </tr>\n",
       "    <tr>\n",
       "      <th>1499</th>\n",
       "      <td>Europeennes2019</td>\n",
       "      <td>19</td>\n",
       "    </tr>\n",
       "    <tr>\n",
       "      <th>1502</th>\n",
       "      <td>Gelbewesten</td>\n",
       "      <td>15</td>\n",
       "    </tr>\n",
       "    <tr>\n",
       "      <th>1525</th>\n",
       "      <td>droitsdelhomme</td>\n",
       "      <td>10</td>\n",
       "    </tr>\n",
       "    <tr>\n",
       "      <th>1488</th>\n",
       "      <td>Amnestyinternational</td>\n",
       "      <td>10</td>\n",
       "    </tr>\n",
       "    <tr>\n",
       "      <th>1514</th>\n",
       "      <td>ViolencesPolicieres</td>\n",
       "      <td>10</td>\n",
       "    </tr>\n",
       "    <tr>\n",
       "      <th>1489</th>\n",
       "      <td>BFM</td>\n",
       "      <td>9</td>\n",
       "    </tr>\n",
       "    <tr>\n",
       "      <th>1496</th>\n",
       "      <td>Cnews</td>\n",
       "      <td>9</td>\n",
       "    </tr>\n",
       "    <tr>\n",
       "      <th>1498</th>\n",
       "      <td>Europeennes</td>\n",
       "      <td>9</td>\n",
       "    </tr>\n",
       "    <tr>\n",
       "      <th>1512</th>\n",
       "      <td>RTFrance</td>\n",
       "      <td>9</td>\n",
       "    </tr>\n",
       "    <tr>\n",
       "      <th>1501</th>\n",
       "      <td>France2</td>\n",
       "      <td>9</td>\n",
       "    </tr>\n",
       "    <tr>\n",
       "      <th>1508</th>\n",
       "      <td>LCI</td>\n",
       "      <td>9</td>\n",
       "    </tr>\n",
       "    <tr>\n",
       "      <th>1491</th>\n",
       "      <td>CBSNews</td>\n",
       "      <td>8</td>\n",
       "    </tr>\n",
       "    <tr>\n",
       "      <th>1492</th>\n",
       "      <td>CNN</td>\n",
       "      <td>8</td>\n",
       "    </tr>\n",
       "    <tr>\n",
       "      <th>1533</th>\n",
       "      <td>senat</td>\n",
       "      <td>8</td>\n",
       "    </tr>\n",
       "    <tr>\n",
       "      <th>1520</th>\n",
       "      <td>assembleenationale</td>\n",
       "      <td>8</td>\n",
       "    </tr>\n",
       "    <tr>\n",
       "      <th>1503</th>\n",
       "      <td>Gelbwesten</td>\n",
       "      <td>7</td>\n",
       "    </tr>\n",
       "    <tr>\n",
       "      <th>1511</th>\n",
       "      <td>RIC</td>\n",
       "      <td>6</td>\n",
       "    </tr>\n",
       "    <tr>\n",
       "      <th>1526</th>\n",
       "      <td>ecologie</td>\n",
       "      <td>4</td>\n",
       "    </tr>\n",
       "    <tr>\n",
       "      <th>1495</th>\n",
       "      <td>Climat</td>\n",
       "      <td>4</td>\n",
       "    </tr>\n",
       "    <tr>\n",
       "      <th>1524</th>\n",
       "      <td>coletesamarelos</td>\n",
       "      <td>4</td>\n",
       "    </tr>\n",
       "    <tr>\n",
       "      <th>1510</th>\n",
       "      <td>Privatisation</td>\n",
       "      <td>3</td>\n",
       "    </tr>\n",
       "    <tr>\n",
       "      <th>1505</th>\n",
       "      <td>GenevièveLegay</td>\n",
       "      <td>2</td>\n",
       "    </tr>\n",
       "    <tr>\n",
       "      <th>1529</th>\n",
       "      <td>giletsjaunes</td>\n",
       "      <td>2</td>\n",
       "    </tr>\n",
       "    <tr>\n",
       "      <th>1528</th>\n",
       "      <td>giletjaune</td>\n",
       "      <td>2</td>\n",
       "    </tr>\n",
       "    <tr>\n",
       "      <th>1517</th>\n",
       "      <td>acte19</td>\n",
       "      <td>2</td>\n",
       "    </tr>\n",
       "    <tr>\n",
       "      <th>1522</th>\n",
       "      <td>banque</td>\n",
       "      <td>1</td>\n",
       "    </tr>\n",
       "    <tr>\n",
       "      <th>1527</th>\n",
       "      <td>gaypride</td>\n",
       "      <td>1</td>\n",
       "    </tr>\n",
       "    <tr>\n",
       "      <th>1530</th>\n",
       "      <td>motard</td>\n",
       "      <td>1</td>\n",
       "    </tr>\n",
       "    <tr>\n",
       "      <th>1531</th>\n",
       "      <td>securiteroutiere</td>\n",
       "      <td>1</td>\n",
       "    </tr>\n",
       "    <tr>\n",
       "      <th>1532</th>\n",
       "      <td>securitesociale</td>\n",
       "      <td>1</td>\n",
       "    </tr>\n",
       "    <tr>\n",
       "      <th>1534</th>\n",
       "      <td>social</td>\n",
       "      <td>1</td>\n",
       "    </tr>\n",
       "    <tr>\n",
       "      <th>1486</th>\n",
       "      <td>Acte18</td>\n",
       "      <td>1</td>\n",
       "    </tr>\n",
       "    <tr>\n",
       "      <th>1521</th>\n",
       "      <td>atac</td>\n",
       "      <td>1</td>\n",
       "    </tr>\n",
       "    <tr>\n",
       "      <th>1519</th>\n",
       "      <td>armee</td>\n",
       "      <td>1</td>\n",
       "    </tr>\n",
       "    <tr>\n",
       "      <th>1518</th>\n",
       "      <td>affaireBenalla</td>\n",
       "      <td>1</td>\n",
       "    </tr>\n",
       "    <tr>\n",
       "      <th>1516</th>\n",
       "      <td>acte18</td>\n",
       "      <td>1</td>\n",
       "    </tr>\n",
       "    <tr>\n",
       "      <th>1513</th>\n",
       "      <td>Sante</td>\n",
       "      <td>1</td>\n",
       "    </tr>\n",
       "    <tr>\n",
       "      <th>1487</th>\n",
       "      <td>Acte19</td>\n",
       "      <td>1</td>\n",
       "    </tr>\n",
       "    <tr>\n",
       "      <th>1509</th>\n",
       "      <td>Macron</td>\n",
       "      <td>1</td>\n",
       "    </tr>\n",
       "    <tr>\n",
       "      <th>1504</th>\n",
       "      <td>GenevieveLegay</td>\n",
       "      <td>1</td>\n",
       "    </tr>\n",
       "    <tr>\n",
       "      <th>1500</th>\n",
       "      <td>Finance</td>\n",
       "      <td>1</td>\n",
       "    </tr>\n",
       "    <tr>\n",
       "      <th>1497</th>\n",
       "      <td>Elysée</td>\n",
       "      <td>1</td>\n",
       "    </tr>\n",
       "    <tr>\n",
       "      <th>1494</th>\n",
       "      <td>China</td>\n",
       "      <td>1</td>\n",
       "    </tr>\n",
       "    <tr>\n",
       "      <th>1493</th>\n",
       "      <td>Cancer</td>\n",
       "      <td>1</td>\n",
       "    </tr>\n",
       "    <tr>\n",
       "      <th>1490</th>\n",
       "      <td>Benalla</td>\n",
       "      <td>1</td>\n",
       "    </tr>\n",
       "    <tr>\n",
       "      <th>1535</th>\n",
       "      <td>tabac</td>\n",
       "      <td>1</td>\n",
       "    </tr>\n",
       "  </tbody>\n",
       "</table>\n",
       "</div>"
      ],
      "text/plain": [
       "                         #  Used\n",
       "1506            GiletJaune    28\n",
       "1507          GiletsJaunes    27\n",
       "1515           YellowVests    22\n",
       "1523     chalecosamarillos    20\n",
       "1499       Europeennes2019    19\n",
       "1502           Gelbewesten    15\n",
       "1525        droitsdelhomme    10\n",
       "1488  Amnestyinternational    10\n",
       "1514   ViolencesPolicieres    10\n",
       "1489                   BFM     9\n",
       "1496                 Cnews     9\n",
       "1498           Europeennes     9\n",
       "1512              RTFrance     9\n",
       "1501               France2     9\n",
       "1508                   LCI     9\n",
       "1491               CBSNews     8\n",
       "1492                   CNN     8\n",
       "1533                 senat     8\n",
       "1520    assembleenationale     8\n",
       "1503            Gelbwesten     7\n",
       "1511                   RIC     6\n",
       "1526              ecologie     4\n",
       "1495                Climat     4\n",
       "1524       coletesamarelos     4\n",
       "1510         Privatisation     3\n",
       "1505        GenevièveLegay     2\n",
       "1529          giletsjaunes     2\n",
       "1528            giletjaune     2\n",
       "1517                acte19     2\n",
       "1522                banque     1\n",
       "1527              gaypride     1\n",
       "1530                motard     1\n",
       "1531      securiteroutiere     1\n",
       "1532       securitesociale     1\n",
       "1534                social     1\n",
       "1486                Acte18     1\n",
       "1521                  atac     1\n",
       "1519                 armee     1\n",
       "1518        affaireBenalla     1\n",
       "1516                acte18     1\n",
       "1513                 Sante     1\n",
       "1487                Acte19     1\n",
       "1509                Macron     1\n",
       "1504        GenevieveLegay     1\n",
       "1500               Finance     1\n",
       "1497                Elysée     1\n",
       "1494                 China     1\n",
       "1493                Cancer     1\n",
       "1490               Benalla     1\n",
       "1535                 tabac     1"
      ]
     },
     "execution_count": 219,
     "metadata": {},
     "output_type": "execute_result"
    }
   ],
   "source": [
    "get_related_hashtags_by_username('GiletsJaunesFr')"
   ]
  },
  {
   "cell_type": "markdown",
   "metadata": {},
   "source": [
    "# NLP\n"
   ]
  },
  {
   "cell_type": "code",
   "execution_count": 220,
   "metadata": {
    "lines_to_next_cell": 2
   },
   "outputs": [],
   "source": [
    "import spacy"
   ]
  },
  {
   "cell_type": "code",
   "execution_count": 221,
   "metadata": {},
   "outputs": [
    {
     "data": {
      "text/html": [
       "<script type=\"text/javascript\">window.PlotlyConfig = {MathJaxConfig: 'local'};</script><script type=\"text/javascript\">if (window.MathJax) {MathJax.Hub.Config({SVG: {font: \"STIX-Web\"}});}</script><script>requirejs.config({paths: { 'plotly': ['https://cdn.plot.ly/plotly-latest.min']},});if(!window._Plotly) {require(['plotly'],function(plotly) {window._Plotly=plotly;});}</script>"
      ],
      "text/vnd.plotly.v1+html": [
       "<script type=\"text/javascript\">window.PlotlyConfig = {MathJaxConfig: 'local'};</script><script type=\"text/javascript\">if (window.MathJax) {MathJax.Hub.Config({SVG: {font: \"STIX-Web\"}});}</script><script>requirejs.config({paths: { 'plotly': ['https://cdn.plot.ly/plotly-latest.min']},});if(!window._Plotly) {require(['plotly'],function(plotly) {window._Plotly=plotly;});}</script>"
      ]
     },
     "metadata": {},
     "output_type": "display_data"
    }
   ],
   "source": [
    "from tqdm import tqdm\n",
    "import string\n",
    "import matplotlib.pyplot as plt\n",
    "from sklearn.decomposition import NMF, LatentDirichletAllocation, TruncatedSVD\n",
    "from sklearn.feature_extraction.text import CountVectorizer\n",
    "from sklearn.manifold import TSNE\n",
    "import concurrent.futures\n",
    "import time\n",
    "import pyLDAvis.sklearn\n",
    "from pylab import bone, pcolor, colorbar, plot, show, rcParams, savefig\n",
    "import warnings\n",
    "warnings.filterwarnings('ignore')\n",
    "\n",
    "%matplotlib inline\n",
    "import os\n",
    "\n",
    "# Plotly based imports for visualization\n",
    "from plotly import tools\n",
    "import plotly.plotly as py\n",
    "from plotly.offline import init_notebook_mode, iplot\n",
    "init_notebook_mode(connected=True)\n",
    "import plotly.graph_objs as go\n",
    "import plotly.figure_factory as ff\n",
    "\n",
    "import spacy\n",
    "from spacy.lang.fr.stop_words import STOP_WORDS\n",
    "from spacy.lang.fr import French\n",
    "import fr_core_news_sm\n",
    "nlp = fr_core_news_sm.load()\n",
    "#!python -m spacy download fr_core_web_lg"
   ]
  },
  {
   "cell_type": "code",
   "execution_count": 222,
   "metadata": {},
   "outputs": [
    {
     "data": {
      "text/html": [
       "<div class=\"entities\" style=\"line-height: 2.5\">\"C'est en faisant n'importe quoi, que l'on devient n'importe qui\" on accréditait cette phrase à @RemiGaillard_  mais désormais c'est un petit peu l'histoire de @CCastaner #\n",
       "<mark class=\"entity\" style=\"background: #7aecec; padding: 0.45em 0.6em; margin: 0 0.25em; line-height: 1; border-radius: 0.35em; box-decoration-break: clone; -webkit-box-decoration-break: clone\">\n",
       "    Manifestation\n",
       "    <span style=\"font-size: 0.8em; font-weight: bold; line-height: 1; border-radius: 0.35em; text-transform: uppercase; vertical-align: middle; margin-left: 0.5rem\">ORG</span>\n",
       "</mark>\n",
       " #\n",
       "<mark class=\"entity\" style=\"background: #ddd; padding: 0.45em 0.6em; margin: 0 0.25em; line-height: 1; border-radius: 0.35em; box-decoration-break: clone; -webkit-box-decoration-break: clone\">\n",
       "    GiletJaune #\n",
       "    <span style=\"font-size: 0.8em; font-weight: bold; line-height: 1; border-radius: 0.35em; text-transform: uppercase; vertical-align: middle; margin-left: 0.5rem\">MISC</span>\n",
       "</mark>\n",
       "Castaner</div>"
      ],
      "text/plain": [
       "<IPython.core.display.HTML object>"
      ]
     },
     "metadata": {},
     "output_type": "display_data"
    }
   ],
   "source": [
    "doc = nlp(df_tweets[\"text\"][3])\n",
    "spacy.displacy.render(doc, style='ent',jupyter=True)"
   ]
  },
  {
   "cell_type": "code",
   "execution_count": 223,
   "metadata": {},
   "outputs": [],
   "source": [
    "punctuations = string.punctuation\n",
    "stopwords = list(STOP_WORDS)"
   ]
  },
  {
   "cell_type": "code",
   "execution_count": 224,
   "metadata": {},
   "outputs": [],
   "source": [
    "review = str(\" \".join([i.lemma_ for i in doc]))"
   ]
  },
  {
   "cell_type": "code",
   "execution_count": 225,
   "metadata": {},
   "outputs": [
    {
     "data": {
      "text/html": [
       "<div class=\"entities\" style=\"line-height: 2.5\">\" ce être en faire ne importer quoi , que le on devenir ne importer qui \" on accréditer ce phrase à @remigaillard _   mais désormais ce être un petit peu le histoire de @ccastaner # manifestation # giletjaun # \n",
       "<mark class=\"entity\" style=\"background: #ddd; padding: 0.45em 0.6em; margin: 0 0.25em; line-height: 1; border-radius: 0.35em; box-decoration-break: clone; -webkit-box-decoration-break: clone\">\n",
       "    Castaner\n",
       "    <span style=\"font-size: 0.8em; font-weight: bold; line-height: 1; border-radius: 0.35em; text-transform: uppercase; vertical-align: middle; margin-left: 0.5rem\">PER</span>\n",
       "</mark>\n",
       "</div>"
      ],
      "text/plain": [
       "<IPython.core.display.HTML object>"
      ]
     },
     "metadata": {},
     "output_type": "display_data"
    }
   ],
   "source": [
    "doc = nlp(review)\n",
    "spacy.displacy.render(doc, style='ent',jupyter=True)"
   ]
  },
  {
   "cell_type": "code",
   "execution_count": 226,
   "metadata": {},
   "outputs": [
    {
     "name": "stdout",
     "output_type": "stream",
     "text": [
      "\" => PUNCT\n",
      "ce => DET\n",
      "être => AUX\n",
      "en => PRON\n",
      "faire => VERB\n",
      "ne => ADV\n",
      "importer => VERB\n",
      "quoi => PRON\n",
      ", => PUNCT\n",
      "que => SCONJ\n",
      "le => DET\n",
      "on => PRON\n",
      "devenir => VERB\n",
      "ne => ADV\n",
      "importer => VERB\n",
      "qui => PRON\n",
      "\" => PUNCT\n",
      "on => PRON\n",
      "accréditer => VERB\n",
      "ce => DET\n",
      "phrase => NOUN\n",
      "à => ADP\n",
      "@remigaillard => ADV\n",
      "_ => ADP\n",
      "   => SPACE\n",
      "mais => CCONJ\n",
      "désormais => ADV\n",
      "ce => DET\n",
      "être => AUX\n",
      "un => DET\n",
      "petit => ADJ\n",
      "peu => ADV\n",
      "le => DET\n",
      "histoire => NOUN\n",
      "de => ADP\n",
      "@ccastaner => VERB\n",
      "# => ADJ\n",
      "manifestation => NOUN\n",
      "# => ADJ\n",
      "giletjaun => ADJ\n",
      "# => ADJ\n",
      "Castaner => PROPN\n"
     ]
    }
   ],
   "source": [
    "for i in nlp(review):\n",
    "    print(i,\"=>\",i.pos_)"
   ]
  },
  {
   "cell_type": "code",
   "execution_count": 227,
   "metadata": {},
   "outputs": [],
   "source": [
    "parser = French()\n",
    "def spacy_tokenizer(sentence):\n",
    "    mytokens = parser(sentence)\n",
    "    mytokens = [ word.lemma_.lower().strip() if word.lemma_ != \"-PRON-\" else word.lower_ for word in mytokens ]\n",
    "    mytokens = [ word for word in mytokens if word not in stopwords and word not in punctuations ]\n",
    "    mytokens = \" \".join([i for i in mytokens])\n",
    "    return mytokens"
   ]
  },
  {
   "cell_type": "code",
   "execution_count": 228,
   "metadata": {},
   "outputs": [
    {
     "name": "stderr",
     "output_type": "stream",
     "text": [
      "100%|██████████| 2002/2002 [00:04<00:00, 413.22it/s]\n"
     ]
    }
   ],
   "source": [
    "tqdm.pandas()\n",
    "df_tweets[\"processed_text\"] = df_tweets[\"text\"].progress_apply(spacy_tokenizer)"
   ]
  },
  {
   "cell_type": "code",
   "execution_count": 229,
   "metadata": {},
   "outputs": [],
   "source": [
    "df_tweets.head(10)[\"processed_text\"];"
   ]
  },
  {
   "cell_type": "code",
   "execution_count": 230,
   "metadata": {},
   "outputs": [],
   "source": [
    "vectorizer = CountVectorizer(min_df=5, max_df=0.9, stop_words=stopwords, lowercase=True, token_pattern='[a-zA-Z\\-][a-zA-Z\\-]{2,}')\n",
    "data_vectorized = vectorizer.fit_transform(df_tweets[\"processed_text\"])"
   ]
  },
  {
   "cell_type": "code",
   "execution_count": 231,
   "metadata": {},
   "outputs": [],
   "source": [
    "##How many topics do you want to find??\n",
    "NUM_TOPICS = 6"
   ]
  },
  {
   "cell_type": "code",
   "execution_count": 232,
   "metadata": {},
   "outputs": [
    {
     "name": "stdout",
     "output_type": "stream",
     "text": [
      "iteration: 1 of max_iter: 10\n",
      "iteration: 2 of max_iter: 10\n",
      "iteration: 3 of max_iter: 10\n",
      "iteration: 4 of max_iter: 10\n",
      "iteration: 5 of max_iter: 10\n",
      "iteration: 6 of max_iter: 10\n",
      "iteration: 7 of max_iter: 10\n",
      "iteration: 8 of max_iter: 10\n",
      "iteration: 9 of max_iter: 10\n",
      "iteration: 10 of max_iter: 10\n"
     ]
    }
   ],
   "source": [
    "lda = LatentDirichletAllocation(n_components=NUM_TOPICS, max_iter=10, learning_method='online',verbose=True)\n",
    "data_lda = lda.fit_transform(data_vectorized)"
   ]
  },
  {
   "cell_type": "code",
   "execution_count": 233,
   "metadata": {},
   "outputs": [],
   "source": [
    "# Non-Negative Matrix Factorization Model\n",
    "nmf = NMF(n_components=NUM_TOPICS)\n",
    "data_nmf = nmf.fit_transform(data_vectorized) "
   ]
  },
  {
   "cell_type": "code",
   "execution_count": 234,
   "metadata": {},
   "outputs": [],
   "source": [
    "# Latent Semantic Indexing Model using Truncated SVD\n",
    "lsi = TruncatedSVD(n_components=NUM_TOPICS)\n",
    "data_lsi = lsi.fit_transform(data_vectorized)"
   ]
  },
  {
   "cell_type": "code",
   "execution_count": 235,
   "metadata": {},
   "outputs": [],
   "source": [
    "# Functions for printing keywords for each topic\n",
    "def selected_topics(model, vectorizer, top_n=10):\n",
    "    for idx, topic in enumerate(model.components_):\n",
    "        print(\"Topic %d:\" % (idx))\n",
    "        print([(vectorizer.get_feature_names()[i], topic[i])\n",
    "                        for i in topic.argsort()[:-top_n - 1:-1]]) "
   ]
  },
  {
   "cell_type": "code",
   "execution_count": 236,
   "metadata": {},
   "outputs": [
    {
     "name": "stdout",
     "output_type": "stream",
     "text": [
      "LDA Model:\n",
      "Topic 0:\n",
      "[('giletsjaunes', 135.04456038453407), ('acte', 123.44535435237268), ('france', 101.9035437176134), ('macron', 81.08229676679088), ('yellowvests', 68.92279448226014), ('jaunes', 61.67862311328099), ('gilets', 60.880551758807854), ('bfmtv', 52.64254404672329), ('toulouse', 52.01484036435735), ('actexix', 51.05639264548391)]\n",
      "Topic 1:\n",
      "[('france', 67.97352487950637), ('lrem', 50.40305913502078), ('ric', 46.82168658957686), ('faire', 45.7342997231904), ('aller', 42.38774125466867), ('strat', 33.83313014505813), ('incomp', 31.833394750798043), ('coup', 31.80235045123092), ('militaire', 30.993557661997677), ('franceinsoumise', 30.1984553717635)]\n",
      "Topic 2:\n",
      "[('dan', 104.61998113229721), ('plaire', 89.44857464706965), ('faire', 88.77530316845723), ('giletsjaunes', 80.30827661399812), ('france', 66.16167027626331), ('mettre', 56.05891985152986), ('fran', 52.40244700752155), ('ais', 49.491059281630626), ('emmanuelmacron', 49.115621918653936), ('bon', 47.18571495686509)]\n",
      "Topic 3:\n",
      "[('jaune', 117.48273262321409), ('gilet', 90.37657799862706), ('pouvoir', 86.4865676873914), ('macron', 50.19442152489725), ('plaire', 44.817420141091496), ('rer', 36.81020148383069), ('condamner', 36.46560604412124), ('liste', 35.25111788474226), ('euro', 34.31937566889981), ('honte', 32.80059141926088)]\n",
      "Topic 4:\n",
      "[('giletsjaunes', 159.57208168855226), ('acte', 136.80924861113567), ('nice', 135.97271065753043), ('porter', 83.78482117557313), ('paris', 74.77175036224709), ('macron', 74.28393292427565), ('policier', 70.5464433789061), ('actexx', 57.21344580759976), ('actexix', 56.6490787773265), ('blesser', 50.84014726668789)]\n",
      "Topic 5:\n",
      "[('giletsjaunes', 252.99670568461826), ('acte', 202.08608911522217), ('mars', 182.28805452707664), ('actexix', 144.88486916734615), ('samedi', 118.95645863069751), ('stopgiletsjaunes', 90.20862101827875), ('faire', 73.09952664693903), ('ter', 69.69211001467367), ('blackbloc', 63.30710930379844), ('aller', 59.05498187715633)]\n"
     ]
    }
   ],
   "source": [
    "print(\"LDA Model:\")\n",
    "selected_topics(lda, vectorizer)"
   ]
  },
  {
   "cell_type": "code",
   "execution_count": 237,
   "metadata": {},
   "outputs": [
    {
     "name": "stdout",
     "output_type": "stream",
     "text": [
      "NMF Model:\n",
      "Topic 0:\n",
      "[('mars', 3.791784848710898), ('samedi', 1.9561652453488696), ('stopgiletsjaunes', 1.7066457513057869), ('actexix', 1.6421733143403803), ('blackbloc', 1.4138477570118202), ('noborder', 1.3407061003471292), ('antifa', 1.2824997516480934), ('direct', 1.2706391266580561), ('giletsjaunes', 1.1988009887581557), ('acte', 1.189375388946127)]\n",
      "Topic 1:\n",
      "[('giletsjaunes', 5.619828005169278), ('yellowvests', 0.5007865899902789), ('europeennes', 0.46628414243489247), ('actexix', 0.4434437016316576), ('gilets', 0.41489695690597256), ('jaunes', 0.41320032303255905), ('giletsjaunesparis', 0.4013892655140205), ('paris', 0.26748002595159776), ('emmanuelmacron', 0.2665176898892801), ('manifestation', 0.25902503518308534)]\n",
      "Topic 2:\n",
      "[('faire', 4.0137710733634115), ('plaire', 1.6589902479126828), ('pouvoir', 1.0574214529693802), ('aller', 0.8837114989572766), ('vouloir', 0.5975673569347841), ('voir', 0.4383109316190568), ('falloir', 0.4232894002217077), ('ais', 0.40670563621776346), ('fran', 0.3929500341390821), ('luire', 0.37224855438170734)]\n",
      "Topic 3:\n",
      "[('acte', 4.117342137673101), ('actexix', 1.099646921941132), ('actexx', 0.3797922440854362), ('nice', 0.35810436802771844), ('mouvement', 0.33022589730746005), ('manifestation', 0.29629746887691627), ('castaner', 0.26816239417391696), ('sentinelle', 0.231543949226624), ('toulouse', 0.23025953403525604), ('macron', 0.19948218438436519)]\n",
      "Topic 4:\n",
      "[('france', 3.185590783405899), ('macron', 2.896994420447347), ('politique', 1.0237269706705183), ('fran', 0.5601479997968206), ('ric', 0.4940512878116716), ('ais', 0.4710117820599622), ('lrem', 0.45374348085016136), ('castaner', 0.40705337352968773), ('gouvernement', 0.40532427297572815), ('manifestation', 0.34289887530237)]\n",
      "Topic 5:\n",
      "[('dan', 3.462025342308133), ('jaune', 0.4312234384449932), ('pouvoir', 0.39749432907303384), ('aller', 0.37579460774802903), ('gilet', 0.34125795983128837), ('rer', 0.32541101134839145), ('ruer', 0.3077415430901961), ('europ', 0.2931973369984721), ('grand', 0.28396832410973927), ('dupontaignan', 0.2766922466697131)]\n"
     ]
    }
   ],
   "source": [
    "# Keywords for topics clustered by Latent Semantic Indexing\n",
    "print(\"NMF Model:\")\n",
    "selected_topics(nmf, vectorizer)"
   ]
  },
  {
   "cell_type": "code",
   "execution_count": 238,
   "metadata": {},
   "outputs": [
    {
     "name": "stdout",
     "output_type": "stream",
     "text": [
      "LSI Model:\n",
      "Topic 0:\n",
      "[('giletsjaunes', 0.5505398344964729), ('acte', 0.46845544793115), ('mars', 0.3177454597845922), ('actexix', 0.2799903551839373), ('samedi', 0.18350774750462753), ('macron', 0.14202872980160358), ('stopgiletsjaunes', 0.13843684695456035), ('nice', 0.13276735267378173), ('france', 0.11767704439466756), ('blackbloc', 0.10860015727075555)]\n",
      "Topic 1:\n",
      "[('mars', 0.44035187196511083), ('samedi', 0.206540009979252), ('stopgiletsjaunes', 0.197172181387248), ('blackbloc', 0.1743340107589809), ('noborder', 0.16771675539288658), ('antifa', 0.1599843511417086), ('direct', 0.15143304755523174), ('yellowvest', 0.13719267031804996), ('actexix', 0.13145619738881084), ('yellowjackets', 0.113614039612253)]\n",
      "Topic 2:\n",
      "[('acte', 0.5156683076678232), ('giletsjaunes', 0.14331460738117782), ('gilets', 0.07322202500359949), ('actexx', 0.07062065985272749), ('jaunes', 0.06429265125396552), ('actexix', 0.06118340434486513), ('yellowvests', 0.04778978729880896), ('castaner', 0.04616914060257458), ('giletsjaunesparis', 0.03150976995650384), ('diffusion', 0.02466313690029842)]\n",
      "Topic 3:\n",
      "[('acte', 0.5890487782684053), ('dan', 0.2360934602198031), ('faire', 0.15475160426244725), ('plaire', 0.13554431144824594), ('mouvement', 0.09766279169962484), ('aller', 0.0973332615013042), ('pouvoir', 0.0945053862336554), ('actexix', 0.08571174585889788), ('armer', 0.06853379860681862), ('voir', 0.055964244421372204)]\n",
      "Topic 4:\n",
      "[('france', 0.6278726612103731), ('macron', 0.42919024115124627), ('mars', 0.18557852488350404), ('politique', 0.16359119496765875), ('fran', 0.0787360063182196), ('samedi', 0.07331435640108187), ('yellowvest', 0.07065317447432375), ('ric', 0.0690940868009251), ('stopgiletsjaunes', 0.06632485287973235), ('noborder', 0.06576465703972664)]\n",
      "Topic 5:\n",
      "[('faire', 0.6180142494500831), ('macron', 0.11211329805015244), ('acte', 0.08912090682332517), ('plaire', 0.05523507094348764), ('ais', 0.041936188219941585), ('fran', 0.036618976977303395), ('comprendre', 0.03533004246847532), ('vouloir', 0.033463840524263364), ('ter', 0.03180110550022732), ('actexx', 0.02906687284353649)]\n"
     ]
    }
   ],
   "source": [
    "# Keywords for topics clustered by Non-Negative Matrix Factorization\n",
    "print(\"LSI Model:\")\n",
    "selected_topics(lsi, vectorizer)"
   ]
  },
  {
   "cell_type": "code",
   "execution_count": 239,
   "metadata": {},
   "outputs": [
    {
     "name": "stdout",
     "output_type": "stream",
     "text": [
      "[0.02090125 0.02090845 0.33523636 0.43413618 0.02103398 0.16778377]\n"
     ]
    }
   ],
   "source": [
    "# Transforming an individual sentence\n",
    "text = spacy_tokenizer(\"Les gilets jaune tous unis contre Macron. Tous dans la rue jusqu'à la démission\")\n",
    "x = lda.transform(vectorizer.transform([text]))[0]\n",
    "print(x)"
   ]
  },
  {
   "cell_type": "code",
   "execution_count": 240,
   "metadata": {},
   "outputs": [
    {
     "data": {
      "text/html": [
       "\n",
       "<link rel=\"stylesheet\" type=\"text/css\" href=\"https://cdn.rawgit.com/bmabey/pyLDAvis/files/ldavis.v1.0.0.css\">\n",
       "\n",
       "\n",
       "<div id=\"ldavis_el1501212468521336566584677610\"></div>\n",
       "<script type=\"text/javascript\">\n",
       "\n",
       "var ldavis_el1501212468521336566584677610_data = {\"mdsDat\": {\"x\": [-7.502933502197266, -25.632648468017578, 47.128963470458984, 11.91871452331543, 37.468177795410156, 8.130635261535645], \"y\": [44.710052490234375, 3.3155505657196045, -3.8881490230560303, 11.536210060119629, 40.2569694519043, -26.71746253967285], \"topics\": [1, 2, 3, 4, 5, 6], \"cluster\": [1, 1, 1, 1, 1, 1], \"Freq\": [22.33285986284735, 20.354610365118038, 17.74895546417352, 14.875729576720097, 12.590274209306902, 12.097570521834093]}, \"tinfo\": {\"Category\": [\"Default\", \"Default\", \"Default\", \"Default\", \"Default\", \"Default\", \"Default\", \"Default\", \"Default\", \"Default\", \"Default\", \"Default\", \"Default\", \"Default\", \"Default\", \"Default\", \"Default\", \"Default\", \"Default\", \"Default\", \"Default\", \"Default\", \"Default\", \"Default\", \"Default\", \"Default\", \"Default\", \"Default\", \"Default\", \"Default\", \"Topic1\", \"Topic1\", \"Topic1\", \"Topic1\", \"Topic1\", \"Topic1\", \"Topic1\", \"Topic1\", \"Topic1\", \"Topic1\", \"Topic1\", \"Topic1\", \"Topic1\", \"Topic1\", \"Topic1\", \"Topic1\", \"Topic1\", \"Topic1\", \"Topic1\", \"Topic1\", \"Topic1\", \"Topic1\", \"Topic1\", \"Topic1\", \"Topic1\", \"Topic1\", \"Topic1\", \"Topic1\", \"Topic1\", \"Topic1\", \"Topic1\", \"Topic1\", \"Topic1\", \"Topic1\", \"Topic1\", \"Topic1\", \"Topic1\", \"Topic1\", \"Topic1\", \"Topic1\", \"Topic1\", \"Topic1\", \"Topic1\", \"Topic1\", \"Topic1\", \"Topic1\", \"Topic1\", \"Topic1\", \"Topic1\", \"Topic1\", \"Topic1\", \"Topic1\", \"Topic1\", \"Topic1\", \"Topic2\", \"Topic2\", \"Topic2\", \"Topic2\", \"Topic2\", \"Topic2\", \"Topic2\", \"Topic2\", \"Topic2\", \"Topic2\", \"Topic2\", \"Topic2\", \"Topic2\", \"Topic2\", \"Topic2\", \"Topic2\", \"Topic2\", \"Topic2\", \"Topic2\", \"Topic2\", \"Topic2\", \"Topic2\", \"Topic2\", \"Topic2\", \"Topic2\", \"Topic2\", \"Topic2\", \"Topic2\", \"Topic2\", \"Topic2\", \"Topic2\", \"Topic2\", \"Topic2\", \"Topic2\", \"Topic2\", \"Topic2\", \"Topic2\", \"Topic2\", \"Topic2\", \"Topic2\", \"Topic2\", \"Topic2\", \"Topic2\", \"Topic2\", \"Topic2\", \"Topic2\", \"Topic2\", \"Topic2\", \"Topic2\", \"Topic2\", \"Topic2\", \"Topic2\", \"Topic2\", \"Topic2\", \"Topic2\", \"Topic2\", \"Topic2\", \"Topic2\", \"Topic2\", \"Topic3\", \"Topic3\", \"Topic3\", \"Topic3\", \"Topic3\", \"Topic3\", \"Topic3\", \"Topic3\", \"Topic3\", \"Topic3\", \"Topic3\", \"Topic3\", \"Topic3\", \"Topic3\", \"Topic3\", \"Topic3\", \"Topic3\", \"Topic3\", \"Topic3\", \"Topic3\", \"Topic3\", \"Topic3\", \"Topic3\", \"Topic3\", \"Topic3\", \"Topic3\", \"Topic3\", \"Topic3\", \"Topic3\", \"Topic3\", \"Topic3\", \"Topic3\", \"Topic3\", \"Topic3\", \"Topic3\", \"Topic3\", \"Topic3\", \"Topic3\", \"Topic3\", \"Topic3\", \"Topic3\", \"Topic3\", \"Topic3\", \"Topic3\", \"Topic3\", \"Topic3\", \"Topic3\", \"Topic3\", \"Topic3\", \"Topic3\", \"Topic3\", \"Topic3\", \"Topic3\", \"Topic4\", \"Topic4\", \"Topic4\", \"Topic4\", \"Topic4\", \"Topic4\", \"Topic4\", \"Topic4\", \"Topic4\", \"Topic4\", \"Topic4\", \"Topic4\", \"Topic4\", \"Topic4\", \"Topic4\", \"Topic4\", \"Topic4\", \"Topic4\", \"Topic4\", \"Topic4\", \"Topic4\", \"Topic4\", \"Topic4\", \"Topic4\", \"Topic4\", \"Topic4\", \"Topic4\", \"Topic4\", \"Topic4\", \"Topic4\", \"Topic4\", \"Topic4\", \"Topic4\", \"Topic4\", \"Topic4\", \"Topic4\", \"Topic4\", \"Topic4\", \"Topic4\", \"Topic4\", \"Topic4\", \"Topic4\", \"Topic4\", \"Topic4\", \"Topic4\", \"Topic4\", \"Topic4\", \"Topic4\", \"Topic4\", \"Topic4\", \"Topic4\", \"Topic4\", \"Topic4\", \"Topic5\", \"Topic5\", \"Topic5\", \"Topic5\", \"Topic5\", \"Topic5\", \"Topic5\", \"Topic5\", \"Topic5\", \"Topic5\", \"Topic5\", \"Topic5\", \"Topic5\", \"Topic5\", \"Topic5\", \"Topic5\", \"Topic5\", \"Topic5\", \"Topic5\", \"Topic5\", \"Topic5\", \"Topic5\", \"Topic5\", \"Topic5\", \"Topic5\", \"Topic5\", \"Topic5\", \"Topic5\", \"Topic5\", \"Topic5\", \"Topic5\", \"Topic5\", \"Topic5\", \"Topic5\", \"Topic5\", \"Topic5\", \"Topic5\", \"Topic5\", \"Topic5\", \"Topic5\", \"Topic5\", \"Topic5\", \"Topic5\", \"Topic5\", \"Topic5\", \"Topic5\", \"Topic6\", \"Topic6\", \"Topic6\", \"Topic6\", \"Topic6\", \"Topic6\", \"Topic6\", \"Topic6\", \"Topic6\", \"Topic6\", \"Topic6\", \"Topic6\", \"Topic6\", \"Topic6\", \"Topic6\", \"Topic6\", \"Topic6\", \"Topic6\", \"Topic6\", \"Topic6\", \"Topic6\", \"Topic6\", \"Topic6\", \"Topic6\", \"Topic6\", \"Topic6\", \"Topic6\", \"Topic6\", \"Topic6\", \"Topic6\", \"Topic6\", \"Topic6\", \"Topic6\", \"Topic6\", \"Topic6\", \"Topic6\", \"Topic6\", \"Topic6\", \"Topic6\", \"Topic6\", \"Topic6\", \"Topic6\", \"Topic6\", \"Topic6\", \"Topic6\", \"Topic6\", \"Topic6\", \"Topic6\", \"Topic6\", \"Topic6\", \"Topic6\", \"Topic6\", \"Topic6\", \"Topic6\", \"Topic6\", \"Topic6\"], \"Freq\": [445.0, 121.0, 201.0, 127.0, 89.0, 241.0, 155.0, 78.0, 257.0, 67.0, 149.0, 101.0, 91.0, 167.0, 69.0, 68.0, 66.0, 77.0, 48.0, 55.0, 91.0, 61.0, 109.0, 61.0, 48.0, 47.0, 68.0, 92.0, 54.0, 653.0, 67.2219690418492, 61.06327589813079, 53.22839563199443, 51.24963236701517, 48.58220194116712, 37.99475233202966, 31.83903340071832, 27.573148285969395, 22.020441408274984, 20.008921324221312, 19.2895347781676, 18.943108084140693, 18.417811227015513, 18.227098099100232, 19.641532703281495, 17.533023622990875, 16.93708745837574, 15.559235275288811, 14.51601188289236, 13.388463201111982, 12.864240345027596, 11.40115828897887, 29.643698745129306, 14.957803337446382, 10.353647434747854, 10.414536550100447, 10.242351623674603, 10.240998766865332, 9.835311595539677, 9.737615992545788, 175.82710518504945, 20.596718623111514, 87.01130053490799, 38.86160799917412, 114.74021058792887, 48.74170166977343, 51.85719040329604, 35.052818859411296, 139.7496242795501, 32.396875658948524, 194.92342567087726, 244.0295854672851, 25.420632278794873, 31.847604450767406, 56.96185927901062, 70.50861447873721, 41.75701497978841, 38.100982494524956, 32.3070306108475, 28.73190743780104, 55.46792242912068, 32.233452959679305, 36.811517513451676, 29.1279073517421, 38.16447080270484, 29.1435966445003, 34.182788081067116, 26.982045818533372, 26.786021931782837, 25.90354655910052, 25.862754659128008, 23.480411220764623, 22.454885398837323, 20.875770613281354, 20.66341897828402, 18.708502900171812, 18.375940452754577, 17.84604598538201, 16.36575857654276, 16.477788323921594, 15.441806533837394, 15.179448664090895, 15.095764559002049, 14.785392381497564, 14.622191017014739, 14.743069882811003, 13.056340527372203, 12.609152283862556, 12.57927490632143, 12.30678656863429, 11.082676572031763, 11.081219494690249, 11.019458434788381, 11.046846551402615, 13.496057691219429, 44.71028072817457, 30.848077908721905, 41.3633858264437, 53.11798382564252, 29.528381118188957, 32.71101394470589, 16.852341080535535, 84.75596664926034, 46.89468319043661, 99.13145812196258, 46.538941841388954, 49.65333509710241, 24.982837155936735, 36.28604470056668, 84.11801601435839, 34.57626909177165, 37.30351517660561, 31.547218229085324, 62.69072862837438, 32.96410884832795, 76.09518252484065, 40.97745191372291, 39.235784637738874, 30.3442868303049, 43.620323429239434, 30.011834180072363, 27.505552596391496, 29.19163909841785, 126.87925489897154, 78.18153827480198, 47.44010745213529, 46.49605378943207, 43.28484526033461, 38.39394156057912, 30.786736521585542, 27.708590628657934, 22.11272039757095, 21.39402561105167, 21.17431505913642, 20.42592873868576, 19.084801528675936, 18.92845033345239, 18.616882160008803, 19.58959631247291, 18.14330858649178, 17.746404580013497, 16.90649263334426, 16.025924877594047, 15.812055201876115, 14.999619424538556, 14.83064622693382, 14.917954631845893, 14.34870183618584, 13.664872569559789, 13.104092419514915, 12.026841851881889, 12.04435376084931, 12.876804919024812, 15.314190775619396, 65.82850432563892, 26.86491707715867, 69.77123518077344, 53.38717849462036, 25.43657243641299, 127.65984764978808, 148.90036926832457, 19.713306323645853, 34.29866152611584, 69.31604154112885, 26.919547388622192, 52.86055467470572, 38.491566277889035, 21.841791804835122, 26.030488798319347, 35.97327676783932, 30.207598119199396, 22.54084475907085, 25.840080897401656, 23.54322725263106, 25.08447945383761, 22.704240106438856, 47.58555175677316, 65.9268505378986, 31.027340867287524, 28.229601459968343, 24.783076613198443, 24.47224165107657, 20.49656096457998, 20.038889937134773, 19.544846704687885, 18.549750480695817, 18.012562948784545, 17.583951320866717, 17.583810401993556, 17.519901131253704, 17.121785549736565, 15.242009199545185, 14.885541821475647, 13.309317017038728, 12.68297448097988, 11.93372189738249, 13.497231144322926, 11.590179463890923, 11.414883032492067, 11.122499885200114, 10.956758317583533, 11.818145126664769, 10.755873220056548, 10.024679812914654, 9.9159651250158, 9.330963807523922, 9.482043416047922, 49.75385331098652, 24.462653328615822, 58.9975696417716, 16.651350229775417, 58.23418894457031, 47.07482970961026, 50.354271897613614, 30.806877013313, 97.47398877859618, 118.07941751522448, 129.17442792774366, 77.55780218095518, 23.17489015710421, 40.74608251494273, 20.428364951001022, 48.837067507607316, 30.57467935461645, 25.14764379749512, 23.980255750913223, 20.99588146500065, 22.787556222437928, 18.909075968534957, 88.39038441861534, 35.664206453431156, 32.07973734909999, 34.47640893269525, 33.565143486922146, 29.27039973477318, 25.178232715675833, 23.750097133165337, 23.6013684788513, 21.742245445098156, 17.402091072460628, 17.420743582337682, 17.57848164573834, 16.68468683973109, 19.596081110001045, 18.057599698004598, 14.108209167222812, 114.90083082447588, 13.820022876741806, 13.618933924548086, 13.44696688692614, 13.109939203532056, 13.001379990454687, 12.500559246863574, 25.188459014886757, 12.054881881026143, 11.847243112431338, 11.433180930562754, 11.086130751269389, 10.761854208387026, 24.70654765946407, 29.34978290780192, 16.180058005197367, 84.58586432705225, 36.00122876672656, 14.796153530259508, 43.832473884791824, 49.09130565137229, 22.40520664981852, 17.677457046169252, 16.923936092681494, 30.085051889055652, 22.563302535371523, 19.566634189053147, 20.4499644780783, 17.498801402194317, 31.200685018988263, 29.356542490935926, 29.32791364671501, 27.514547568324524, 26.16668727059029, 25.73056584413285, 19.416924864156883, 18.600994859784862, 16.371626097319332, 15.96454203738888, 14.974678811953547, 14.948875319368312, 16.2258197188702, 14.7534621767226, 13.869778014542868, 13.572878723271902, 12.287793495660036, 12.257954921872914, 12.15795039538743, 12.154913144037724, 12.037545463227588, 12.999905813896891, 11.68843624552731, 10.86845659120031, 10.636459456778429, 10.283385037026573, 10.059299079613943, 9.974732581327135, 9.835442029806215, 9.676859654832318, 18.580218110909797, 46.48136206501506, 27.84881239408445, 28.58205037736033, 24.085511797754588, 43.17864439606271, 14.448358785010772, 15.572082359555178, 62.6847273752949, 39.089689836057566, 21.718004067161797, 18.417638453466758, 24.762667774155684, 42.17586354290348, 19.865607787539027, 18.171775114669337, 27.174466022669623, 21.343258593712218, 24.21395696885686, 27.22029127500972, 21.512440155868735, 19.12018236227222, 25.703751400760094, 18.771984739061462, 18.702758525528854, 18.74975977455812], \"Term\": [\"acte\", \"jaune\", \"mars\", \"nice\", \"gilet\", \"actexix\", \"pouvoir\", \"porter\", \"france\", \"yellowvests\", \"samedi\", \"stopgiletsjaunes\", \"policier\", \"plaire\", \"jaunes\", \"ter\", \"lrem\", \"gilets\", \"lci\", \"toulouse\", \"ric\", \"blackbloc\", \"paris\", \"europeennes\", \"blesser\", \"place\", \"bfmtv\", \"fran\", \"noborder\", \"giletsjaunes\", \"ter\", \"blackbloc\", \"noborder\", \"antifa\", \"drouet\", \"casser\", \"upr\", \"retraiter\", \"eric\", \"attendre\", \"asselineau\", \"ponse\", \"police\", \"oublier\", \"democratie\", \"ultrasjaunes\", \"benalla\", \"utiliser\", \"champs\", \"black\", \"fauter\", \"tenter\", \"enfant\", \"couter\", \"voler\", \"expliquer\", \"der\", \"salaire\", \"aise\", \"pludosky\", \"mars\", \"pression\", \"stopgiletsjaunes\", \"yellowjackets\", \"samedi\", \"yellowvest\", \"direct\", \"dictature\", \"actexix\", \"arr\", \"acte\", \"giletsjaunes\", \"ruer\", \"tre\", \"aller\", \"faire\", \"fran\", \"castaner\", \"partir\", \"grand\", \"dan\", \"ais\", \"macron\", \"falloir\", \"vid\", \"petit\", \"vrai\", \"social\", \"prison\", \"oui\", \"mieux\", \"journaliste\", \"mission\", \"enfiler\", \"aider\", \"senter\", \"ger\", \"fet\", \"menacer\", \"histoire\", \"vivre\", \"importer\", \"ner\", \"huie\", \"rsa\", \"prot\", \"soir\", \"bloquer\", \"heure\", \"proposer\", \"darmanin\", \"gilesjaunes\", \"rence\", \"wauquiez\", \"repr\", \"bon\", \"jamais\", \"ccastaner\", \"mettre\", \"jour\", \"giletjaunes\", \"lacriseetapres\", \"plaire\", \"ais\", \"dan\", \"emmanuelmacron\", \"fran\", \"sortir\", \"armer\", \"faire\", \"mouvement\", \"falloir\", \"casseur\", \"france\", \"prendre\", \"giletsjaunes\", \"aller\", \"pouvoir\", \"contrer\", \"macron\", \"politique\", \"giletsjaunesparis\", \"voir\", \"nice\", \"porter\", \"blesser\", \"place\", \"femme\", \"crs\", \"bordeaux\", \"placer\", \"genevi\", \"foi\", \"lancer\", \"garibaldi\", \"sider\", \"ler\", \"referendum\", \"gjnice\", \"elysee\", \"damer\", \"con\", \"legay\", \"lbd\", \"ouvrir\", \"interdiction\", \"rmc\", \"perdre\", \"philippe\", \"beauvau\", \"conna\", \"plaindre\", \"frapper\", \"photo\", \"policier\", \"mourir\", \"paris\", \"actexx\", \"genevievelegay\", \"acte\", \"giletsjaunes\", \"charger\", \"manifester\", \"macron\", \"manifestant\", \"actexix\", \"manifestation\", \"demander\", \"gouvernement\", \"dan\", \"faire\", \"giletsjaunesparis\", \"samedi\", \"ric\", \"mars\", \"devoir\", \"lci\", \"yellowvests\", \"tat\", \"pari\", \"chalecosamarillos\", \"fin\", \"regardez\", \"total\", \"homme\", \"femmesgiletsjaunes\", \"rieur\", \"diffusion\", \"kelly\", \"gelbewesten\", \"consid\", \"ministre\", \"climat\", \"rouen\", \"ericdrouet\", \"manquer\", \"humain\", \"signer\", \"emp\", \"zeer\", \"ecologie\", \"taxer\", \"gelbwesten\", \"assembleenationale\", \"rtfrance\", \"vaccin\", \"autoriser\", \"toulouse\", \"but\", \"jaunes\", \"franceinter\", \"gilets\", \"europeennes\", \"bfmtv\", \"cnews\", \"france\", \"acte\", \"giletsjaunes\", \"macron\", \"int\", \"manifestation\", \"europe\", \"actexix\", \"politique\", \"castaner\", \"ric\", \"manifestant\", \"actexx\", \"peupler\", \"gilet\", \"condamner\", \"honte\", \"liste\", \"euro\", \"soutenir\", \"dupontaignan\", \"million\", \"benjamincauchy\", \"lire\", \"ennes\", \"gagner\", \"tir\", \"clamer\", \"responsable\", \"dlf\", \"nicolas\", \"jaune\", \"autant\", \"boxeur\", \"dettinger\", \"castanerdemission\", \"curit\", \"main\", \"balancetonpost\", \"avis\", \"christophe\", \"priver\", \"ind\", \"leetchi\", \"battre\", \"europ\", \"pourtant\", \"pouvoir\", \"rer\", \"officiel\", \"plaire\", \"macron\", \"droit\", \"comprendre\", \"venir\", \"giletsjaunes\", \"dan\", \"voir\", \"faire\", \"aller\", \"strat\", \"incomp\", \"coup\", \"gie\", \"tence\", \"chaos\", \"algerie\", \"continuer\", \"merder\", \"macrondestitution\", \"alg\", \"corruption\", \"nathalieloiseau\", \"droitsdelhomme\", \"sou\", \"maintenir\", \"retourner\", \"syst\", \"francoisenicolas\", \"franoisenicolas\", \"violer\", \"onnelacherien\", \"amnestyinternational\", \"regarder\", \"annoncer\", \"manipulation\", \"bouteflika\", \"pondre\", \"macroncomplicedupire\", \"mal\", \"macronie\", \"lrem\", \"franceinsoumise\", \"militaire\", \"frexit\", \"ric\", \"mec\", \"foutre\", \"france\", \"aller\", \"youtube\", \"voter\", \"luire\", \"faire\", \"savoir\", \"macrondemission\", \"politique\", \"droit\", \"voir\", \"dan\", \"vouloir\", \"armer\", \"giletsjaunes\", \"peupler\", \"partir\", \"devoir\"], \"Total\": [445.0, 121.0, 201.0, 127.0, 89.0, 241.0, 155.0, 78.0, 257.0, 67.0, 149.0, 101.0, 91.0, 167.0, 69.0, 68.0, 66.0, 77.0, 48.0, 55.0, 91.0, 61.0, 109.0, 61.0, 48.0, 47.0, 68.0, 92.0, 54.0, 653.0, 68.04338645715085, 61.85563818654571, 54.02837680353677, 52.041433682750665, 49.41733783632151, 38.822146547762316, 32.65080938217513, 28.366679440446482, 22.814231993889756, 20.810323603051, 20.08703978960515, 19.74096330491441, 19.22646545162769, 19.03103298998078, 20.52438512500495, 18.324275366117615, 17.736554077528996, 16.361318862157336, 15.310545380266674, 14.182331829944951, 13.692812113152838, 12.200682649738752, 31.783920006783923, 16.062765760629294, 11.1511089225075, 11.22661229310304, 11.043259369434882, 11.043032570666295, 10.633603496766586, 10.541467556152677, 201.62030605233693, 22.71509663379855, 101.75683254911554, 44.63745496219761, 149.6136461161165, 59.25641121913008, 66.33677147180772, 43.305092168239725, 241.93628889328804, 42.81001700686122, 445.23319199352244, 653.9883684780096, 32.44173373608437, 52.856330537823425, 154.85052670822114, 247.93036534259423, 92.04712884679802, 89.23352177706951, 65.54127521267465, 50.06344268133979, 240.75522131245424, 79.76384504916173, 284.26044975321446, 76.69806845079577, 39.15376085933729, 29.94951392683264, 35.18535712603285, 27.796646769814288, 27.60650490585308, 26.701290645216954, 26.66564629697784, 24.27857062568759, 23.2784045987222, 21.67388295066687, 21.482468424511364, 19.512600805131118, 19.186792097399675, 18.64876995764947, 17.16939955299828, 17.287895162854486, 16.239547592718587, 15.974600916975492, 15.89368045808294, 15.585951520202737, 15.419614139695526, 15.548758329213234, 13.852818617260525, 13.41272731630412, 13.390991482170135, 13.103172723836874, 11.877510414808205, 11.88457743925782, 11.818895915755714, 11.853693365568741, 14.484014756570067, 51.979227731771076, 35.14254447375735, 48.15180578087242, 62.911452931093216, 36.377133284021355, 42.967372233478514, 19.10541296193522, 167.02143592055728, 79.76384504916173, 240.75522131245424, 80.98541752726719, 92.04712884679802, 34.112843899847746, 63.677291420073644, 247.93036534259423, 62.15672536873134, 76.69806845079577, 60.33887606599391, 257.86644762064793, 76.09014989128251, 653.9883684780096, 154.85052670822114, 155.23920614141443, 69.44702551934104, 284.26044975321446, 117.44664249150348, 50.688984170567814, 98.91074510661747, 127.67821536886146, 78.98235800603214, 48.25450983652208, 47.30288300823294, 44.08472262527973, 39.19506049974597, 31.63283740889465, 28.511727511224947, 22.934577173464806, 22.196652707848607, 21.97781108356761, 21.23113268375776, 19.8926433928724, 19.731698394823532, 19.41757372381919, 20.44338028204669, 18.94619186191683, 18.546120307287598, 17.709802485332368, 16.82926529017897, 16.610570537560577, 15.803712760592395, 15.629782093549988, 15.724929195064556, 15.153766272788022, 14.462349637992647, 13.901894299382661, 12.829018372974515, 12.848226744926722, 13.738953936473912, 16.640212779105518, 91.10997751864791, 32.849754739797085, 109.8733761823756, 90.2542097929207, 33.98484009204338, 445.23319199352244, 653.9883684780096, 25.449395317130904, 74.47948091163754, 284.26044975321446, 48.558002794683375, 241.93628889328804, 124.71132053822845, 33.19663216923507, 64.73269579258367, 240.75522131245424, 247.93036534259423, 50.688984170567814, 149.6136461161165, 91.31081100984986, 201.62030605233693, 80.74055876187312, 48.41792951994228, 67.2551201951569, 31.82465580596508, 29.076222591131874, 25.577611311985642, 25.269992874481726, 21.291313190669747, 20.835964771997045, 20.343358202431872, 19.34612259410687, 18.81011931675208, 18.375531167432975, 18.375537422494272, 18.31324609757804, 17.922904921528737, 16.037765922950044, 15.708696799839922, 14.10636775837039, 13.479927782257326, 12.726708966927985, 14.404229672130917, 12.39049920760935, 12.218224270769618, 11.913817239484224, 11.751813469076025, 12.680508509763431, 11.55173435178423, 10.81932926490672, 10.709705100262022, 10.125727981784628, 10.290714012266186, 55.02994643723992, 27.268795480155642, 69.10964298154155, 18.51150331244167, 77.65023005355674, 61.11644261897617, 68.26813952879202, 46.42763087417136, 257.86644762064793, 445.23319199352244, 653.9883684780096, 284.26044975321446, 37.597911953130954, 124.71132053822845, 31.682695264136168, 241.93628889328804, 117.44664249150348, 89.23352177706951, 91.31081100984986, 48.558002794683375, 90.2542097929207, 58.98116259840704, 89.98795045474705, 36.46375532183606, 32.87549487124332, 35.33713371116466, 34.45398833721774, 30.06333802655361, 25.968590659627402, 24.541692204702887, 24.397022604723215, 22.5443697174196, 18.191800525915827, 18.21208075704868, 18.37784402138157, 17.47474939505464, 20.58703309828851, 18.980528095910834, 14.897895850342087, 121.37520975733034, 14.61534626248833, 14.408774207439222, 14.23814525520211, 13.904614111082758, 13.793504703971985, 13.292605115561479, 26.81639889603742, 12.848678965641597, 12.638715564786311, 12.229400966182558, 11.886664952841866, 11.5518466228215, 27.962356129545327, 36.03448797078618, 18.86919055555029, 155.23920614141443, 73.25799793054627, 18.07336054214212, 167.02143592055728, 284.26044975321446, 56.784306557717485, 40.31955983624186, 37.79981826276119, 653.9883684780096, 240.75522131245424, 98.91074510661747, 247.93036534259423, 154.85052670822114, 32.00001621824953, 30.15728840955938, 30.132430963757123, 28.313623119398013, 26.97347753406216, 26.533638504667994, 20.228984310093264, 19.4165985250844, 17.193014592750504, 16.771972460549044, 15.775256909992061, 15.748438477410371, 17.102140908074052, 15.566778566580084, 14.675237727188893, 14.380360235581223, 13.09097036143522, 13.059664006846102, 12.962675126913089, 12.962739433739593, 12.840478700422148, 13.87376725109339, 12.519784693014845, 11.671156031239427, 11.438904992305044, 11.086743018252662, 10.865530270548335, 10.775281103013839, 10.638399520424056, 10.475795531867474, 22.56304486715333, 66.61262113375913, 36.91340295410738, 39.82359768553354, 35.16454968413508, 91.31081100984986, 18.59739182293846, 21.0764265673544, 257.86644762064793, 154.85052670822114, 45.34362446773188, 31.957361522827476, 65.7208286530936, 247.93036534259423, 39.74196449990902, 34.376804796808784, 117.44664249150348, 56.784306557717485, 98.91074510661747, 240.75522131245424, 84.1657436704096, 63.677291420073644, 653.9883684780096, 58.98116259840704, 65.54127521267465, 80.74055876187312], \"loglift\": [30.0, 29.0, 28.0, 27.0, 26.0, 25.0, 24.0, 23.0, 22.0, 21.0, 20.0, 19.0, 18.0, 17.0, 16.0, 15.0, 14.0, 13.0, 12.0, 11.0, 10.0, 9.0, 8.0, 7.0, 6.0, 5.0, 4.0, 3.0, 2.0, 1.0, 1.487, 1.4862, 1.4842, 1.4838, 1.4821, 1.4776, 1.4739, 1.4707, 1.4637, 1.4598, 1.4586, 1.4579, 1.4561, 1.4559, 1.4551, 1.455, 1.453, 1.4488, 1.4458, 1.4415, 1.4367, 1.4313, 1.4294, 1.4278, 1.4249, 1.424, 1.4238, 1.4237, 1.4211, 1.4198, 1.3622, 1.4012, 1.3426, 1.3605, 1.2337, 1.3038, 1.2529, 1.2877, 0.9503, 1.2204, 0.6731, 0.5133, 1.2552, 0.9925, 0.499, 0.2417, 0.7087, 0.6481, 0.7917, 0.9438, 0.0311, 0.593, -0.545, 0.5309, 1.5663, 1.5646, 1.563, 1.5621, 1.5617, 1.5615, 1.5613, 1.5584, 1.5558, 1.5543, 1.553, 1.5498, 1.5487, 1.5479, 1.5439, 1.5439, 1.5415, 1.5408, 1.5404, 1.5391, 1.5388, 1.5387, 1.5326, 1.5301, 1.5293, 1.5292, 1.5226, 1.5219, 1.5218, 1.5214, 1.5212, 1.4412, 1.4615, 1.4399, 1.4227, 1.3833, 1.3191, 1.4664, 0.9135, 1.0607, 0.7045, 1.0379, 0.9746, 1.2804, 1.0295, 0.5109, 1.0054, 0.8711, 0.9434, 0.1776, 0.7554, -0.5592, 0.2624, 0.2165, 0.7639, -0.2825, 0.2275, 0.9805, 0.3715, 1.7226, 1.7187, 1.7118, 1.7116, 1.7105, 1.7082, 1.7017, 1.7003, 1.6924, 1.692, 1.6916, 1.6902, 1.6874, 1.6873, 1.6867, 1.6862, 1.6855, 1.6848, 1.6824, 1.6799, 1.6796, 1.6766, 1.6764, 1.6762, 1.6743, 1.6721, 1.6697, 1.6643, 1.6642, 1.664, 1.6458, 1.4038, 1.5277, 1.2747, 1.2038, 1.4391, 0.4796, 0.249, 1.4734, 0.9534, 0.3176, 1.1389, 0.2078, 0.5533, 1.3102, 0.8178, -0.1722, -0.3762, 0.9185, -0.0273, 0.3734, -0.3553, 0.4602, 1.8881, 1.8855, 1.8801, 1.8759, 1.8739, 1.8734, 1.8674, 1.8664, 1.8654, 1.8634, 1.8621, 1.8614, 1.8614, 1.8612, 1.8597, 1.8545, 1.8516, 1.8473, 1.8445, 1.8411, 1.8404, 1.8387, 1.8374, 1.8367, 1.8354, 1.835, 1.8341, 1.8292, 1.8284, 1.8237, 1.8236, 1.8046, 1.7968, 1.7472, 1.7995, 1.6177, 1.6444, 1.6011, 1.4953, 0.9326, 0.5782, 0.2835, 0.6066, 1.4216, 0.7868, 1.4666, 0.3053, 0.5596, 0.6389, 0.5684, 1.067, 0.529, 0.7679, 2.0543, 2.0501, 2.0477, 2.0476, 2.0461, 2.0455, 2.0413, 2.0395, 2.0391, 2.036, 2.0279, 2.0278, 2.0278, 2.026, 2.0229, 2.0224, 2.0178, 2.0174, 2.0163, 2.0159, 2.0151, 2.0134, 2.0131, 2.0108, 2.0096, 2.0085, 2.0076, 2.0049, 2.0025, 2.0014, 1.9485, 1.8671, 1.9185, 1.465, 1.3618, 1.8722, 0.7345, 0.316, 1.1423, 1.2477, 1.2687, -1.0068, -0.2952, 0.4519, -0.4229, -0.1081, 2.0869, 2.0853, 2.0851, 2.0835, 2.0818, 2.0814, 2.0712, 2.0693, 2.0632, 2.0628, 2.0601, 2.0601, 2.0596, 2.0585, 2.0557, 2.0544, 2.0488, 2.0488, 2.0481, 2.0478, 2.0476, 2.0471, 2.0435, 2.0409, 2.0394, 2.0369, 2.0351, 2.035, 2.0337, 2.0328, 1.9179, 1.7523, 1.8304, 1.7805, 1.7337, 1.3632, 1.8597, 1.8095, 0.6978, 0.7356, 1.376, 1.5611, 1.1361, 0.3409, 1.4187, 1.4747, 0.6485, 1.1336, 0.7049, -0.0677, 0.748, 0.9091, -1.1243, 0.9673, 0.8582, 0.6521], \"logprob\": [30.0, 29.0, 28.0, 27.0, 26.0, 25.0, 24.0, 23.0, 22.0, 21.0, 20.0, 19.0, 18.0, 17.0, 16.0, 15.0, 14.0, 13.0, 12.0, 11.0, 10.0, 9.0, 8.0, 7.0, 6.0, 5.0, 4.0, 3.0, 2.0, 1.0, -4.1649, -4.261, -4.3983, -4.4362, -4.4897, -4.7355, -4.9122, -5.0561, -5.281, -5.3768, -5.4134, -5.4315, -5.4596, -5.47, -5.3953, -5.5089, -5.5434, -5.6283, -5.6977, -5.7785, -5.8185, -5.9392, -4.9837, -5.6677, -6.0356, -6.0297, -6.0464, -6.0465, -6.087, -6.0969, -3.2034, -5.3478, -3.9069, -4.7129, -3.6303, -4.4864, -4.4244, -4.8161, -3.4331, -4.8949, -3.1003, -2.8756, -5.1374, -4.912, -4.3306, -4.1172, -4.6411, -4.7327, -4.8977, -5.0149, -4.3571, -4.8999, -4.7671, -5.0012, -4.6383, -4.908, -4.7485, -4.985, -4.9923, -5.0258, -5.0274, -5.124, -5.1687, -5.2416, -5.2518, -5.3512, -5.3691, -5.3984, -5.485, -5.4782, -5.5431, -5.5602, -5.5658, -5.5865, -5.5976, -5.5894, -5.7109, -5.7458, -5.7481, -5.77, -5.8748, -5.8749, -5.8805, -5.878, -5.6778, -4.48, -4.8511, -4.5578, -4.3077, -4.8948, -4.7925, -5.4557, -3.8404, -4.4323, -3.6837, -4.4399, -4.3751, -5.062, -4.6888, -3.848, -4.737, -4.6611, -4.8287, -4.142, -4.7848, -3.9482, -4.5672, -4.6106, -4.8676, -4.5047, -4.8786, -4.9658, -4.9063, -3.3, -3.7842, -4.2837, -4.3038, -4.3754, -4.4953, -4.7161, -4.8215, -5.0471, -5.0801, -5.0904, -5.1264, -5.1943, -5.2025, -5.2191, -5.1682, -5.2449, -5.267, -5.3155, -5.369, -5.3824, -5.4352, -5.4465, -5.4406, -5.4795, -5.5284, -5.5703, -5.6561, -5.6546, -5.5878, -5.4144, -3.9562, -4.8524, -3.898, -4.1656, -4.907, -3.2938, -3.1399, -5.1619, -4.6081, -3.9045, -4.8504, -4.1755, -4.4928, -5.0594, -4.8839, -4.5604, -4.7351, -5.0279, -4.8913, -4.9844, -4.921, -5.0207, -4.1041, -3.7781, -4.5317, -4.6262, -4.7564, -4.7691, -4.9464, -4.9689, -4.9939, -5.0462, -5.0755, -5.0996, -5.0996, -5.1033, -5.1263, -5.2426, -5.2662, -5.3781, -5.4263, -5.4872, -5.3641, -5.5165, -5.5317, -5.5576, -5.5727, -5.497, -5.5912, -5.6616, -5.6725, -5.7333, -5.7172, -4.0595, -4.7695, -3.8891, -5.1541, -3.9021, -4.1149, -4.0475, -4.5389, -3.387, -3.1953, -3.1054, -3.6156, -4.8235, -4.2592, -4.9497, -4.0781, -4.5464, -4.7418, -4.7894, -4.9223, -4.8404, -5.027, -3.318, -4.2257, -4.3316, -4.2595, -4.2863, -4.4232, -4.5738, -4.6322, -4.6385, -4.7205, -4.9432, -4.9421, -4.9331, -4.9853, -4.8245, -4.9062, -5.153, -3.0557, -5.1737, -5.1883, -5.201, -5.2264, -5.2347, -5.274, -4.5734, -5.3103, -5.3277, -5.3633, -5.3941, -5.4238, -4.5927, -4.4205, -5.016, -3.362, -4.2162, -5.1054, -4.0194, -3.9061, -4.6905, -4.9275, -4.9711, -4.3958, -4.6835, -4.826, -4.7818, -4.9377, -4.3194, -4.3804, -4.3813, -4.4452, -4.4954, -4.5122, -4.7937, -4.8367, -4.9643, -4.9895, -5.0535, -5.0552, -4.9733, -5.0684, -5.1302, -5.1518, -5.2513, -5.2537, -5.2619, -5.2621, -5.2719, -5.1949, -5.3013, -5.374, -5.3956, -5.4294, -5.4514, -5.4598, -5.4739, -5.4901, -4.8378, -3.9208, -4.4331, -4.4071, -4.5783, -3.9945, -5.0893, -5.0144, -3.6218, -4.094, -4.6817, -4.8466, -4.5505, -4.018, -4.7709, -4.86, -4.4576, -4.6991, -4.573, -4.4559, -4.6913, -4.8091, -4.5132, -4.8275, -4.8312, -4.8287]}, \"token.table\": {\"Topic\": [1, 2, 3, 4, 6, 1, 3, 4, 2, 3, 4, 6, 2, 1, 2, 1, 6, 6, 1, 2, 5, 6, 6, 6, 1, 1, 2, 6, 1, 2, 3, 1, 4, 1, 5, 4, 5, 2, 5, 4, 5, 3, 1, 5, 3, 4, 5, 6, 1, 1, 3, 2, 2, 6, 3, 6, 5, 4, 6, 1, 1, 2, 1, 2, 4, 5, 5, 2, 3, 4, 1, 6, 2, 3, 5, 5, 4, 3, 4, 1, 2, 5, 3, 5, 3, 4, 6, 2, 3, 5, 6, 6, 6, 1, 3, 5, 3, 1, 2, 3, 5, 6, 2, 1, 3, 1, 1, 5, 1, 2, 3, 6, 1, 4, 4, 1, 3, 5, 2, 4, 5, 6, 6, 1, 5, 4, 3, 1, 2, 3, 4, 6, 4, 1, 3, 2, 5, 1, 4, 5, 2, 5, 1, 3, 4, 1, 4, 1, 1, 2, 3, 5, 6, 1, 2, 5, 6, 1, 3, 4, 2, 4, 3, 3, 6, 1, 2, 1, 2, 3, 4, 5, 6, 1, 2, 4, 6, 2, 4, 6, 6, 3, 1, 6, 5, 3, 4, 4, 3, 2, 3, 5, 6, 2, 6, 2, 3, 5, 2, 5, 2, 3, 4, 5, 1, 2, 3, 4, 5, 6, 2, 3, 3, 1, 2, 3, 4, 5, 1, 2, 3, 5, 6, 2, 2, 4, 5, 2, 4, 2, 6, 5, 4, 5, 3, 1, 2, 3, 4, 5, 2, 3, 4, 5, 2, 5, 2, 4, 2, 4, 3, 3, 4, 5, 3, 3, 5, 5, 1, 2, 6, 1, 2, 3, 6, 1, 2, 3, 4, 5, 6, 6, 4, 5, 6, 6, 4, 6, 5, 6, 6, 3, 4, 1, 2, 3, 4, 5, 6, 1, 2, 3, 4, 6, 6, 4, 1, 3, 1, 2, 6, 2, 6, 2, 3, 2, 2, 3, 6, 5, 4, 2, 3, 4, 1, 2, 3, 6, 6, 2, 3, 5, 1, 4, 5, 6, 1, 2, 3, 4, 1, 2, 3, 1, 4, 6, 3, 2, 1, 2, 3, 4, 6, 3, 2, 3, 3, 3, 3, 1, 2, 5, 6, 1, 1, 2, 3, 2, 3, 4, 5, 6, 6, 1, 3, 2, 5, 1, 2, 4, 5, 1, 2, 5, 6, 1, 6, 2, 5, 2, 2, 3, 6, 4, 2, 2, 1, 2, 4, 5, 6, 5, 6, 1, 3, 4, 6, 4, 3, 4, 2, 4, 1, 2, 3, 1, 1, 2, 3, 4, 6, 1, 2, 6, 2, 3, 4, 2, 2, 1, 2, 3, 6, 5, 1, 3, 6, 6, 4, 4, 6, 1, 1, 5, 4, 1, 4, 1, 3, 1, 1, 1, 4, 1, 2, 3, 5, 2, 6, 2, 1, 2, 4, 5, 6, 1, 1, 5, 6, 1, 2, 3, 4, 5, 6, 2, 2, 1, 4, 1, 4, 3, 4, 2, 4, 6, 4], \"Freq\": [0.4379727376723454, 0.006738042118036083, 0.2874897970362062, 0.26502965664275263, 0.002246014039345361, 0.5786647412027984, 0.2190659377410594, 0.20253265942097945, 0.011079815581947927, 0.5872302258432401, 0.2548357583848023, 0.14403760256532305, 0.9775412948373814, 0.40118427064639484, 0.5892393975118924, 0.940414978143651, 0.9508561467863631, 0.9392463659443316, 0.36809690746097945, 0.26477145975263433, 0.10978328819011667, 0.2518557787890912, 0.9584829367469196, 0.9616305063640012, 0.9799883744729375, 0.10992929887393606, 0.5653506799230997, 0.2983795255149693, 0.7474886075114456, 0.07007705695419802, 0.16351313289312872, 0.9458835248503026, 0.924271713629765, 0.9610614607198036, 0.9578972505038984, 0.8745748826828053, 0.9339481538988536, 0.03729061474200278, 0.9322653685500695, 0.1072870964843398, 0.8940591373694984, 0.9351243593167938, 0.9584725378836603, 0.9837265960213377, 0.014648121464892873, 0.7324060732446437, 0.17577745757871446, 0.05859248585957149, 0.9166334673224509, 0.9861671755133258, 0.9740022260971639, 0.9692286805978364, 0.8657304458660668, 0.13466918046805484, 0.9799942888235279, 0.9203416447244727, 0.9716301885535709, 0.8801268841326546, 0.07334390701105455, 0.9788227436947403, 0.46404576660287483, 0.5303380189747141, 0.42584893258987033, 0.134478610291538, 0.28016377144070415, 0.14568516114916616, 0.9349414443395643, 0.8514737782956965, 0.12460591877497997, 0.977417308248993, 0.9797168962598205, 0.9798882273694159, 0.19646832224081648, 0.7858732889632659, 0.9494635699717869, 0.9728322630372602, 0.9548850672420424, 0.3230834681324393, 0.6677058341403747, 0.12400929028758079, 0.4216315869777747, 0.44643344503529087, 0.9599203612846477, 0.9872817454553743, 0.9353794383270261, 0.9485069565692916, 0.9785442066721319, 0.43198394424603515, 0.27358983135582227, 0.11519571846560937, 0.15839411289021288, 0.9524753848780668, 0.9624182010034572, 0.9338366893680172, 0.9695099207780604, 0.942472582494318, 0.9705533934731889, 0.22844779731119733, 0.4112060351601552, 0.14952946733096553, 0.09553271523922797, 0.11214710049822414, 0.9261200046001076, 0.33135891448031385, 0.6627178289606277, 0.9744506292485181, 0.9055297594184579, 0.9130402708351543, 0.1857802352376489, 0.2972483763802382, 0.28486302736439495, 0.2353216313010219, 0.8082190395537192, 0.18473578046942155, 0.9795635204222815, 0.7838789685762644, 0.21104433769360964, 0.9483403153507578, 0.10566299676304751, 0.12327349622355542, 0.3874309881311742, 0.36982048867066625, 0.9635905037027451, 0.9915548296489827, 0.9627014545254764, 0.9360257486170656, 0.950058995031147, 0.04939160804663666, 0.5803513945479808, 0.08643531408161416, 0.16052272615156915, 0.1111311181049325, 0.9002944909364573, 0.943873505646781, 0.031462450188226035, 0.9689080654259907, 0.9344869396397568, 0.9643103482901451, 0.9643968580537189, 0.9868233444333255, 0.166507152949261, 0.8047845725880948, 0.157814856290331, 0.157814856290331, 0.631259425161324, 0.21270871541144973, 0.7690238172567798, 0.8907406561232548, 0.286370731160304, 0.33880480869669766, 0.12100171739167774, 0.08066781159445183, 0.16940240434834883, 0.3781060016994354, 0.48241110561652106, 0.013038137989635703, 0.11734324190672134, 0.9494032264937494, 0.9753945911262757, 0.982108942377306, 0.9652111126297982, 0.9497430458017977, 0.9460885961681296, 0.23723186584886152, 0.7591419707163569, 0.45628799644478024, 0.5431999957675955, 0.06592559891703713, 0.24431251363372586, 0.03490178766196084, 0.3761637114678001, 0.03490178766196084, 0.24431251363372586, 0.16254258669837363, 0.027090431116395603, 0.054180862232791206, 0.7585320712590768, 0.05402046409315095, 0.9183478895835662, 0.9257348411891937, 0.9257302487131878, 0.9462146870940333, 0.28437730867663075, 0.6825055408239138, 0.9334463330567232, 0.9420128590360324, 0.982895107950334, 0.9522379640162855, 0.9592502985166822, 0.029424884663033113, 0.7356221165758278, 0.029424884663033113, 0.2059741926412318, 0.938145361070519, 0.9889232431301543, 0.9255692982119976, 0.011112598908482508, 0.9779087039464607, 0.7680246262369211, 0.23273473522330945, 0.07726957145988742, 0.15453914291977483, 0.7469391907789117, 0.025756523819962473, 0.37309532059086536, 0.11621001788895806, 0.2278327982296678, 0.1972512145746788, 0.04587237548248345, 0.039756058751485655, 0.5523882645937497, 0.45374750305915146, 0.9783117920847921, 0.061792575622322134, 0.29351473420603014, 0.40165174154509387, 0.1390332951502248, 0.09268886343348319, 0.5792649975070374, 0.07989862034579825, 0.11984793051869738, 0.21972120595094521, 0.019974655086449564, 0.9708019019584373, 0.9255030672778655, 0.983121852399432, 0.9733693781744673, 0.962405149313905, 0.902512685225521, 0.938990593753123, 0.9616249182007843, 0.9254067514850007, 0.6117360992991177, 0.37236110392120203, 0.9597062780670574, 0.11382215089709839, 0.8821216694525126, 0.024716744102836186, 0.024716744102836186, 0.9474751906087205, 0.07234880378900882, 0.05787904303120705, 0.853715884710304, 0.014469760757801762, 0.8246939022316387, 0.16493878044632776, 0.9473374835199394, 0.9795631869773473, 0.889800185626453, 0.10468237477958271, 0.9555091687771081, 0.9632420490205362, 0.9913682901337171, 0.9522287093276249, 0.9507248072996447, 0.9629176171162495, 0.9758534071148162, 0.9621606629984764, 0.045036510333018656, 0.2552068918871057, 0.690559825106286, 0.24345402101449082, 0.1825905157608681, 0.19780639207427378, 0.3803969078351419, 0.13016232132230207, 0.1547876253562511, 0.24273513976321195, 0.27439624494971787, 0.17237712823764326, 0.028143204610227474, 0.9399910184611483, 0.20362567264104237, 0.2618044362527687, 0.5236088725055374, 0.9539724703003851, 0.13296077801836573, 0.8420849274496496, 0.9779873762127388, 0.9735500203506654, 0.9545814415315668, 0.5560360485616231, 0.43247248221459583, 0.17640740154985543, 0.0561296277658631, 0.30470369358611393, 0.3287592483429124, 0.016037036504532313, 0.1122592555317262, 0.08055910066181048, 0.3356629194242103, 0.456501570416926, 0.06713258388484206, 0.05370606710787365, 0.9019781538668749, 0.9428989089939565, 0.8729279478145104, 0.12399544713274296, 0.05377098087305859, 0.16131294261917575, 0.7527937322228202, 0.9318904805384375, 0.9306105054285511, 0.8424539178589754, 0.14305821246661846, 0.9750373086943225, 0.22599665833982074, 0.05022147963107128, 0.7282114546505335, 0.9779276750688332, 0.9352923637908319, 0.9450819495253392, 0.8219239447559656, 0.1522081379177714, 0.14479527270153705, 0.5630927271726441, 0.27350218176957, 0.016088363633504115, 0.9355553837383177, 0.943771333490699, 0.994688088591291, 0.9397300223224833, 0.9809659874240484, 0.11066010636685683, 0.8299507977514262, 0.9370201881522462, 0.9458235929429798, 0.9737357023473104, 0.9491440541366643, 0.9629861620518713, 0.17292633265826343, 0.18202771858764571, 0.63709701505676, 0.4882419497662094, 0.21360585302271662, 0.2898936576736868, 0.9238627380138581, 0.9682961823970725, 0.016954565762103305, 0.3051821837178595, 0.016954565762103305, 0.3221367494799628, 0.3221367494799628, 0.9680308076097087, 0.06009538539408955, 0.9014307809113432, 0.9724565835024014, 0.9820520341665203, 0.9339810261940112, 0.13770687500818643, 0.5089167119867759, 0.2634392391460958, 0.08980883152707811, 0.9486345185555647, 0.9362095204283188, 0.2743936578722471, 0.7243992567827323, 0.25543514368382486, 0.1788046005786774, 0.26394964847328567, 0.06811603831568662, 0.22989162931544235, 0.9280500345557581, 0.9624656966598003, 0.987562310991562, 0.105992887936134, 0.847943103489072, 0.1159500904919791, 0.2512251960659547, 0.0837417320219849, 0.5475420939899013, 0.3154153334471172, 0.4336960834897861, 0.14456536116326205, 0.1051384444823724, 0.9244952966105106, 0.04402358555288146, 0.9780303624844415, 0.8994716937009287, 0.9158087321988806, 0.9647072571587778, 0.9784950617539329, 0.942494468461994, 0.9393502326932269, 0.930712993701548, 0.8975412010059638, 0.08190232014924052, 0.27300773383080174, 0.13650386691540087, 0.4914139208954431, 0.013650386691540088, 0.9714852987564627, 0.9166623763316188, 0.9870735860636669, 0.2628385372397041, 0.2628385372397041, 0.4709190458878031, 0.9569317289747016, 0.9538993666634707, 0.9215696217962348, 0.9727869883192932, 0.9337325263751045, 0.7706123292724315, 0.03082449317089726, 0.18494695902538355, 0.9055483569398399, 0.7686464636437471, 0.033419411462771616, 0.1737809396064124, 0.02005164687766297, 0.006683882292554323, 0.05032463858208566, 0.42775942794772814, 0.5032463858208566, 0.9737297549286038, 0.955126959487333, 0.968483981067564, 0.9713401844326272, 0.9384371772400226, 0.20520130249331814, 0.7328617946189934, 0.029314471784759735, 0.9539879530579681, 0.9646300744909162, 0.8549794428595959, 0.13758289885096944, 0.9687495090180854, 0.9188597802906255, 0.9740875184638914, 0.9463342886257701, 0.9639098246478286, 0.9015888959488294, 0.9846658652445539, 0.979440242231789, 0.9598787586202604, 0.09085961960188998, 0.9085961960188998, 0.605414709541767, 0.3783841934636044, 0.9823035094355101, 0.9800675880785232, 0.9779162752586502, 0.8888249828743452, 0.07936546094337907, 0.21164122918234415, 0.23809638283013718, 0.44973761201248136, 0.9705325661184309, 0.9345445975939732, 0.9236710514476173, 0.12132150037961001, 0.29319362591739084, 0.13143162541124417, 0.20220250063268336, 0.24264300075922002, 0.8967717981676162, 0.18775016816435666, 0.21904186285841612, 0.56325050449307, 0.2376263682564176, 0.20198241301795497, 0.07128791047692529, 0.02376263682564176, 0.20198241301795497, 0.26138900508205937, 0.9663110673628539, 0.9279808124572841, 0.8737057261223375, 0.1120135546310689, 0.8269147420824745, 0.16875811062907645, 0.01486875641732941, 0.981337923543741, 0.22053817085390587, 0.3087534391954682, 0.4851839758785929, 0.9232976953469042], \"Term\": [\"acte\", \"acte\", \"acte\", \"acte\", \"acte\", \"actexix\", \"actexix\", \"actexix\", \"actexx\", \"actexx\", \"actexx\", \"actexx\", \"aider\", \"ais\", \"ais\", \"aise\", \"alg\", \"algerie\", \"aller\", \"aller\", \"aller\", \"aller\", \"amnestyinternational\", \"annoncer\", \"antifa\", \"armer\", \"armer\", \"armer\", \"arr\", \"arr\", \"arr\", \"asselineau\", \"assembleenationale\", \"attendre\", \"autant\", \"autoriser\", \"avis\", \"balancetonpost\", \"balancetonpost\", \"battre\", \"battre\", \"beauvau\", \"benalla\", \"benjamincauchy\", \"bfmtv\", \"bfmtv\", \"bfmtv\", \"bfmtv\", \"black\", \"blackbloc\", \"blesser\", \"bloquer\", \"bon\", \"bon\", \"bordeaux\", \"bouteflika\", \"boxeur\", \"but\", \"but\", \"casser\", \"casseur\", \"casseur\", \"castaner\", \"castaner\", \"castaner\", \"castaner\", \"castanerdemission\", \"ccastaner\", \"ccastaner\", \"chalecosamarillos\", \"champs\", \"chaos\", \"charger\", \"charger\", \"christophe\", \"clamer\", \"climat\", \"cnews\", \"cnews\", \"comprendre\", \"comprendre\", \"comprendre\", \"con\", \"condamner\", \"conna\", \"consid\", \"continuer\", \"contrer\", \"contrer\", \"contrer\", \"contrer\", \"corruption\", \"coup\", \"couter\", \"crs\", \"curit\", \"damer\", \"dan\", \"dan\", \"dan\", \"dan\", \"dan\", \"darmanin\", \"demander\", \"demander\", \"democratie\", \"der\", \"dettinger\", \"devoir\", \"devoir\", \"devoir\", \"devoir\", \"dictature\", \"dictature\", \"diffusion\", \"direct\", \"direct\", \"dlf\", \"droit\", \"droit\", \"droit\", \"droit\", \"droitsdelhomme\", \"drouet\", \"dupontaignan\", \"ecologie\", \"elysee\", \"emmanuelmacron\", \"emmanuelmacron\", \"emmanuelmacron\", \"emmanuelmacron\", \"emmanuelmacron\", \"emp\", \"enfant\", \"enfant\", \"enfiler\", \"ennes\", \"eric\", \"ericdrouet\", \"euro\", \"europ\", \"europ\", \"europe\", \"europe\", \"europe\", \"europeennes\", \"europeennes\", \"expliquer\", \"faire\", \"faire\", \"faire\", \"faire\", \"faire\", \"falloir\", \"falloir\", \"falloir\", \"falloir\", \"fauter\", \"femme\", \"femmesgiletsjaunes\", \"fet\", \"fin\", \"foi\", \"foutre\", \"foutre\", \"fran\", \"fran\", \"france\", \"france\", \"france\", \"france\", \"france\", \"france\", \"franceinsoumise\", \"franceinsoumise\", \"franceinsoumise\", \"franceinsoumise\", \"franceinter\", \"franceinter\", \"francoisenicolas\", \"franoisenicolas\", \"frapper\", \"frexit\", \"frexit\", \"gagner\", \"garibaldi\", \"gelbewesten\", \"gelbwesten\", \"genevi\", \"genevievelegay\", \"genevievelegay\", \"genevievelegay\", \"genevievelegay\", \"ger\", \"gie\", \"gilesjaunes\", \"gilet\", \"gilet\", \"giletjaunes\", \"giletjaunes\", \"gilets\", \"gilets\", \"gilets\", \"gilets\", \"giletsjaunes\", \"giletsjaunes\", \"giletsjaunes\", \"giletsjaunes\", \"giletsjaunes\", \"giletsjaunes\", \"giletsjaunesparis\", \"giletsjaunesparis\", \"gjnice\", \"gouvernement\", \"gouvernement\", \"gouvernement\", \"gouvernement\", \"gouvernement\", \"grand\", \"grand\", \"grand\", \"grand\", \"grand\", \"heure\", \"histoire\", \"homme\", \"honte\", \"huie\", \"humain\", \"importer\", \"incomp\", \"ind\", \"int\", \"int\", \"interdiction\", \"jamais\", \"jamais\", \"jaune\", \"jaune\", \"jaune\", \"jaunes\", \"jaunes\", \"jaunes\", \"jaunes\", \"jour\", \"jour\", \"journaliste\", \"kelly\", \"lacriseetapres\", \"lacriseetapres\", \"lancer\", \"lbd\", \"lci\", \"leetchi\", \"legay\", \"ler\", \"lire\", \"liste\", \"lrem\", \"lrem\", \"lrem\", \"luire\", \"luire\", \"luire\", \"luire\", \"macron\", \"macron\", \"macron\", \"macron\", \"macron\", \"macron\", \"macroncomplicedupire\", \"macrondemission\", \"macrondemission\", \"macrondemission\", \"macrondestitution\", \"macronie\", \"macronie\", \"main\", \"maintenir\", \"mal\", \"manifestant\", \"manifestant\", \"manifestation\", \"manifestation\", \"manifestation\", \"manifestation\", \"manifestation\", \"manifestation\", \"manifester\", \"manifester\", \"manifester\", \"manifester\", \"manifester\", \"manipulation\", \"manquer\", \"mars\", \"mars\", \"mec\", \"mec\", \"mec\", \"menacer\", \"merder\", \"mettre\", \"mettre\", \"mieux\", \"militaire\", \"militaire\", \"militaire\", \"million\", \"ministre\", \"mission\", \"mourir\", \"mourir\", \"mouvement\", \"mouvement\", \"mouvement\", \"mouvement\", \"nathalieloiseau\", \"ner\", \"nice\", \"nicolas\", \"noborder\", \"officiel\", \"officiel\", \"onnelacherien\", \"oublier\", \"oui\", \"ouvrir\", \"pari\", \"paris\", \"paris\", \"paris\", \"partir\", \"partir\", \"partir\", \"perdre\", \"petit\", \"peupler\", \"peupler\", \"peupler\", \"peupler\", \"peupler\", \"philippe\", \"photo\", \"photo\", \"place\", \"placer\", \"plaindre\", \"plaire\", \"plaire\", \"plaire\", \"plaire\", \"pludosky\", \"police\", \"policier\", \"policier\", \"politique\", \"politique\", \"politique\", \"politique\", \"politique\", \"pondre\", \"ponse\", \"porter\", \"pourtant\", \"pourtant\", \"pouvoir\", \"pouvoir\", \"pouvoir\", \"pouvoir\", \"prendre\", \"prendre\", \"prendre\", \"prendre\", \"pression\", \"pression\", \"prison\", \"priver\", \"proposer\", \"prot\", \"referendum\", \"regarder\", \"regardez\", \"rence\", \"repr\", \"rer\", \"rer\", \"rer\", \"rer\", \"rer\", \"responsable\", \"retourner\", \"retraiter\", \"ric\", \"ric\", \"ric\", \"rieur\", \"rmc\", \"rouen\", \"rsa\", \"rtfrance\", \"ruer\", \"ruer\", \"ruer\", \"salaire\", \"samedi\", \"samedi\", \"samedi\", \"samedi\", \"samedi\", \"savoir\", \"savoir\", \"savoir\", \"senter\", \"sider\", \"signer\", \"social\", \"soir\", \"sortir\", \"sortir\", \"sortir\", \"sou\", \"soutenir\", \"stopgiletsjaunes\", \"stopgiletsjaunes\", \"strat\", \"syst\", \"tat\", \"taxer\", \"tence\", \"tenter\", \"ter\", \"tir\", \"total\", \"toulouse\", \"toulouse\", \"tre\", \"tre\", \"ultrasjaunes\", \"upr\", \"utiliser\", \"vaccin\", \"venir\", \"venir\", \"venir\", \"venir\", \"vid\", \"violer\", \"vivre\", \"voir\", \"voir\", \"voir\", \"voir\", \"voir\", \"voler\", \"voter\", \"voter\", \"voter\", \"vouloir\", \"vouloir\", \"vouloir\", \"vouloir\", \"vouloir\", \"vouloir\", \"vrai\", \"wauquiez\", \"yellowjackets\", \"yellowjackets\", \"yellowvest\", \"yellowvest\", \"yellowvests\", \"yellowvests\", \"youtube\", \"youtube\", \"youtube\", \"zeer\"]}, \"R\": 30, \"lambda.step\": 0.01, \"plot.opts\": {\"xlab\": \"PC1\", \"ylab\": \"PC2\"}, \"topic.order\": [6, 3, 5, 1, 4, 2]};\n",
       "\n",
       "function LDAvis_load_lib(url, callback){\n",
       "  var s = document.createElement('script');\n",
       "  s.src = url;\n",
       "  s.async = true;\n",
       "  s.onreadystatechange = s.onload = callback;\n",
       "  s.onerror = function(){console.warn(\"failed to load library \" + url);};\n",
       "  document.getElementsByTagName(\"head\")[0].appendChild(s);\n",
       "}\n",
       "\n",
       "if(typeof(LDAvis) !== \"undefined\"){\n",
       "   // already loaded: just create the visualization\n",
       "   !function(LDAvis){\n",
       "       new LDAvis(\"#\" + \"ldavis_el1501212468521336566584677610\", ldavis_el1501212468521336566584677610_data);\n",
       "   }(LDAvis);\n",
       "}else if(typeof define === \"function\" && define.amd){\n",
       "   // require.js is available: use it to load d3/LDAvis\n",
       "   require.config({paths: {d3: \"https://cdnjs.cloudflare.com/ajax/libs/d3/3.5.5/d3.min\"}});\n",
       "   require([\"d3\"], function(d3){\n",
       "      window.d3 = d3;\n",
       "      LDAvis_load_lib(\"https://cdn.rawgit.com/bmabey/pyLDAvis/files/ldavis.v1.0.0.js\", function(){\n",
       "        new LDAvis(\"#\" + \"ldavis_el1501212468521336566584677610\", ldavis_el1501212468521336566584677610_data);\n",
       "      });\n",
       "    });\n",
       "}else{\n",
       "    // require.js not available: dynamically load d3 & LDAvis\n",
       "    LDAvis_load_lib(\"https://cdnjs.cloudflare.com/ajax/libs/d3/3.5.5/d3.min.js\", function(){\n",
       "         LDAvis_load_lib(\"https://cdn.rawgit.com/bmabey/pyLDAvis/files/ldavis.v1.0.0.js\", function(){\n",
       "                 new LDAvis(\"#\" + \"ldavis_el1501212468521336566584677610\", ldavis_el1501212468521336566584677610_data);\n",
       "            })\n",
       "         });\n",
       "}\n",
       "</script>"
      ],
      "text/plain": [
       "PreparedData(topic_coordinates=               x          y  topics  cluster       Freq\n",
       "topic                                                  \n",
       "5      -7.502934  44.710052       1        1  22.332860\n",
       "2     -25.632648   3.315551       2        1  20.354610\n",
       "4      47.128963  -3.888149       3        1  17.748955\n",
       "0      11.918715  11.536210       4        1  14.875730\n",
       "3      37.468178  40.256969       5        1  12.590274\n",
       "1       8.130635 -26.717463       6        1  12.097571, topic_info=     Category        Freq                  Term       Total  loglift  logprob\n",
       "6     Default  445.000000                  acte  445.000000  30.0000  30.0000\n",
       "494   Default  121.000000                 jaune  121.000000  29.0000  29.0000\n",
       "587   Default  201.000000                  mars  201.000000  28.0000  28.0000\n",
       "657   Default  127.000000                  nice  127.000000  27.0000  27.0000\n",
       "423   Default   89.000000                 gilet   89.000000  26.0000  26.0000\n",
       "8     Default  241.000000               actexix  241.000000  25.0000  25.0000\n",
       "757   Default  155.000000               pouvoir  155.000000  24.0000  24.0000\n",
       "751   Default   78.000000                porter   78.000000  23.0000  23.0000\n",
       "392   Default  257.000000                france  257.000000  22.0000  22.0000\n",
       "1022  Default   67.000000           yellowvests   67.000000  21.0000  21.0000\n",
       "866   Default  149.000000                samedi  149.000000  20.0000  20.0000\n",
       "908   Default  101.000000      stopgiletsjaunes  101.000000  19.0000  19.0000\n",
       "742   Default   91.000000              policier   91.000000  18.0000  18.0000\n",
       "729   Default  167.000000                plaire  167.000000  17.0000  17.0000\n",
       "495   Default   69.000000                jaunes   69.000000  16.0000  16.0000\n",
       "935   Default   68.000000                   ter   68.000000  15.0000  15.0000\n",
       "551   Default   66.000000                  lrem   66.000000  14.0000  14.0000\n",
       "425   Default   77.000000                gilets   77.000000  13.0000  13.0000\n",
       "517   Default   48.000000                   lci   48.000000  12.0000  12.0000\n",
       "949   Default   55.000000              toulouse   55.000000  11.0000  11.0000\n",
       "836   Default   91.000000                   ric   91.000000  10.0000  10.0000\n",
       "108   Default   61.000000             blackbloc   61.000000   9.0000   9.0000\n",
       "699   Default  109.000000                 paris  109.000000   8.0000   8.0000\n",
       "346   Default   61.000000           europeennes   61.000000   7.0000   7.0000\n",
       "111   Default   48.000000               blesser   48.000000   6.0000   6.0000\n",
       "726   Default   47.000000                 place   47.000000   5.0000   5.0000\n",
       "102   Default   68.000000                 bfmtv   68.000000   4.0000   4.0000\n",
       "390   Default   92.000000                  fran   92.000000   3.0000   3.0000\n",
       "661   Default   54.000000              noborder   54.000000   2.0000   2.0000\n",
       "427   Default  653.000000          giletsjaunes  653.000000   1.0000   1.0000\n",
       "...       ...         ...                   ...         ...      ...      ...\n",
       "126    Topic6   10.059299            bouteflika   10.865530   2.0351  -5.4514\n",
       "746    Topic6    9.974733                pondre   10.775281   2.0350  -5.4598\n",
       "557    Topic6    9.835442  macroncomplicedupire   10.638400   2.0337  -5.4739\n",
       "569    Topic6    9.676860                   mal   10.475796   2.0328  -5.4901\n",
       "561    Topic6   18.580218              macronie   22.563045   1.9179  -4.8378\n",
       "551    Topic6   46.481362                  lrem   66.612621   1.7523  -3.9208\n",
       "395    Topic6   27.848812       franceinsoumise   36.913403   1.8304  -4.4331\n",
       "616    Topic6   28.582050             militaire   39.823598   1.7805  -4.4071\n",
       "401    Topic6   24.085512                frexit   35.164550   1.7337  -4.5783\n",
       "836    Topic6   43.178644                   ric   91.310811   1.3632  -3.9945\n",
       "595    Topic6   14.448359                   mec   18.597392   1.8597  -5.0893\n",
       "389    Topic6   15.572082                foutre   21.076427   1.8095  -5.0144\n",
       "392    Topic6   62.684727                france  257.866448   0.6978  -3.6218\n",
       "39     Topic6   39.089690                 aller  154.850527   0.7356  -4.0940\n",
       "1023   Topic6   21.718004               youtube   45.343624   1.3760  -4.6817\n",
       "1010   Topic6   18.417638                 voter   31.957362   1.5611  -4.8466\n",
       "552    Topic6   24.762668                 luire   65.720829   1.1361  -4.5505\n",
       "353    Topic6   42.175864                 faire  247.930365   0.3409  -4.0180\n",
       "871    Topic6   19.865608                savoir   39.741964   1.4187  -4.7709\n",
       "559    Topic6   18.171775       macrondemission   34.376805   1.4747  -4.8600\n",
       "743    Topic6   27.174466             politique  117.446642   0.6485  -4.4576\n",
       "293    Topic6   21.343259                 droit   56.784307   1.1336  -4.6991\n",
       "1004   Topic6   24.213957                  voir   98.910745   0.7049  -4.5730\n",
       "253    Topic6   27.220291                   dan  240.755221  -0.0677  -4.4559\n",
       "1011   Topic6   21.512440               vouloir   84.165744   0.7480  -4.6913\n",
       "61     Topic6   19.120182                 armer   63.677291   0.9091  -4.8091\n",
       "427    Topic6   25.703751          giletsjaunes  653.988368  -1.1243  -4.5132\n",
       "719    Topic6   18.771985               peupler   58.981163   0.9673  -4.8275\n",
       "704    Topic6   18.702759                partir   65.541275   0.8582  -4.8312\n",
       "269    Topic6   18.749760                devoir   80.740559   0.6521  -4.8287\n",
       "\n",
       "[351 rows x 6 columns], token_table=      Topic      Freq                  Term\n",
       "term                                       \n",
       "6         1  0.437973                  acte\n",
       "6         2  0.006738                  acte\n",
       "6         3  0.287490                  acte\n",
       "6         4  0.265030                  acte\n",
       "6         6  0.002246                  acte\n",
       "8         1  0.578665               actexix\n",
       "8         3  0.219066               actexix\n",
       "8         4  0.202533               actexix\n",
       "10        2  0.011080                actexx\n",
       "10        3  0.587230                actexx\n",
       "10        4  0.254836                actexx\n",
       "10        6  0.144038                actexx\n",
       "26        2  0.977541                 aider\n",
       "31        1  0.401184                   ais\n",
       "31        2  0.589239                   ais\n",
       "32        1  0.940415                  aise\n",
       "34        6  0.950856                   alg\n",
       "36        6  0.939246               algerie\n",
       "39        1  0.368097                 aller\n",
       "39        2  0.264771                 aller\n",
       "39        5  0.109783                 aller\n",
       "39        6  0.251856                 aller\n",
       "43        6  0.958483  amnestyinternational\n",
       "50        6  0.961631              annoncer\n",
       "53        1  0.979988                antifa\n",
       "61        1  0.109929                 armer\n",
       "61        2  0.565351                 armer\n",
       "61        6  0.298380                 armer\n",
       "62        1  0.747489                   arr\n",
       "62        2  0.070077                   arr\n",
       "...     ...       ...                   ...\n",
       "987       2  0.970533                   vid\n",
       "998       6  0.934545                violer\n",
       "1003      2  0.923671                 vivre\n",
       "1004      1  0.121322                  voir\n",
       "1004      2  0.293194                  voir\n",
       "1004      4  0.131432                  voir\n",
       "1004      5  0.202203                  voir\n",
       "1004      6  0.242643                  voir\n",
       "1006      1  0.896772                 voler\n",
       "1010      1  0.187750                 voter\n",
       "1010      5  0.219042                 voter\n",
       "1010      6  0.563251                 voter\n",
       "1011      1  0.237626               vouloir\n",
       "1011      2  0.201982               vouloir\n",
       "1011      3  0.071288               vouloir\n",
       "1011      4  0.023763               vouloir\n",
       "1011      5  0.201982               vouloir\n",
       "1011      6  0.261389               vouloir\n",
       "1013      2  0.966311                  vrai\n",
       "1016      2  0.927981              wauquiez\n",
       "1020      1  0.873706         yellowjackets\n",
       "1020      4  0.112014         yellowjackets\n",
       "1021      1  0.826915            yellowvest\n",
       "1021      4  0.168758            yellowvest\n",
       "1022      3  0.014869           yellowvests\n",
       "1022      4  0.981338           yellowvests\n",
       "1023      2  0.220538               youtube\n",
       "1023      4  0.308753               youtube\n",
       "1023      6  0.485184               youtube\n",
       "1024      4  0.923298                  zeer\n",
       "\n",
       "[477 rows x 3 columns], R=30, lambda_step=0.01, plot_opts={'xlab': 'PC1', 'ylab': 'PC2'}, topic_order=[6, 3, 5, 1, 4, 2])"
      ]
     },
     "execution_count": 240,
     "metadata": {},
     "output_type": "execute_result"
    }
   ],
   "source": [
    "pyLDAvis.enable_notebook()\n",
    "dash = pyLDAvis.sklearn.prepare(lda, data_vectorized, vectorizer, mds='tsne')\n",
    "dash"
   ]
  },
  {
   "cell_type": "code",
   "execution_count": 73,
   "metadata": {},
   "outputs": [
    {
     "name": "stdout",
     "output_type": "stream",
     "text": [
      "Importing Jupyter notebook from utility_functions.ipynb\n"
     ]
    }
   ],
   "source": []
  },
  {
   "cell_type": "code",
   "execution_count": 74,
   "metadata": {},
   "outputs": [],
   "source": [
    "db_init()"
   ]
  },
  {
   "cell_type": "code",
   "execution_count": null,
   "metadata": {},
   "outputs": [],
   "source": []
  }
 ],
 "metadata": {
  "jupytext": {
   "formats": "ipynb,py:light"
  },
  "kernelspec": {
   "display_name": "Python 3",
   "language": "python",
   "name": "python3"
  },
  "language_info": {
   "codemirror_mode": {
    "name": "ipython",
    "version": 3
   },
   "file_extension": ".py",
   "mimetype": "text/x-python",
   "name": "python",
   "nbconvert_exporter": "python",
   "pygments_lexer": "ipython3",
   "version": "3.6.7"
  }
 },
 "nbformat": 4,
 "nbformat_minor": 2
}
