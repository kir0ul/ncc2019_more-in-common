{
 "cells": [
  {
   "cell_type": "code",
   "execution_count": 7,
   "metadata": {},
   "outputs": [],
   "source": [
    "import tweepy\n",
    "import re"
   ]
  },
  {
   "cell_type": "code",
   "execution_count": 8,
   "metadata": {},
   "outputs": [],
   "source": [
    "import urllib3\n",
    "import urllib3.request\n",
    "\n",
    "import csv\n",
    "import json\n",
    "from pandas.io.json import json_normalize\n",
    "\n",
    "import pandas as pd\n",
    "import numpy as np"
   ]
  },
  {
   "cell_type": "code",
   "execution_count": 9,
   "metadata": {},
   "outputs": [],
   "source": [
    "pd.options.display.max_colwidth = 1000\n"
   ]
  },
  {
   "cell_type": "code",
   "execution_count": 10,
   "metadata": {},
   "outputs": [],
   "source": [
    "####input your credentials here\n",
    "consumer_key = '4ha4rLgP6Ci6fEZtaqttGTKoA'\n",
    "consumer_secret = '5ckLaCgfTdfmWM7qS9f2w05pDCSIWRCTHlm7RLnKwK9tCWIz9P'\n",
    "access_token = '602145669-jHmxtsl0wSZDFeZxi81GcTzYrD87dRBhF78ip0qo'\n",
    "access_token_secret = 'YFLMmVVdcN4gb4KDX3MeOjbjxoKnnsFvjKxjRGMkkEZ5D'"
   ]
  },
  {
   "cell_type": "code",
   "execution_count": 11,
   "metadata": {},
   "outputs": [],
   "source": [
    "input_hashtag = \"giletjaune\"\n",
    "n_tweets = 1\n",
    "language = \"fr\"\n",
    "since_date = \"2018-03-07\""
   ]
  },
  {
   "cell_type": "code",
   "execution_count": 7,
   "metadata": {},
   "outputs": [
    {
     "name": "stderr",
     "output_type": "stream",
     "text": [
      "Rate limit reached. Sleeping for: 381\n"
     ]
    },
    {
     "ename": "KeyboardInterrupt",
     "evalue": "",
     "output_type": "error",
     "traceback": [
      "\u001b[1;31m---------------------------------------------------------------------------\u001b[0m",
      "\u001b[1;31mKeyboardInterrupt\u001b[0m                         Traceback (most recent call last)",
      "\u001b[1;32m<ipython-input-7-9cc50bc2112d>\u001b[0m in \u001b[0;36m<module>\u001b[1;34m\u001b[0m\n\u001b[0;32m     13\u001b[0m \u001b[1;33m\u001b[0m\u001b[0m\n\u001b[0;32m     14\u001b[0m         \u001b[0mtweet_json\u001b[0m \u001b[1;33m=\u001b[0m \u001b[0mtweet\u001b[0m\u001b[1;33m.\u001b[0m\u001b[0m_json\u001b[0m\u001b[1;33m\u001b[0m\u001b[1;33m\u001b[0m\u001b[0m\n\u001b[1;32m---> 15\u001b[1;33m         \u001b[0mjson\u001b[0m\u001b[1;33m.\u001b[0m\u001b[0mdump\u001b[0m\u001b[1;33m(\u001b[0m\u001b[0mtweet_json\u001b[0m\u001b[1;33m,\u001b[0m \u001b[0mfile\u001b[0m\u001b[1;33m)\u001b[0m\u001b[1;33m\u001b[0m\u001b[1;33m\u001b[0m\u001b[0m\n\u001b[0m\u001b[0;32m     16\u001b[0m \u001b[1;33m\u001b[0m\u001b[0m\n",
      "\u001b[1;31mKeyboardInterrupt\u001b[0m: "
     ]
    }
   ],
   "source": [
    "####request to Twitter API\n",
    "auth = tweepy.OAuthHandler(consumer_key, consumer_secret)\n",
    "auth.set_access_token(access_token, access_token_secret)\n",
    "api = tweepy.API(auth,wait_on_rate_limit=True,wait_on_rate_limit_notify = True)\n",
    "\n",
    "inc = 0\n",
    "for tweet in tweepy.Cursor(api.search,q=\"#\"+input_hashtag,#count=n_tweets,\n",
    "                           lang=language,\n",
    "                           since=since_date, tweet_mode='extended').items():\n",
    "    inc = +1\n",
    "    with open('tweets/tweet'+str(tweet.id)+'.json', 'w', encoding='utf8') as file:\n",
    "        ####you need to create a 'tweets' folder\n",
    "        \n",
    "        tweet_json = tweet._json\n",
    "        json.dump(tweet_json, file)\n",
    "        "
   ]
  },
  {
   "cell_type": "code",
   "execution_count": 12,
   "metadata": {},
   "outputs": [],
   "source": [
    "def is_a_retweet(tweet):\n",
    "    #### returns a boolean \n",
    "    return tweet.get('retweeted_status',None) != None"
   ]
  },
  {
   "cell_type": "code",
   "execution_count": 13,
   "metadata": {},
   "outputs": [],
   "source": [
    "#initialisation of databases, df files\n",
    "\n",
    "d_users = {'user_id': [],\n",
    "           'name':[],\n",
    "           'screen_name':[],\n",
    "           'location':[],\n",
    "           'description':[],\n",
    "           'url':[],\n",
    "           'followers_count':[],\n",
    "           'friends_count':[],\n",
    "           'listed_count':[],\n",
    "           'created_at':[],\n",
    "           'favourites_count':[],\n",
    "           'geo_enabled':[],\n",
    "           'verified':[],\n",
    "           'statuses_count':[],\n",
    "           'lang':[],\n",
    "           'contributors_enabled':[]\n",
    "          }\n",
    "df_users = pd.DataFrame(data=d_users)\n",
    "\n",
    "d_tweets = {'tweet_id': [],\n",
    "            'created_at': [],\n",
    "            'text': [],\n",
    "            'truncated': [],\n",
    "            'source': [],\n",
    "            'in_reply_to_status_id': [],\n",
    "            'in_reply_to_user_id': [],\n",
    "            'in_reply_to_screen_name': [],\n",
    "            'user_id': [],\n",
    "            'geo': [],\n",
    "            'coordinates': [],\n",
    "            'place': [],\n",
    "            'contributors': [],\n",
    "            'is_quote_status': [],\n",
    "            'retweet_count': [],\n",
    "            'favorite_count': [],\n",
    "            'favorited': [],\n",
    "            'retweeted': [],\n",
    "            'lang': []         \n",
    "           }\n",
    "df_tweets = pd.DataFrame(data=d_tweets)\n",
    "\n",
    "\n",
    "d_hashtags={'hashtag': [], 'tweet_id': []}\n",
    "df_hashtags = pd.DataFrame(data=d_hashtags)\n",
    "\n",
    "d_users_mentions = {'tweet_id':[], 'user_id': [], 'screen_name':[], 'name':[]}\n",
    "df_users_mentions = pd.DataFrame(data=d_users_mentions)\n",
    "\n",
    "d_retweet_users = {'user_id':[], 'original_user_id':[], 'original_tweet_id':[]}\n",
    "df_retweet_users= pd.DataFrame(data=d_retweet_users)\n",
    "\n",
    "d_influent_users = {'user_id':[], \n",
    "                    'name':[],\n",
    "                    'retweet_count':[],\n",
    "                    'favorite_count':[], \n",
    "                    'description':[] \n",
    "                   }\n",
    "\n",
    "df_influent_users = pd.DataFrame(data=d_influent_users)\n",
    "\n"
   ]
  },
  {
   "cell_type": "code",
   "execution_count": 14,
   "metadata": {},
   "outputs": [],
   "source": [
    "def store_hashtag(tweet):\n",
    "    global input_hashtag\n",
    "    global df_hashtags\n",
    "    if tweet['entities']['hashtags']==[]:\n",
    "        df_hashtags = df_hashtags.append({'hashtag': input_hashtag ,'tweet_id':tweet['id_str']}, ignore_index=True)\n",
    "    else:\n",
    "        for raw_hash in tweet['entities']['hashtags']:\n",
    "            df_hashtags = df_hashtags.append({'hashtag': raw_hash['text'] ,'tweet_id':tweet['id_str']}, ignore_index=True)\n",
    "\n",
    "def store_user_mentions(tweet):\n",
    "    global df_users_mentions\n",
    "    tweet_id = tweet['id_str']\n",
    "    for raw_mention in tweet['entities']['user_mentions']:\n",
    "        screen_name = raw_mention['screen_name']\n",
    "        name = raw_mention['name']\n",
    "        user_id = raw_mention['id_str']\n",
    "        df_users_mentions = df_users_mentions.append({'tweet_id':tweet_id, 'user_id': user_id, 'screen_name':screen_name, 'name':name},ignore_index=True)\n",
    "\n",
    "def store_users(tweet):\n",
    "    global df_users\n",
    "    user = tweet['user']\n",
    "    if user['id_str'] not in df_users['user_id'].values:\n",
    "        \n",
    "        d_user = {'user_id': user['id_str'],\n",
    "                  'name':user['name'],\n",
    "                  'screen_name':user['screen_name'],\n",
    "                  'location':user['location'],\n",
    "                  'description':user['description'],\n",
    "                  'url':user['url'],\n",
    "                  'followers_count':user['followers_count'],\n",
    "                  'friends_count':user['friends_count'],\n",
    "                  'listed_count':user['listed_count'],\n",
    "                  'created_at':user['created_at'],\n",
    "                  'favourites_count':user['favourites_count'],\n",
    "                  'geo_enabled':user['geo_enabled'],\n",
    "                  'verified':user['verified'],\n",
    "                  'statuses_count':user['statuses_count'],\n",
    "                  'lang':user['lang'],\n",
    "                  'contributors_enabled':user['contributors_enabled']\n",
    "                 }\n",
    "        df_users = df_users.append(d_user,ignore_index=True)\n",
    "\n",
    "def store_tweet(tweet):\n",
    "    global df_tweets\n",
    "    text = re.sub(r\"http\\S+\", \"\", tweet['full_text'])\n",
    "    df_tweets = df_tweets.append({'tweet_id':  tweet['id_str'],\n",
    "            'created_at': tweet['created_at'],\n",
    "            'text': text,\n",
    "            'truncated': tweet['truncated'],\n",
    "            'source': tweet['source'],\n",
    "            'in_reply_to_status_id': tweet['in_reply_to_status_id_str'],\n",
    "            'in_reply_to_user_id': tweet['in_reply_to_user_id_str'],\n",
    "            'in_reply_to_screen_name': tweet['in_reply_to_screen_name'],\n",
    "            'user_id': tweet['user']['id_str'],\n",
    "            'geo': tweet['geo'],\n",
    "            'coordinates': tweet['coordinates'],\n",
    "            'place': tweet['place'],\n",
    "            'contributors': tweet['contributors'],\n",
    "            'is_quote_status': tweet['is_quote_status'],\n",
    "            'retweet_count': tweet['retweet_count'],\n",
    "            'favorite_count': tweet['favorite_count'],\n",
    "            'favorited': tweet['favorited'],\n",
    "            'retweeted': tweet['retweeted'],\n",
    "            'lang': tweet['lang'] },ignore_index=True)\n",
    "        \n",
    "def store_retweet_user(tweet):\n",
    "    global df_retweet_users\n",
    "    if is_a_retweet(tweet):\n",
    "        df_retweet_users = df_retweet_users.append({'user_id':tweet['user']['id_str'],\n",
    "                                                    'original_user_id':tweet['retweeted_status']['user']['id_str'],\n",
    "                                                    'original_tweet_id':tweet['retweeted_status']['id_str']}, ignore_index=True)\n",
    "        \n",
    "def store_influent_users(n):\n",
    "    #n is the number of influent users return\n",
    "    df_favorite_count = df_tweets.groupby(['user_id'])['favorite_count'].agg('sum').sort_values(ascending=False).head()\n",
    "    for i in range(n):\n",
    "        d_influent_users = {'user_id':df_favorite_count[0], \n",
    "                            'name':[],\n",
    "                            'retweet_count':[],\n",
    "                            'favorite_count':[], \n",
    "                            'description':[] \n",
    "                           }\n",
    "        "
   ]
  },
  {
   "cell_type": "code",
   "execution_count": 15,
   "metadata": {},
   "outputs": [],
   "source": [
    "#### creation of the databases\n",
    "\n",
    "import warnings\n",
    "warnings.simplefilter(action='ignore', category=FutureWarning) #https://stackoverflow.com/questions/40659212/futurewarning-elementwise-comparison-failed-returning-scalar-but-in-the-futur\n",
    "import os\n",
    "path_to_json = 'tweets/'\n",
    "json_files = [pos_json for pos_json in os.listdir(path_to_json) if pos_json.endswith('.json')]\n",
    "for json_file in json_files:\n",
    "    \n",
    "    with open(\"tweets/\"+json_file) as tweet:\n",
    "        tweet = json.load(tweet)\n",
    "        if is_a_retweet(tweet):\n",
    "            store_retweet_user(tweet)\n",
    "        else:\n",
    "            store_tweet(tweet)\n",
    "            store_users(tweet)\n",
    "            store_hashtag(tweet)\n",
    "            store_user_mentions(tweet)\n",
    "        \n",
    "        \n",
    "        "
   ]
  },
  {
   "cell_type": "code",
   "execution_count": 109,
   "metadata": {},
   "outputs": [],
   "source": [
    "df_tweets.head(10);\n"
   ]
  },
  {
   "cell_type": "code",
   "execution_count": 106,
   "metadata": {},
   "outputs": [
    {
     "data": {
      "text/plain": [
       "'Insupportable d\\'entendre le #GiletJaune en roue libre sur #LCI dire, par exemple, que l\\'élection d\\'#EmmanuelMacron est \"une erreur de l\\'Histoire\", et ajouter \"j\\'aimerais bien qu\\'il bosse au lieu de faire du ski\". Sans que la journaliste ne le pousse à s\\'expliquer davantage...'"
      ]
     },
     "execution_count": 106,
     "metadata": {},
     "output_type": "execute_result"
    }
   ],
   "source": [
    "df_tweets['text'].iloc[0]"
   ]
  },
  {
   "cell_type": "code",
   "execution_count": 110,
   "metadata": {},
   "outputs": [
    {
     "name": "stdout",
     "output_type": "stream",
     "text": [
      "False\n",
      "False\n"
     ]
    }
   ],
   "source": [
    "#primary keys are ok?\n",
    "print(df_tweets.duplicated('tweet_id').any())\n",
    "print(df_users.duplicated('user_id').any())\n"
   ]
  },
  {
   "cell_type": "markdown",
   "metadata": {},
   "source": [
    "# Aggregations\n"
   ]
  },
  {
   "cell_type": "markdown",
   "metadata": {},
   "source": [
    "## Top users"
   ]
  },
  {
   "cell_type": "code",
   "execution_count": 111,
   "metadata": {
    "scrolled": true
   },
   "outputs": [],
   "source": [
    "df_most_favorited_users = df_tweets.groupby(['user_id'])['favorite_count'].agg('sum').sort_values(ascending=False).reset_index().head(15)\n",
    "df_most_retweeted_users = df_tweets.groupby(['user_id'])['retweet_count'].agg('sum').sort_values(ascending=False).reset_index().head(15)\n",
    "df_most_favorited_users['favorite_count'] = df_most_favorited_users['favorite_count'].astype('int32')\n",
    "df_most_retweeted_users['retweet_count'] = df_most_retweeted_users['retweet_count'].astype('int32')\n",
    "\n",
    "df_most_favorited_users['user_id'] = df_most_favorited_users['user_id'].astype(object)\n",
    "df_most_retweeted_users['user_id'] = df_most_retweeted_users['user_id'].astype(object)\n",
    "\n"
   ]
  },
  {
   "cell_type": "code",
   "execution_count": 112,
   "metadata": {},
   "outputs": [],
   "source": [
    "df_most_favorited_users_with_info = df_most_favorited_users.set_index('user_id').join(df_users.set_index('user_id')).drop_duplicates().sort_values('favorite_count',ascending=False)\n",
    "df_most_retweeted_users_with_info = df_most_retweeted_users.set_index('user_id').join(df_users.set_index('user_id')).drop_duplicates().sort_values('retweet_count',ascending=False)"
   ]
  },
  {
   "cell_type": "code",
   "execution_count": 113,
   "metadata": {},
   "outputs": [],
   "source": [
    "df_most_retweeted_users_with_info.head(15);"
   ]
  },
  {
   "cell_type": "code",
   "execution_count": 114,
   "metadata": {},
   "outputs": [],
   "source": [
    "df_most_favorited_users_with_info.head(15);"
   ]
  },
  {
   "cell_type": "code",
   "execution_count": 115,
   "metadata": {},
   "outputs": [],
   "source": [
    "df_most_retweeted_users_with_info.reset_index()\n",
    "df_most_favorited_users_with_info.reset_index();"
   ]
  },
  {
   "cell_type": "code",
   "execution_count": 116,
   "metadata": {},
   "outputs": [
    {
     "name": "stdout",
     "output_type": "stream",
     "text": [
      "user_id\n",
      "472852289                        Brèves de presse\n",
      "388972391                            Anasse Kazib\n",
      "338955445                     de Cabarrus Thierry\n",
      "2148731538                    Jean-Yves Le Gallou\n",
      "742382030                         Gaëtan #FBPE  🌍\n",
      "2470583048                         Charles Baudry\n",
      "2653885316                         jean garrigues\n",
      "203894274                         Cécile Ollivier\n",
      "1028668294751039488            LesGiletsJaunes.fr\n",
      "3688356795                     Jean-Pierre Bordes\n",
      "840670437050875904             BleuBlancRouge4369\n",
      "804606773848133633              Barthe Philippe 🐝\n",
      "817189792769339392       Abbé Rézina 🇫🇷 ن 2⃣3⃣⛽️🚕\n",
      "996698079180050433     ⚡️P'tweet Revue de Presse🗞\n",
      "1064054889452634112      🇫🇷⭐️GiletsJauneRouen⭐️🇫🇷\n",
      "Name: name, dtype: object\n",
      "user_id\n",
      "472852289                 Brèves de presse\n",
      "338955445              de Cabarrus Thierry\n",
      "388972391                     Anasse Kazib\n",
      "742382030                  Gaëtan #FBPE  🌍\n",
      "2653885316                  jean garrigues\n",
      "2148731538             Jean-Yves Le Gallou\n",
      "804606773848133633       Barthe Philippe 🐝\n",
      "2470583048                  Charles Baudry\n",
      "1028668294751039488     LesGiletsJaunes.fr\n",
      "84204116               Adia #Renaissance🇪🇺\n",
      "57732899                           LesNews\n",
      "203894274                  Cécile Ollivier\n",
      "3688356795              Jean-Pierre Bordes\n",
      "3054061793                        Mathilde\n",
      "840670437050875904      BleuBlancRouge4369\n",
      "Name: name, dtype: object\n"
     ]
    }
   ],
   "source": [
    "print(df_most_retweeted_users_with_info['name'])\n",
    "print(df_most_favorited_users_with_info['name'])"
   ]
  },
  {
   "cell_type": "code",
   "execution_count": 117,
   "metadata": {},
   "outputs": [],
   "source": [
    "df_tweets_by_user = df_tweets.groupby(['user_id']).size().to_frame().reset_index()\n",
    "df_most_favorited_users_with_info = df_most_favorited_users_with_info.join(df_tweets_by_user.set_index('user_id')).drop_duplicates().sort_values('favorite_count',ascending=False)\n",
    "df_most_retweeted_users_with_info = df_most_retweeted_users_with_info.join(df_tweets_by_user.set_index('user_id')).drop_duplicates().sort_values('retweet_count',ascending=False)"
   ]
  },
  {
   "cell_type": "code",
   "execution_count": 118,
   "metadata": {},
   "outputs": [],
   "source": [
    "df_most_favorited_users_with_info;"
   ]
  },
  {
   "cell_type": "code",
   "execution_count": 119,
   "metadata": {},
   "outputs": [],
   "source": [
    "top_influencers_fav = df_most_favorited_users_with_info[['screen_name','description', 'followers_count', 'friends_count','favorite_count',0]]\n",
    "top_influencers_rt = df_most_retweeted_users_with_info[['screen_name','description', 'followers_count', 'friends_count','retweet_count',0]]\n",
    "top_influencers_fav.columns = [\"Name\",\"Description\",\"Number of followers\",\"Number of friends\",\"Number of favorites\",\"Number of tweets\"]\n",
    "top_influencers_rt.columns = [\"Name\",\"Description\",\"Number of followers\",\"Number of friends\",\"Number of retweets\",\"Number of tweets\"]\n",
    "top_influencers_fav = top_influencers_fav.reset_index().drop(columns = [\"user_id\"])\n",
    "top_influencers_rt = top_influencers_rt.reset_index().drop(columns = [\"user_id\"]);\n",
    "top_influencers_fav['Number of followers'] = top_influencers_fav['Number of followers'].astype(int)\n",
    "top_influencers_fav['Number of friends'] = top_influencers_fav['Number of friends'].astype(int)\n",
    "top_influencers_rt['Number of followers'] = top_influencers_rt['Number of followers'].astype(int)\n",
    "top_influencers_rt['Number of friends'] = top_influencers_rt['Number of friends'].astype(int)"
   ]
  },
  {
   "cell_type": "code",
   "execution_count": 120,
   "metadata": {},
   "outputs": [],
   "source": [
    "#add ratios\n",
    "top_influencers_fav.loc[:,'Like Tweet Ratio'] = top_influencers_fav.loc[:,\"Number of favorites\"]/top_influencers_fav.loc[:,\"Number of tweets\"]\n",
    "top_influencers_rt.loc[:,'Retweet Tweet Ratio'] = top_influencers_rt.loc[:,\"Number of retweets\"]/top_influencers_rt.loc[:,\"Number of tweets\"]"
   ]
  },
  {
   "cell_type": "code",
   "execution_count": 123,
   "metadata": {},
   "outputs": [
    {
     "name": "stdout",
     "output_type": "stream",
     "text": [
      "['Brevesdepresse' 'AnasseKazib' 'tcabarrus' 'jylgallou' 'gaetan34070'\n",
      " 'CharlesBaudry' 'jeangarr78' 'cecileollivier' 'GiletsJaunesFr'\n",
      " 'jpbordes4873' 'BBR4369' 'philippe_barthe' 'Abbe_Rezina' 'P_tweet_presse'\n",
      " 'dms768']\n"
     ]
    }
   ],
   "source": [
    "top_influencers_fav_names = top_influencers_fav['Name'].values\n",
    "top_influencers_rt_names = top_influencers_rt['Name'].values\n",
    "print(top_influencers_rt_names)"
   ]
  },
  {
   "cell_type": "markdown",
   "metadata": {},
   "source": [
    "## Top hashtags for this input hashtags and by users"
   ]
  },
  {
   "cell_type": "code",
   "execution_count": 124,
   "metadata": {},
   "outputs": [],
   "source": [
    "top_influencers_fav.style.set_properties(**{'text-align': 'left'});"
   ]
  },
  {
   "cell_type": "code",
   "execution_count": 125,
   "metadata": {},
   "outputs": [],
   "source": [
    "df_tweets_hashtags = df_hashtags.set_index('tweet_id').join(df_tweets.set_index('tweet_id'))"
   ]
  },
  {
   "cell_type": "code",
   "execution_count": 126,
   "metadata": {},
   "outputs": [],
   "source": [
    "df_tw_hash_user = df_tweets_hashtags.set_index('user_id').join(df_users.drop(columns=['created_at', 'lang']).set_index('user_id'))"
   ]
  },
  {
   "cell_type": "code",
   "execution_count": 127,
   "metadata": {},
   "outputs": [],
   "source": [
    "#df_aggretated = df_tw_hash_user.groupby(['user_id','hashtag']).size().reset_index()\n",
    "df_aggretated = df_tw_hash_user.groupby(['name','hashtag']).size().reset_index()"
   ]
  },
  {
   "cell_type": "code",
   "execution_count": 128,
   "metadata": {},
   "outputs": [],
   "source": [
    "df_aggretated.columns = [\"Name\", \"#\", \"Used\"]\n",
    "df_aggretated;\n"
   ]
  },
  {
   "cell_type": "code",
   "execution_count": 129,
   "metadata": {},
   "outputs": [],
   "source": [
    "#useful encapsulation, aint it?\n",
    "def get_tweet_by_userid(user_id):\n",
    "    df_tweets[df_tweets['user_id'] == 'user_id']\n",
    "\n",
    "def get_tweet_by_username(name):\n",
    "    df_tweets_user_info = df_tweets.set_index('user_id').join(df_users.drop(columns=['created_at', 'lang']).set_index('user_id'))\n",
    "    df_tweets_user_info = df_tweets_user_info[df_tweets_user_info['name'] == 'LesGiletsJaunes.fr']\n",
    "    df_tweets_user_info = df_tweets_user_info[['tweet_id','text','created_at', 'favorite_count', 'retweet_count']]\n",
    "    return df_tweets_user_info\n",
    "\n",
    "def get_related_hashtags_by_username(name):\n",
    "    d_name = df_aggretated[df_aggretated['Name'] == name][['#',\"Used\"]].sort_values(\"Used\", ascending = False)\n",
    "    return d_name"
   ]
  },
  {
   "cell_type": "code",
   "execution_count": 130,
   "metadata": {},
   "outputs": [
    {
     "data": {
      "text/html": [
       "<div>\n",
       "<style scoped>\n",
       "    .dataframe tbody tr th:only-of-type {\n",
       "        vertical-align: middle;\n",
       "    }\n",
       "\n",
       "    .dataframe tbody tr th {\n",
       "        vertical-align: top;\n",
       "    }\n",
       "\n",
       "    .dataframe thead th {\n",
       "        text-align: right;\n",
       "    }\n",
       "</style>\n",
       "<table border=\"1\" class=\"dataframe\">\n",
       "  <thead>\n",
       "    <tr style=\"text-align: right;\">\n",
       "      <th></th>\n",
       "      <th>tweet_id</th>\n",
       "      <th>text</th>\n",
       "      <th>created_at</th>\n",
       "      <th>favorite_count</th>\n",
       "      <th>retweet_count</th>\n",
       "    </tr>\n",
       "    <tr>\n",
       "      <th>user_id</th>\n",
       "      <th></th>\n",
       "      <th></th>\n",
       "      <th></th>\n",
       "      <th></th>\n",
       "      <th></th>\n",
       "    </tr>\n",
       "  </thead>\n",
       "  <tbody>\n",
       "    <tr>\n",
       "      <th>1028668294751039488</th>\n",
       "      <td>1107771021665492998</td>\n",
       "      <td>Vous demandez une augmentation de 200 balles par mois ?\\nPas de problème ...\\n#GiletJaune #GiletsJaunes #YellowVests #SMIC \\n#assembleenationale #senat #Europeennes2019 \\n#droitsdelhomme #Amnestyinternational #ViolencesPolicieres #ONU\\n#France2 #BFM #RTFrance #LCI #Cnews #CNN #CBSNews</td>\n",
       "      <td>Mon Mar 18 22:29:27 +0000 2019</td>\n",
       "      <td>52.0</td>\n",
       "      <td>47.0</td>\n",
       "    </tr>\n",
       "    <tr>\n",
       "      <th>1028668294751039488</th>\n",
       "      <td>1107783190708658176</td>\n",
       "      <td>Agence BFM ( Benalla Fouille Mer ...  ) :\\nUn bandeau sur l’œil , comme Jean-Marie Le Pen ! ... le bras tendu !\\nL'appartenance à la mouvance néo-extrême ne fait plus aucun doute !\\nIls sont tous complices !\\n#GiletJaune #GiletsJaunes #facknews d'état !</td>\n",
       "      <td>Mon Mar 18 23:17:48 +0000 2019</td>\n",
       "      <td>43.0</td>\n",
       "      <td>17.0</td>\n",
       "    </tr>\n",
       "    <tr>\n",
       "      <th>1028668294751039488</th>\n",
       "      <td>1107790134890676225</td>\n",
       "      <td>Didier Maïsto : Retour sur l’Acte 18, décisions du Premier ministre et intervention dans ce live de Bruno Pomart, ancien instructeur du RAID.\\n\\n#GiletJaune #GiletsJaunes #assembleenationale #senat #Europeennes2019 \\n#droitsdelhomme #ViolencesPolicieres #ONU</td>\n",
       "      <td>Mon Mar 18 23:45:24 +0000 2019</td>\n",
       "      <td>7.0</td>\n",
       "      <td>8.0</td>\n",
       "    </tr>\n",
       "  </tbody>\n",
       "</table>\n",
       "</div>"
      ],
      "text/plain": [
       "                                tweet_id  \\\n",
       "user_id                                    \n",
       "1028668294751039488  1107771021665492998   \n",
       "1028668294751039488  1107783190708658176   \n",
       "1028668294751039488  1107790134890676225   \n",
       "\n",
       "                                                                                                                                                                                                                                                                                                               text  \\\n",
       "user_id                                                                                                                                                                                                                                                                                                               \n",
       "1028668294751039488  Vous demandez une augmentation de 200 balles par mois ?\\nPas de problème ...\\n#GiletJaune #GiletsJaunes #YellowVests #SMIC \\n#assembleenationale #senat #Europeennes2019 \\n#droitsdelhomme #Amnestyinternational #ViolencesPolicieres #ONU\\n#France2 #BFM #RTFrance #LCI #Cnews #CNN #CBSNews    \n",
       "1028668294751039488                                  Agence BFM ( Benalla Fouille Mer ...  ) :\\nUn bandeau sur l’œil , comme Jean-Marie Le Pen ! ... le bras tendu !\\nL'appartenance à la mouvance néo-extrême ne fait plus aucun doute !\\nIls sont tous complices !\\n#GiletJaune #GiletsJaunes #facknews d'état !    \n",
       "1028668294751039488                             Didier Maïsto : Retour sur l’Acte 18, décisions du Premier ministre et intervention dans ce live de Bruno Pomart, ancien instructeur du RAID.\\n\\n#GiletJaune #GiletsJaunes #assembleenationale #senat #Europeennes2019 \\n#droitsdelhomme #ViolencesPolicieres #ONU    \n",
       "\n",
       "                                         created_at  favorite_count  \\\n",
       "user_id                                                               \n",
       "1028668294751039488  Mon Mar 18 22:29:27 +0000 2019            52.0   \n",
       "1028668294751039488  Mon Mar 18 23:17:48 +0000 2019            43.0   \n",
       "1028668294751039488  Mon Mar 18 23:45:24 +0000 2019             7.0   \n",
       "\n",
       "                     retweet_count  \n",
       "user_id                             \n",
       "1028668294751039488           47.0  \n",
       "1028668294751039488           17.0  \n",
       "1028668294751039488            8.0  "
      ]
     },
     "execution_count": 130,
     "metadata": {},
     "output_type": "execute_result"
    }
   ],
   "source": [
    "get_tweet_by_username('LesGiletsJaunes.fr')\n"
   ]
  },
  {
   "cell_type": "code",
   "execution_count": 131,
   "metadata": {},
   "outputs": [
    {
     "name": "stdout",
     "output_type": "stream",
     "text": [
      "Brevesdepresse\n",
      "AnasseKazib\n",
      "tcabarrus\n",
      "jylgallou\n",
      "gaetan34070\n",
      "CharlesBaudry\n",
      "jeangarr78\n",
      "cecileollivier\n",
      "GiletsJaunesFr\n",
      "jpbordes4873\n",
      "BBR4369\n",
      "philippe_barthe\n",
      "Abbe_Rezina\n",
      "P_tweet_presse\n",
      "dms768\n"
     ]
    }
   ],
   "source": [
    "#output \n",
    "for name in top_influencers_rt_names:\n",
    "    df_rel = get_related_hashtags_by_username(name)\n",
    "    print(name)\n",
    "    df_rel.to_csv('top_hashtags_by_'+name+'.csv',index=False)\n",
    "    df_rel=[]"
   ]
  },
  {
   "cell_type": "code",
   "execution_count": 132,
   "metadata": {},
   "outputs": [],
   "source": [
    "df_tweets['created_at'].values;\n"
   ]
  },
  {
   "cell_type": "markdown",
   "metadata": {},
   "source": [
    "# NLP\n"
   ]
  },
  {
   "cell_type": "code",
   "execution_count": 5,
   "metadata": {},
   "outputs": [],
   "source": [
    "import spacy\n"
   ]
  },
  {
   "cell_type": "code",
   "execution_count": 3,
   "metadata": {},
   "outputs": [
    {
     "data": {
      "text/html": [
       "<script type=\"text/javascript\">window.PlotlyConfig = {MathJaxConfig: 'local'};</script><script type=\"text/javascript\">if (window.MathJax) {MathJax.Hub.Config({SVG: {font: \"STIX-Web\"}});}</script><script>requirejs.config({paths: { 'plotly': ['https://cdn.plot.ly/plotly-latest.min']},});if(!window._Plotly) {require(['plotly'],function(plotly) {window._Plotly=plotly;});}</script>"
      ],
      "text/vnd.plotly.v1+html": [
       "<script type=\"text/javascript\">window.PlotlyConfig = {MathJaxConfig: 'local'};</script><script type=\"text/javascript\">if (window.MathJax) {MathJax.Hub.Config({SVG: {font: \"STIX-Web\"}});}</script><script>requirejs.config({paths: { 'plotly': ['https://cdn.plot.ly/plotly-latest.min']},});if(!window._Plotly) {require(['plotly'],function(plotly) {window._Plotly=plotly;});}</script>"
      ]
     },
     "metadata": {},
     "output_type": "display_data"
    }
   ],
   "source": [
    "from tqdm import tqdm\n",
    "import string\n",
    "import matplotlib.pyplot as plt\n",
    "from sklearn.decomposition import NMF, LatentDirichletAllocation, TruncatedSVD\n",
    "from sklearn.feature_extraction.text import CountVectorizer\n",
    "from sklearn.manifold import TSNE\n",
    "import concurrent.futures\n",
    "import time\n",
    "import pyLDAvis.sklearn\n",
    "from pylab import bone, pcolor, colorbar, plot, show, rcParams, savefig\n",
    "import warnings\n",
    "warnings.filterwarnings('ignore')\n",
    "\n",
    "%matplotlib inline\n",
    "import os\n",
    "\n",
    "# Plotly based imports for visualization\n",
    "from plotly import tools\n",
    "import plotly.plotly as py\n",
    "from plotly.offline import init_notebook_mode, iplot\n",
    "init_notebook_mode(connected=True)\n",
    "import plotly.graph_objs as go\n",
    "import plotly.figure_factory as ff\n",
    "\n",
    "import spacy\n",
    "from spacy.lang.fr.stop_words import STOP_WORDS\n",
    "from spacy.lang.fr import French\n",
    "import fr_core_news_sm\n",
    "nlp = fr_core_news_sm.load()\n",
    "#!python -m spacy download fr_core_web_lg"
   ]
  },
  {
   "cell_type": "code",
   "execution_count": 19,
   "metadata": {},
   "outputs": [
    {
     "data": {
      "text/html": [
       "<div class=\"entities\" style=\"line-height: 2.5\">Rien que sur la journée de samedi dernier, la ville de \n",
       "<mark class=\"entity\" style=\"background: #ff9561; padding: 0.45em 0.6em; margin: 0 0.25em; line-height: 1; border-radius: 0.35em; box-decoration-break: clone; -webkit-box-decoration-break: clone\">\n",
       "    Paris\n",
       "    <span style=\"font-size: 0.8em; font-weight: bold; line-height: 1; border-radius: 0.35em; text-transform: uppercase; vertical-align: middle; margin-left: 0.5rem\">LOC</span>\n",
       "</mark>\n",
       " estime les dégâts à 5 millions d’euros. La facture #\n",
       "<mark class=\"entity\" style=\"background: #7aecec; padding: 0.45em 0.6em; margin: 0 0.25em; line-height: 1; border-radius: 0.35em; box-decoration-break: clone; -webkit-box-decoration-break: clone\">\n",
       "    GiletJaune\n",
       "    <span style=\"font-size: 0.8em; font-weight: bold; line-height: 1; border-radius: 0.35em; text-transform: uppercase; vertical-align: middle; margin-left: 0.5rem\">ORG</span>\n",
       "</mark>\n",
       " depuis le début du mouvement en serait désormais à 20 millions. @RTLFrance</div>"
      ],
      "text/plain": [
       "<IPython.core.display.HTML object>"
      ]
     },
     "metadata": {},
     "output_type": "display_data"
    }
   ],
   "source": [
    "doc = nlp(df_tweets[\"text\"][3])\n",
    "spacy.displacy.render(doc, style='ent',jupyter=True)"
   ]
  },
  {
   "cell_type": "code",
   "execution_count": 22,
   "metadata": {},
   "outputs": [],
   "source": [
    "punctuations = string.punctuation\n",
    "stopwords = list(STOP_WORDS)"
   ]
  },
  {
   "cell_type": "code",
   "execution_count": 23,
   "metadata": {},
   "outputs": [],
   "source": [
    "review = str(\" \".join([i.lemma_ for i in doc]))"
   ]
  },
  {
   "cell_type": "code",
   "execution_count": 24,
   "metadata": {},
   "outputs": [
    {
     "data": {
      "text/html": [
       "<div class=\"entities\" style=\"line-height: 2.5\">rien que sur le journée de samedi dernier , le ville de \n",
       "<mark class=\"entity\" style=\"background: #ff9561; padding: 0.45em 0.6em; margin: 0 0.25em; line-height: 1; border-radius: 0.35em; box-decoration-break: clone; -webkit-box-decoration-break: clone\">\n",
       "    Paris\n",
       "    <span style=\"font-size: 0.8em; font-weight: bold; line-height: 1; border-radius: 0.35em; text-transform: uppercase; vertical-align: middle; margin-left: 0.5rem\">LOC</span>\n",
       "</mark>\n",
       " estimer le dégât à 5 million d’ euro . le facture # giletjaun depuis le début du mouvement en être désormais à 20 million . @rtlfrance</div>"
      ],
      "text/plain": [
       "<IPython.core.display.HTML object>"
      ]
     },
     "metadata": {},
     "output_type": "display_data"
    }
   ],
   "source": [
    "doc = nlp(review)\n",
    "spacy.displacy.render(doc, style='ent',jupyter=True)"
   ]
  },
  {
   "cell_type": "code",
   "execution_count": 25,
   "metadata": {},
   "outputs": [
    {
     "name": "stdout",
     "output_type": "stream",
     "text": [
      "rien => PRON\n",
      "que => ADV\n",
      "sur => ADP\n",
      "le => DET\n",
      "journée => NOUN\n",
      "de => ADP\n",
      "samedi => NOUN\n",
      "dernier => ADJ\n",
      ", => PUNCT\n",
      "le => DET\n",
      "ville => NOUN\n",
      "de => ADP\n",
      "Paris => PROPN\n",
      "estimer => VERB\n",
      "le => DET\n",
      "dégât => NOUN\n",
      "à => ADP\n",
      "5 => NUM\n",
      "million => NOUN\n",
      "d’ => PUNCT\n",
      "euro => NOUN\n",
      ". => PUNCT\n",
      "le => DET\n",
      "facture => NOUN\n",
      "# => ADJ\n",
      "giletjaun => ADJ\n",
      "depuis => ADP\n",
      "le => DET\n",
      "début => NOUN\n",
      "du => DET\n",
      "mouvement => NOUN\n",
      "en => ADP\n",
      "être => AUX\n",
      "désormais => ADV\n",
      "à => ADP\n",
      "20 => NUM\n",
      "million => NOUN\n",
      ". => PUNCT\n",
      "@rtlfrance => NOUN\n"
     ]
    }
   ],
   "source": [
    "for i in nlp(review):\n",
    "    print(i,\"=>\",i.pos_)"
   ]
  },
  {
   "cell_type": "code",
   "execution_count": 26,
   "metadata": {},
   "outputs": [],
   "source": [
    "parser = French()\n",
    "def spacy_tokenizer(sentence):\n",
    "    mytokens = parser(sentence)\n",
    "    mytokens = [ word.lemma_.lower().strip() if word.lemma_ != \"-PRON-\" else word.lower_ for word in mytokens ]\n",
    "    mytokens = [ word for word in mytokens if word not in stopwords and word not in punctuations ]\n",
    "    mytokens = \" \".join([i for i in mytokens])\n",
    "    return mytokens"
   ]
  },
  {
   "cell_type": "code",
   "execution_count": 27,
   "metadata": {},
   "outputs": [
    {
     "name": "stderr",
     "output_type": "stream",
     "text": [
      "100%|██████████| 427/427 [00:00<00:00, 449.83it/s]\n"
     ]
    }
   ],
   "source": [
    "tqdm.pandas()\n",
    "df_tweets[\"processed_text\"] = df_tweets[\"text\"].progress_apply(spacy_tokenizer)"
   ]
  },
  {
   "cell_type": "code",
   "execution_count": 31,
   "metadata": {},
   "outputs": [],
   "source": [
    "df_tweets.head(10)[\"processed_text\"];"
   ]
  },
  {
   "cell_type": "code",
   "execution_count": 33,
   "metadata": {},
   "outputs": [],
   "source": [
    "vectorizer = CountVectorizer(min_df=5, max_df=0.9, stop_words=stopwords, lowercase=True, token_pattern='[a-zA-Z\\-][a-zA-Z\\-]{2,}')\n",
    "data_vectorized = vectorizer.fit_transform(df_tweets[\"processed_text\"])"
   ]
  },
  {
   "cell_type": "code",
   "execution_count": 34,
   "metadata": {},
   "outputs": [],
   "source": [
    "##How many topics do you want to find??\n",
    "NUM_TOPICS = 6"
   ]
  },
  {
   "cell_type": "code",
   "execution_count": 35,
   "metadata": {},
   "outputs": [
    {
     "name": "stdout",
     "output_type": "stream",
     "text": [
      "iteration: 1 of max_iter: 10\n",
      "iteration: 2 of max_iter: 10\n",
      "iteration: 3 of max_iter: 10\n",
      "iteration: 4 of max_iter: 10\n",
      "iteration: 5 of max_iter: 10\n",
      "iteration: 6 of max_iter: 10\n",
      "iteration: 7 of max_iter: 10\n",
      "iteration: 8 of max_iter: 10\n",
      "iteration: 9 of max_iter: 10\n",
      "iteration: 10 of max_iter: 10\n"
     ]
    }
   ],
   "source": [
    "lda = LatentDirichletAllocation(n_components=NUM_TOPICS, max_iter=10, learning_method='online',verbose=True)\n",
    "data_lda = lda.fit_transform(data_vectorized)"
   ]
  },
  {
   "cell_type": "code",
   "execution_count": 37,
   "metadata": {},
   "outputs": [],
   "source": [
    "# Non-Negative Matrix Factorization Model\n",
    "nmf = NMF(n_components=NUM_TOPICS)\n",
    "data_nmf = nmf.fit_transform(data_vectorized) "
   ]
  },
  {
   "cell_type": "code",
   "execution_count": 38,
   "metadata": {},
   "outputs": [],
   "source": [
    "# Latent Semantic Indexing Model using Truncated SVD\n",
    "lsi = TruncatedSVD(n_components=NUM_TOPICS)\n",
    "data_lsi = lsi.fit_transform(data_vectorized)"
   ]
  },
  {
   "cell_type": "code",
   "execution_count": 39,
   "metadata": {},
   "outputs": [],
   "source": [
    "# Functions for printing keywords for each topic\n",
    "def selected_topics(model, vectorizer, top_n=10):\n",
    "    for idx, topic in enumerate(model.components_):\n",
    "        print(\"Topic %d:\" % (idx))\n",
    "        print([(vectorizer.get_feature_names()[i], topic[i])\n",
    "                        for i in topic.argsort()[:-top_n - 1:-1]]) "
   ]
  },
  {
   "cell_type": "code",
   "execution_count": 40,
   "metadata": {},
   "outputs": [
    {
     "name": "stdout",
     "output_type": "stream",
     "text": [
      "LDA Model:\n",
      "Topic 0:\n",
      "[('giletsjaunes', 69.21013725551052), ('acte', 42.461490950963885), ('gilet', 40.08763852990299), ('jaune', 33.124712979441455), ('macron', 29.684920407783636), ('mars', 25.983699005499744), ('france', 23.74751311300433), ('manifestation', 18.476011889055396), ('ric', 14.726885081686591), ('actexix', 13.85690810087591)]\n",
      "Topic 1:\n",
      "[('paris', 59.000335553069476), ('giletsjaunes', 57.69304262721306), ('dan', 45.224758723198555), ('faire', 34.97325448448134), ('acte', 29.328155168376384), ('voir', 27.009388073566342), ('place', 26.79715670089685), ('giletsjaunesparis', 25.49789456923383), ('gilets', 25.38703311777713), ('jaunes', 24.002659423204715)]\n",
      "Topic 2:\n",
      "[('plaire', 26.82543093737326), ('ais', 16.620569283298394), ('fran', 15.612052029307149), ('bon', 14.622490915189907), ('peupler', 11.575850675497612), ('giletsjaunes', 11.183301898820886), ('gouvernement', 10.189968514066042), ('faire', 7.640129749905296), ('emmanuelmacron', 7.5315749577708475), ('entendre', 6.970243074563933)]\n",
      "Topic 3:\n",
      "[('drouet', 24.71272021754419), ('giletsjaunes', 20.525320180387403), ('mettre', 17.350541166580683), ('ric', 15.982544712362259), ('samedi', 13.822020237384102), ('champs', 13.44881169767118), ('domicile', 13.35211936012848), ('elys', 11.070568478268719), ('eric', 11.057615287681784), ('cnews', 10.3445429053333)]\n",
      "Topic 4:\n",
      "[('prendre', 14.539932099610393), ('ephilippepm', 10.024180610231728), ('mois', 7.816142033441092), ('attacher', 6.5775391192013855), ('laurentsegnis', 5.876250457669093), ('payer', 5.815543002209872), ('faire', 5.778609755768464), ('homme', 4.74836854884321), ('accepter', 4.7409928715014305), ('suffire', 4.67760996675534)]\n",
      "Topic 5:\n",
      "[('aller', 31.965493805652976), ('porter', 15.4326070368254), ('dan', 12.251342611289266), ('faire', 8.884945942123169), ('manifestation', 8.390715171641885), ('appeler', 7.828163962507865), ('ami', 7.649788036683578), ('plaire', 7.009780281971999), ('pouvoir', 6.075978319201483), ('plaindre', 6.018124385938695)]\n"
     ]
    }
   ],
   "source": [
    "print(\"LDA Model:\")\n",
    "selected_topics(lda, vectorizer)"
   ]
  },
  {
   "cell_type": "code",
   "execution_count": 42,
   "metadata": {},
   "outputs": [
    {
     "name": "stdout",
     "output_type": "stream",
     "text": [
      "NMF Model:\n",
      "Topic 0:\n",
      "[('giletsjaunes', 2.756361585382929), ('acte', 2.4316880569272037), ('macron', 1.4384458626710162), ('france', 0.9537181928525174), ('actexviii', 0.7369346431442704), ('europeennes', 0.5994131727076925), ('violence', 0.5395062898715997), ('castaner', 0.4461087459990488), ('champselysees', 0.4458829271298633), ('manifestation', 0.44169869841918613)]\n",
      "Topic 1:\n",
      "[('gilet', 2.334951652678174), ('jaune', 1.7344137434082019), ('giletjaunes', 0.6906740677680913), ('jaunes', 0.6671580529147063), ('giletsjaunes', 0.6365629665387219), ('mars', 0.457974578393437), ('champs', 0.20148482040890456), ('appel', 0.19357755236984397), ('samedi', 0.18945703653138327), ('elys', 0.16407420359489702)]\n",
      "Topic 2:\n",
      "[('faire', 1.7234702369709083), ('plaire', 1.2073678301931465), ('aller', 0.8586879141208608), ('voir', 0.8579599357893832), ('mettre', 0.7005328829927717), ('pouvoir', 0.6315897896635945), ('devoir', 0.5567553318249884), ('dan', 0.4817922058304429), ('falloir', 0.4815712331564718), ('ter', 0.42112013512651625)]\n",
      "Topic 3:\n",
      "[('giletsjaunes', 0.8788946236548876), ('prendre', 0.8476907139327655), ('ephilippepm', 0.8299474354295643), ('mois', 0.7608155071964493), ('homme', 0.7195684558353), ('guerre', 0.7097767025500066), ('suffire', 0.7052191789651014), ('claration', 0.7013574081505763), ('accepter', 0.687923616042588), ('attacher', 0.6872783331109522)]\n",
      "Topic 4:\n",
      "[('drouet', 1.606366278916859), ('ric', 1.2142599612033833), ('domicile', 1.0750279914148047), ('vandaliser', 0.7419180367992396), ('eric', 0.5307862455871172), ('plaindre', 0.4922373655812442), ('voiturer', 0.47655440017835377), ('peinture', 0.4127459014527812), ('hiculer', 0.33423578411104027), ('ericdrouet', 0.30307164259999003)]\n",
      "Topic 5:\n",
      "[('paris', 1.8096982264584505), ('dan', 1.0789493294024413), ('giletsjaunes', 0.8625912370388318), ('yellowvests', 0.78199873848548), ('gilets', 0.7179129313951359), ('jaunes', 0.6859012109326127), ('giletsjaunesparis', 0.6628921898605586), ('place', 0.6145370712207225), ('samedi', 0.44158058893133023), ('ruer', 0.3588399161796018)]\n"
     ]
    }
   ],
   "source": [
    "# Keywords for topics clustered by Latent Semantic Indexing\n",
    "print(\"NMF Model:\")\n",
    "selected_topics(nmf, vectorizer)"
   ]
  },
  {
   "cell_type": "code",
   "execution_count": 43,
   "metadata": {},
   "outputs": [
    {
     "name": "stdout",
     "output_type": "stream",
     "text": [
      "LSI Model:\n",
      "Topic 0:\n",
      "[('giletsjaunes', 0.6346853331573089), ('acte', 0.3388326778809631), ('macron', 0.20598006386094234), ('gilet', 0.17806976523662074), ('france', 0.1704697031485287), ('faire', 0.16429540848461502), ('paris', 0.16134444537803552), ('dan', 0.1571576528696538), ('jaune', 0.15235303248876408), ('jaunes', 0.11479174486940306)]\n",
      "Topic 1:\n",
      "[('gilet', 0.6511102062788277), ('jaune', 0.5149969707175744), ('jaunes', 0.1920759185362585), ('giletjaunes', 0.1705008039279021), ('mars', 0.09036270738657123), ('samedi', 0.06866693299425469), ('champs', 0.06112270333678422), ('aller', 0.060110660483243865), ('elys', 0.05251646924065648), ('appel', 0.04914386926688137)]\n",
      "Topic 2:\n",
      "[('giletsjaunes', 0.28654615144135415), ('gilet', 0.16324479942380846), ('mois', 0.1142376645461183), ('claration', 0.1128008323211415), ('excessivement', 0.10948249340473494), ('ena', 0.10948249340473494), ('dialogue', 0.10948249340473494), ('cout', 0.10948249340473494), ('compromettre', 0.10948249340473494), ('bient', 0.10948249340473494)]\n",
      "Topic 3:\n",
      "[('prendre', 0.2536444077402056), ('ephilippepm', 0.22734159394824108), ('faire', 0.21025771383581207), ('mois', 0.19195579535720222), ('homme', 0.18134784072365864), ('suffire', 0.17849223225497404), ('guerre', 0.1771442715412005), ('accepter', 0.17491327520093375), ('claration', 0.17391456852781167), ('attacher', 0.17219352774530233)]\n",
      "Topic 4:\n",
      "[('ric', 0.3881811308912513), ('drouet', 0.3726180630496004), ('domicile', 0.24256218899396545), ('france', 0.18773528418940058), ('vandaliser', 0.16900355164766856), ('lci', 0.15269007108109567), ('faire', 0.14481819743206176), ('bfm', 0.14105606430849432), ('europeennes', 0.1359346481381115), ('cnews', 0.13533081842305444)]\n",
      "Topic 5:\n",
      "[('paris', 0.45483668316052706), ('yellowvests', 0.2684443527868901), ('dan', 0.25639462454004747), ('gilets', 0.1814761656127074), ('place', 0.17217553178899825), ('giletsjaunesparis', 0.1696432775367796), ('jaunes', 0.1637492979583911), ('giletsjaunes', 0.15126216336365664), ('drouet', 0.12753993216933782), ('france', 0.11342542250323151)]\n"
     ]
    }
   ],
   "source": [
    "# Keywords for topics clustered by Non-Negative Matrix Factorization\n",
    "print(\"LSI Model:\")\n",
    "selected_topics(lsi, vectorizer)"
   ]
  },
  {
   "cell_type": "code",
   "execution_count": 44,
   "metadata": {},
   "outputs": [
    {
     "name": "stdout",
     "output_type": "stream",
     "text": [
      "[0.88046869 0.02405957 0.02386698 0.02382779 0.02384151 0.02393547]\n"
     ]
    }
   ],
   "source": [
    "# Transforming an individual sentence\n",
    "text = spacy_tokenizer(\"Les gilets jaune tous unis contre Macron. Tous dans la rue jusqu'à la démission\")\n",
    "x = lda.transform(vectorizer.transform([text]))[0]\n",
    "print(x)"
   ]
  },
  {
   "cell_type": "code",
   "execution_count": 45,
   "metadata": {},
   "outputs": [
    {
     "data": {
      "text/html": [
       "\n",
       "<link rel=\"stylesheet\" type=\"text/css\" href=\"https://cdn.rawgit.com/bmabey/pyLDAvis/files/ldavis.v1.0.0.css\">\n",
       "\n",
       "\n",
       "<div id=\"ldavis_el792420930310076008278215652\"></div>\n",
       "<script type=\"text/javascript\">\n",
       "\n",
       "var ldavis_el792420930310076008278215652_data = {\"mdsDat\": {\"x\": [6.351091384887695, 52.821205139160156, 49.16746520996094, -13.658889770507812, -7.747122764587402, -48.831783294677734], \"y\": [-6.803735256195068, -36.72584915161133, 28.147064208984375, 44.716758728027344, -60.244651794433594, -9.91209888458252], \"topics\": [1, 2, 3, 4, 5, 6], \"cluster\": [1, 1, 1, 1, 1, 1], \"Freq\": [25.807636361133042, 25.613986749848095, 16.43398830671697, 12.142426949390831, 11.66253729535373, 8.339424337557352]}, \"tinfo\": {\"Category\": [\"Default\", \"Default\", \"Default\", \"Default\", \"Default\", \"Default\", \"Default\", \"Default\", \"Default\", \"Default\", \"Default\", \"Default\", \"Default\", \"Default\", \"Default\", \"Default\", \"Default\", \"Default\", \"Default\", \"Default\", \"Default\", \"Default\", \"Default\", \"Default\", \"Default\", \"Default\", \"Default\", \"Default\", \"Default\", \"Default\", \"Topic1\", \"Topic1\", \"Topic1\", \"Topic1\", \"Topic1\", \"Topic1\", \"Topic1\", \"Topic1\", \"Topic1\", \"Topic1\", \"Topic1\", \"Topic1\", \"Topic1\", \"Topic1\", \"Topic1\", \"Topic1\", \"Topic1\", \"Topic1\", \"Topic1\", \"Topic1\", \"Topic1\", \"Topic1\", \"Topic1\", \"Topic1\", \"Topic1\", \"Topic1\", \"Topic1\", \"Topic1\", \"Topic1\", \"Topic1\", \"Topic1\", \"Topic1\", \"Topic1\", \"Topic1\", \"Topic1\", \"Topic1\", \"Topic1\", \"Topic1\", \"Topic1\", \"Topic1\", \"Topic1\", \"Topic1\", \"Topic1\", \"Topic1\", \"Topic1\", \"Topic2\", \"Topic2\", \"Topic2\", \"Topic2\", \"Topic2\", \"Topic2\", \"Topic2\", \"Topic2\", \"Topic2\", \"Topic2\", \"Topic2\", \"Topic2\", \"Topic2\", \"Topic2\", \"Topic2\", \"Topic2\", \"Topic2\", \"Topic2\", \"Topic2\", \"Topic2\", \"Topic2\", \"Topic2\", \"Topic2\", \"Topic2\", \"Topic2\", \"Topic2\", \"Topic2\", \"Topic2\", \"Topic2\", \"Topic2\", \"Topic2\", \"Topic2\", \"Topic2\", \"Topic2\", \"Topic2\", \"Topic2\", \"Topic2\", \"Topic2\", \"Topic2\", \"Topic2\", \"Topic3\", \"Topic3\", \"Topic3\", \"Topic3\", \"Topic3\", \"Topic3\", \"Topic3\", \"Topic3\", \"Topic3\", \"Topic3\", \"Topic3\", \"Topic3\", \"Topic3\", \"Topic3\", \"Topic3\", \"Topic3\", \"Topic3\", \"Topic3\", \"Topic3\", \"Topic3\", \"Topic3\", \"Topic3\", \"Topic3\", \"Topic3\", \"Topic3\", \"Topic3\", \"Topic3\", \"Topic3\", \"Topic3\", \"Topic3\", \"Topic3\", \"Topic3\", \"Topic3\", \"Topic3\", \"Topic3\", \"Topic3\", \"Topic3\", \"Topic3\", \"Topic4\", \"Topic4\", \"Topic4\", \"Topic4\", \"Topic4\", \"Topic4\", \"Topic4\", \"Topic4\", \"Topic4\", \"Topic4\", \"Topic4\", \"Topic4\", \"Topic4\", \"Topic4\", \"Topic4\", \"Topic4\", \"Topic4\", \"Topic4\", \"Topic4\", \"Topic4\", \"Topic4\", \"Topic4\", \"Topic4\", \"Topic4\", \"Topic4\", \"Topic4\", \"Topic4\", \"Topic4\", \"Topic4\", \"Topic4\", \"Topic4\", \"Topic4\", \"Topic4\", \"Topic4\", \"Topic4\", \"Topic4\", \"Topic4\", \"Topic4\", \"Topic5\", \"Topic5\", \"Topic5\", \"Topic5\", \"Topic5\", \"Topic5\", \"Topic5\", \"Topic5\", \"Topic5\", \"Topic5\", \"Topic5\", \"Topic5\", \"Topic5\", \"Topic5\", \"Topic5\", \"Topic5\", \"Topic5\", \"Topic5\", \"Topic5\", \"Topic5\", \"Topic5\", \"Topic5\", \"Topic5\", \"Topic5\", \"Topic5\", \"Topic5\", \"Topic5\", \"Topic5\", \"Topic5\", \"Topic5\", \"Topic5\", \"Topic5\", \"Topic5\", \"Topic5\", \"Topic5\", \"Topic5\", \"Topic5\", \"Topic5\", \"Topic5\", \"Topic5\", \"Topic5\", \"Topic6\", \"Topic6\", \"Topic6\", \"Topic6\", \"Topic6\", \"Topic6\", \"Topic6\", \"Topic6\", \"Topic6\", \"Topic6\", \"Topic6\", \"Topic6\", \"Topic6\", \"Topic6\", \"Topic6\", \"Topic6\", \"Topic6\", \"Topic6\", \"Topic6\", \"Topic6\", \"Topic6\", \"Topic6\", \"Topic6\", \"Topic6\", \"Topic6\", \"Topic6\", \"Topic6\", \"Topic6\", \"Topic6\", \"Topic6\", \"Topic6\", \"Topic6\", \"Topic6\", \"Topic6\"], \"Freq\": [38.0, 41.0, 25.0, 26.0, 43.0, 40.0, 17.0, 17.0, 20.0, 63.0, 19.0, 16.0, 26.0, 23.0, 58.0, 31.0, 42.0, 45.0, 14.0, 14.0, 55.0, 14.0, 16.0, 33.0, 19.0, 8.0, 144.0, 18.0, 18.0, 12.0, 18.501951243173906, 17.604882763840543, 17.528339077042208, 40.73646110735535, 14.124263305869214, 9.151791904790702, 9.80698946387701, 8.753073491336874, 8.224544314351427, 12.011229703752534, 5.398760469947474, 5.082497441412947, 4.200600599601635, 4.150345158376858, 4.120241923708397, 6.877251608498032, 4.008245916702586, 5.452961543660311, 2.958476139341137, 2.756956146828736, 18.64848524128541, 5.279260591546907, 14.997922356740641, 3.6246597714597764, 4.287883721956489, 4.5169324946439815, 5.769562658367583, 6.85221626748422, 14.167236646113974, 16.572505781547314, 16.570561904197714, 31.225188934052813, 8.168487901935622, 24.1470935334468, 12.7054143742242, 39.833847809806066, 20.249465382996323, 8.158366021655429, 8.185305296199758, 13.157878866494631, 9.485866549250296, 9.232315143892633, 8.099345917817097, 6.864158283550064, 6.920280750169871, 24.925724508125125, 38.455395975999, 10.928257583992963, 10.67390951970929, 7.2983630740475105, 6.710013989409768, 13.292698386928427, 6.534992214983945, 4.6631578995401455, 5.483480903878039, 3.9617725973647104, 3.924686325797843, 9.481231404315054, 11.118241910660076, 5.262270039845094, 12.077793549425696, 31.775978853569484, 3.8179395882786586, 13.087464177266881, 11.194093768615426, 28.476243816302834, 3.223499689134428, 3.1089838179538845, 4.371317653508068, 22.780589071730986, 40.73259259291584, 6.63297231838399, 9.745970778696648, 6.233425706500947, 4.27404243932278, 17.723726797249434, 66.39211815204766, 14.12725264140573, 6.587562501857498, 6.998072906947675, 9.157884868886295, 11.286351668919584, 7.110485635137254, 7.308998426623742, 6.710894877540331, 25.87735790662622, 13.981365404232026, 11.578728115490247, 9.642563548454207, 6.416313950074975, 5.399272739080209, 5.992250488151753, 14.082614566744068, 11.592291751783629, 5.975063626779934, 7.74850820124266, 18.168221049276216, 4.860342247734043, 4.808403602142469, 7.985001527984708, 3.747233166414698, 3.678552005280184, 4.107276480420434, 6.7612257719324855, 5.743334503580647, 10.832050732793117, 4.720718632146744, 6.178134820035042, 10.404716657670765, 3.6109236569818894, 3.175272952420785, 7.270848876943378, 3.7112398493674053, 4.059085659176619, 16.735754952902322, 14.473411325293716, 21.492618043679062, 8.577458681121206, 7.293255429076137, 8.509429985345248, 7.692820118453148, 4.75504193198186, 4.88178153501191, 16.124025474854868, 6.7620052589375454, 14.185640215060438, 3.931259623130263, 4.0190593065206315, 11.230019140944755, 15.145637934812772, 6.059606783493562, 4.651069200164455, 3.132321691532752, 3.6100399205351614, 26.02401424617923, 2.7036441163676037, 3.721961925805851, 4.8832233656898785, 9.885540567727379, 3.596691844023002, 2.3611912663484853, 2.708246900027834, 5.394165953419903, 3.6141446937057804, 4.87048777153481, 4.21192486301676, 4.065509495764094, 3.852883180252786, 5.974701927441861, 2.3303853735546673, 3.489841474801102, 1.6111052433812598, 1.6632199044457558, 3.8242398345155544, 7.306567206871038, 6.7543209019184145, 4.483767862174653, 5.444356160059989, 7.411878896498439, 10.849197860555824, 3.73511106360425, 15.964514136832216, 5.920291310166179, 33.06723073641774, 7.913449034501366, 4.061396551435264, 4.01984553869737, 4.288703526807249, 4.246942820887872, 8.097972944343507, 3.1933339041184268, 3.036015971123163, 3.1457274685586056, 3.130589271132619, 6.225547738452401, 5.218253154635255, 5.343055988725862, 2.582325297713949, 6.06974806684883, 2.58563372334257, 4.636284455991507, 3.8481028468109555, 3.806112964122318, 2.0526172001104688, 2.374397721681465, 4.408341463466156, 3.5722797570083205, 3.0744881678656792, 2.3758204281197317, 1.8947656181676416, 2.535236169546489, 4.7715650385175925, 8.679913293727246, 12.673602836279827, 6.285395691117898, 9.191178441824285, 7.251382487780233, 5.555421767226591, 4.583394542139326, 4.708655046659749, 4.859664397771037, 3.6859020933273365, 7.85860229599512, 7.020728345601625, 5.6643642538763475, 5.495541476601055, 4.660794190595601, 4.660481244890331, 4.659030616089822, 4.661204504779863, 4.65874364166167, 4.663500446012895, 4.665260453680428, 4.66228963375259, 4.662433896013665, 4.6605989037306825, 6.948197306225036, 5.588636685900295, 17.371777151130765, 3.608683793739512, 9.338439592174094, 11.97652303261428, 4.666021395845415, 5.6731764424231885, 2.4321236814332816, 2.191296990908802, 2.1145479594620866, 3.9017955337865438, 1.996160715830237, 2.946152909656306, 1.3748714589333086, 1.103101051186891, 6.904070819096177, 2.4865120476098337, 5.277753161408838, 2.187776182746861], \"Term\": [\"aller\", \"plaire\", \"prendre\", \"drouet\", \"paris\", \"gilet\", \"porter\", \"ais\", \"ephilippepm\", \"acte\", \"fran\", \"bon\", \"mars\", \"mettre\", \"dan\", \"ric\", \"macron\", \"jaune\", \"mois\", \"domicile\", \"faire\", \"peupler\", \"champs\", \"manifestation\", \"place\", \"attacher\", \"giletsjaunes\", \"giletsjaunesparis\", \"gilets\", \"eric\", \"place\", \"giletsjaunesparis\", \"gilets\", \"paris\", \"falloir\", \"partir\", \"centaine\", \"compter\", \"blackblocs\", \"ter\", \"flyridergj\", \"gouvernementfr\", \"petit\", \"police\", \"enqu\", \"demander\", \"ponse\", \"fdo\", \"syndicat\", \"lys\", \"voir\", \"placer\", \"ccastaner\", \"attendre\", \"arr\", \"casseurs\", \"tre\", \"feu\", \"castaner\", \"jaunes\", \"yellowvests\", \"dan\", \"ruer\", \"faire\", \"pouvoir\", \"giletsjaunes\", \"acte\", \"casseur\", \"luire\", \"macron\", \"violence\", \"samedi\", \"plaire\", \"devoir\", \"emmanuelmacron\", \"mars\", \"gilet\", \"giletjaunes\", \"frexit\", \"libert\", \"senter\", \"actexix\", \"upr\", \"symbole\", \"greve\", \"interdiction\", \"elysee\", \"manifester\", \"policer\", \"edouardphilippe\", \"actexviii\", \"jaune\", \"jamais\", \"europeennes\", \"politique\", \"macron\", \"monder\", \"jour\", \"giletsjaune\", \"france\", \"acte\", \"dictature\", \"vouloir\", \"champselysees\", \"puter\", \"manifestation\", \"giletsjaunes\", \"ric\", \"youtube\", \"policier\", \"jaunes\", \"dan\", \"emmanuelmacron\", \"violence\", \"castaner\", \"drouet\", \"domicile\", \"eric\", \"vandaliser\", \"vandalis\", \"peinture\", \"rtfrance\", \"champs\", \"elys\", \"poser\", \"voiturer\", \"mettre\", \"assembleenationale\", \"europe\", \"mouvement\", \"perdre\", \"hiculer\", \"soci\", \"bfm\", \"info\", \"cnews\", \"sortir\", \"prochain\", \"lci\", \"tir\", \"crever\", \"pays\", \"aimer\", \"casser\", \"ric\", \"samedi\", \"giletsjaunes\", \"france\", \"yellowvests\", \"jaune\", \"faire\", \"youtube\", \"europeennes\", \"ais\", \"entendre\", \"bon\", \"revolution\", \"heure\", \"peupler\", \"fran\", \"croire\", \"tat\", \"tendre\", \"int\", \"plaire\", \"ski\", \"con\", \"mourir\", \"gouvernement\", \"sider\", \"stopgiletsjaunes\", \"journaliste\", \"monsieur\", \"forcer\", \"comprendre\", \"homme\", \"donner\", \"temps\", \"vouloir\", \"aimer\", \"grand\", \"libre\", \"graver\", \"droit\", \"emmanuelmacron\", \"bfmtv\", \"cnews\", \"pouvoir\", \"faire\", \"giletsjaunes\", \"penser\", \"porter\", \"mieux\", \"aller\", \"ami\", \"rouge\", \"franceinfo\", \"gauche\", \"foi\", \"appeler\", \"voler\", \"condamner\", \"accuser\", \"plateau\", \"plaindre\", \"savoir\", \"grand\", \"marrer\", \"droit\", \"graver\", \"tomber\", \"maison\", \"ministre\", \"battre\", \"nuire\", \"ericdrouet\", \"maintenir\", \"mourir\", \"loi\", \"question\", \"fouquets\", \"luire\", \"manifestation\", \"dan\", \"pouvoir\", \"faire\", \"plaire\", \"violence\", \"devoir\", \"bfmtv\", \"voir\", \"jaune\", \"attacher\", \"laurentsegnis\", \"accepter\", \"claration\", \"opter\", \"bient\", \"ena\", \"dialogue\", \"polytechnique\", \"cout\", \"excessivement\", \"rieusement\", \"ballot\", \"compromettre\", \"payer\", \"suffire\", \"prendre\", \"haine\", \"mois\", \"ephilippepm\", \"guerre\", \"homme\", \"retourner\", \"entrer\", \"combattre\", \"venir\", \"lrem\", \"dictature\", \"crever\", \"tendre\", \"faire\", \"luire\", \"giletsjaunes\", \"lci\"], \"Total\": [38.0, 41.0, 25.0, 26.0, 43.0, 40.0, 17.0, 17.0, 20.0, 63.0, 19.0, 16.0, 26.0, 23.0, 58.0, 31.0, 42.0, 45.0, 14.0, 14.0, 55.0, 14.0, 16.0, 33.0, 19.0, 8.0, 144.0, 18.0, 18.0, 12.0, 19.453846774879125, 18.5499369860285, 18.485758351605217, 43.703959696534426, 15.403104281617415, 10.130253344077095, 10.945707849424279, 9.815307571033534, 9.28520357293971, 13.870508551256613, 6.3450377529775706, 6.078576516822411, 5.150731777601966, 5.111613888284004, 5.078454938325104, 8.702603180690076, 5.181043754225311, 7.193042108936457, 3.917010980813391, 3.7484833794158474, 25.63808788491441, 7.384764541464215, 21.882414338067374, 5.3175755936917, 6.319824233825779, 6.76247274592762, 8.641605491839966, 10.27546050698581, 21.800748207364936, 26.557888836477566, 28.054448014791753, 58.015733277244024, 13.970645272996384, 55.52846880576112, 25.158762966201902, 144.08389344826207, 63.8603386353168, 15.852518094317524, 16.034795232514057, 42.40354792554945, 26.127667074870324, 27.67607303531471, 41.98701455318003, 19.807303794565406, 23.26304777332896, 26.08134413808312, 40.63772751992717, 11.847950810054446, 11.602731591994607, 8.199589839895726, 7.592485175851689, 15.0593108861772, 7.4504301313863355, 5.566705506742483, 6.751545604125771, 4.901733685503596, 4.9632048260304975, 12.052292929798455, 14.542616324984461, 7.33340382195632, 16.866328178921997, 45.03460643876423, 5.438718218810834, 18.952379313949194, 16.487869292225366, 42.40354792554945, 4.8606870737406345, 4.798521735772761, 6.7536139411662734, 35.620175141070526, 63.8603386353168, 10.537696085686193, 16.532917837927435, 10.795339786777392, 7.517870730125718, 33.06003986269827, 144.08389344826207, 31.964329880486577, 12.068786288841249, 13.958525351437679, 26.557888836477566, 58.015733277244024, 23.26304777332896, 26.127667074870324, 21.800748207364936, 26.942391436968958, 14.919116625100466, 12.469153031884852, 10.59050747062528, 7.410719713066337, 6.268471382520433, 6.981476375964353, 16.489255604769838, 13.952391628462886, 7.454656557049426, 9.801680548355574, 23.488308663786498, 6.824430487823013, 6.782299409367558, 11.367073609102759, 5.347718825263358, 5.2606956392373885, 6.1059851419068485, 10.113746095937136, 8.60555594802316, 16.266858778035473, 7.1763318331251345, 9.691612678195298, 16.487885748496193, 5.864644145735285, 5.351221906658935, 12.865599276835034, 6.806262133574448, 7.729506259261513, 31.964329880486577, 27.67607303531471, 144.08389344826207, 35.620175141070526, 28.054448014791753, 45.03460643876423, 55.52846880576112, 12.068786288841249, 18.952379313949194, 17.300108455747576, 7.688161257373677, 16.918561988676917, 4.846186284562302, 4.979695252854454, 14.341790476232505, 19.936101443375932, 8.340698561803123, 6.538526481550179, 4.9247778995326, 5.807950415507529, 41.98701455318003, 4.4606776116022635, 6.559742046636712, 8.800643192223344, 20.0811438411256, 7.439885517977523, 4.916876771004275, 5.790123756311608, 11.853561257436459, 8.188358733810523, 11.843859864426738, 10.56573351070058, 11.00216378368706, 10.532990342506041, 16.532917837927435, 6.806262133574448, 10.32213101171752, 4.806663841783253, 5.106143717088725, 11.906961456511672, 23.26304777332896, 22.243237046756025, 16.266858778035473, 25.158762966201902, 55.52846880576112, 144.08389344826207, 13.490073845393201, 17.136892446776848, 6.805568245124858, 38.281763836454864, 9.425866953642837, 5.092215042026923, 5.043229682950954, 5.984707832919784, 6.106644278550611, 11.853244316313402, 5.074593361655546, 5.10244240600438, 5.290326851991597, 5.644793907470264, 11.247116189845158, 10.005556573056253, 10.32213101171752, 5.039462332933396, 11.906961456511672, 5.106143717088725, 9.19317810727641, 8.119449737315566, 8.437231255071156, 4.951066244628458, 5.8427900237489165, 11.14834368761835, 9.406520380128686, 8.800643192223344, 7.61698233336435, 6.3553583931920326, 8.508084724454285, 16.034795232514057, 33.06003986269827, 58.015733277244024, 25.158762966201902, 55.52846880576112, 41.98701455318003, 26.127667074870324, 19.807303794565406, 22.243237046756025, 25.63808788491441, 45.03460643876423, 8.707808921906846, 8.02985219740167, 6.503877936099617, 6.373289991273387, 5.4935841678736335, 5.494720917618256, 5.493172011537366, 5.496884268661284, 5.495035413083684, 5.501760758093474, 5.504498423315546, 5.501292204933987, 5.502049885763724, 5.500801839438601, 8.576704780464315, 7.222454694003869, 25.105866123252593, 5.443886254034624, 14.49778413963711, 20.17360048518125, 8.500367464100798, 10.56573351070058, 5.006526207307035, 6.012462085633394, 6.053440826916731, 11.513136935200901, 6.548024436531129, 10.537696085686193, 5.351221906658935, 4.9247778995326, 55.52846880576112, 16.034795232514057, 144.08389344826207, 16.487885748496193], \"loglift\": [30.0, 29.0, 28.0, 27.0, 26.0, 25.0, 24.0, 23.0, 22.0, 21.0, 20.0, 19.0, 18.0, 17.0, 16.0, 15.0, 14.0, 13.0, 12.0, 11.0, 10.0, 9.0, 8.0, 7.0, 6.0, 5.0, 4.0, 3.0, 2.0, 1.0, 1.3043, 1.3022, 1.3013, 1.2842, 1.2678, 1.2529, 1.2446, 1.24, 1.2332, 1.2106, 1.193, 1.1755, 1.1506, 1.1462, 1.1454, 1.1191, 1.0978, 1.0775, 1.0738, 1.0473, 1.0362, 1.0189, 0.9767, 0.9712, 0.9666, 0.9509, 0.9505, 0.9493, 0.9235, 0.8829, 0.828, 0.735, 0.8178, 0.5218, 0.6713, 0.0688, 0.2059, 0.6902, 0.6821, 0.1843, 0.3413, 0.2566, -0.2911, 0.2948, 0.1421, 1.3167, 1.3068, 1.2812, 1.2786, 1.2456, 1.2385, 1.2373, 1.2309, 1.1849, 1.154, 1.1491, 1.1273, 1.1221, 1.0935, 1.0302, 1.0281, 1.0133, 1.0082, 0.9918, 0.9748, 0.9639, 0.9513, 0.928, 0.927, 0.915, 0.9124, 0.8991, 0.8335, 0.8128, 0.7973, 0.7386, 0.5872, 0.5455, 0.7566, 0.6716, 0.2973, -0.2751, 0.1767, 0.0881, 0.1838, 1.7655, 1.7409, 1.7317, 1.712, 1.6617, 1.6566, 1.653, 1.6481, 1.6205, 1.5846, 1.5708, 1.549, 1.4664, 1.4619, 1.4527, 1.4502, 1.4481, 1.4093, 1.4031, 1.4015, 1.3992, 1.387, 1.3556, 1.3455, 1.3208, 1.2839, 1.2351, 1.1993, 1.1617, 1.1587, 1.1576, -0.0969, 0.382, 0.4586, 0.1396, -0.1708, 0.8744, 0.4494, 2.0381, 1.9801, 1.9323, 1.8992, 1.8941, 1.8639, 1.8336, 1.789, 1.7678, 1.656, 1.633, 1.6301, 1.6078, 1.5418, 1.5194, 1.3998, 1.3816, 1.375, 1.3486, 1.3212, 1.2906, 1.2198, 1.1888, 1.1129, 1.1028, 1.0906, 1.0367, 1.024, 1.0154, 0.9868, 0.9727, 0.9504, 0.9166, 0.8198, 0.5778, 0.0947, -0.4778, 0.8243, 2.0779, 2.0094, 2.0024, 1.9739, 1.9226, 1.922, 1.8156, 1.7856, 1.7678, 1.6856, 1.6296, 1.629, 1.5593, 1.5573, 1.4978, 1.4903, 1.4802, 1.475, 1.4683, 1.4642, 1.4021, 1.3527, 1.2683, 1.2483, 1.221, 1.1806, 1.0971, 0.9838, 0.9386, 0.9381, 0.9367, 0.8115, 0.6276, 0.7618, 0.3501, 0.3926, 0.6006, 0.6852, 0.5962, 0.4857, -0.3541, 2.3816, 2.3499, 2.346, 2.336, 2.3198, 2.3195, 2.3195, 2.3193, 2.3191, 2.3189, 2.3188, 2.3187, 2.3186, 2.3184, 2.2736, 2.2277, 2.1159, 2.073, 2.0443, 1.9627, 1.8844, 1.8623, 1.7622, 1.4748, 1.4324, 1.4021, 1.2962, 1.2097, 1.1252, 0.988, 0.3994, 0.6203, -0.8227, 0.4644], \"logprob\": [30.0, 29.0, 28.0, 27.0, 26.0, 25.0, 24.0, 23.0, 22.0, 21.0, 20.0, 19.0, 18.0, 17.0, 16.0, 15.0, 14.0, 13.0, 12.0, 11.0, 10.0, 9.0, 8.0, 7.0, 6.0, 5.0, 4.0, 3.0, 2.0, 1.0, -3.6279, -3.6776, -3.6819, -2.8386, -3.8979, -4.3318, -4.2627, -4.3764, -4.4386, -4.0599, -4.8596, -4.92, -5.1105, -5.1226, -5.1299, -4.6175, -5.1574, -4.8496, -5.4611, -5.5316, -3.62, -4.882, -3.8379, -5.258, -5.09, -5.0379, -4.7932, -4.6212, -3.8948, -3.738, -3.7381, -3.1045, -4.4455, -3.3616, -4.0037, -2.861, -3.5376, -4.4467, -4.4434, -3.9687, -4.296, -4.3231, -4.454, -4.6195, -4.6113, -3.3223, -2.8887, -4.1469, -4.1704, -4.5506, -4.6346, -3.951, -4.6611, -4.9985, -4.8365, -5.1615, -5.1709, -4.2889, -4.1296, -4.8777, -4.0469, -3.0795, -5.1985, -3.9666, -4.1228, -3.1892, -5.3678, -5.4039, -5.0632, -3.4123, -2.8312, -4.6462, -4.2614, -4.7083, -5.0857, -3.6633, -2.3427, -3.8901, -4.6531, -4.5926, -4.3236, -4.1146, -4.5767, -4.5491, -4.6345, -2.8411, -3.4567, -3.6453, -3.8283, -4.2356, -4.4082, -4.304, -3.4495, -3.6441, -4.3069, -4.0469, -3.1948, -4.5133, -4.5241, -4.0169, -4.7734, -4.7919, -4.6817, -4.1832, -4.3464, -3.7119, -4.5425, -4.2734, -3.7522, -4.8105, -4.9391, -4.1106, -4.7831, -4.6935, -3.2769, -3.4221, -3.0267, -3.9453, -4.1075, -3.9533, -4.0542, -4.5352, -4.5089, -3.0115, -3.8805, -3.1396, -4.4228, -4.4008, -3.3732, -3.0741, -3.9902, -4.2547, -4.65, -4.5081, -2.5328, -4.7972, -4.4776, -4.206, -3.5007, -4.5118, -4.9326, -4.7955, -4.1065, -4.5069, -4.2086, -4.3539, -4.3893, -4.443, -4.0043, -4.9458, -4.5419, -5.3149, -5.283, -4.4504, -3.803, -3.8816, -4.2913, -4.0972, -3.7887, -3.4077, -4.474, -2.9811, -3.9731, -2.2529, -3.6829, -4.35, -4.3602, -4.2955, -4.3053, -3.6599, -4.5904, -4.6409, -4.6054, -4.6103, -3.9228, -4.0993, -4.0757, -4.8028, -3.9482, -4.8015, -4.2176, -4.4039, -4.4149, -5.0324, -4.8867, -4.268, -4.4783, -4.6283, -4.8861, -5.1124, -4.8212, -4.1888, -3.5905, -3.212, -3.9132, -3.5332, -3.7703, -4.0367, -4.229, -4.2021, -4.1705, -4.447, -3.3545, -3.4672, -3.6819, -3.7122, -3.8769, -3.877, -3.8773, -3.8768, -3.8773, -3.8763, -3.8759, -3.8766, -3.8766, -3.8769, -3.4776, -3.6954, -2.5612, -4.1327, -3.182, -2.9331, -3.8758, -3.6803, -4.5273, -4.6316, -4.6672, -4.0547, -4.7249, -4.3356, -5.0977, -5.318, -3.484, -4.5052, -3.7526, -4.6332]}, \"token.table\": {\"Topic\": [6, 3, 5, 1, 2, 4, 2, 4, 1, 2, 3, 4, 4, 1, 4, 5, 1, 5, 3, 4, 5, 1, 5, 2, 3, 6, 1, 5, 6, 2, 5, 2, 3, 4, 1, 3, 4, 5, 6, 1, 2, 4, 2, 3, 5, 1, 2, 3, 4, 1, 4, 1, 2, 1, 2, 3, 4, 1, 3, 4, 1, 2, 6, 6, 3, 4, 2, 6, 2, 4, 5, 6, 1, 1, 4, 3, 5, 6, 3, 6, 2, 4, 5, 1, 2, 4, 5, 1, 3, 1, 2, 3, 4, 5, 6, 6, 2, 6, 3, 2, 3, 4, 6, 2, 4, 5, 3, 1, 2, 3, 4, 2, 1, 2, 4, 6, 6, 1, 4, 2, 6, 1, 4, 6, 3, 2, 3, 5, 2, 3, 2, 3, 6, 1, 3, 4, 5, 6, 1, 2, 1, 4, 1, 2, 3, 1, 3, 5, 1, 4, 5, 1, 2, 3, 4, 5, 2, 4, 1, 2, 3, 5, 2, 4, 5, 2, 5, 6, 2, 1, 1, 2, 1, 2, 3, 4, 6, 1, 1, 2, 4, 1, 2, 4, 5, 4, 5, 2, 2, 6, 4, 6, 4, 2, 3, 4, 6, 1, 3, 2, 3, 4, 2, 2, 4, 2, 3, 5, 6, 1, 2, 2, 4, 1, 4, 5, 6, 1, 2, 3, 4, 6, 2, 2, 3, 4, 1, 2, 5, 2, 4, 6, 1, 5, 6, 1, 1, 2, 1, 4, 5, 2, 3, 5, 1, 2, 5, 2, 4, 3, 5, 2, 1, 3, 5, 2, 5, 2, 3, 4, 6, 2, 4, 2, 4, 6, 4, 5, 1, 3, 1, 3, 5, 6, 1, 5, 1, 2, 6, 3, 4, 6, 3, 1, 2, 3, 4, 6, 1, 3, 1, 2, 4, 6, 1, 1, 5, 3, 5, 1, 4, 5, 4, 5, 1, 2, 5, 1, 2, 5, 1, 2, 5, 6, 1, 5, 1, 3, 1, 4, 5, 1, 4, 5, 6, 3, 5, 2, 4, 5, 1, 3, 5, 1, 5, 6, 4, 2, 3, 6, 5, 3, 1, 2, 1, 2, 3, 4, 1, 2, 5, 2, 1, 4, 1, 4, 2, 3, 3, 5, 2, 3, 4, 3, 6, 2, 1, 2, 4, 3, 4, 5, 4, 6, 1, 6, 1, 3, 2, 3, 5, 1, 2, 2, 3, 3, 1, 4, 6, 1, 2, 3, 5, 1, 4, 5, 3, 5, 4, 5, 2, 4, 1, 2, 3, 2, 3], \"Freq\": [0.9225265386204661, 0.18902423762787737, 0.5670727128836321, 0.3131834316478141, 0.6420260348780189, 0.03131834316478141, 0.8632533120710443, 0.06640410092854186, 0.23715890960777322, 0.7114767288233197, 0.5876940854611661, 0.29384704273058304, 0.9248496933372898, 0.07836629505412619, 0.0522441967027508, 0.8620292455953882, 0.1060910370280081, 0.8487282962240648, 0.08436508801423408, 0.16873017602846815, 0.6749207041138726, 0.6329289948588576, 0.1582322487147144, 0.14653237391520404, 0.7326618695760202, 0.9187156116705592, 0.7522224986787673, 0.18805562466969183, 0.9087522112326257, 0.40395339128614016, 0.40395339128614016, 0.09887533170342461, 0.6921273219239723, 0.09887533170342461, 0.2697449111110851, 0.17982994074072342, 0.314702396296266, 0.22478742592590428, 0.9099643230228519, 0.8615858486199228, 0.11821335650976364, 0.8274934955683455, 0.12937436965029914, 0.5174974786011965, 0.2587487393005983, 0.5046516870318332, 0.2523258435159166, 0.06308146087897915, 0.1261629217579583, 0.7393745140061398, 0.14787490280122798, 0.6421797943279023, 0.32108989716395114, 0.6854819476617579, 0.04569879651078386, 0.13709638953235156, 0.13709638953235156, 0.9136001195688754, 0.8490377210206037, 0.060645551501471696, 0.2778976909716665, 0.555795381943333, 0.09263256365722217, 0.7845241636338907, 0.6762215219359305, 0.24589873524942932, 0.49558591316536, 0.3303906087769067, 0.3377277378985272, 0.42215967237315905, 0.1688638689492636, 0.9089583929659041, 0.9169350970274603, 0.30489003771503986, 0.6097800754300797, 0.19598457374516057, 0.5879537212354817, 0.9087999678365969, 0.5606196215236132, 0.18687320717453773, 0.11989403436536811, 0.7193642061922086, 0.11989403436536811, 0.5343378123285633, 0.18960373985852244, 0.03447340724700408, 0.22407714710552654, 0.8043570245202117, 0.11490814636003024, 0.3534049900280023, 0.10097285429371494, 0.20194570858742988, 0.10097285429371494, 0.25243213573428736, 0.05048642714685747, 0.9096061979157702, 0.6642818262246528, 0.28469221123913696, 0.938393361470604, 0.2726736357486433, 0.18178242383242885, 0.3635648476648577, 0.09089121191621442, 0.08398448282984242, 0.33593793131936966, 0.5039068969790546, 0.9650219825818485, 0.136362325637378, 0.68181162818689, 0.8600676012791953, 0.14334460021319922, 0.8059308733383758, 0.30090640178392647, 0.30090640178392647, 0.30090640178392647, 0.04298662882627521, 0.9102209050614923, 0.7876411327023052, 0.9104907878052552, 0.4989636453872057, 0.3326424302581371, 0.29741840106367573, 0.09913946702122524, 0.5948368021273515, 0.9623749078477759, 0.2690982700265942, 0.3587976933687923, 0.3587976933687923, 0.14744262080480003, 0.7372131040240001, 0.6859297075397722, 0.2638191182845278, 0.9083479756886423, 0.4322107293098992, 0.14407024310329972, 0.12606146271538726, 0.1620790234912122, 0.12606146271538726, 0.9089076944514407, 0.06492197817510291, 0.6951161864863996, 0.13902323729727994, 0.6812346751020086, 0.09731923930028695, 0.1946384786005739, 0.7880173758861596, 0.1637560588738511, 0.6550242354954044, 0.36637378716844815, 0.4884983828912642, 0.12212459572281605, 0.11753526585434194, 0.2350705317086839, 0.2350705317086839, 0.11753526585434194, 0.35260579756302585, 0.20064103362240163, 0.752403876084006, 0.11229591051021948, 0.6457014854337619, 0.2526657986479938, 0.7931425398931015, 0.9480526126786846, 0.16709253449255282, 0.6683701379702113, 0.9350916579025309, 0.024607675207961338, 0.024607675207961338, 0.9284305933026954, 0.9737225629392133, 0.29613774453542757, 0.5922754890708551, 0.2776160405074234, 0.4580664668372486, 0.14574842126639728, 0.07634441113954143, 0.034702005063427924, 0.97035370058439, 0.1991918404472616, 0.2987877606708924, 0.497979601118154, 0.8225610035774891, 0.09687921988829785, 0.2906376596648936, 0.48439609944148926, 0.391685019226271, 0.5875275288394065, 0.7405711659482198, 0.35292591910523385, 0.5882098651753898, 0.1836923023986533, 0.7347692095946132, 0.8032620063862593, 0.19008892902706762, 0.7603557161082705, 0.378582328992961, 0.5678734934894415, 0.2324079945653521, 0.6972239836960563, 0.17217777846896698, 0.17217777846896698, 0.6887111138758679, 0.8160378055277898, 0.7354674096122952, 0.1838668524030738, 0.7105646641658115, 0.1998463117966345, 0.08882058302072644, 0.02220514575518161, 0.640111121206679, 0.3388823582858889, 0.6251925416186274, 0.2083975138728758, 0.1727078801916687, 0.5181236405750062, 0.1727078801916687, 0.8717470543561295, 0.06065059009104347, 0.06065059009104347, 0.6065059009104347, 0.12130118018208694, 0.12130118018208694, 0.8537012383157228, 0.4160890101393086, 0.2080445050696543, 0.4160890101393086, 0.26257117483908077, 0.39385676225862115, 0.26257117483908077, 0.4581534520951292, 0.15271781736504306, 0.3054356347300861, 0.4989150085171184, 0.311821880323199, 0.1247287521292796, 0.8003236766298564, 0.3065781198975357, 0.6603221043946923, 0.4252369461134658, 0.10630923652836645, 0.4252369461134658, 0.12316105553362508, 0.3694831666008752, 0.4926442221345003, 0.1814879844343387, 0.5444639533030161, 0.27223197665150806, 0.7467458725424875, 0.1659435272316639, 0.3968677346648268, 0.5953016019972402, 0.9585395548496989, 0.17029748958327803, 0.766338703124751, 0.8816310091810594, 0.474089174407282, 0.474089174407282, 0.06897605802158334, 0.06897605802158334, 0.13795211604316668, 0.6207845221942501, 0.6171966955468484, 0.20573223184894948, 0.42181416128112525, 0.42181416128112525, 0.08436283225622504, 0.5681402927933985, 0.3408841756760391, 0.26392017006009344, 0.7037871201602491, 0.17115111033176728, 0.34230222066353455, 0.34230222066353455, 0.9101526157075915, 0.9381300981579287, 0.045762443812581884, 0.8884279291259851, 0.11659489577836014, 0.816164270448521, 0.5440865869811247, 0.23317996584905346, 0.15545331056603562, 0.7976426300584937, 0.37064289323423366, 0.14825715729369346, 0.14825715729369346, 0.2965143145873869, 0.07412857864684673, 0.1869956205019349, 0.7479824820077396, 0.7765886815139665, 0.06972630102616681, 0.766989311287835, 0.13945260205233362, 0.9766705896200858, 0.6770696576615054, 0.13541393153230108, 0.3556467215668614, 0.5334700823502921, 0.19053509960483944, 0.6192390737157282, 0.1667182121542345, 0.35430877243422826, 0.5314631586513424, 0.7825317184398725, 0.7563975940905361, 0.13752683528918838, 0.3582040275826857, 0.50148563861576, 0.07164080551653715, 0.18195195187619603, 0.6671571568793855, 0.06065065062539868, 0.9099122433487864, 0.772045207442587, 0.9336581909288532, 0.1341443421768853, 0.8048660530613119, 0.5167185690911793, 0.1987379111889151, 0.23848549342669814, 0.15932531386739426, 0.039831328466848566, 0.07966265693369713, 0.6771325839364256, 0.6190920127771012, 0.3095460063885506, 0.5320655466941115, 0.2660327733470558, 0.1330163866735279, 0.15734753858589892, 0.4720426157576968, 0.31469507717179784, 0.19973929199461657, 0.19973929199461657, 0.39947858398923314, 0.8253913005247325, 0.43798822163159595, 0.5318428405526522, 0.9088773716683528, 0.785512781174266, 0.8594170741100902, 0.5726292410747169, 0.35789327567169804, 0.3251906435033607, 0.1083968811677869, 0.5058521121163388, 0.03613229372259563, 0.29983339538338477, 0.09994446512779492, 0.4997223256389746, 0.9219642630668388, 0.4032320111312045, 0.5376426815082727, 0.22418118659797132, 0.6725435597939139, 0.16377373622100042, 0.6550949448840017, 0.6967347826532445, 0.27869391306129776, 0.20338113940483188, 0.20338113940483188, 0.40676227880966376, 0.13845708174953408, 0.8307424904972046, 0.89819732585888, 0.7658901174121886, 0.15293965740166524, 0.7646982870083261, 0.379759201321769, 0.379759201321769, 0.1898796006608845, 0.6091645270510013, 0.20305484235033378, 0.8651449192115489, 0.07209540993429574, 0.1705133295644529, 0.6820533182578116, 0.10877631090476741, 0.32632893271430224, 0.5438815545238371, 0.6943154261862148, 0.2314384753954049, 0.9395430702062672, 0.809637961265894, 0.9442418153933453, 0.5211438058775509, 0.08685730097959182, 0.3474292039183673, 0.3444624418326361, 0.26791523253649474, 0.11482081394421204, 0.22964162788842407, 0.7410849079419727, 0.0780089376781024, 0.19502234419525596, 0.8161865672455688, 0.1020233209056961, 0.19706012457198305, 0.5911803737159491, 0.6048539101222316, 0.36291234607333894, 0.6059645155390947, 0.14257988600919874, 0.24951480051609778, 0.5800086133327401, 0.41429186666624296], \"Term\": [\"accepter\", \"accuser\", \"accuser\", \"acte\", \"acte\", \"acte\", \"actexix\", \"actexix\", \"actexviii\", \"actexviii\", \"aimer\", \"aimer\", \"ais\", \"aller\", \"aller\", \"aller\", \"ami\", \"ami\", \"appeler\", \"appeler\", \"appeler\", \"arr\", \"arr\", \"assembleenationale\", \"assembleenationale\", \"attacher\", \"attendre\", \"attendre\", \"ballot\", \"battre\", \"battre\", \"bfm\", \"bfm\", \"bfm\", \"bfmtv\", \"bfmtv\", \"bfmtv\", \"bfmtv\", \"bient\", \"blackblocs\", \"bon\", \"bon\", \"casser\", \"casser\", \"casser\", \"casseur\", \"casseur\", \"casseur\", \"casseur\", \"casseurs\", \"casseurs\", \"castaner\", \"castaner\", \"ccastaner\", \"ccastaner\", \"ccastaner\", \"ccastaner\", \"centaine\", \"champs\", \"champs\", \"champselysees\", \"champselysees\", \"champselysees\", \"claration\", \"cnews\", \"cnews\", \"combattre\", \"combattre\", \"comprendre\", \"comprendre\", \"comprendre\", \"compromettre\", \"compter\", \"con\", \"con\", \"condamner\", \"condamner\", \"cout\", \"crever\", \"crever\", \"croire\", \"croire\", \"croire\", \"dan\", \"dan\", \"dan\", \"dan\", \"demander\", \"demander\", \"devoir\", \"devoir\", \"devoir\", \"devoir\", \"devoir\", \"devoir\", \"dialogue\", \"dictature\", \"dictature\", \"domicile\", \"donner\", \"donner\", \"donner\", \"donner\", \"droit\", \"droit\", \"droit\", \"drouet\", \"edouardphilippe\", \"edouardphilippe\", \"elys\", \"elys\", \"elysee\", \"emmanuelmacron\", \"emmanuelmacron\", \"emmanuelmacron\", \"emmanuelmacron\", \"ena\", \"enqu\", \"entendre\", \"entrer\", \"entrer\", \"ephilippepm\", \"ephilippepm\", \"ephilippepm\", \"eric\", \"ericdrouet\", \"ericdrouet\", \"ericdrouet\", \"europe\", \"europe\", \"europeennes\", \"europeennes\", \"excessivement\", \"faire\", \"faire\", \"faire\", \"faire\", \"faire\", \"falloir\", \"falloir\", \"fdo\", \"fdo\", \"feu\", \"feu\", \"feu\", \"flyridergj\", \"foi\", \"foi\", \"forcer\", \"forcer\", \"forcer\", \"fouquets\", \"fouquets\", \"fouquets\", \"fouquets\", \"fouquets\", \"fran\", \"fran\", \"france\", \"france\", \"france\", \"franceinfo\", \"frexit\", \"gauche\", \"gauche\", \"gilet\", \"gilet\", \"gilet\", \"giletjaunes\", \"gilets\", \"giletsjaune\", \"giletsjaune\", \"giletsjaunes\", \"giletsjaunes\", \"giletsjaunes\", \"giletsjaunes\", \"giletsjaunes\", \"giletsjaunesparis\", \"gouvernement\", \"gouvernement\", \"gouvernement\", \"gouvernementfr\", \"grand\", \"grand\", \"grand\", \"graver\", \"graver\", \"greve\", \"guerre\", \"guerre\", \"haine\", \"haine\", \"heure\", \"hiculer\", \"hiculer\", \"homme\", \"homme\", \"info\", \"info\", \"int\", \"int\", \"int\", \"interdiction\", \"jamais\", \"jamais\", \"jaune\", \"jaune\", \"jaune\", \"jaune\", \"jaunes\", \"jaunes\", \"jour\", \"jour\", \"journaliste\", \"journaliste\", \"journaliste\", \"laurentsegnis\", \"lci\", \"lci\", \"lci\", \"lci\", \"lci\", \"libert\", \"libre\", \"libre\", \"libre\", \"loi\", \"loi\", \"loi\", \"lrem\", \"lrem\", \"lrem\", \"luire\", \"luire\", \"luire\", \"lys\", \"macron\", \"macron\", \"maintenir\", \"maintenir\", \"maintenir\", \"maison\", \"maison\", \"maison\", \"manifestation\", \"manifestation\", \"manifestation\", \"manifester\", \"manifester\", \"marrer\", \"marrer\", \"mars\", \"mettre\", \"mettre\", \"mieux\", \"ministre\", \"ministre\", \"mois\", \"mois\", \"mois\", \"mois\", \"monder\", \"monder\", \"monsieur\", \"monsieur\", \"monsieur\", \"mourir\", \"mourir\", \"mouvement\", \"mouvement\", \"nuire\", \"nuire\", \"nuire\", \"opter\", \"paris\", \"paris\", \"partir\", \"payer\", \"payer\", \"pays\", \"pays\", \"pays\", \"peinture\", \"penser\", \"penser\", \"penser\", \"penser\", \"penser\", \"perdre\", \"perdre\", \"petit\", \"peupler\", \"peupler\", \"peupler\", \"place\", \"placer\", \"placer\", \"plaindre\", \"plaindre\", \"plaire\", \"plaire\", \"plaire\", \"plateau\", \"plateau\", \"police\", \"policer\", \"policer\", \"policier\", \"policier\", \"policier\", \"politique\", \"politique\", \"politique\", \"polytechnique\", \"ponse\", \"porter\", \"poser\", \"poser\", \"pouvoir\", \"pouvoir\", \"pouvoir\", \"prendre\", \"prendre\", \"prendre\", \"prendre\", \"prochain\", \"prochain\", \"puter\", \"puter\", \"puter\", \"question\", \"question\", \"question\", \"retourner\", \"retourner\", \"retourner\", \"revolution\", \"ric\", \"ric\", \"rieusement\", \"rouge\", \"rtfrance\", \"ruer\", \"ruer\", \"samedi\", \"samedi\", \"samedi\", \"samedi\", \"savoir\", \"savoir\", \"savoir\", \"senter\", \"sider\", \"sider\", \"ski\", \"ski\", \"soci\", \"soci\", \"sortir\", \"sortir\", \"stopgiletsjaunes\", \"stopgiletsjaunes\", \"stopgiletsjaunes\", \"suffire\", \"suffire\", \"symbole\", \"syndicat\", \"tat\", \"tat\", \"temps\", \"temps\", \"temps\", \"tendre\", \"tendre\", \"ter\", \"ter\", \"tir\", \"tir\", \"tomber\", \"tomber\", \"tomber\", \"tre\", \"tre\", \"upr\", \"vandalis\", \"vandaliser\", \"venir\", \"venir\", \"venir\", \"violence\", \"violence\", \"violence\", \"violence\", \"voir\", \"voir\", \"voir\", \"voiturer\", \"voiturer\", \"voler\", \"voler\", \"vouloir\", \"vouloir\", \"yellowvests\", \"yellowvests\", \"yellowvests\", \"youtube\", \"youtube\"]}, \"R\": 30, \"lambda.step\": 0.01, \"plot.opts\": {\"xlab\": \"PC1\", \"ylab\": \"PC2\"}, \"topic.order\": [2, 1, 4, 3, 6, 5]};\n",
       "\n",
       "function LDAvis_load_lib(url, callback){\n",
       "  var s = document.createElement('script');\n",
       "  s.src = url;\n",
       "  s.async = true;\n",
       "  s.onreadystatechange = s.onload = callback;\n",
       "  s.onerror = function(){console.warn(\"failed to load library \" + url);};\n",
       "  document.getElementsByTagName(\"head\")[0].appendChild(s);\n",
       "}\n",
       "\n",
       "if(typeof(LDAvis) !== \"undefined\"){\n",
       "   // already loaded: just create the visualization\n",
       "   !function(LDAvis){\n",
       "       new LDAvis(\"#\" + \"ldavis_el792420930310076008278215652\", ldavis_el792420930310076008278215652_data);\n",
       "   }(LDAvis);\n",
       "}else if(typeof define === \"function\" && define.amd){\n",
       "   // require.js is available: use it to load d3/LDAvis\n",
       "   require.config({paths: {d3: \"https://cdnjs.cloudflare.com/ajax/libs/d3/3.5.5/d3.min\"}});\n",
       "   require([\"d3\"], function(d3){\n",
       "      window.d3 = d3;\n",
       "      LDAvis_load_lib(\"https://cdn.rawgit.com/bmabey/pyLDAvis/files/ldavis.v1.0.0.js\", function(){\n",
       "        new LDAvis(\"#\" + \"ldavis_el792420930310076008278215652\", ldavis_el792420930310076008278215652_data);\n",
       "      });\n",
       "    });\n",
       "}else{\n",
       "    // require.js not available: dynamically load d3 & LDAvis\n",
       "    LDAvis_load_lib(\"https://cdnjs.cloudflare.com/ajax/libs/d3/3.5.5/d3.min.js\", function(){\n",
       "         LDAvis_load_lib(\"https://cdn.rawgit.com/bmabey/pyLDAvis/files/ldavis.v1.0.0.js\", function(){\n",
       "                 new LDAvis(\"#\" + \"ldavis_el792420930310076008278215652\", ldavis_el792420930310076008278215652_data);\n",
       "            })\n",
       "         });\n",
       "}\n",
       "</script>"
      ],
      "text/plain": [
       "PreparedData(topic_coordinates=               x          y  topics  cluster       Freq\n",
       "topic                                                  \n",
       "1       6.351091  -6.803735       1        1  25.807636\n",
       "0      52.821205 -36.725849       2        1  25.613987\n",
       "3      49.167465  28.147064       3        1  16.433988\n",
       "2     -13.658890  44.716759       4        1  12.142427\n",
       "5      -7.747123 -60.244652       5        1  11.662537\n",
       "4     -48.831783  -9.912099       6        1   8.339424, topic_info=    Category        Freq               Term       Total  loglift  logprob\n",
       "8    Default   38.000000              aller   38.000000  30.0000  30.0000\n",
       "159  Default   41.000000             plaire   41.000000  29.0000  29.0000\n",
       "170  Default   25.000000            prendre   25.000000  28.0000  28.0000\n",
       "59   Default   26.000000             drouet   26.000000  27.0000  27.0000\n",
       "145  Default   43.000000              paris   43.000000  26.0000  26.0000\n",
       "91   Default   40.000000              gilet   40.000000  25.0000  25.0000\n",
       "167  Default   17.000000             porter   17.000000  24.0000  24.0000\n",
       "7    Default   17.000000                ais   17.000000  23.0000  23.0000\n",
       "68   Default   20.000000        ephilippepm   20.000000  22.0000  22.0000\n",
       "2    Default   63.000000               acte   63.000000  21.0000  21.0000\n",
       "86   Default   19.000000               fran   19.000000  20.0000  20.0000\n",
       "25   Default   16.000000                bon   16.000000  19.0000  19.0000\n",
       "133  Default   26.000000               mars   26.000000  18.0000  18.0000\n",
       "134  Default   23.000000             mettre   23.000000  17.0000  17.0000\n",
       "50   Default   58.000000                dan   58.000000  16.0000  16.0000\n",
       "178  Default   31.000000                ric   31.000000  15.0000  15.0000\n",
       "126  Default   42.000000             macron   42.000000  14.0000  14.0000\n",
       "113  Default   45.000000              jaune   45.000000  13.0000  13.0000\n",
       "137  Default   14.000000               mois   14.000000  12.0000  12.0000\n",
       "56   Default   14.000000           domicile   14.000000  11.0000  11.0000\n",
       "74   Default   55.000000              faire   55.000000  10.0000  10.0000\n",
       "155  Default   14.000000            peupler   14.000000   9.0000   9.0000\n",
       "33   Default   16.000000             champs   16.000000   8.0000   8.0000\n",
       "130  Default   33.000000      manifestation   33.000000   7.0000   7.0000\n",
       "156  Default   19.000000              place   19.000000   6.0000   6.0000\n",
       "17   Default    8.000000           attacher    8.000000   5.0000   5.0000\n",
       "95   Default  144.000000       giletsjaunes  144.000000   4.0000   4.0000\n",
       "96   Default   18.000000  giletsjaunesparis   18.000000   3.0000   3.0000\n",
       "93   Default   18.000000             gilets   18.000000   2.0000   2.0000\n",
       "69   Default   12.000000               eric   12.000000   1.0000   1.0000\n",
       "..       ...         ...                ...         ...      ...      ...\n",
       "143   Topic6    4.660794              opter    5.493584   2.3198  -3.8769\n",
       "23    Topic6    4.660481              bient    5.494721   2.3195  -3.8770\n",
       "64    Topic6    4.659031                ena    5.493172   2.3195  -3.8773\n",
       "54    Topic6    4.661205           dialogue    5.496884   2.3193  -3.8768\n",
       "165   Topic6    4.658744      polytechnique    5.495035   2.3191  -3.8773\n",
       "46    Topic6    4.663500               cout    5.501761   2.3189  -3.8763\n",
       "73    Topic6    4.665260      excessivement    5.504498   2.3188  -3.8759\n",
       "179   Topic6    4.662290         rieusement    5.501292   2.3187  -3.8766\n",
       "19    Topic6    4.662434             ballot    5.502050   2.3186  -3.8766\n",
       "41    Topic6    4.660599       compromettre    5.500802   2.3184  -3.8769\n",
       "149   Topic6    6.948197              payer    8.576705   2.2736  -3.4776\n",
       "194   Topic6    5.588637            suffire    7.222455   2.2277  -3.6954\n",
       "170   Topic6   17.371777            prendre   25.105866   2.1159  -2.5612\n",
       "103   Topic6    3.608684              haine    5.443886   2.0730  -4.1327\n",
       "137   Topic6    9.338440               mois   14.497784   2.0443  -3.1820\n",
       "68    Topic6   11.976523        ephilippepm   20.173600   1.9627  -2.9331\n",
       "102   Topic6    4.666021             guerre    8.500367   1.8844  -3.8758\n",
       "106   Topic6    5.673176              homme   10.565734   1.8623  -3.6803\n",
       "176   Topic6    2.432124          retourner    5.006526   1.7622  -4.5273\n",
       "67    Topic6    2.191297             entrer    6.012462   1.4748  -4.6316\n",
       "39    Topic6    2.114548          combattre    6.053441   1.4324  -4.6672\n",
       "208   Topic6    3.901796              venir   11.513137   1.4021  -4.0547\n",
       "123   Topic6    1.996161               lrem    6.548024   1.2962  -4.7249\n",
       "55    Topic6    2.946153          dictature   10.537696   1.2097  -4.3356\n",
       "48    Topic6    1.374871             crever    5.351222   1.1252  -5.0977\n",
       "200   Topic6    1.103101             tendre    4.924778   0.9880  -5.3180\n",
       "74    Topic6    6.904071              faire   55.528469   0.3994  -3.4840\n",
       "124   Topic6    2.486512              luire   16.034795   0.6203  -4.5052\n",
       "95    Topic6    5.277753       giletsjaunes  144.083893  -0.8227  -3.7526\n",
       "119   Topic6    2.187776                lci   16.487886   0.4644  -4.6332\n",
       "\n",
       "[266 rows x 6 columns], token_table=      Topic      Freq                Term\n",
       "term                                     \n",
       "0         6  0.922527            accepter\n",
       "1         3  0.189024             accuser\n",
       "1         5  0.567073             accuser\n",
       "2         1  0.313183                acte\n",
       "2         2  0.642026                acte\n",
       "2         4  0.031318                acte\n",
       "3         2  0.863253             actexix\n",
       "3         4  0.066404             actexix\n",
       "4         1  0.237159           actexviii\n",
       "4         2  0.711477           actexviii\n",
       "6         3  0.587694               aimer\n",
       "6         4  0.293847               aimer\n",
       "7         4  0.924850                 ais\n",
       "8         1  0.078366               aller\n",
       "8         4  0.052244               aller\n",
       "8         5  0.862029               aller\n",
       "9         1  0.106091                 ami\n",
       "9         5  0.848728                 ami\n",
       "13        3  0.084365             appeler\n",
       "13        4  0.168730             appeler\n",
       "13        5  0.674921             appeler\n",
       "15        1  0.632929                 arr\n",
       "15        5  0.158232                 arr\n",
       "16        2  0.146532  assembleenationale\n",
       "16        3  0.732662  assembleenationale\n",
       "17        6  0.918716            attacher\n",
       "18        1  0.752222            attendre\n",
       "18        5  0.188056            attendre\n",
       "19        6  0.908752              ballot\n",
       "20        2  0.403953              battre\n",
       "...     ...       ...                 ...\n",
       "202       3  0.682053                 tir\n",
       "203       2  0.108776              tomber\n",
       "203       3  0.326329              tomber\n",
       "203       5  0.543882              tomber\n",
       "204       1  0.694315                 tre\n",
       "204       2  0.231438                 tre\n",
       "205       2  0.939543                 upr\n",
       "206       3  0.809638            vandalis\n",
       "207       3  0.944242          vandaliser\n",
       "208       1  0.521144               venir\n",
       "208       4  0.086857               venir\n",
       "208       6  0.347429               venir\n",
       "210       1  0.344462            violence\n",
       "210       2  0.267915            violence\n",
       "210       3  0.114821            violence\n",
       "210       5  0.229642            violence\n",
       "211       1  0.741085                voir\n",
       "211       4  0.078009                voir\n",
       "211       5  0.195022                voir\n",
       "212       3  0.816187            voiturer\n",
       "212       5  0.102023            voiturer\n",
       "213       4  0.197060               voler\n",
       "213       5  0.591180               voler\n",
       "214       2  0.604854             vouloir\n",
       "214       4  0.362912             vouloir\n",
       "215       1  0.605965         yellowvests\n",
       "215       2  0.142580         yellowvests\n",
       "215       3  0.249515         yellowvests\n",
       "216       2  0.580009             youtube\n",
       "216       3  0.414292             youtube\n",
       "\n",
       "[407 rows x 3 columns], R=30, lambda_step=0.01, plot_opts={'xlab': 'PC1', 'ylab': 'PC2'}, topic_order=[2, 1, 4, 3, 6, 5])"
      ]
     },
     "execution_count": 45,
     "metadata": {},
     "output_type": "execute_result"
    }
   ],
   "source": [
    "pyLDAvis.enable_notebook()\n",
    "dash = pyLDAvis.sklearn.prepare(lda, data_vectorized, vectorizer, mds='tsne')\n",
    "dash"
   ]
  },
  {
   "cell_type": "code",
   "execution_count": null,
   "metadata": {},
   "outputs": [],
   "source": []
  }
 ],
 "metadata": {
  "jupytext": {
   "formats": "ipynb,py:light"
  },
  "kernelspec": {
   "display_name": "Python 3",
   "language": "python",
   "name": "python3"
  },
  "language_info": {
   "codemirror_mode": {
    "name": "ipython",
    "version": 3
   },
   "file_extension": ".py",
   "mimetype": "text/x-python",
   "name": "python",
   "nbconvert_exporter": "python",
   "pygments_lexer": "ipython3",
   "version": "3.6.7"
  }
 },
 "nbformat": 4,
 "nbformat_minor": 2
}
