{
 "cells": [
  {
   "cell_type": "code",
   "execution_count": 102,
   "metadata": {},
   "outputs": [],
   "source": [
    "import tweepy\n",
    "import re"
   ]
  },
  {
   "cell_type": "code",
   "execution_count": 2,
   "metadata": {},
   "outputs": [],
   "source": [
    "import urllib3\n",
    "import urllib3.request\n",
    "\n",
    "import csv\n",
    "import json\n",
    "from pandas.io.json import json_normalize\n",
    "\n",
    "import pandas as pd\n",
    "import numpy as np"
   ]
  },
  {
   "cell_type": "code",
   "execution_count": 3,
   "metadata": {},
   "outputs": [],
   "source": [
    "pd.options.display.max_colwidth = 1000\n"
   ]
  },
  {
   "cell_type": "code",
   "execution_count": 4,
   "metadata": {},
   "outputs": [],
   "source": [
    "####input your credentials here\n",
    "consumer_key = '4ha4rLgP6Ci6fEZtaqttGTKoA'\n",
    "consumer_secret = '5ckLaCgfTdfmWM7qS9f2w05pDCSIWRCTHlm7RLnKwK9tCWIz9P'\n",
    "access_token = '602145669-jHmxtsl0wSZDFeZxi81GcTzYrD87dRBhF78ip0qo'\n",
    "access_token_secret = 'YFLMmVVdcN4gb4KDX3MeOjbjxoKnnsFvjKxjRGMkkEZ5D'"
   ]
  },
  {
   "cell_type": "code",
   "execution_count": 5,
   "metadata": {},
   "outputs": [],
   "source": [
    "input_hashtag = \"giletjaune\"\n",
    "n_tweets = 1\n",
    "language = \"fr\"\n",
    "since_date = \"2018-03-07\""
   ]
  },
  {
   "cell_type": "code",
   "execution_count": 7,
   "metadata": {},
   "outputs": [
    {
     "name": "stderr",
     "output_type": "stream",
     "text": [
      "Rate limit reached. Sleeping for: 381\n"
     ]
    },
    {
     "ename": "KeyboardInterrupt",
     "evalue": "",
     "output_type": "error",
     "traceback": [
      "\u001b[1;31m---------------------------------------------------------------------------\u001b[0m",
      "\u001b[1;31mKeyboardInterrupt\u001b[0m                         Traceback (most recent call last)",
      "\u001b[1;32m<ipython-input-7-9cc50bc2112d>\u001b[0m in \u001b[0;36m<module>\u001b[1;34m\u001b[0m\n\u001b[0;32m     13\u001b[0m \u001b[1;33m\u001b[0m\u001b[0m\n\u001b[0;32m     14\u001b[0m         \u001b[0mtweet_json\u001b[0m \u001b[1;33m=\u001b[0m \u001b[0mtweet\u001b[0m\u001b[1;33m.\u001b[0m\u001b[0m_json\u001b[0m\u001b[1;33m\u001b[0m\u001b[1;33m\u001b[0m\u001b[0m\n\u001b[1;32m---> 15\u001b[1;33m         \u001b[0mjson\u001b[0m\u001b[1;33m.\u001b[0m\u001b[0mdump\u001b[0m\u001b[1;33m(\u001b[0m\u001b[0mtweet_json\u001b[0m\u001b[1;33m,\u001b[0m \u001b[0mfile\u001b[0m\u001b[1;33m)\u001b[0m\u001b[1;33m\u001b[0m\u001b[1;33m\u001b[0m\u001b[0m\n\u001b[0m\u001b[0;32m     16\u001b[0m \u001b[1;33m\u001b[0m\u001b[0m\n",
      "\u001b[1;31mKeyboardInterrupt\u001b[0m: "
     ]
    }
   ],
   "source": [
    "####request to Twitter API\n",
    "auth = tweepy.OAuthHandler(consumer_key, consumer_secret)\n",
    "auth.set_access_token(access_token, access_token_secret)\n",
    "api = tweepy.API(auth,wait_on_rate_limit=True,wait_on_rate_limit_notify = True)\n",
    "\n",
    "inc = 0\n",
    "for tweet in tweepy.Cursor(api.search,q=\"#\"+input_hashtag,#count=n_tweets,\n",
    "                           lang=language,\n",
    "                           since=since_date, tweet_mode='extended').items():\n",
    "    inc = +1\n",
    "    with open('tweets/tweet'+str(tweet.id)+'.json', 'w', encoding='utf8') as file:\n",
    "        ####you need to create a 'tweets' folder\n",
    "        \n",
    "        tweet_json = tweet._json\n",
    "        json.dump(tweet_json, file)\n",
    "        "
   ]
  },
  {
   "cell_type": "code",
   "execution_count": 8,
   "metadata": {},
   "outputs": [],
   "source": [
    "def is_a_retweet(tweet):\n",
    "    #### returns a boolean \n",
    "    return tweet.get('retweeted_status',None) != None"
   ]
  },
  {
   "cell_type": "code",
   "execution_count": 103,
   "metadata": {},
   "outputs": [],
   "source": [
    "#initialisation of databases, df files\n",
    "\n",
    "d_users = {'user_id': [],\n",
    "           'name':[],\n",
    "           'screen_name':[],\n",
    "           'location':[],\n",
    "           'description':[],\n",
    "           'url':[],\n",
    "           'followers_count':[],\n",
    "           'friends_count':[],\n",
    "           'listed_count':[],\n",
    "           'created_at':[],\n",
    "           'favourites_count':[],\n",
    "           'geo_enabled':[],\n",
    "           'verified':[],\n",
    "           'statuses_count':[],\n",
    "           'lang':[],\n",
    "           'contributors_enabled':[]\n",
    "          }\n",
    "df_users = pd.DataFrame(data=d_users)\n",
    "\n",
    "d_tweets = {'tweet_id': [],\n",
    "            'created_at': [],\n",
    "            'text': [],\n",
    "            'truncated': [],\n",
    "            'source': [],\n",
    "            'in_reply_to_status_id': [],\n",
    "            'in_reply_to_user_id': [],\n",
    "            'in_reply_to_screen_name': [],\n",
    "            'user_id': [],\n",
    "            'geo': [],\n",
    "            'coordinates': [],\n",
    "            'place': [],\n",
    "            'contributors': [],\n",
    "            'is_quote_status': [],\n",
    "            'retweet_count': [],\n",
    "            'favorite_count': [],\n",
    "            'favorited': [],\n",
    "            'retweeted': [],\n",
    "            'lang': []         \n",
    "           }\n",
    "df_tweets = pd.DataFrame(data=d_tweets)\n",
    "\n",
    "\n",
    "d_hashtags={'hashtag': [], 'tweet_id': []}\n",
    "df_hashtags = pd.DataFrame(data=d_hashtags)\n",
    "\n",
    "d_users_mentions = {'tweet_id':[], 'user_id': [], 'screen_name':[], 'name':[]}\n",
    "df_users_mentions = pd.DataFrame(data=d_users_mentions)\n",
    "\n",
    "d_retweet_users = {'user_id':[], 'original_user_id':[], 'original_tweet_id':[]}\n",
    "df_retweet_users= pd.DataFrame(data=d_retweet_users)\n",
    "\n",
    "d_influent_users = {'user_id':[], \n",
    "                    'name':[],\n",
    "                    'retweet_count':[],\n",
    "                    'favorite_count':[], \n",
    "                    'description':[] \n",
    "                   }\n",
    "\n",
    "df_influent_users = pd.DataFrame(data=d_influent_users)\n",
    "\n"
   ]
  },
  {
   "cell_type": "code",
   "execution_count": 104,
   "metadata": {},
   "outputs": [],
   "source": [
    "def store_hashtag(tweet):\n",
    "    global input_hashtag\n",
    "    global df_hashtags\n",
    "    if tweet['entities']['hashtags']==[]:\n",
    "        df_hashtags = df_hashtags.append({'hashtag': input_hashtag ,'tweet_id':tweet['id_str']}, ignore_index=True)\n",
    "    else:\n",
    "        for raw_hash in tweet['entities']['hashtags']:\n",
    "            df_hashtags = df_hashtags.append({'hashtag': raw_hash['text'] ,'tweet_id':tweet['id_str']}, ignore_index=True)\n",
    "\n",
    "def store_user_mentions(tweet):\n",
    "    global df_users_mentions\n",
    "    tweet_id = tweet['id_str']\n",
    "    for raw_mention in tweet['entities']['user_mentions']:\n",
    "        screen_name = raw_mention['screen_name']\n",
    "        name = raw_mention['name']\n",
    "        user_id = raw_mention['id_str']\n",
    "        df_users_mentions = df_users_mentions.append({'tweet_id':tweet_id, 'user_id': user_id, 'screen_name':screen_name, 'name':name},ignore_index=True)\n",
    "\n",
    "def store_users(tweet):\n",
    "    global df_users\n",
    "    user = tweet['user']\n",
    "    if user['id_str'] not in df_users['user_id'].values:\n",
    "        \n",
    "        d_user = {'user_id': user['id_str'],\n",
    "                  'name':user['name'],\n",
    "                  'screen_name':user['screen_name'],\n",
    "                  'location':user['location'],\n",
    "                  'description':user['description'],\n",
    "                  'url':user['url'],\n",
    "                  'followers_count':user['followers_count'],\n",
    "                  'friends_count':user['friends_count'],\n",
    "                  'listed_count':user['listed_count'],\n",
    "                  'created_at':user['created_at'],\n",
    "                  'favourites_count':user['favourites_count'],\n",
    "                  'geo_enabled':user['geo_enabled'],\n",
    "                  'verified':user['verified'],\n",
    "                  'statuses_count':user['statuses_count'],\n",
    "                  'lang':user['lang'],\n",
    "                  'contributors_enabled':user['contributors_enabled']\n",
    "                 }\n",
    "        df_users = df_users.append(d_user,ignore_index=True)\n",
    "\n",
    "def store_tweet(tweet):\n",
    "    global df_tweets\n",
    "    text = re.sub(r\"http\\S+\", \"\", tweet['full_text'])\n",
    "    df_tweets = df_tweets.append({'tweet_id':  tweet['id_str'],\n",
    "            'created_at': tweet['created_at'],\n",
    "            'text': text,\n",
    "            'truncated': tweet['truncated'],\n",
    "            'source': tweet['source'],\n",
    "            'in_reply_to_status_id': tweet['in_reply_to_status_id_str'],\n",
    "            'in_reply_to_user_id': tweet['in_reply_to_user_id_str'],\n",
    "            'in_reply_to_screen_name': tweet['in_reply_to_screen_name'],\n",
    "            'user_id': tweet['user']['id_str'],\n",
    "            'geo': tweet['geo'],\n",
    "            'coordinates': tweet['coordinates'],\n",
    "            'place': tweet['place'],\n",
    "            'contributors': tweet['contributors'],\n",
    "            'is_quote_status': tweet['is_quote_status'],\n",
    "            'retweet_count': tweet['retweet_count'],\n",
    "            'favorite_count': tweet['favorite_count'],\n",
    "            'favorited': tweet['favorited'],\n",
    "            'retweeted': tweet['retweeted'],\n",
    "            'lang': tweet['lang'] },ignore_index=True)\n",
    "        \n",
    "def store_retweet_user(tweet):\n",
    "    global df_retweet_users\n",
    "    if is_a_retweet(tweet):\n",
    "        df_retweet_users = df_retweet_users.append({'user_id':tweet['user']['id_str'],\n",
    "                                                    'original_user_id':tweet['retweeted_status']['user']['id_str'],\n",
    "                                                    'original_tweet_id':tweet['retweeted_status']['id_str']}, ignore_index=True)\n",
    "        \n",
    "def store_influent_users(n):\n",
    "    #n is the number of influent users return\n",
    "    df_favorite_count = df_tweets.groupby(['user_id'])['favorite_count'].agg('sum').sort_values(ascending=False).head()\n",
    "    for i in range(n):\n",
    "        d_influent_users = {'user_id':df_favorite_count[0], \n",
    "                            'name':[],\n",
    "                            'retweet_count':[],\n",
    "                            'favorite_count':[], \n",
    "                            'description':[] \n",
    "                           }\n",
    "        "
   ]
  },
  {
   "cell_type": "code",
   "execution_count": 105,
   "metadata": {},
   "outputs": [],
   "source": [
    "#### creation of the databases\n",
    "\n",
    "import warnings\n",
    "warnings.simplefilter(action='ignore', category=FutureWarning) #https://stackoverflow.com/questions/40659212/futurewarning-elementwise-comparison-failed-returning-scalar-but-in-the-futur\n",
    "import os\n",
    "path_to_json = 'tweets/'\n",
    "json_files = [pos_json for pos_json in os.listdir(path_to_json) if pos_json.endswith('.json')]\n",
    "for json_file in json_files:\n",
    "    \n",
    "    with open(\"tweets/\"+json_file) as tweet:\n",
    "        tweet = json.load(tweet)\n",
    "        if is_a_retweet(tweet):\n",
    "            store_retweet_user(tweet)\n",
    "        else:\n",
    "            store_tweet(tweet)\n",
    "            store_users(tweet)\n",
    "            store_hashtag(tweet)\n",
    "            store_user_mentions(tweet)\n",
    "        \n",
    "        \n",
    "        "
   ]
  },
  {
   "cell_type": "code",
   "execution_count": 109,
   "metadata": {},
   "outputs": [],
   "source": [
    "df_tweets.head(10);\n"
   ]
  },
  {
   "cell_type": "code",
   "execution_count": 106,
   "metadata": {},
   "outputs": [
    {
     "data": {
      "text/plain": [
       "'Insupportable d\\'entendre le #GiletJaune en roue libre sur #LCI dire, par exemple, que l\\'élection d\\'#EmmanuelMacron est \"une erreur de l\\'Histoire\", et ajouter \"j\\'aimerais bien qu\\'il bosse au lieu de faire du ski\". Sans que la journaliste ne le pousse à s\\'expliquer davantage...'"
      ]
     },
     "execution_count": 106,
     "metadata": {},
     "output_type": "execute_result"
    }
   ],
   "source": [
    "df_tweets['text'].iloc[0]"
   ]
  },
  {
   "cell_type": "code",
   "execution_count": 110,
   "metadata": {},
   "outputs": [
    {
     "name": "stdout",
     "output_type": "stream",
     "text": [
      "False\n",
      "False\n"
     ]
    }
   ],
   "source": [
    "#primary keys are ok?\n",
    "print(df_tweets.duplicated('tweet_id').any())\n",
    "print(df_users.duplicated('user_id').any())\n"
   ]
  },
  {
   "cell_type": "markdown",
   "metadata": {},
   "source": [
    "# Aggregations\n"
   ]
  },
  {
   "cell_type": "markdown",
   "metadata": {},
   "source": [
    "## Top users"
   ]
  },
  {
   "cell_type": "code",
   "execution_count": 111,
   "metadata": {
    "scrolled": true
   },
   "outputs": [],
   "source": [
    "df_most_favorited_users = df_tweets.groupby(['user_id'])['favorite_count'].agg('sum').sort_values(ascending=False).reset_index().head(15)\n",
    "df_most_retweeted_users = df_tweets.groupby(['user_id'])['retweet_count'].agg('sum').sort_values(ascending=False).reset_index().head(15)\n",
    "df_most_favorited_users['favorite_count'] = df_most_favorited_users['favorite_count'].astype('int32')\n",
    "df_most_retweeted_users['retweet_count'] = df_most_retweeted_users['retweet_count'].astype('int32')\n",
    "\n",
    "df_most_favorited_users['user_id'] = df_most_favorited_users['user_id'].astype(object)\n",
    "df_most_retweeted_users['user_id'] = df_most_retweeted_users['user_id'].astype(object)\n",
    "\n"
   ]
  },
  {
   "cell_type": "code",
   "execution_count": 112,
   "metadata": {},
   "outputs": [],
   "source": [
    "df_most_favorited_users_with_info = df_most_favorited_users.set_index('user_id').join(df_users.set_index('user_id')).drop_duplicates().sort_values('favorite_count',ascending=False)\n",
    "df_most_retweeted_users_with_info = df_most_retweeted_users.set_index('user_id').join(df_users.set_index('user_id')).drop_duplicates().sort_values('retweet_count',ascending=False)"
   ]
  },
  {
   "cell_type": "code",
   "execution_count": 113,
   "metadata": {},
   "outputs": [],
   "source": [
    "df_most_retweeted_users_with_info.head(15);"
   ]
  },
  {
   "cell_type": "code",
   "execution_count": 114,
   "metadata": {},
   "outputs": [],
   "source": [
    "df_most_favorited_users_with_info.head(15);"
   ]
  },
  {
   "cell_type": "code",
   "execution_count": 115,
   "metadata": {},
   "outputs": [],
   "source": [
    "df_most_retweeted_users_with_info.reset_index()\n",
    "df_most_favorited_users_with_info.reset_index();"
   ]
  },
  {
   "cell_type": "code",
   "execution_count": 116,
   "metadata": {},
   "outputs": [
    {
     "name": "stdout",
     "output_type": "stream",
     "text": [
      "user_id\n",
      "472852289                        Brèves de presse\n",
      "388972391                            Anasse Kazib\n",
      "338955445                     de Cabarrus Thierry\n",
      "2148731538                    Jean-Yves Le Gallou\n",
      "742382030                         Gaëtan #FBPE  🌍\n",
      "2470583048                         Charles Baudry\n",
      "2653885316                         jean garrigues\n",
      "203894274                         Cécile Ollivier\n",
      "1028668294751039488            LesGiletsJaunes.fr\n",
      "3688356795                     Jean-Pierre Bordes\n",
      "840670437050875904             BleuBlancRouge4369\n",
      "804606773848133633              Barthe Philippe 🐝\n",
      "817189792769339392       Abbé Rézina 🇫🇷 ن 2⃣3⃣⛽️🚕\n",
      "996698079180050433     ⚡️P'tweet Revue de Presse🗞\n",
      "1064054889452634112      🇫🇷⭐️GiletsJauneRouen⭐️🇫🇷\n",
      "Name: name, dtype: object\n",
      "user_id\n",
      "472852289                 Brèves de presse\n",
      "338955445              de Cabarrus Thierry\n",
      "388972391                     Anasse Kazib\n",
      "742382030                  Gaëtan #FBPE  🌍\n",
      "2653885316                  jean garrigues\n",
      "2148731538             Jean-Yves Le Gallou\n",
      "804606773848133633       Barthe Philippe 🐝\n",
      "2470583048                  Charles Baudry\n",
      "1028668294751039488     LesGiletsJaunes.fr\n",
      "84204116               Adia #Renaissance🇪🇺\n",
      "57732899                           LesNews\n",
      "203894274                  Cécile Ollivier\n",
      "3688356795              Jean-Pierre Bordes\n",
      "3054061793                        Mathilde\n",
      "840670437050875904      BleuBlancRouge4369\n",
      "Name: name, dtype: object\n"
     ]
    }
   ],
   "source": [
    "print(df_most_retweeted_users_with_info['name'])\n",
    "print(df_most_favorited_users_with_info['name'])"
   ]
  },
  {
   "cell_type": "code",
   "execution_count": 117,
   "metadata": {},
   "outputs": [],
   "source": [
    "df_tweets_by_user = df_tweets.groupby(['user_id']).size().to_frame().reset_index()\n",
    "df_most_favorited_users_with_info = df_most_favorited_users_with_info.join(df_tweets_by_user.set_index('user_id')).drop_duplicates().sort_values('favorite_count',ascending=False)\n",
    "df_most_retweeted_users_with_info = df_most_retweeted_users_with_info.join(df_tweets_by_user.set_index('user_id')).drop_duplicates().sort_values('retweet_count',ascending=False)"
   ]
  },
  {
   "cell_type": "code",
   "execution_count": 118,
   "metadata": {},
   "outputs": [],
   "source": [
    "df_most_favorited_users_with_info;"
   ]
  },
  {
   "cell_type": "code",
   "execution_count": 119,
   "metadata": {},
   "outputs": [],
   "source": [
    "top_influencers_fav = df_most_favorited_users_with_info[['screen_name','description', 'followers_count', 'friends_count','favorite_count',0]]\n",
    "top_influencers_rt = df_most_retweeted_users_with_info[['screen_name','description', 'followers_count', 'friends_count','retweet_count',0]]\n",
    "top_influencers_fav.columns = [\"Name\",\"Description\",\"Number of followers\",\"Number of friends\",\"Number of favorites\",\"Number of tweets\"]\n",
    "top_influencers_rt.columns = [\"Name\",\"Description\",\"Number of followers\",\"Number of friends\",\"Number of retweets\",\"Number of tweets\"]\n",
    "top_influencers_fav = top_influencers_fav.reset_index().drop(columns = [\"user_id\"])\n",
    "top_influencers_rt = top_influencers_rt.reset_index().drop(columns = [\"user_id\"]);\n",
    "top_influencers_fav['Number of followers'] = top_influencers_fav['Number of followers'].astype(int)\n",
    "top_influencers_fav['Number of friends'] = top_influencers_fav['Number of friends'].astype(int)\n",
    "top_influencers_rt['Number of followers'] = top_influencers_rt['Number of followers'].astype(int)\n",
    "top_influencers_rt['Number of friends'] = top_influencers_rt['Number of friends'].astype(int)"
   ]
  },
  {
   "cell_type": "code",
   "execution_count": 120,
   "metadata": {},
   "outputs": [],
   "source": [
    "#add ratios\n",
    "top_influencers_fav.loc[:,'Like Tweet Ratio'] = top_influencers_fav.loc[:,\"Number of favorites\"]/top_influencers_fav.loc[:,\"Number of tweets\"]\n",
    "top_influencers_rt.loc[:,'Retweet Tweet Ratio'] = top_influencers_rt.loc[:,\"Number of retweets\"]/top_influencers_rt.loc[:,\"Number of tweets\"]"
   ]
  },
  {
   "cell_type": "code",
   "execution_count": 123,
   "metadata": {},
   "outputs": [
    {
     "name": "stdout",
     "output_type": "stream",
     "text": [
      "['Brevesdepresse' 'AnasseKazib' 'tcabarrus' 'jylgallou' 'gaetan34070'\n",
      " 'CharlesBaudry' 'jeangarr78' 'cecileollivier' 'GiletsJaunesFr'\n",
      " 'jpbordes4873' 'BBR4369' 'philippe_barthe' 'Abbe_Rezina' 'P_tweet_presse'\n",
      " 'dms768']\n"
     ]
    }
   ],
   "source": [
    "top_influencers_fav_names = top_influencers_fav['Name'].values\n",
    "top_influencers_rt_names = top_influencers_rt['Name'].values\n",
    "print(top_influencers_rt_names)"
   ]
  },
  {
   "cell_type": "markdown",
   "metadata": {},
   "source": [
    "## Top hashtags for this input hashtags and by users"
   ]
  },
  {
   "cell_type": "code",
   "execution_count": 124,
   "metadata": {},
   "outputs": [],
   "source": [
    "top_influencers_fav.style.set_properties(**{'text-align': 'left'});"
   ]
  },
  {
   "cell_type": "code",
   "execution_count": 125,
   "metadata": {},
   "outputs": [],
   "source": [
    "df_tweets_hashtags = df_hashtags.set_index('tweet_id').join(df_tweets.set_index('tweet_id'))"
   ]
  },
  {
   "cell_type": "code",
   "execution_count": 126,
   "metadata": {},
   "outputs": [],
   "source": [
    "df_tw_hash_user = df_tweets_hashtags.set_index('user_id').join(df_users.drop(columns=['created_at', 'lang']).set_index('user_id'))"
   ]
  },
  {
   "cell_type": "code",
   "execution_count": 127,
   "metadata": {},
   "outputs": [],
   "source": [
    "#df_aggretated = df_tw_hash_user.groupby(['user_id','hashtag']).size().reset_index()\n",
    "df_aggretated = df_tw_hash_user.groupby(['name','hashtag']).size().reset_index()"
   ]
  },
  {
   "cell_type": "code",
   "execution_count": 128,
   "metadata": {},
   "outputs": [],
   "source": [
    "df_aggretated.columns = [\"Name\", \"#\", \"Used\"]\n",
    "df_aggretated;\n"
   ]
  },
  {
   "cell_type": "code",
   "execution_count": 129,
   "metadata": {},
   "outputs": [],
   "source": [
    "#useful encapsulation, aint it?\n",
    "def get_tweet_by_userid(user_id):\n",
    "    df_tweets[df_tweets['user_id'] == 'user_id']\n",
    "\n",
    "def get_tweet_by_username(name):\n",
    "    df_tweets_user_info = df_tweets.set_index('user_id').join(df_users.drop(columns=['created_at', 'lang']).set_index('user_id'))\n",
    "    df_tweets_user_info = df_tweets_user_info[df_tweets_user_info['name'] == 'LesGiletsJaunes.fr']\n",
    "    df_tweets_user_info = df_tweets_user_info[['tweet_id','text','created_at', 'favorite_count', 'retweet_count']]\n",
    "    return df_tweets_user_info\n",
    "\n",
    "def get_related_hashtags_by_username(name):\n",
    "    d_name = df_aggretated[df_aggretated['Name'] == name][['#',\"Used\"]].sort_values(\"Used\", ascending = False)\n",
    "    return d_name"
   ]
  },
  {
   "cell_type": "code",
   "execution_count": 130,
   "metadata": {},
   "outputs": [
    {
     "data": {
      "text/html": [
       "<div>\n",
       "<style scoped>\n",
       "    .dataframe tbody tr th:only-of-type {\n",
       "        vertical-align: middle;\n",
       "    }\n",
       "\n",
       "    .dataframe tbody tr th {\n",
       "        vertical-align: top;\n",
       "    }\n",
       "\n",
       "    .dataframe thead th {\n",
       "        text-align: right;\n",
       "    }\n",
       "</style>\n",
       "<table border=\"1\" class=\"dataframe\">\n",
       "  <thead>\n",
       "    <tr style=\"text-align: right;\">\n",
       "      <th></th>\n",
       "      <th>tweet_id</th>\n",
       "      <th>text</th>\n",
       "      <th>created_at</th>\n",
       "      <th>favorite_count</th>\n",
       "      <th>retweet_count</th>\n",
       "    </tr>\n",
       "    <tr>\n",
       "      <th>user_id</th>\n",
       "      <th></th>\n",
       "      <th></th>\n",
       "      <th></th>\n",
       "      <th></th>\n",
       "      <th></th>\n",
       "    </tr>\n",
       "  </thead>\n",
       "  <tbody>\n",
       "    <tr>\n",
       "      <th>1028668294751039488</th>\n",
       "      <td>1107771021665492998</td>\n",
       "      <td>Vous demandez une augmentation de 200 balles par mois ?\\nPas de problème ...\\n#GiletJaune #GiletsJaunes #YellowVests #SMIC \\n#assembleenationale #senat #Europeennes2019 \\n#droitsdelhomme #Amnestyinternational #ViolencesPolicieres #ONU\\n#France2 #BFM #RTFrance #LCI #Cnews #CNN #CBSNews</td>\n",
       "      <td>Mon Mar 18 22:29:27 +0000 2019</td>\n",
       "      <td>52.0</td>\n",
       "      <td>47.0</td>\n",
       "    </tr>\n",
       "    <tr>\n",
       "      <th>1028668294751039488</th>\n",
       "      <td>1107783190708658176</td>\n",
       "      <td>Agence BFM ( Benalla Fouille Mer ...  ) :\\nUn bandeau sur l’œil , comme Jean-Marie Le Pen ! ... le bras tendu !\\nL'appartenance à la mouvance néo-extrême ne fait plus aucun doute !\\nIls sont tous complices !\\n#GiletJaune #GiletsJaunes #facknews d'état !</td>\n",
       "      <td>Mon Mar 18 23:17:48 +0000 2019</td>\n",
       "      <td>43.0</td>\n",
       "      <td>17.0</td>\n",
       "    </tr>\n",
       "    <tr>\n",
       "      <th>1028668294751039488</th>\n",
       "      <td>1107790134890676225</td>\n",
       "      <td>Didier Maïsto : Retour sur l’Acte 18, décisions du Premier ministre et intervention dans ce live de Bruno Pomart, ancien instructeur du RAID.\\n\\n#GiletJaune #GiletsJaunes #assembleenationale #senat #Europeennes2019 \\n#droitsdelhomme #ViolencesPolicieres #ONU</td>\n",
       "      <td>Mon Mar 18 23:45:24 +0000 2019</td>\n",
       "      <td>7.0</td>\n",
       "      <td>8.0</td>\n",
       "    </tr>\n",
       "  </tbody>\n",
       "</table>\n",
       "</div>"
      ],
      "text/plain": [
       "                                tweet_id  \\\n",
       "user_id                                    \n",
       "1028668294751039488  1107771021665492998   \n",
       "1028668294751039488  1107783190708658176   \n",
       "1028668294751039488  1107790134890676225   \n",
       "\n",
       "                                                                                                                                                                                                                                                                                                               text  \\\n",
       "user_id                                                                                                                                                                                                                                                                                                               \n",
       "1028668294751039488  Vous demandez une augmentation de 200 balles par mois ?\\nPas de problème ...\\n#GiletJaune #GiletsJaunes #YellowVests #SMIC \\n#assembleenationale #senat #Europeennes2019 \\n#droitsdelhomme #Amnestyinternational #ViolencesPolicieres #ONU\\n#France2 #BFM #RTFrance #LCI #Cnews #CNN #CBSNews    \n",
       "1028668294751039488                                  Agence BFM ( Benalla Fouille Mer ...  ) :\\nUn bandeau sur l’œil , comme Jean-Marie Le Pen ! ... le bras tendu !\\nL'appartenance à la mouvance néo-extrême ne fait plus aucun doute !\\nIls sont tous complices !\\n#GiletJaune #GiletsJaunes #facknews d'état !    \n",
       "1028668294751039488                             Didier Maïsto : Retour sur l’Acte 18, décisions du Premier ministre et intervention dans ce live de Bruno Pomart, ancien instructeur du RAID.\\n\\n#GiletJaune #GiletsJaunes #assembleenationale #senat #Europeennes2019 \\n#droitsdelhomme #ViolencesPolicieres #ONU    \n",
       "\n",
       "                                         created_at  favorite_count  \\\n",
       "user_id                                                               \n",
       "1028668294751039488  Mon Mar 18 22:29:27 +0000 2019            52.0   \n",
       "1028668294751039488  Mon Mar 18 23:17:48 +0000 2019            43.0   \n",
       "1028668294751039488  Mon Mar 18 23:45:24 +0000 2019             7.0   \n",
       "\n",
       "                     retweet_count  \n",
       "user_id                             \n",
       "1028668294751039488           47.0  \n",
       "1028668294751039488           17.0  \n",
       "1028668294751039488            8.0  "
      ]
     },
     "execution_count": 130,
     "metadata": {},
     "output_type": "execute_result"
    }
   ],
   "source": [
    "get_tweet_by_username('LesGiletsJaunes.fr')\n"
   ]
  },
  {
   "cell_type": "code",
   "execution_count": 131,
   "metadata": {},
   "outputs": [
    {
     "name": "stdout",
     "output_type": "stream",
     "text": [
      "Brevesdepresse\n",
      "AnasseKazib\n",
      "tcabarrus\n",
      "jylgallou\n",
      "gaetan34070\n",
      "CharlesBaudry\n",
      "jeangarr78\n",
      "cecileollivier\n",
      "GiletsJaunesFr\n",
      "jpbordes4873\n",
      "BBR4369\n",
      "philippe_barthe\n",
      "Abbe_Rezina\n",
      "P_tweet_presse\n",
      "dms768\n"
     ]
    }
   ],
   "source": [
    "#output \n",
    "for name in top_influencers_rt_names:\n",
    "    df_rel = get_related_hashtags_by_username(name)\n",
    "    print(name)\n",
    "    df_rel.to_csv('top_hashtags_by_'+name+'.csv',index=False)\n",
    "    df_rel=[]"
   ]
  },
  {
   "cell_type": "code",
   "execution_count": 132,
   "metadata": {},
   "outputs": [],
   "source": [
    "df_tweets['created_at'].values;\n"
   ]
  },
  {
   "cell_type": "markdown",
   "metadata": {},
   "source": [
    "# NLP\n"
   ]
  },
  {
   "cell_type": "code",
   "execution_count": 133,
   "metadata": {},
   "outputs": [],
   "source": [
    "import spacy\n",
    "import fr_core_news_sm\n",
    "nlp = fr_core_news_sm.load()"
   ]
  },
  {
   "cell_type": "code",
   "execution_count": 100,
   "metadata": {},
   "outputs": [],
   "source": [
    "doc = nlp(\"Ceci est une phrase\")"
   ]
  },
  {
   "cell_type": "code",
   "execution_count": 101,
   "metadata": {},
   "outputs": [
    {
     "data": {
      "text/plain": [
       "Ceci est une phrase"
      ]
     },
     "execution_count": 101,
     "metadata": {},
     "output_type": "execute_result"
    }
   ],
   "source": [
    "doc"
   ]
  },
  {
   "cell_type": "code",
   "execution_count": null,
   "metadata": {},
   "outputs": [],
   "source": []
  }
 ],
 "metadata": {
  "kernelspec": {
   "display_name": "Python 3",
   "language": "python",
   "name": "python3"
  },
  "language_info": {
   "codemirror_mode": {
    "name": "ipython",
    "version": 3
   },
   "file_extension": ".py",
   "mimetype": "text/x-python",
   "name": "python",
   "nbconvert_exporter": "python",
   "pygments_lexer": "ipython3",
   "version": "3.6.7"
  }
 },
 "nbformat": 4,
 "nbformat_minor": 2
}
